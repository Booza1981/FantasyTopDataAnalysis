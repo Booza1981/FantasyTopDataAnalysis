{
 "cells": [
  {
   "cell_type": "code",
   "execution_count": null,
   "id": "0227621c-3ba0-4616-853e-cbfc8bf3718b",
   "metadata": {},
   "outputs": [],
   "source": [
    "# Todo.\n",
    "# 1. List all my heroes with floor price and highest bid price - lets do this now. JUST NEED TO ADD BID PRICE - DONE\n",
    "# 2. Value portfolio by last trade - Should be possible with the above - DONE\n",
    "# 3. Note differentials with bids and listings.\n",
    "# 4. Chart performance and prices\n",
    "# 5. Work out average tournament score - DONE\n",
    "# 7. Work out when scores gonna drop.\n",
    "\n",
    "# Example usage\n",
    "PLAYER_ID = \"0xDC0c171F4DB2790e565295c5287bCa9D4071EA1a\"\n"
   ]
  },
  {
   "cell_type": "code",
   "execution_count": 16,
   "id": "d2d75e1d",
   "metadata": {},
   "outputs": [],
   "source": [
    "import os\n",
    "import re\n",
    "import json\n",
    "import time\n",
    "import random\n",
    "import glob\n",
    "import sys\n",
    "import requests\n",
    "import pandas as pd\n",
    "import pickle\n",
    "from datetime import datetime, timedelta\n",
    "from tqdm import tqdm\n",
    "from selenium import webdriver\n",
    "from selenium.webdriver.common.by import By\n",
    "from selenium.webdriver.common.keys import Keys\n",
    "from selenium.webdriver.common.action_chains import ActionChains\n",
    "from selenium.webdriver.support.ui import WebDriverWait\n",
    "from selenium.webdriver.support import expected_conditions as EC\n",
    "from selenium.common.exceptions import TimeoutException, NoSuchElementException, ElementClickInterceptedException\n",
    "from webdriver_manager.chrome import ChromeDriverManager\n",
    "from fake_useragent import UserAgent\n",
    "\n",
    "# Global Variables\n",
    "PLAYER_ID = \"0xDC0c171F4DB2790e565295c5287bCa9D4071EA1a\"\n",
    "URL_GRAPHQL = \"https://fantasy-top.hasura.app/v1/graphql\"\n",
    "URL_REST = \"https://fantasy.top/api/bids/get-bid-orders\"\n",
    "COOKIES_FILE = 'cookies.pkl'\n",
    "DATA_FOLDER = \"data\"\n",
    "\n",
    "# Utility Functions\n",
    "\n",
    "def save_cookies(driver, filepath=COOKIES_FILE):\n",
    "    with open(filepath, 'wb') as file:\n",
    "        pickle.dump(driver.get_cookies(), file)\n",
    "\n",
    "def load_cookies(driver, filepath=COOKIES_FILE):\n",
    "    try:\n",
    "        with open(filepath, 'rb') as file:\n",
    "            cookies = pickle.load(file)\n",
    "            for cookie in cookies:\n",
    "                driver.add_cookie(cookie)\n",
    "    except FileNotFoundError:\n",
    "        print(\"Cookies file not found. Proceeding without loading cookies.\")\n",
    "\n",
    "def convert_to_eth(value):\n",
    "    try:\n",
    "        if pd.isna(value):\n",
    "            return None\n",
    "        return int(float(value)) / 1e18\n",
    "    except (ValueError, TypeError) as e:\n",
    "        print(f\"Error converting value {value}: {e}\")\n",
    "        return None\n",
    "\n",
    "def save_df_as_csv(df, filename, folder=DATA_FOLDER):\n",
    "    timestamp = datetime.now().strftime('%y%m%d_%H%M')\n",
    "    filename_with_timestamp = f\"{filename}_{timestamp}.csv\"\n",
    "    if not os.path.exists(folder):\n",
    "        os.makedirs(folder)\n",
    "    full_path = os.path.join(folder, filename_with_timestamp)\n",
    "    df.to_csv(full_path, index=False)\n",
    "    print(f\"DataFrame saved as {full_path}\")\n",
    "\n",
    "\n",
    "def print_runtime(func, *args, **kwargs):\n",
    "    print(f'Calling {func.__name__}')\n",
    "    start_time = time.time()\n",
    "    result = func(*args, **kwargs)\n",
    "    end_time = time.time()\n",
    "    runtime = end_time - start_time\n",
    "    print(f'{func.__name__} took {runtime:.4f} seconds to execute')\n",
    "    return result\n",
    "\n",
    "# WebDriver and Login\n",
    "\n",
    "def get_random_user_agent():\n",
    "    ua = UserAgent(platforms='pc')\n",
    "    return ua.random\n",
    "\n",
    "def setup_driver():\n",
    "    options = webdriver.ChromeOptions()\n",
    "    options.add_argument(f\"user-agent={get_random_user_agent()}\")\n",
    "    options.add_argument(\"--ignore-certificate-errors\")\n",
    "    options.add_argument(\"--disable-notifications\")\n",
    "    options.add_argument(\"--disable-popup-blocking\")\n",
    "    options.add_argument(\"--auto-open-devtools-for-tabs\")\n",
    "    options.add_argument(\"--window-size=1920,1080\")\n",
    "    options.add_argument(\"--headless\")\n",
    "    options.set_capability('goog:loggingPrefs', {'performance': 'ALL'})\n",
    "    driver = webdriver.Chrome(options=options)\n",
    "    return driver\n",
    "\n",
    "def login_to_fantasy(driver, username, password):\n",
    "    driver.get(\"https://www.fantasy.top/home\")\n",
    "    wait = WebDriverWait(driver, 10)\n",
    "    button = wait.until(EC.element_to_be_clickable((By.CSS_SELECTOR, \"button[style*='background: linear-gradient'][class*='rounded-md']\")))\n",
    "    button.click()\n",
    "    modal_button = wait.until(EC.element_to_be_clickable((By.XPATH, \"//button[contains(., 'Twitter')]\")))\n",
    "    modal_button.click()\n",
    "    time.sleep(2)\n",
    "    actions = ActionChains(driver)\n",
    "    actions.send_keys(Keys.ESCAPE).perform()\n",
    "    username_input = wait.until(EC.element_to_be_clickable((By.CSS_SELECTOR, \"input[name='text'][autocomplete='username']\")))\n",
    "    username_input.send_keys(username)\n",
    "    next_button = wait.until(EC.element_to_be_clickable((By.XPATH, \"//span[text()='Next']/ancestor::button\")))\n",
    "    next_button.click()\n",
    "    password_input = wait.until(EC.element_to_be_clickable((By.CSS_SELECTOR, \"input[name='password'][type='password']\")))\n",
    "    password_input.send_keys(password)\n",
    "    login_button = wait.until(EC.element_to_be_clickable((By.CSS_SELECTOR, \"button[data-testid='LoginForm_Login_Button']\")))\n",
    "    login_button.click()\n",
    "    close_popup_if_appears(driver)\n",
    "    authorize_if_appears(driver)\n",
    "    accept_terms_if_appears(driver)\n",
    "    driver.get(\"https://www.fantasy.top/home\")\n",
    "    print(\"Logged In Successfully\")\n",
    "\n",
    "def close_popup_if_appears(driver):\n",
    "    try:\n",
    "        close_popup_button = WebDriverWait(driver, 10).until(\n",
    "            EC.element_to_be_clickable((By.CSS_SELECTOR, \"button[data-testid='xMigrationBottomBar']\"))\n",
    "        )\n",
    "        close_popup_button.click()\n",
    "    except TimeoutException:\n",
    "        print(\"Close popup button did not appear.\")\n",
    "\n",
    "def authorize_if_appears(driver):\n",
    "    try:\n",
    "        authorize_button = WebDriverWait(driver, 10).until(\n",
    "            EC.element_to_be_clickable((By.CSS_SELECTOR, \"button[data-testid='OAuth_Consent_Button']\"))\n",
    "        )\n",
    "        authorize_button.click()\n",
    "    except TimeoutException:\n",
    "        print(\"Authorize app button did not appear.\")\n",
    "\n",
    "def accept_terms_if_appears(driver):\n",
    "    try:\n",
    "        accept_button = WebDriverWait(driver, 10).until(\n",
    "            EC.element_to_be_clickable((By.CSS_SELECTOR, \"button.sc-fqkvVR.sc-iGgWBj.dQeymh.httOiR\"))\n",
    "        )\n",
    "        accept_button.click()\n",
    "    except TimeoutException:\n",
    "        print(\"Accept button did not appear.\")\n",
    "\n",
    "def login():\n",
    "    username = \"MissPecuIiar\"\n",
    "    password = \"Dublin84\"\n",
    "    driver = setup_driver()\n",
    "    driver.get(\"https://www.fantasy.top/home\")\n",
    "    load_cookies(driver)\n",
    "    driver.refresh()\n",
    "    login_to_fantasy(driver, username, password)\n",
    "    token = driver.execute_script(\"return localStorage.getItem('jwtToken');\")\n",
    "    save_cookies(driver)\n",
    "    time.sleep(2)\n",
    "    actions = ActionChains(driver)\n",
    "    actions.send_keys(Keys.ESCAPE).perform()\n",
    "    return driver, token\n",
    "\n",
    "# Data Download Functions\n",
    "\n",
    "def download_listings(driver):\n",
    "    driver.get('https://fantasy.top/marketplace')\n",
    "    time.sleep(5)\n",
    "    actions = ActionChains(driver)\n",
    "    actions.send_keys(Keys.ESCAPE).perform()\n",
    "    try:\n",
    "        main_element = driver.find_element(By.TAG_NAME, \"main\")\n",
    "        main_element.click()\n",
    "    except ElementClickInterceptedException:\n",
    "        actions.send_keys(Keys.ESCAPE).perform()\n",
    "        driver.get('https://fantasy.top/marketplace')\n",
    "        time.sleep(5)\n",
    "        main_element = driver.find_element(By.TAG_NAME, \"main\")\n",
    "        main_element.click()\n",
    "    time.sleep(2)\n",
    "    \n",
    "    all_logs = []\n",
    "    num_iterations = 10\n",
    "    interval = 3\n",
    "    \n",
    "    actions = ActionChains(driver)\n",
    "    for _ in range(num_iterations):\n",
    "        logs = driver.get_log(\"performance\")\n",
    "        all_logs.extend(logs)\n",
    "        actions.send_keys(Keys.PAGE_DOWN).perform()\n",
    "        time.sleep(interval)\n",
    "    \n",
    "    websocket_messages = []\n",
    "    for log in all_logs:\n",
    "        message = json.loads(log['message'])['message']\n",
    "        if message['method'] == 'Network.webSocketFrameReceived':\n",
    "            try:\n",
    "                payload = json.loads(message['params']['response']['payloadData'])\n",
    "                if 'payload' in payload and 'data' in payload['payload']:\n",
    "                    websocket_messages.append(payload)\n",
    "            except (json.JSONDecodeError, KeyError):\n",
    "                continue\n",
    "    \n",
    "    with open('websocket_messages.json', 'w') as f:\n",
    "        json.dump(websocket_messages, f, indent=4)\n",
    "    \n",
    "    processed_data = []\n",
    "    for message in websocket_messages:\n",
    "        if 'payload' in message and 'data' in message['payload']:\n",
    "            orders = message['payload']['data']['unique_sell_orders_stream']\n",
    "            for order in orders:\n",
    "                hero_data = order.get('hero', None)\n",
    "                if hero_data is not None:  # Ensure hero_data is not None\n",
    "                    hero_info = {\n",
    "                        'hero_id': order['hero_id'],\n",
    "                        'lowest_price': order['lowest_price'],\n",
    "                        'order_count': order['order_count'],\n",
    "                        'sell_order_id': order['sell_order_id'],\n",
    "                        'hero_rarity_index': order['hero_rarity_index'],\n",
    "                        'gliding_score': order['gliding_score'],\n",
    "                        'updated_at': order['updated_at'],\n",
    "                        'hero_followers_count': hero_data.get('followers_count', None),\n",
    "                        'hero_handle': hero_data.get('handle', None),\n",
    "                        'hero_name': hero_data.get('name', None),\n",
    "                        'hero_stars': hero_data.get('stars', None),\n",
    "                        'current_rank': hero_data.get('current_score', {}).get('current_rank', None) if hero_data.get('current_score') else None,\n",
    "                        'previous_rank': hero_data.get('current_score', {}).get('previous_rank', None) if hero_data.get('current_score') else None,\n",
    "                        'views': hero_data.get('current_score', {}).get('views', None) if hero_data.get('current_score') else None,\n",
    "                        'fantasy_score': hero_data.get('current_score', {}).get('fantasy_score', None) if hero_data.get('current_score') else None\n",
    "                    }\n",
    "                    processed_data.append(hero_info)\n",
    "\n",
    "    \n",
    "    raw_listings_df = pd.DataFrame(processed_data)\n",
    "    listings_df = raw_listings_df.drop_duplicates(subset=['hero_id', 'hero_rarity_index'])\n",
    "    listings_df.loc[:, 'rarity'] = listings_df['hero_rarity_index'].str.split('_').str[1]\n",
    "    listings_df.loc[:, 'rarity'] = 'rarity' + listings_df['rarity']\n",
    "    pivot_df = listings_df.pivot_table(\n",
    "        index='hero_id',\n",
    "        columns='rarity',\n",
    "        values=['lowest_price', 'order_count'],\n",
    "        aggfunc='first'\n",
    "    )\n",
    "    pivot_df.columns = [f'{col[1]}_{col[0]}' for col in pivot_df.columns]\n",
    "    pivot_df.reset_index(inplace=True)\n",
    "    hero_info_columns = ['hero_id', 'hero_handle', 'hero_name', 'hero_stars', 'hero_followers_count', \n",
    "                         'current_rank', 'previous_rank', 'views', 'fantasy_score']\n",
    "    unique_hero_info = listings_df[hero_info_columns].drop_duplicates(subset=['hero_id'])\n",
    "    final_df = pd.merge(unique_hero_info, pivot_df, on='hero_id')\n",
    "    final_df.drop(columns=['hero_name', 'hero_followers_count', \n",
    "                           'current_rank', 'previous_rank', 'views', 'fantasy_score'], inplace=True)\n",
    "    final_df = final_df.rename(columns={'heroId': 'hero_id'})\n",
    "    return final_df\n",
    "\n",
    "def send_graphql_request(query=None, variables=None, token=None, request_type='graphql', params=None, cookies=None):\n",
    "    if request_type == 'graphql':\n",
    "        payload = json.dumps({\n",
    "            \"query\": query,\n",
    "            \"variables\": variables\n",
    "        })\n",
    "        headers = {\n",
    "            'accept': '*/*',\n",
    "            'accept-language': 'en-GB,en-US;q=0.9,en;q=0.8',\n",
    "            'authorization': f'Bearer {token}',\n",
    "            'content-type': 'application/json',\n",
    "            'origin': 'https://fantasy.top',\n",
    "            'priority': 'u=1, i',\n",
    "            'referer': 'https://fantasy.top/',\n",
    "            'sec-ch-ua': '\"Not/A)Brand\";v=\"8\", \"Chromium\";v=\"126\", \"Google Chrome\";v=\"126\"',\n",
    "            'sec-ch-ua-mobile': '?0',\n",
    "            'sec-ch-ua-platform': '\"Windows\"',\n",
    "            'sec-fetch-dest': 'empty',\n",
    "            'sec-fetch-mode': 'cors',\n",
    "            'sec-fetch-site': 'cross-site',\n",
    "            'user-agent': 'Mozilla/5.0 (Windows NT 10.0; Win64; x64) AppleWebKit/537.36 (KHTML, like Gecko) Chrome/126.0.0.0 Safari/537.36'\n",
    "        }\n",
    "        response = requests.post(URL_GRAPHQL, headers=headers, data=payload, cookies=cookies)\n",
    "        response.raise_for_status()\n",
    "        return response.json()\n",
    "    \n",
    "    elif request_type == 'rest':\n",
    "        headers = {\n",
    "            'accept': '*/*',\n",
    "            'accept-language': 'en-GB,en-US;q=0.9,en;q=0.8',\n",
    "            'authorization': f'Bearer {token}',\n",
    "            'priority': 'u=1, i',\n",
    "            'referer': 'https://fantasy.top/marketplace',\n",
    "            'sec-ch-ua': '\"Not/A)Brand\";v=\"8\", \"Chromium\";v=\"126\", \"Google Chrome\";v=\"126\"',\n",
    "            'sec-ch-ua-mobile': '?0',\n",
    "            'sec-ch-ua-platform': '\"Windows\"',\n",
    "            'sec-fetch-dest': 'empty',\n",
    "            'sec-fetch-mode': 'cors',\n",
    "            'sec-fetch-site': 'same-origin',\n",
    "            'user-agent': 'Mozilla/5.0 (Windows NT 10.0; Win64; x64) AppleWebKit/537.36 (KHTML, like Gecko) Chrome/126.0.0.0 Safari/537.36',\n",
    "        }\n",
    "        response = requests.get(URL_REST, params=params, headers=headers, cookies=cookies)\n",
    "        response.raise_for_status()\n",
    "        return response.json()\n",
    "\n",
    "def download_portfolio(token):\n",
    "    query_get_cards = \"\"\"\n",
    "    query GET_CARDS($id: String!, $limit: Int = 100, $offset: Int = 0, $where: i_beta_player_cards_type_bool_exp = {}, $sort_order: String = \"\") {\n",
    "      get_player_cards: get_player_cards_new(\n",
    "        args: {p_owner: $id, p_limit: $limit, p_offset: $offset, p_sort_order: $sort_order}\n",
    "        where: $where\n",
    "      ) {\n",
    "        owner\n",
    "        hero_rarity_index\n",
    "        cards_number\n",
    "        listed_cards_number\n",
    "        in_deck\n",
    "        card {\n",
    "          id\n",
    "          owner\n",
    "          gliding_score\n",
    "          hero_rarity_index\n",
    "          in_deck\n",
    "          picture_url\n",
    "          token_id\n",
    "          hero_rarity_index\n",
    "          rarity\n",
    "          sell_order {\n",
    "            id\n",
    "            price_numeric\n",
    "          }\n",
    "          hero {\n",
    "            id\n",
    "            name\n",
    "            handle\n",
    "            profile_image_url_https\n",
    "            followers_count\n",
    "            flags {\n",
    "              flag_id\n",
    "            }\n",
    "            stars\n",
    "            current_score {\n",
    "              fantasy_score\n",
    "              views\n",
    "              current_rank\n",
    "            }\n",
    "            trades(\n",
    "              order_by: {hero_rarity_index: asc, created_at: desc}\n",
    "              distinct_on: hero_rarity_index\n",
    "            ) {\n",
    "              id\n",
    "              hero_rarity_index\n",
    "              price\n",
    "            }\n",
    "          }\n",
    "        }\n",
    "      }\n",
    "    }\n",
    "    \"\"\"\n",
    "    variables_get_cards = {\n",
    "        \"id\": PLAYER_ID,\n",
    "        \"limit\": 50,\n",
    "        \"offset\": 0,\n",
    "        \"where\": {\n",
    "            \"card\": {\n",
    "                \"hero\": {\n",
    "                    \"_or\": [\n",
    "                        {\"name\": {\"_ilike\": \"%%\"}},\n",
    "                        {\"handle\": {\"_ilike\": \"%%\"}}\n",
    "                    ]\n",
    "                },\n",
    "                \"rarity\": {\"_in\": [\"1\", \"2\", \"3\", \"4\"]}\n",
    "            }\n",
    "        },\n",
    "        \"sort_order\": \"cards_score\"\n",
    "    }\n",
    "    \n",
    "    def extract_portfolio_data(cards_response):\n",
    "        if 'errors' in cards_response:\n",
    "            print('Errors:', cards_response['errors'])\n",
    "            return []\n",
    "        else:\n",
    "            cards = cards_response.get('data', {}).get('get_player_cards', [])\n",
    "            card_list = []\n",
    "            for card_entry in cards:\n",
    "                card_data = card_entry['card']\n",
    "                hero_data = card_data['hero']\n",
    "                card_info = {\n",
    "                    'owner': card_entry['owner'],\n",
    "                    'hero_rarity_index': card_entry['hero_rarity_index'],\n",
    "                    'cards_number': card_entry['cards_number'],\n",
    "                    'listed_cards_number': card_entry['listed_cards_number'],\n",
    "                    'in_deck': card_entry['in_deck'],\n",
    "                    'card_id': card_data['id'],\n",
    "                    'card_owner': card_data['owner'],\n",
    "                    'gliding_score': card_data['gliding_score'],\n",
    "                    'card_in_deck': card_data['in_deck'],\n",
    "                    'picture_url': card_data['picture_url'],\n",
    "                    'token_id': card_data['token_id'],\n",
    "                    'rarity': card_data['rarity'],\n",
    "                    'hero_id': hero_data['id'],\n",
    "                    'hero_name': hero_data['name'],\n",
    "                    'hero_handle': hero_data['handle'],\n",
    "                    'hero_profile_image_url': hero_data['profile_image_url_https'],\n",
    "                    'hero_followers_count': hero_data['followers_count'],\n",
    "                    'hero_stars': hero_data['stars'],\n",
    "                    'hero_fantasy_score': hero_data['current_score']['fantasy_score'],\n",
    "                    'hero_views': hero_data['current_score']['views'],\n",
    "                    'hero_current_rank': hero_data['current_score']['current_rank'],\n",
    "                    'hero_trades': [\n",
    "                        {\n",
    "                            'trade_id': trade['id'],\n",
    "                            'hero_rarity_index': trade['hero_rarity_index'],\n",
    "                            'price': trade['price']\n",
    "                        } for trade in hero_data['trades']\n",
    "                    ]\n",
    "                }\n",
    "                card_list.append(card_info)\n",
    "            return card_list\n",
    "        \n",
    "    all_cards_list = []\n",
    "    while True:\n",
    "        cards_response = send_graphql_request(query_get_cards, variables_get_cards, token)\n",
    "        portfolio_list = extract_portfolio_data(cards_response)\n",
    "        if not portfolio_list:\n",
    "            break\n",
    "        all_cards_list.extend(portfolio_list)\n",
    "        variables_get_cards['offset'] += variables_get_cards['limit']\n",
    "    \n",
    "    portfolio_df = pd.DataFrame(all_cards_list)\n",
    "    portfolio_df.drop(columns=['owner', 'card_id', 'card_owner'], inplace=True)\n",
    "    return portfolio_df\n",
    "\n",
    "def download_basic_hero_stats(token):\n",
    "    def extract_heros_data(response_data):\n",
    "        if 'errors' in response_data:\n",
    "            print('Errors:', response_data['errors'])\n",
    "            return []\n",
    "        heros = response_data.get('data', {}).get('twitter_data_current', [])\n",
    "        hero_list = []\n",
    "        for hero_entry in heros:\n",
    "            hero_data = hero_entry['hero']\n",
    "            hero_info = {\n",
    "                'current_rank': hero_entry['current_rank'],\n",
    "                'previous_rank': hero_entry['previous_rank'],\n",
    "                'views': hero_entry['views'],\n",
    "                'tweet_count': hero_entry['tweet_count'],\n",
    "                'fantasy_score': hero_entry['fantasy_score'],\n",
    "                'reach': hero_entry['reach'],\n",
    "                'avg_views': hero_entry['avg_views'],\n",
    "                'hero_followers_count': hero_data['followers_count'],\n",
    "                'hero_name': hero_data['name'],\n",
    "                'hero_handle': hero_data['handle'],\n",
    "                'hero_profile_image_url': hero_data['profile_image_url_https'],\n",
    "                'hero_volume': hero_data['volume']['aggregate']['sum']['price'] if hero_data['volume']['aggregate']['sum']['price'] is not None else 0,\n",
    "                'hero_last_sale_price': hero_data['last_sale'][0]['price'] if hero_data['last_sale'] else None,\n",
    "                'hero_floor_price': hero_data['floor'][0]['lowest_price'] if hero_data['floor'] else None\n",
    "            }\n",
    "            hero_list.append(hero_info)\n",
    "        return hero_list\n",
    "    \n",
    "    query_get_heros_with_stats = \"\"\"\n",
    "    query GET_HEROS_WITH_STATS($offset: Int = 0, $limit: Int = 20, $order_by: [twitter_data_current_order_by!] = {current_rank: asc}, $search: String = \"\") @cached(ttl: 300) {\n",
    "      twitter_data_current(\n",
    "        order_by: $order_by\n",
    "        offset: $offset\n",
    "        limit: $limit\n",
    "        where: {hero: {_or: [{name: {_ilike: $search}}, {handle: {_ilike: $search}}], is_pending_hero: {_eq: false}}}\n",
    "      ) {\n",
    "        current_rank\n",
    "        previous_rank\n",
    "        views\n",
    "        tweet_count\n",
    "        fantasy_score\n",
    "        reach\n",
    "        avg_views\n",
    "        hero {\n",
    "          followers_count\n",
    "          name\n",
    "          handle\n",
    "          profile_image_url_https\n",
    "          volume: trades_aggregate {\n",
    "            aggregate {\n",
    "              sum {\n",
    "                price\n",
    "              }\n",
    "            }\n",
    "          }\n",
    "          last_sale: trades(limit: 1) {\n",
    "            price\n",
    "          }\n",
    "          floor: unique_sell_orders(order_by: {lowest_price: asc_nulls_last}, limit: 1) {\n",
    "            lowest_price\n",
    "          }\n",
    "        }\n",
    "      }\n",
    "    }\n",
    "    \"\"\"\n",
    "    \n",
    "    variables_get_heros_with_stats = {\n",
    "        \"offset\": 0,\n",
    "        \"order_by\": {\n",
    "            \"fantasy_score\": \"desc\"\n",
    "        },\n",
    "        \"limit\": 20,\n",
    "        \"search\": \"%%\"\n",
    "    }\n",
    "    \n",
    "    all_heros_list = []\n",
    "    while True:\n",
    "        heros_with_stats_response = send_graphql_request(query=query_get_heros_with_stats, variables=variables_get_heros_with_stats, token=token)\n",
    "        heros_list = extract_heros_data(heros_with_stats_response)\n",
    "        if not heros_list:\n",
    "            break\n",
    "        all_heros_list.extend(heros_list)\n",
    "        variables_get_heros_with_stats['offset'] += variables_get_heros_with_stats['limit']\n",
    "    \n",
    "    all_heros_df = pd.DataFrame(all_heros_list)\n",
    "    if 'hero_volume' in all_heros_df.columns:\n",
    "      all_heros_df['hero_volume'] = all_heros_df['hero_volume'].apply(convert_to_eth)\n",
    "    all_heros_df['hero_last_sale_price'] = all_heros_df['hero_last_sale_price'].apply(convert_to_eth)\n",
    "    all_heros_df.drop(columns=['previous_rank', 'hero_last_sale_price', 'hero_floor_price'], inplace=True)\n",
    "    columns_order = ['current_rank', 'hero_name', 'hero_handle'] + [col for col in all_heros_df.columns if col not in ['current_rank', 'hero_name', 'hero_handle']]\n",
    "    all_heros_df = all_heros_df[columns_order]\n",
    "    return all_heros_df\n",
    "\n",
    "def get_hero_stats(token):\n",
    "    def adjust_date(created_at_str):\n",
    "        try:\n",
    "            created_at = datetime.strptime(created_at_str, '%Y-%m-%dT%H:%M:%S.%f')\n",
    "        except ValueError:\n",
    "            created_at = datetime.strptime(created_at_str, '%Y-%m-%dT%H:%M:%S')\n",
    "        if created_at.time() < datetime.strptime(\"12:00\", \"%H:%M\").time():\n",
    "            adjusted_date = created_at - timedelta(days=1)\n",
    "        else:\n",
    "            adjusted_date = created_at\n",
    "        return adjusted_date.date()\n",
    "    \n",
    "    def parse_datetime(created_at_str):\n",
    "        try:\n",
    "            timestamp = datetime.strptime(created_at_str, '%Y-%m-%dT%H:%M:%S.%f')\n",
    "        except ValueError:\n",
    "            timestamp = datetime.strptime(created_at_str, '%Y-%m-%dT%H:%M:%S')\n",
    "        return timestamp\n",
    "        \n",
    "    def get_hero_data(handle, token):\n",
    "        query_get_hero_by_handle = \"\"\"\n",
    "            query GET_HERO_BY_HANDLE($handle: String!) {\n",
    "          heroes: twitter_data_heroes(where: {handle: {_eq: $handle}}) {\n",
    "            followers_count\n",
    "            is_player\n",
    "            handle\n",
    "            id\n",
    "            name\n",
    "            profile_image_url_https\n",
    "            distribution_probability {\n",
    "              inflation_degree\n",
    "            }\n",
    "            current_score {\n",
    "              fantasy_score\n",
    "              current_rank\n",
    "              views\n",
    "            }\n",
    "            score_history(\n",
    "              order_by: {created_at: desc}\n",
    "              limit: 300\n",
    "              where: {is_gliding24h: {_eq: false}}\n",
    "            ) {\n",
    "              id\n",
    "              fantasy_score\n",
    "              current_rank\n",
    "              created_at\n",
    "            }\n",
    "            tournament_scores(order_by: {created_at: asc}) {\n",
    "              id\n",
    "              current_rank\n",
    "              views\n",
    "              created_at\n",
    "            }\n",
    "            tweets(order_by: {views: desc}, where: {type: {_nin: [\"Retweet\", \"Reply\"]}}) {\n",
    "              post_id\n",
    "              bookmarks\n",
    "              likes\n",
    "              quotes\n",
    "              replies\n",
    "              retweets\n",
    "              views\n",
    "              created_at\n",
    "              type\n",
    "              fire_score\n",
    "              impact_score\n",
    "              health_score\n",
    "              top_interacting_users\n",
    "            }\n",
    "            cards(limit: 1) {\n",
    "              id\n",
    "              picture_url\n",
    "              rarity\n",
    "            }\n",
    "            cards_aggregate {\n",
    "              aggregate {\n",
    "                count\n",
    "              }\n",
    "            }\n",
    "            trades(limit: 1, order_by: {timestamp: desc}) {\n",
    "              id\n",
    "              price\n",
    "            }\n",
    "            floor: unique_sell_orders(order_by: {lowest_price: asc_nulls_last}, limit: 1) {\n",
    "              lowest_price\n",
    "            }\n",
    "          }\n",
    "        }\n",
    "        \"\"\"\n",
    "        variables = {\"handle\": handle}\n",
    "        response_data = send_graphql_request(query=query_get_hero_by_handle, variables=variables, token=token)\n",
    "        if 'errors' in response_data:\n",
    "            print(f\"Error fetching data for handle {handle}: {response_data['errors']}\")\n",
    "            return None\n",
    "        hero_data = response_data.get('data', {}).get('heroes', [])\n",
    "        if not hero_data:\n",
    "            print(f\"No data found for handle {handle}\")\n",
    "            return None\n",
    "        return hero_data[0]\n",
    "    \n",
    "    def process_hero_data(hero_data):\n",
    "        processed_data = {\n",
    "            \"handle\": hero_data[\"handle\"],\n",
    "            \"id\": hero_data[\"id\"],\n",
    "            \"inflation_degree\": hero_data[\"distribution_probability\"][\"inflation_degree\"] if hero_data[\"distribution_probability\"] else None\n",
    "        }\n",
    "        score_history = hero_data.get(\"score_history\", [])\n",
    "        score_history_dict = {}\n",
    "        closest_to_midnight = {}\n",
    "    \n",
    "        for entry in score_history:\n",
    "            created_at = entry[\"created_at\"]\n",
    "            date = adjust_date(created_at)\n",
    "            timestamp = parse_datetime(created_at)\n",
    "            closing_score_key = f\"{date} Closing Score\"\n",
    "            closing_rank_key = f\"{date} Closing Rank\"\n",
    "            midnight = datetime.combine(date, datetime.min.time())\n",
    "            time_diff = abs((timestamp - midnight).total_seconds())\n",
    "            if closing_score_key not in closest_to_midnight or time_diff < closest_to_midnight[closing_score_key]:\n",
    "                closest_to_midnight[closing_score_key] = time_diff\n",
    "                score_history_dict[closing_score_key] = entry[\"fantasy_score\"]\n",
    "                score_history_dict[closing_rank_key] = entry[\"current_rank\"]\n",
    "        processed_data.update(score_history_dict)\n",
    "        tournament_scores = hero_data.get(\"tournament_scores\", [])\n",
    "        for entry in tournament_scores:\n",
    "            try:\n",
    "                date = datetime.strptime(entry[\"created_at\"], '%Y-%m-%dT%H:%M:%S.%f').date()\n",
    "            except ValueError:\n",
    "                date = datetime.strptime(entry[\"created_at\"], '%Y-%m-%d').date()\n",
    "            tournament_rank_key = f\"{date} Tournament Rank\"\n",
    "            processed_data[tournament_rank_key] = entry[\"current_rank\"]\n",
    "        return processed_data\n",
    "\n",
    "    basic_hero_stats_df = pd.read_csv(get_latest_hero_stats_file(DATA_FOLDER))  \n",
    "    all_hero_data = []\n",
    "    for handle in tqdm(basic_hero_stats_df[\"hero_handle\"], desc=\"Processing heroes\"):\n",
    "        hero_data = get_hero_data(handle, token)\n",
    "        if hero_data:\n",
    "            processed_data = process_hero_data(hero_data)\n",
    "            all_hero_data.append(processed_data)\n",
    "        time.sleep(random.uniform(1, 3))\n",
    "    \n",
    "    hero_scores = pd.DataFrame(all_hero_data)\n",
    "    hero_scores = hero_scores.rename(columns={'handle': 'hero_handle', 'id': 'hero_id'})\n",
    "    return hero_scores\n",
    "\n",
    "def get_hero_supply(hero_stats_df, token):\n",
    "    query_get_supply_per_hero_id = \"\"\"\n",
    "    query GET_SUPPLY_PER_HERO_ID($heroId: String!) @cached(ttl: 3600) {\n",
    "      rarity1Count: indexer_cards_aggregate(\n",
    "        where: {hero_id: {_eq: $heroId}, rarity: {_eq: 1}, owner: {_neq: \"0x0000000000000000000000000000000000000000\"}}\n",
    "      ) {\n",
    "        aggregate {\n",
    "          count\n",
    "        }\n",
    "      }\n",
    "      rarity2Count: indexer_cards_aggregate(\n",
    "        where: {hero_id: {_eq: $heroId}, rarity: {_eq: 2}, owner: {_neq: \"0x0000000000000000000000000000000000000000\"}}\n",
    "      ) {\n",
    "        aggregate {\n",
    "          count\n",
    "        }\n",
    "      }\n",
    "      rarity3Count: indexer_cards_aggregate(\n",
    "        where: {hero_id: {_eq: $heroId}, rarity: {_eq: 3}, owner: {_neq: \"0x0000000000000000000000000000000000000000\"}}\n",
    "      ) {\n",
    "        aggregate {\n",
    "          count\n",
    "        }\n",
    "      }\n",
    "      rarity4Count: indexer_cards_aggregate(\n",
    "        where: {hero_id: {_eq: $heroId}, rarity: {_eq: 4}, owner: {_neq: \"0x0000000000000000000000000000000000000000\"}}\n",
    "      ) {\n",
    "        aggregate {\n",
    "          count\n",
    "        }\n",
    "      }\n",
    "      burnedCardsCount: indexer_cards_aggregate(\n",
    "        where: {hero_id: {_eq: $heroId}, owner: {_eq: \"0x0000000000000000000000000000000000000000\"}}\n",
    "      ) {\n",
    "        aggregate {\n",
    "          count\n",
    "        }\n",
    "      }\n",
    "      utilityCount: indexer_cards_aggregate(\n",
    "        where: {hero_id: {_eq: $heroId}, in_deck: {_eq: true}, owner: {_neq: \"0x0000000000000000000000000000000000000000\"}}\n",
    "      ) {\n",
    "        aggregate {\n",
    "          count\n",
    "        }\n",
    "      }\n",
    "    }\n",
    "    \"\"\"\n",
    "    \n",
    "    def process_get_supply_per_hero_id(response, hero_id):\n",
    "        if 'errors' in response:\n",
    "            print('Errors:', response['errors'])\n",
    "            return pd.DataFrame()\n",
    "        data = response.get('data', {})\n",
    "        supply_data = {\n",
    "            'heroId': hero_id,\n",
    "            'rarity1Count': data['rarity1Count']['aggregate']['count'],\n",
    "            'rarity2Count': data['rarity2Count']['aggregate']['count'],\n",
    "            'rarity3Count': data['rarity3Count']['aggregate']['count'],\n",
    "            'rarity4Count': data['rarity4Count']['aggregate']['count'],\n",
    "            'burnedCardsCount': data['burnedCardsCount']['aggregate']['count'],\n",
    "            'utilityCount': data['utilityCount']['aggregate']['count']\n",
    "        }\n",
    "        return pd.DataFrame([supply_data])\n",
    "    \n",
    "    def get_supply_per_hero_id(url, query, hero_ids, token, delay=1, max_retries=3):\n",
    "        all_supplies = []\n",
    "        total_heroes = len(hero_ids)\n",
    "        with tqdm(total=total_heroes, desc=\"Fetching hero data\") as pbar:\n",
    "            for index, hero_id in enumerate(hero_ids):\n",
    "                variables = {\"heroId\": str(hero_id)}\n",
    "                retries = 0\n",
    "                while retries < max_retries:\n",
    "                    try:\n",
    "                        status_message = f\"Fetching data for hero {hero_id} ({index+1}/{total_heroes}), attempt {retries+1}\"\n",
    "                        sys.stdout.write(status_message)\n",
    "                        sys.stdout.flush()\n",
    "                        response = send_graphql_request(query=query, variables=variables, token=token)\n",
    "                        supply_df = process_get_supply_per_hero_id(response, hero_id)\n",
    "                        all_supplies.append(supply_df)\n",
    "                        sys.stdout.write(f\"Successfully fetched data for hero {hero_id}          \\n\")\n",
    "                        sys.stdout.flush()\n",
    "                        time.sleep(delay)\n",
    "                        break\n",
    "                    except Exception as e:\n",
    "                        sys.stdout.write(f\"Error fetching data for hero {hero_id}: {e}          \\r\")\n",
    "                        sys.stdout.flush()\n",
    "                        retries += 1\n",
    "                        time.sleep(delay * retries)\n",
    "                        if retries >= max_retries:\n",
    "                            sys.stdout.write(f\"Failed to fetch data for hero {hero_id} after {max_retries} attempts\\n\")\n",
    "                            sys.stdout.flush()\n",
    "                pbar.update(1)\n",
    "        return pd.concat(all_supplies, ignore_index=True)\n",
    "    \n",
    "    hero_ids = hero_stats_df['hero_id'].tolist()\n",
    "    all_hero_supplies_df = get_supply_per_hero_id(URL_GRAPHQL, query_get_supply_per_hero_id, hero_ids, token)\n",
    "    all_hero_supplies_df = all_hero_supplies_df.rename(columns={'heroId': 'hero_id'})\n",
    "    return all_hero_supplies_df\n",
    "\n",
    "def get_bids(hero_stats_df, token, cookies):\n",
    "    def get_highest_bids_for_hero(hero_id, token, cookies, delay=2, max_retries=3):\n",
    "        hero_bids = {'hero_id': hero_id}\n",
    "        for rarity in range(1, 5):\n",
    "            params = {\n",
    "                'hero_id': hero_id,\n",
    "                'rarity': rarity,\n",
    "                'include_orderbook': 'true',\n",
    "                'include_personal_bids': 'true',\n",
    "            }\n",
    "            retries = 0\n",
    "            while retries < max_retries:\n",
    "                try:\n",
    "                    status_message = f\"Fetching data for hero {hero_id} rarity {rarity}, attempt {retries + 1}\\r\"\n",
    "                    sys.stdout.write(status_message)\n",
    "                    sys.stdout.flush()\n",
    "                    response = send_graphql_request(request_type='rest', params=params, token=token, cookies=cookies)\n",
    "                    highest_bid = 0\n",
    "                    if response.get('orderbook_bids'):\n",
    "                        highest_bid = max(int(bid['price']) for bid in response['orderbook_bids'])\n",
    "                        highest_bid /= 1e18\n",
    "                    hero_bids[f'rarity{rarity}HighestBid'] = highest_bid\n",
    "                    break\n",
    "                except Exception as e:\n",
    "                    sys.stdout.write(f\"Error fetching data for hero {hero_id} rarity {rarity}: {e}, attempt {retries + 1}\\r\")\n",
    "                    sys.stdout.flush()\n",
    "                    retries += 1\n",
    "                    time.sleep(delay * retries)\n",
    "            if retries >= max_retries:\n",
    "                sys.stdout.write(f\"Failed to fetch data for hero {hero_id} rarity {rarity} after {max_retries} attempts\\n\")\n",
    "                sys.stdout.flush()\n",
    "                hero_bids[f'rarity{rarity}HighestBid'] = None\n",
    "        return hero_bids\n",
    "    \n",
    "    def collect_highest_bids(ref_df, token, cookies, delay=7, max_retries=3):\n",
    "        data = []\n",
    "        total_heroes = len(ref_df['hero_id'])\n",
    "        for index, hero_id in enumerate(ref_df['hero_id']):\n",
    "            status_message = f\"Processing hero {hero_id} ({index + 1}/{total_heroes})...\\r\"\n",
    "            sys.stdout.write(status_message)\n",
    "            sys.stdout.flush()\n",
    "            hero_bids = get_highest_bids_for_hero(hero_id, token, cookies, delay, max_retries)\n",
    "            data.append(hero_bids)\n",
    "            sys.stdout.write(f\"Completed {index + 1} out of {total_heroes}\\n\")\n",
    "            sys.stdout.flush()\n",
    "            time.sleep(delay)\n",
    "        highest_bids_df = pd.DataFrame(data)\n",
    "        return highest_bids_df\n",
    "    \n",
    "    highest_bids_df = collect_highest_bids(hero_stats_df, token, cookies)\n",
    "    return highest_bids_df\n",
    "\n",
    "def get_last_trades(token):\n",
    "    query_get_last_trade = \"\"\"\n",
    "    query GET_LAST_TRADE {\n",
    "      indexer_trades(\n",
    "        distinct_on: hero_rarity_index\n",
    "        order_by: {hero_rarity_index: asc, timestamp: desc}\n",
    "      ) {\n",
    "        id\n",
    "        hero_rarity_index\n",
    "        price\n",
    "        timestamp\n",
    "      }\n",
    "    }\n",
    "    \"\"\"\n",
    "    \n",
    "    def process_get_last_trade(response):\n",
    "        if 'errors' in response:\n",
    "            print('Errors:', response['errors'])\n",
    "            return pd.DataFrame()\n",
    "        trades = response.get('data', {}).get('indexer_trades', [])\n",
    "        last_trade_data = []\n",
    "        for trade in trades:\n",
    "            hero_id, rarity = trade['hero_rarity_index'].split('_')\n",
    "            last_trade_data.append({\n",
    "                'heroId': hero_id,\n",
    "                'rarity': f'rarity{rarity}',\n",
    "                'lastSalePrice': convert_to_eth(trade['price']),\n",
    "                'lastSaleTime': trade['timestamp']\n",
    "            })\n",
    "        return pd.DataFrame(last_trade_data)\n",
    "    \n",
    "    def get_last_trade(url, query, token):\n",
    "        response = send_graphql_request(query=query, token=token)\n",
    "        last_trade_df = process_get_last_trade(response)\n",
    "        return last_trade_df\n",
    "    \n",
    "    last_trade_df = get_last_trade(URL_GRAPHQL, query_get_last_trade, token)\n",
    "    pivoted_df = last_trade_df.pivot(index='heroId', columns='rarity', values=['lastSalePrice', 'lastSaleTime'])\n",
    "    pivoted_df.columns = [f'{col[1]}{col[0]}' for col in pivoted_df.columns]\n",
    "    pivoted_df.reset_index(inplace=True)\n",
    "    pivoted_df = pivoted_df.rename(columns={'heroId': 'hero_id'})\n",
    "    return pivoted_df\n",
    "\n",
    "def get_latest_hero_stats_file(directory, prefix='hero_stats'):\n",
    "    files = glob.glob(os.path.join(directory, f'{prefix}*.csv'))\n",
    "    if not files:\n",
    "        raise FileNotFoundError(f\"No files starting with '{prefix}' found in {directory}\")\n",
    "    latest_file = max(files, key=os.path.getmtime)\n",
    "    return latest_file\n",
    "\n",
    "# Main Execution Function\n",
    "\n",
    "\n"
   ]
  },
  {
   "cell_type": "code",
   "execution_count": 17,
   "id": "93f811cf",
   "metadata": {},
   "outputs": [
    {
     "name": "stdout",
     "output_type": "stream",
     "text": [
      "Accept button did not appear.\n",
      "Logged In Successfully\n"
     ]
    }
   ],
   "source": [
    "\n",
    "driver, token = login()\n",
    "cookies = {cookie['name']: cookie['value'] for cookie in driver.get_cookies()}\n"
   ]
  },
  {
   "cell_type": "code",
   "execution_count": 15,
   "id": "f782606e",
   "metadata": {},
   "outputs": [
    {
     "name": "stdout",
     "output_type": "stream",
     "text": [
      "Calling get_hero_stats\n"
     ]
    },
    {
     "name": "stderr",
     "output_type": "stream",
     "text": [
      "Processing heroes: 100%|██████████| 177/177 [16:54<00:00,  5.73s/it]\n"
     ]
    },
    {
     "name": "stdout",
     "output_type": "stream",
     "text": [
      "get_hero_stats took 1014.3997 seconds to execute\n",
      "DataFrame saved as data\\hero_stats_240815_2023.csv\n",
      "Calling download_portfolio\n",
      "download_portfolio took 38.3169 seconds to execute\n",
      "DataFrame saved as data\\portfolio_240815_2024.csv\n",
      "Calling download_basic_hero_stats\n",
      "download_basic_hero_stats took 37.0860 seconds to execute\n",
      "DataFrame saved as data\\basic_hero_stats_240815_2024.csv\n",
      "Calling download_listings\n"
     ]
    },
    {
     "name": "stderr",
     "output_type": "stream",
     "text": [
      "C:\\Users\\beuzi\\AppData\\Local\\Temp\\ipykernel_5964\\1046994117.py:230: SettingWithCopyWarning: \n",
      "A value is trying to be set on a copy of a slice from a DataFrame.\n",
      "Try using .loc[row_indexer,col_indexer] = value instead\n",
      "\n",
      "See the caveats in the documentation: https://pandas.pydata.org/pandas-docs/stable/user_guide/indexing.html#returning-a-view-versus-a-copy\n",
      "  listings_df.loc[:, 'rarity'] = listings_df['hero_rarity_index'].str.split('_').str[1]\n"
     ]
    },
    {
     "name": "stdout",
     "output_type": "stream",
     "text": [
      "download_listings took 43.5247 seconds to execute\n",
      "DataFrame saved as data\\listings_240815_2025.csv\n",
      "Calling get_last_trades\n",
      "get_last_trades took 4.5994 seconds to execute\n",
      "DataFrame saved as data\\last_trades_240815_2025.csv\n",
      "Calling get_hero_supply\n"
     ]
    },
    {
     "name": "stderr",
     "output_type": "stream",
     "text": [
      "Fetching hero data:   0%|          | 0/177 [00:00<?, ?it/s]"
     ]
    },
    {
     "name": "stdout",
     "output_type": "stream",
     "text": [
      "Fetching data for hero 1356434353623093249 (1/177), attempt 1Successfully fetched data for hero 1356434353623093249          \n"
     ]
    },
    {
     "name": "stderr",
     "output_type": "stream",
     "text": [
      "Fetching hero data:   1%|          | 1/177 [00:01<03:24,  1.16s/it]"
     ]
    },
    {
     "name": "stdout",
     "output_type": "stream",
     "text": [
      "Fetching data for hero 262018615 (2/177), attempt 1Successfully fetched data for hero 262018615          \n"
     ]
    },
    {
     "name": "stderr",
     "output_type": "stream",
     "text": [
      "Fetching hero data:   1%|          | 2/177 [00:02<03:30,  1.20s/it]"
     ]
    },
    {
     "name": "stdout",
     "output_type": "stream",
     "text": [
      "Fetching data for hero 982070158125682688 (3/177), attempt 1Successfully fetched data for hero 982070158125682688          \n"
     ]
    },
    {
     "name": "stderr",
     "output_type": "stream",
     "text": [
      "Fetching hero data:   2%|▏         | 3/177 [00:03<03:25,  1.18s/it]"
     ]
    },
    {
     "name": "stdout",
     "output_type": "stream",
     "text": [
      "Fetching data for hero 973261472 (4/177), attempt 1Successfully fetched data for hero 973261472          \n"
     ]
    },
    {
     "name": "stderr",
     "output_type": "stream",
     "text": [
      "Fetching hero data:   2%|▏         | 4/177 [00:04<03:23,  1.18s/it]"
     ]
    },
    {
     "name": "stdout",
     "output_type": "stream",
     "text": [
      "Fetching data for hero 1441835930889818113 (5/177), attempt 1Successfully fetched data for hero 1441835930889818113          \n"
     ]
    },
    {
     "name": "stderr",
     "output_type": "stream",
     "text": [
      "Fetching hero data:   3%|▎         | 5/177 [00:05<03:22,  1.18s/it]"
     ]
    },
    {
     "name": "stdout",
     "output_type": "stream",
     "text": [
      "Fetching data for hero 906234475604037637 (6/177), attempt 1Successfully fetched data for hero 906234475604037637          \n"
     ]
    },
    {
     "name": "stderr",
     "output_type": "stream",
     "text": [
      "Fetching hero data:   3%|▎         | 6/177 [00:07<03:23,  1.19s/it]"
     ]
    },
    {
     "name": "stdout",
     "output_type": "stream",
     "text": [
      "Fetching data for hero 588569122 (7/177), attempt 1Successfully fetched data for hero 588569122          \n"
     ]
    },
    {
     "name": "stderr",
     "output_type": "stream",
     "text": [
      "Fetching hero data:   4%|▍         | 7/177 [00:08<03:23,  1.20s/it]"
     ]
    },
    {
     "name": "stdout",
     "output_type": "stream",
     "text": [
      "Fetching data for hero 965651 (8/177), attempt 1Successfully fetched data for hero 965651          \n"
     ]
    },
    {
     "name": "stderr",
     "output_type": "stream",
     "text": [
      "Fetching hero data:   5%|▍         | 8/177 [00:09<03:21,  1.19s/it]"
     ]
    },
    {
     "name": "stdout",
     "output_type": "stream",
     "text": [
      "Fetching data for hero 279828819 (9/177), attempt 1Successfully fetched data for hero 279828819          \n"
     ]
    },
    {
     "name": "stderr",
     "output_type": "stream",
     "text": [
      "Fetching hero data:   5%|▌         | 9/177 [00:10<03:21,  1.20s/it]"
     ]
    },
    {
     "name": "stdout",
     "output_type": "stream",
     "text": [
      "Fetching data for hero 1466010689726783491 (10/177), attempt 1Successfully fetched data for hero 1466010689726783491          \n"
     ]
    },
    {
     "name": "stderr",
     "output_type": "stream",
     "text": [
      "Fetching hero data:   6%|▌         | 10/177 [00:11<03:18,  1.19s/it]"
     ]
    },
    {
     "name": "stdout",
     "output_type": "stream",
     "text": [
      "Fetching data for hero 1446541960181858315 (11/177), attempt 1Successfully fetched data for hero 1446541960181858315          \n"
     ]
    },
    {
     "name": "stderr",
     "output_type": "stream",
     "text": [
      "Fetching hero data:   6%|▌         | 11/177 [00:13<03:18,  1.19s/it]"
     ]
    },
    {
     "name": "stdout",
     "output_type": "stream",
     "text": [
      "Fetching data for hero 4705209135 (12/177), attempt 1Successfully fetched data for hero 4705209135          \n"
     ]
    },
    {
     "name": "stderr",
     "output_type": "stream",
     "text": [
      "Fetching hero data:   7%|▋         | 12/177 [00:14<03:15,  1.19s/it]"
     ]
    },
    {
     "name": "stdout",
     "output_type": "stream",
     "text": [
      "Fetching data for hero 2193616844 (13/177), attempt 1Successfully fetched data for hero 2193616844          \n"
     ]
    },
    {
     "name": "stderr",
     "output_type": "stream",
     "text": [
      "Fetching hero data:   7%|▋         | 13/177 [00:15<03:23,  1.24s/it]"
     ]
    },
    {
     "name": "stdout",
     "output_type": "stream",
     "text": [
      "Fetching data for hero 1309886201944473600 (14/177), attempt 1Successfully fetched data for hero 1309886201944473600          \n"
     ]
    },
    {
     "name": "stderr",
     "output_type": "stream",
     "text": [
      "Fetching hero data:   8%|▊         | 14/177 [00:16<03:17,  1.21s/it]"
     ]
    },
    {
     "name": "stdout",
     "output_type": "stream",
     "text": [
      "Fetching data for hero 1175781003245191178 (15/177), attempt 1Successfully fetched data for hero 1175781003245191178          \n"
     ]
    },
    {
     "name": "stderr",
     "output_type": "stream",
     "text": [
      "Fetching hero data:   8%|▊         | 15/177 [00:17<03:13,  1.19s/it]"
     ]
    },
    {
     "name": "stdout",
     "output_type": "stream",
     "text": [
      "Fetching data for hero 864011281 (16/177), attempt 1Successfully fetched data for hero 864011281          \n"
     ]
    },
    {
     "name": "stderr",
     "output_type": "stream",
     "text": [
      "Fetching hero data:   9%|▉         | 16/177 [00:19<03:10,  1.18s/it]"
     ]
    },
    {
     "name": "stdout",
     "output_type": "stream",
     "text": [
      "Fetching data for hero 1518981537307496448 (17/177), attempt 1Successfully fetched data for hero 1518981537307496448          \n"
     ]
    },
    {
     "name": "stderr",
     "output_type": "stream",
     "text": [
      "Fetching hero data:  10%|▉         | 17/177 [00:20<03:07,  1.17s/it]"
     ]
    },
    {
     "name": "stdout",
     "output_type": "stream",
     "text": [
      "Fetching data for hero 1426732252768182281 (18/177), attempt 1Successfully fetched data for hero 1426732252768182281          \n"
     ]
    },
    {
     "name": "stderr",
     "output_type": "stream",
     "text": [
      "Fetching hero data:  10%|█         | 18/177 [00:21<03:07,  1.18s/it]"
     ]
    },
    {
     "name": "stdout",
     "output_type": "stream",
     "text": [
      "Fetching data for hero 1449941836034822144 (19/177), attempt 1Successfully fetched data for hero 1449941836034822144          \n"
     ]
    },
    {
     "name": "stderr",
     "output_type": "stream",
     "text": [
      "Fetching hero data:  11%|█         | 19/177 [00:22<03:06,  1.18s/it]"
     ]
    },
    {
     "name": "stdout",
     "output_type": "stream",
     "text": [
      "Fetching data for hero 1469851247133945856 (20/177), attempt 1Successfully fetched data for hero 1469851247133945856          \n"
     ]
    },
    {
     "name": "stderr",
     "output_type": "stream",
     "text": [
      "Fetching hero data:  11%|█▏        | 20/177 [00:23<03:04,  1.18s/it]"
     ]
    },
    {
     "name": "stdout",
     "output_type": "stream",
     "text": [
      "Fetching data for hero 1769641180898131968 (21/177), attempt 1Successfully fetched data for hero 1769641180898131968          \n"
     ]
    },
    {
     "name": "stderr",
     "output_type": "stream",
     "text": [
      "Fetching hero data:  12%|█▏        | 21/177 [00:24<03:04,  1.18s/it]"
     ]
    },
    {
     "name": "stdout",
     "output_type": "stream",
     "text": [
      "Fetching data for hero 1432635656161746947 (22/177), attempt 1Successfully fetched data for hero 1432635656161746947          \n"
     ]
    },
    {
     "name": "stderr",
     "output_type": "stream",
     "text": [
      "Fetching hero data:  12%|█▏        | 22/177 [00:26<03:01,  1.17s/it]"
     ]
    },
    {
     "name": "stdout",
     "output_type": "stream",
     "text": [
      "Fetching data for hero 834123445856145408 (23/177), attempt 1Successfully fetched data for hero 834123445856145408          \n"
     ]
    },
    {
     "name": "stderr",
     "output_type": "stream",
     "text": [
      "Fetching hero data:  13%|█▎        | 23/177 [00:27<02:59,  1.16s/it]"
     ]
    },
    {
     "name": "stdout",
     "output_type": "stream",
     "text": [
      "Fetching data for hero 1398319504975970310 (24/177), attempt 1Successfully fetched data for hero 1398319504975970310          \n"
     ]
    },
    {
     "name": "stderr",
     "output_type": "stream",
     "text": [
      "Fetching hero data:  14%|█▎        | 24/177 [00:28<02:58,  1.16s/it]"
     ]
    },
    {
     "name": "stdout",
     "output_type": "stream",
     "text": [
      "Fetching data for hero 2593497397 (25/177), attempt 1Successfully fetched data for hero 2593497397          \n"
     ]
    },
    {
     "name": "stderr",
     "output_type": "stream",
     "text": [
      "Fetching hero data:  14%|█▍        | 25/177 [00:29<02:56,  1.16s/it]"
     ]
    },
    {
     "name": "stdout",
     "output_type": "stream",
     "text": [
      "Fetching data for hero 1456142714756468738 (26/177), attempt 1Successfully fetched data for hero 1456142714756468738          \n"
     ]
    },
    {
     "name": "stderr",
     "output_type": "stream",
     "text": [
      "Fetching hero data:  15%|█▍        | 26/177 [00:30<02:55,  1.16s/it]"
     ]
    },
    {
     "name": "stdout",
     "output_type": "stream",
     "text": [
      "Fetching data for hero 1223801725674565632 (27/177), attempt 1Successfully fetched data for hero 1223801725674565632          \n"
     ]
    },
    {
     "name": "stderr",
     "output_type": "stream",
     "text": [
      "Fetching hero data:  15%|█▌        | 27/177 [00:31<02:52,  1.15s/it]"
     ]
    },
    {
     "name": "stdout",
     "output_type": "stream",
     "text": [
      "Fetching data for hero 1755899659040555009 (28/177), attempt 1Successfully fetched data for hero 1755899659040555009          \n"
     ]
    },
    {
     "name": "stderr",
     "output_type": "stream",
     "text": [
      "Fetching hero data:  16%|█▌        | 28/177 [00:33<02:53,  1.17s/it]"
     ]
    },
    {
     "name": "stdout",
     "output_type": "stream",
     "text": [
      "Fetching data for hero 954015928924057601 (29/177), attempt 1Successfully fetched data for hero 954015928924057601          \n"
     ]
    },
    {
     "name": "stderr",
     "output_type": "stream",
     "text": [
      "Fetching hero data:  16%|█▋        | 29/177 [00:34<02:52,  1.17s/it]"
     ]
    },
    {
     "name": "stdout",
     "output_type": "stream",
     "text": [
      "Fetching data for hero 423164349 (30/177), attempt 1Successfully fetched data for hero 423164349          \n"
     ]
    },
    {
     "name": "stderr",
     "output_type": "stream",
     "text": [
      "Fetching hero data:  17%|█▋        | 30/177 [00:35<02:52,  1.17s/it]"
     ]
    },
    {
     "name": "stdout",
     "output_type": "stream",
     "text": [
      "Fetching data for hero 1635676907529285642 (31/177), attempt 1Successfully fetched data for hero 1635676907529285642          \n"
     ]
    },
    {
     "name": "stderr",
     "output_type": "stream",
     "text": [
      "Fetching hero data:  18%|█▊        | 31/177 [00:36<02:49,  1.16s/it]"
     ]
    },
    {
     "name": "stdout",
     "output_type": "stream",
     "text": [
      "Fetching data for hero 1470958472409792515 (32/177), attempt 1Successfully fetched data for hero 1470958472409792515          \n"
     ]
    },
    {
     "name": "stderr",
     "output_type": "stream",
     "text": [
      "Fetching hero data:  18%|█▊        | 32/177 [00:37<02:47,  1.16s/it]"
     ]
    },
    {
     "name": "stdout",
     "output_type": "stream",
     "text": [
      "Fetching data for hero 1354947293921701892 (33/177), attempt 1Successfully fetched data for hero 1354947293921701892          \n"
     ]
    },
    {
     "name": "stderr",
     "output_type": "stream",
     "text": [
      "Fetching hero data:  19%|█▊        | 33/177 [00:38<02:47,  1.16s/it]"
     ]
    },
    {
     "name": "stdout",
     "output_type": "stream",
     "text": [
      "Fetching data for hero 1327336243026223104 (34/177), attempt 1Successfully fetched data for hero 1327336243026223104          \n"
     ]
    },
    {
     "name": "stderr",
     "output_type": "stream",
     "text": [
      "Fetching hero data:  19%|█▉        | 34/177 [00:40<02:45,  1.16s/it]"
     ]
    },
    {
     "name": "stdout",
     "output_type": "stream",
     "text": [
      "Fetching data for hero 22758405 (35/177), attempt 1Successfully fetched data for hero 22758405          \n"
     ]
    },
    {
     "name": "stderr",
     "output_type": "stream",
     "text": [
      "Fetching hero data:  20%|█▉        | 35/177 [00:41<02:43,  1.15s/it]"
     ]
    },
    {
     "name": "stdout",
     "output_type": "stream",
     "text": [
      "Fetching data for hero 877728873340956672 (36/177), attempt 1Successfully fetched data for hero 877728873340956672          \n"
     ]
    },
    {
     "name": "stderr",
     "output_type": "stream",
     "text": [
      "Fetching hero data:  20%|██        | 36/177 [00:42<02:44,  1.16s/it]"
     ]
    },
    {
     "name": "stdout",
     "output_type": "stream",
     "text": [
      "Fetching data for hero 1240784920831762433 (37/177), attempt 1Successfully fetched data for hero 1240784920831762433          \n"
     ]
    },
    {
     "name": "stderr",
     "output_type": "stream",
     "text": [
      "Fetching hero data:  21%|██        | 37/177 [00:43<02:43,  1.17s/it]"
     ]
    },
    {
     "name": "stdout",
     "output_type": "stream",
     "text": [
      "Fetching data for hero 2361601055 (38/177), attempt 1Successfully fetched data for hero 2361601055          \n"
     ]
    },
    {
     "name": "stderr",
     "output_type": "stream",
     "text": [
      "Fetching hero data:  21%|██▏       | 38/177 [00:44<02:41,  1.16s/it]"
     ]
    },
    {
     "name": "stdout",
     "output_type": "stream",
     "text": [
      "Fetching data for hero 239518063 (39/177), attempt 1Successfully fetched data for hero 239518063          \n"
     ]
    },
    {
     "name": "stderr",
     "output_type": "stream",
     "text": [
      "Fetching hero data:  22%|██▏       | 39/177 [00:45<02:40,  1.16s/it]"
     ]
    },
    {
     "name": "stdout",
     "output_type": "stream",
     "text": [
      "Fetching data for hero 1473993924083654658 (40/177), attempt 1Successfully fetched data for hero 1473993924083654658          \n"
     ]
    },
    {
     "name": "stderr",
     "output_type": "stream",
     "text": [
      "Fetching hero data:  23%|██▎       | 40/177 [00:47<02:39,  1.16s/it]"
     ]
    },
    {
     "name": "stdout",
     "output_type": "stream",
     "text": [
      "Fetching data for hero 1249193324461916161 (41/177), attempt 1Successfully fetched data for hero 1249193324461916161          \n"
     ]
    },
    {
     "name": "stderr",
     "output_type": "stream",
     "text": [
      "Fetching hero data:  23%|██▎       | 41/177 [00:48<02:37,  1.16s/it]"
     ]
    },
    {
     "name": "stdout",
     "output_type": "stream",
     "text": [
      "Fetching data for hero 4830383913 (42/177), attempt 1Successfully fetched data for hero 4830383913          \n"
     ]
    },
    {
     "name": "stderr",
     "output_type": "stream",
     "text": [
      "Fetching hero data:  24%|██▎       | 42/177 [00:49<02:36,  1.16s/it]"
     ]
    },
    {
     "name": "stdout",
     "output_type": "stream",
     "text": [
      "Fetching data for hero 1051852534518824960 (43/177), attempt 1Successfully fetched data for hero 1051852534518824960          \n"
     ]
    },
    {
     "name": "stderr",
     "output_type": "stream",
     "text": [
      "Fetching hero data:  24%|██▍       | 43/177 [00:50<02:34,  1.15s/it]"
     ]
    },
    {
     "name": "stdout",
     "output_type": "stream",
     "text": [
      "Fetching data for hero 1093242943127932930 (44/177), attempt 1Successfully fetched data for hero 1093242943127932930          \n"
     ]
    },
    {
     "name": "stderr",
     "output_type": "stream",
     "text": [
      "Fetching hero data:  25%|██▍       | 44/177 [00:51<02:36,  1.17s/it]"
     ]
    },
    {
     "name": "stdout",
     "output_type": "stream",
     "text": [
      "Fetching data for hero 1310378599984148480 (45/177), attempt 1Successfully fetched data for hero 1310378599984148480          \n"
     ]
    },
    {
     "name": "stderr",
     "output_type": "stream",
     "text": [
      "Fetching hero data:  25%|██▌       | 45/177 [00:52<02:35,  1.18s/it]"
     ]
    },
    {
     "name": "stdout",
     "output_type": "stream",
     "text": [
      "Fetching data for hero 1404603419101306881 (46/177), attempt 1Successfully fetched data for hero 1404603419101306881          \n"
     ]
    },
    {
     "name": "stderr",
     "output_type": "stream",
     "text": [
      "Fetching hero data:  26%|██▌       | 46/177 [00:54<02:33,  1.17s/it]"
     ]
    },
    {
     "name": "stdout",
     "output_type": "stream",
     "text": [
      "Fetching data for hero 467535591 (47/177), attempt 1Successfully fetched data for hero 467535591          \n"
     ]
    },
    {
     "name": "stderr",
     "output_type": "stream",
     "text": [
      "Fetching hero data:  27%|██▋       | 47/177 [00:55<02:31,  1.16s/it]"
     ]
    },
    {
     "name": "stdout",
     "output_type": "stream",
     "text": [
      "Fetching data for hero 1424170843249250304 (48/177), attempt 1Successfully fetched data for hero 1424170843249250304          \n"
     ]
    },
    {
     "name": "stderr",
     "output_type": "stream",
     "text": [
      "Fetching hero data:  27%|██▋       | 48/177 [00:56<02:29,  1.16s/it]"
     ]
    },
    {
     "name": "stdout",
     "output_type": "stream",
     "text": [
      "Fetching data for hero 1073132650309726208 (49/177), attempt 1Successfully fetched data for hero 1073132650309726208          \n"
     ]
    },
    {
     "name": "stderr",
     "output_type": "stream",
     "text": [
      "Fetching hero data:  28%|██▊       | 49/177 [00:57<02:29,  1.17s/it]"
     ]
    },
    {
     "name": "stdout",
     "output_type": "stream",
     "text": [
      "Fetching data for hero 624791024 (50/177), attempt 1Successfully fetched data for hero 624791024          \n"
     ]
    },
    {
     "name": "stderr",
     "output_type": "stream",
     "text": [
      "Fetching hero data:  28%|██▊       | 50/177 [00:58<02:27,  1.17s/it]"
     ]
    },
    {
     "name": "stdout",
     "output_type": "stream",
     "text": [
      "Fetching data for hero 1346599984528023554 (51/177), attempt 1Successfully fetched data for hero 1346599984528023554          \n"
     ]
    },
    {
     "name": "stderr",
     "output_type": "stream",
     "text": [
      "Fetching hero data:  29%|██▉       | 51/177 [00:59<02:25,  1.16s/it]"
     ]
    },
    {
     "name": "stdout",
     "output_type": "stream",
     "text": [
      "Fetching data for hero 942999039192186882 (52/177), attempt 1Successfully fetched data for hero 942999039192186882          \n"
     ]
    },
    {
     "name": "stderr",
     "output_type": "stream",
     "text": [
      "Fetching hero data:  29%|██▉       | 52/177 [01:01<02:27,  1.18s/it]"
     ]
    },
    {
     "name": "stdout",
     "output_type": "stream",
     "text": [
      "Fetching data for hero 1455759696967651333 (53/177), attempt 1Successfully fetched data for hero 1455759696967651333          \n"
     ]
    },
    {
     "name": "stderr",
     "output_type": "stream",
     "text": [
      "Fetching hero data:  30%|██▉       | 53/177 [01:02<02:24,  1.17s/it]"
     ]
    },
    {
     "name": "stdout",
     "output_type": "stream",
     "text": [
      "Fetching data for hero 837985489 (54/177), attempt 1Successfully fetched data for hero 837985489          \n"
     ]
    },
    {
     "name": "stderr",
     "output_type": "stream",
     "text": [
      "Fetching hero data:  31%|███       | 54/177 [01:03<02:22,  1.16s/it]"
     ]
    },
    {
     "name": "stdout",
     "output_type": "stream",
     "text": [
      "Fetching data for hero 712457848874086400 (55/177), attempt 1Successfully fetched data for hero 712457848874086400          \n"
     ]
    },
    {
     "name": "stderr",
     "output_type": "stream",
     "text": [
      "Fetching hero data:  31%|███       | 55/177 [01:04<02:21,  1.16s/it]"
     ]
    },
    {
     "name": "stdout",
     "output_type": "stream",
     "text": [
      "Fetching data for hero 831767219071754240 (56/177), attempt 1Successfully fetched data for hero 831767219071754240          \n"
     ]
    },
    {
     "name": "stderr",
     "output_type": "stream",
     "text": [
      "Fetching hero data:  32%|███▏      | 56/177 [01:05<02:19,  1.15s/it]"
     ]
    },
    {
     "name": "stdout",
     "output_type": "stream",
     "text": [
      "Fetching data for hero 948736680554409984 (57/177), attempt 1Successfully fetched data for hero 948736680554409984          \n"
     ]
    },
    {
     "name": "stderr",
     "output_type": "stream",
     "text": [
      "Fetching hero data:  32%|███▏      | 57/177 [01:06<02:18,  1.15s/it]"
     ]
    },
    {
     "name": "stdout",
     "output_type": "stream",
     "text": [
      "Fetching data for hero 1180256836416614401 (58/177), attempt 1Successfully fetched data for hero 1180256836416614401          \n"
     ]
    },
    {
     "name": "stderr",
     "output_type": "stream",
     "text": [
      "Fetching hero data:  33%|███▎      | 58/177 [01:07<02:16,  1.15s/it]"
     ]
    },
    {
     "name": "stdout",
     "output_type": "stream",
     "text": [
      "Fetching data for hero 162573283 (59/177), attempt 1Successfully fetched data for hero 162573283          \n"
     ]
    },
    {
     "name": "stderr",
     "output_type": "stream",
     "text": [
      "Fetching hero data:  33%|███▎      | 59/177 [01:09<02:15,  1.15s/it]"
     ]
    },
    {
     "name": "stdout",
     "output_type": "stream",
     "text": [
      "Fetching data for hero 1343542764080930816 (60/177), attempt 1Successfully fetched data for hero 1343542764080930816          \n"
     ]
    },
    {
     "name": "stderr",
     "output_type": "stream",
     "text": [
      "Fetching hero data:  34%|███▍      | 60/177 [01:10<02:14,  1.15s/it]"
     ]
    },
    {
     "name": "stdout",
     "output_type": "stream",
     "text": [
      "Fetching data for hero 948974801737134080 (61/177), attempt 1Successfully fetched data for hero 948974801737134080          \n"
     ]
    },
    {
     "name": "stderr",
     "output_type": "stream",
     "text": [
      "Fetching hero data:  34%|███▍      | 61/177 [01:11<02:14,  1.16s/it]"
     ]
    },
    {
     "name": "stdout",
     "output_type": "stream",
     "text": [
      "Fetching data for hero 1509030724103409665 (62/177), attempt 1Successfully fetched data for hero 1509030724103409665          \n"
     ]
    },
    {
     "name": "stderr",
     "output_type": "stream",
     "text": [
      "Fetching hero data:  35%|███▌      | 62/177 [01:12<02:12,  1.15s/it]"
     ]
    },
    {
     "name": "stdout",
     "output_type": "stream",
     "text": [
      "Fetching data for hero 57584739 (63/177), attempt 1Successfully fetched data for hero 57584739          \n"
     ]
    },
    {
     "name": "stderr",
     "output_type": "stream",
     "text": [
      "Fetching hero data:  36%|███▌      | 63/177 [01:13<02:11,  1.15s/it]"
     ]
    },
    {
     "name": "stdout",
     "output_type": "stream",
     "text": [
      "Fetching data for hero 1323747353308835840 (64/177), attempt 1Successfully fetched data for hero 1323747353308835840          \n"
     ]
    },
    {
     "name": "stderr",
     "output_type": "stream",
     "text": [
      "Fetching hero data:  36%|███▌      | 64/177 [01:14<02:10,  1.15s/it]"
     ]
    },
    {
     "name": "stdout",
     "output_type": "stream",
     "text": [
      "Fetching data for hero 116328126 (65/177), attempt 1Successfully fetched data for hero 116328126          \n"
     ]
    },
    {
     "name": "stderr",
     "output_type": "stream",
     "text": [
      "Fetching hero data:  37%|███▋      | 65/177 [01:16<02:11,  1.17s/it]"
     ]
    },
    {
     "name": "stdout",
     "output_type": "stream",
     "text": [
      "Fetching data for hero 40134343 (66/177), attempt 1Successfully fetched data for hero 40134343          \n"
     ]
    },
    {
     "name": "stderr",
     "output_type": "stream",
     "text": [
      "Fetching hero data:  37%|███▋      | 66/177 [01:17<02:09,  1.17s/it]"
     ]
    },
    {
     "name": "stdout",
     "output_type": "stream",
     "text": [
      "Fetching data for hero 1479247421330837508 (67/177), attempt 1Successfully fetched data for hero 1479247421330837508          \n"
     ]
    },
    {
     "name": "stderr",
     "output_type": "stream",
     "text": [
      "Fetching hero data:  38%|███▊      | 67/177 [01:18<02:09,  1.17s/it]"
     ]
    },
    {
     "name": "stdout",
     "output_type": "stream",
     "text": [
      "Fetching data for hero 957303442250260480 (68/177), attempt 1Successfully fetched data for hero 957303442250260480          \n"
     ]
    },
    {
     "name": "stderr",
     "output_type": "stream",
     "text": [
      "Fetching hero data:  38%|███▊      | 68/177 [01:19<02:07,  1.17s/it]"
     ]
    },
    {
     "name": "stdout",
     "output_type": "stream",
     "text": [
      "Fetching data for hero 127646057 (69/177), attempt 1Successfully fetched data for hero 127646057          \n"
     ]
    },
    {
     "name": "stderr",
     "output_type": "stream",
     "text": [
      "Fetching hero data:  39%|███▉      | 69/177 [01:20<02:05,  1.16s/it]"
     ]
    },
    {
     "name": "stdout",
     "output_type": "stream",
     "text": [
      "Fetching data for hero 886765719391789057 (70/177), attempt 1Successfully fetched data for hero 886765719391789057          \n"
     ]
    },
    {
     "name": "stderr",
     "output_type": "stream",
     "text": [
      "Fetching hero data:  40%|███▉      | 70/177 [01:21<02:04,  1.16s/it]"
     ]
    },
    {
     "name": "stdout",
     "output_type": "stream",
     "text": [
      "Fetching data for hero 1423097842034528257 (71/177), attempt 1Successfully fetched data for hero 1423097842034528257          \n"
     ]
    },
    {
     "name": "stderr",
     "output_type": "stream",
     "text": [
      "Fetching hero data:  40%|████      | 71/177 [01:23<02:03,  1.16s/it]"
     ]
    },
    {
     "name": "stdout",
     "output_type": "stream",
     "text": [
      "Fetching data for hero 953465278561734656 (72/177), attempt 1Successfully fetched data for hero 953465278561734656          \n"
     ]
    },
    {
     "name": "stderr",
     "output_type": "stream",
     "text": [
      "Fetching hero data:  41%|████      | 72/177 [01:24<02:01,  1.16s/it]"
     ]
    },
    {
     "name": "stdout",
     "output_type": "stream",
     "text": [
      "Fetching data for hero 938606626017370112 (73/177), attempt 1Successfully fetched data for hero 938606626017370112          \n"
     ]
    },
    {
     "name": "stderr",
     "output_type": "stream",
     "text": [
      "Fetching hero data:  41%|████      | 73/177 [01:25<02:00,  1.16s/it]"
     ]
    },
    {
     "name": "stdout",
     "output_type": "stream",
     "text": [
      "Fetching data for hero 1354120919460040711 (74/177), attempt 1Successfully fetched data for hero 1354120919460040711          \n"
     ]
    },
    {
     "name": "stderr",
     "output_type": "stream",
     "text": [
      "Fetching hero data:  42%|████▏     | 74/177 [01:26<01:59,  1.16s/it]"
     ]
    },
    {
     "name": "stdout",
     "output_type": "stream",
     "text": [
      "Fetching data for hero 1107518478 (75/177), attempt 1Successfully fetched data for hero 1107518478          \n"
     ]
    },
    {
     "name": "stderr",
     "output_type": "stream",
     "text": [
      "Fetching hero data:  42%|████▏     | 75/177 [01:27<01:57,  1.16s/it]"
     ]
    },
    {
     "name": "stdout",
     "output_type": "stream",
     "text": [
      "Fetching data for hero 1496567813737091075 (76/177), attempt 1Successfully fetched data for hero 1496567813737091075          \n"
     ]
    },
    {
     "name": "stderr",
     "output_type": "stream",
     "text": [
      "Fetching hero data:  43%|████▎     | 76/177 [01:28<01:56,  1.15s/it]"
     ]
    },
    {
     "name": "stdout",
     "output_type": "stream",
     "text": [
      "Fetching data for hero 1226351258392506375 (77/177), attempt 1Successfully fetched data for hero 1226351258392506375          \n"
     ]
    },
    {
     "name": "stderr",
     "output_type": "stream",
     "text": [
      "Fetching hero data:  44%|████▎     | 77/177 [01:29<01:55,  1.15s/it]"
     ]
    },
    {
     "name": "stdout",
     "output_type": "stream",
     "text": [
      "Fetching data for hero 79714172 (78/177), attempt 1Successfully fetched data for hero 79714172          \n"
     ]
    },
    {
     "name": "stderr",
     "output_type": "stream",
     "text": [
      "Fetching hero data:  44%|████▍     | 78/177 [01:31<01:54,  1.16s/it]"
     ]
    },
    {
     "name": "stdout",
     "output_type": "stream",
     "text": [
      "Fetching data for hero 1139174563802226688 (79/177), attempt 1Successfully fetched data for hero 1139174563802226688          \n"
     ]
    },
    {
     "name": "stderr",
     "output_type": "stream",
     "text": [
      "Fetching hero data:  45%|████▍     | 79/177 [01:32<01:54,  1.17s/it]"
     ]
    },
    {
     "name": "stdout",
     "output_type": "stream",
     "text": [
      "Fetching data for hero 1703332734603591680 (80/177), attempt 1Successfully fetched data for hero 1703332734603591680          \n"
     ]
    },
    {
     "name": "stderr",
     "output_type": "stream",
     "text": [
      "Fetching hero data:  45%|████▌     | 80/177 [01:33<01:54,  1.18s/it]"
     ]
    },
    {
     "name": "stdout",
     "output_type": "stream",
     "text": [
      "Fetching data for hero 3159122144 (81/177), attempt 1Successfully fetched data for hero 3159122144          \n"
     ]
    },
    {
     "name": "stderr",
     "output_type": "stream",
     "text": [
      "Fetching hero data:  46%|████▌     | 81/177 [01:34<01:52,  1.17s/it]"
     ]
    },
    {
     "name": "stdout",
     "output_type": "stream",
     "text": [
      "Fetching data for hero 1453982860663087107 (82/177), attempt 1Successfully fetched data for hero 1453982860663087107          \n"
     ]
    },
    {
     "name": "stderr",
     "output_type": "stream",
     "text": [
      "Fetching hero data:  46%|████▋     | 82/177 [01:35<01:51,  1.17s/it]"
     ]
    },
    {
     "name": "stdout",
     "output_type": "stream",
     "text": [
      "Fetching data for hero 1585936726370852865 (83/177), attempt 1Successfully fetched data for hero 1585936726370852865          \n"
     ]
    },
    {
     "name": "stderr",
     "output_type": "stream",
     "text": [
      "Fetching hero data:  47%|████▋     | 83/177 [01:36<01:48,  1.16s/it]"
     ]
    },
    {
     "name": "stdout",
     "output_type": "stream",
     "text": [
      "Fetching data for hero 1472789316292296707 (84/177), attempt 1Successfully fetched data for hero 1472789316292296707          \n"
     ]
    },
    {
     "name": "stderr",
     "output_type": "stream",
     "text": [
      "Fetching hero data:  47%|████▋     | 84/177 [01:38<01:48,  1.16s/it]"
     ]
    },
    {
     "name": "stdout",
     "output_type": "stream",
     "text": [
      "Fetching data for hero 807982663000674305 (85/177), attempt 1Successfully fetched data for hero 807982663000674305          \n"
     ]
    },
    {
     "name": "stderr",
     "output_type": "stream",
     "text": [
      "Fetching hero data:  48%|████▊     | 85/177 [01:39<01:46,  1.16s/it]"
     ]
    },
    {
     "name": "stdout",
     "output_type": "stream",
     "text": [
      "Fetching data for hero 1366934666201202689 (86/177), attempt 1Successfully fetched data for hero 1366934666201202689          \n"
     ]
    },
    {
     "name": "stderr",
     "output_type": "stream",
     "text": [
      "Fetching hero data:  49%|████▊     | 86/177 [01:40<01:46,  1.17s/it]"
     ]
    },
    {
     "name": "stdout",
     "output_type": "stream",
     "text": [
      "Fetching data for hero 618539620 (87/177), attempt 1Successfully fetched data for hero 618539620          \n"
     ]
    },
    {
     "name": "stderr",
     "output_type": "stream",
     "text": [
      "Fetching hero data:  49%|████▉     | 87/177 [01:41<01:45,  1.17s/it]"
     ]
    },
    {
     "name": "stdout",
     "output_type": "stream",
     "text": [
      "Fetching data for hero 35486890 (88/177), attempt 1Successfully fetched data for hero 35486890          \n"
     ]
    },
    {
     "name": "stderr",
     "output_type": "stream",
     "text": [
      "Fetching hero data:  50%|████▉     | 88/177 [01:42<01:43,  1.16s/it]"
     ]
    },
    {
     "name": "stdout",
     "output_type": "stream",
     "text": [
      "Fetching data for hero 1350996311777161219 (89/177), attempt 1Successfully fetched data for hero 1350996311777161219          \n"
     ]
    },
    {
     "name": "stderr",
     "output_type": "stream",
     "text": [
      "Fetching hero data:  50%|█████     | 89/177 [01:43<01:41,  1.15s/it]"
     ]
    },
    {
     "name": "stdout",
     "output_type": "stream",
     "text": [
      "Fetching data for hero 1351139954525696005 (90/177), attempt 1Successfully fetched data for hero 1351139954525696005          \n"
     ]
    },
    {
     "name": "stderr",
     "output_type": "stream",
     "text": [
      "Fetching hero data:  51%|█████     | 90/177 [01:45<01:40,  1.15s/it]"
     ]
    },
    {
     "name": "stdout",
     "output_type": "stream",
     "text": [
      "Fetching data for hero 1416421769561378817 (91/177), attempt 1Successfully fetched data for hero 1416421769561378817          \n"
     ]
    },
    {
     "name": "stderr",
     "output_type": "stream",
     "text": [
      "Fetching hero data:  51%|█████▏    | 91/177 [01:46<01:39,  1.15s/it]"
     ]
    },
    {
     "name": "stdout",
     "output_type": "stream",
     "text": [
      "Fetching data for hero 1475612593830178820 (92/177), attempt 1Successfully fetched data for hero 1475612593830178820          \n"
     ]
    },
    {
     "name": "stderr",
     "output_type": "stream",
     "text": [
      "Fetching hero data:  52%|█████▏    | 92/177 [01:47<01:37,  1.15s/it]"
     ]
    },
    {
     "name": "stdout",
     "output_type": "stream",
     "text": [
      "Fetching data for hero 980727292661059584 (93/177), attempt 1Successfully fetched data for hero 980727292661059584          \n"
     ]
    },
    {
     "name": "stderr",
     "output_type": "stream",
     "text": [
      "Fetching hero data:  53%|█████▎    | 93/177 [01:48<01:36,  1.15s/it]"
     ]
    },
    {
     "name": "stdout",
     "output_type": "stream",
     "text": [
      "Fetching data for hero 737132550 (94/177), attempt 1Successfully fetched data for hero 737132550          \n"
     ]
    },
    {
     "name": "stderr",
     "output_type": "stream",
     "text": [
      "Fetching hero data:  53%|█████▎    | 94/177 [01:49<01:35,  1.15s/it]"
     ]
    },
    {
     "name": "stdout",
     "output_type": "stream",
     "text": [
      "Fetching data for hero 1138993163706753029 (95/177), attempt 1Successfully fetched data for hero 1138993163706753029          \n"
     ]
    },
    {
     "name": "stderr",
     "output_type": "stream",
     "text": [
      "Fetching hero data:  54%|█████▎    | 95/177 [01:50<01:33,  1.15s/it]"
     ]
    },
    {
     "name": "stdout",
     "output_type": "stream",
     "text": [
      "Fetching data for hero 1396144613233238018 (96/177), attempt 1Successfully fetched data for hero 1396144613233238018          \n"
     ]
    },
    {
     "name": "stderr",
     "output_type": "stream",
     "text": [
      "Fetching hero data:  54%|█████▍    | 96/177 [01:52<01:37,  1.21s/it]"
     ]
    },
    {
     "name": "stdout",
     "output_type": "stream",
     "text": [
      "Fetching data for hero 1432686185810432010 (97/177), attempt 1Successfully fetched data for hero 1432686185810432010          \n"
     ]
    },
    {
     "name": "stderr",
     "output_type": "stream",
     "text": [
      "Fetching hero data:  55%|█████▍    | 97/177 [01:53<01:35,  1.20s/it]"
     ]
    },
    {
     "name": "stdout",
     "output_type": "stream",
     "text": [
      "Fetching data for hero 1453661470869360643 (98/177), attempt 1Successfully fetched data for hero 1453661470869360643          \n"
     ]
    },
    {
     "name": "stderr",
     "output_type": "stream",
     "text": [
      "Fetching hero data:  55%|█████▌    | 98/177 [01:54<01:33,  1.19s/it]"
     ]
    },
    {
     "name": "stdout",
     "output_type": "stream",
     "text": [
      "Fetching data for hero 953233327238021120 (99/177), attempt 1Successfully fetched data for hero 953233327238021120          \n"
     ]
    },
    {
     "name": "stderr",
     "output_type": "stream",
     "text": [
      "Fetching hero data:  56%|█████▌    | 99/177 [01:55<01:31,  1.17s/it]"
     ]
    },
    {
     "name": "stdout",
     "output_type": "stream",
     "text": [
      "Fetching data for hero 7184612 (100/177), attempt 1Successfully fetched data for hero 7184612          \n"
     ]
    },
    {
     "name": "stderr",
     "output_type": "stream",
     "text": [
      "Fetching hero data:  56%|█████▋    | 100/177 [01:56<01:30,  1.17s/it]"
     ]
    },
    {
     "name": "stdout",
     "output_type": "stream",
     "text": [
      "Fetching data for hero 1482640180855160832 (101/177), attempt 1Successfully fetched data for hero 1482640180855160832          \n"
     ]
    },
    {
     "name": "stderr",
     "output_type": "stream",
     "text": [
      "Fetching hero data:  57%|█████▋    | 101/177 [01:57<01:29,  1.17s/it]"
     ]
    },
    {
     "name": "stdout",
     "output_type": "stream",
     "text": [
      "Fetching data for hero 1526588836536586240 (102/177), attempt 1Successfully fetched data for hero 1526588836536586240          \n"
     ]
    },
    {
     "name": "stderr",
     "output_type": "stream",
     "text": [
      "Fetching hero data:  58%|█████▊    | 102/177 [01:59<01:27,  1.17s/it]"
     ]
    },
    {
     "name": "stdout",
     "output_type": "stream",
     "text": [
      "Fetching data for hero 970014782135844864 (103/177), attempt 1Successfully fetched data for hero 970014782135844864          \n"
     ]
    },
    {
     "name": "stderr",
     "output_type": "stream",
     "text": [
      "Fetching hero data:  58%|█████▊    | 103/177 [02:00<01:26,  1.17s/it]"
     ]
    },
    {
     "name": "stdout",
     "output_type": "stream",
     "text": [
      "Fetching data for hero 2202247850 (104/177), attempt 1Successfully fetched data for hero 2202247850          \n"
     ]
    },
    {
     "name": "stderr",
     "output_type": "stream",
     "text": [
      "Fetching hero data:  59%|█████▉    | 104/177 [02:01<01:25,  1.17s/it]"
     ]
    },
    {
     "name": "stdout",
     "output_type": "stream",
     "text": [
      "Fetching data for hero 1282418324228337665 (105/177), attempt 1Successfully fetched data for hero 1282418324228337665          \n"
     ]
    },
    {
     "name": "stderr",
     "output_type": "stream",
     "text": [
      "Fetching hero data:  59%|█████▉    | 105/177 [02:02<01:23,  1.16s/it]"
     ]
    },
    {
     "name": "stdout",
     "output_type": "stream",
     "text": [
      "Fetching data for hero 3369243892 (106/177), attempt 1Successfully fetched data for hero 3369243892          \n"
     ]
    },
    {
     "name": "stderr",
     "output_type": "stream",
     "text": [
      "Fetching hero data:  60%|█████▉    | 106/177 [02:03<01:21,  1.15s/it]"
     ]
    },
    {
     "name": "stdout",
     "output_type": "stream",
     "text": [
      "Fetching data for hero 3063147623 (107/177), attempt 1Successfully fetched data for hero 3063147623          \n"
     ]
    },
    {
     "name": "stderr",
     "output_type": "stream",
     "text": [
      "Fetching hero data:  60%|██████    | 107/177 [02:04<01:20,  1.15s/it]"
     ]
    },
    {
     "name": "stdout",
     "output_type": "stream",
     "text": [
      "Fetching data for hero 868760548674072576 (108/177), attempt 1Successfully fetched data for hero 868760548674072576          \n"
     ]
    },
    {
     "name": "stderr",
     "output_type": "stream",
     "text": [
      "Fetching hero data:  61%|██████    | 108/177 [02:06<01:20,  1.16s/it]"
     ]
    },
    {
     "name": "stdout",
     "output_type": "stream",
     "text": [
      "Fetching data for hero 2631709828 (109/177), attempt 1Successfully fetched data for hero 2631709828          \n"
     ]
    },
    {
     "name": "stderr",
     "output_type": "stream",
     "text": [
      "Fetching hero data:  62%|██████▏   | 109/177 [02:07<01:19,  1.16s/it]"
     ]
    },
    {
     "name": "stdout",
     "output_type": "stream",
     "text": [
      "Fetching data for hero 1366930865574584323 (110/177), attempt 1Successfully fetched data for hero 1366930865574584323          \n"
     ]
    },
    {
     "name": "stderr",
     "output_type": "stream",
     "text": [
      "Fetching hero data:  62%|██████▏   | 110/177 [02:08<01:17,  1.16s/it]"
     ]
    },
    {
     "name": "stdout",
     "output_type": "stream",
     "text": [
      "Fetching data for hero 1064421325186359296 (111/177), attempt 1Successfully fetched data for hero 1064421325186359296          \n"
     ]
    },
    {
     "name": "stderr",
     "output_type": "stream",
     "text": [
      "Fetching hero data:  63%|██████▎   | 111/177 [02:09<01:16,  1.16s/it]"
     ]
    },
    {
     "name": "stdout",
     "output_type": "stream",
     "text": [
      "Fetching data for hero 1449164448321605632 (112/177), attempt 1Successfully fetched data for hero 1449164448321605632          \n"
     ]
    },
    {
     "name": "stderr",
     "output_type": "stream",
     "text": [
      "Fetching hero data:  63%|██████▎   | 112/177 [02:10<01:14,  1.15s/it]"
     ]
    },
    {
     "name": "stdout",
     "output_type": "stream",
     "text": [
      "Fetching data for hero 1550232757011468289 (113/177), attempt 1Successfully fetched data for hero 1550232757011468289          \n"
     ]
    },
    {
     "name": "stderr",
     "output_type": "stream",
     "text": [
      "Fetching hero data:  64%|██████▍   | 113/177 [02:11<01:13,  1.15s/it]"
     ]
    },
    {
     "name": "stdout",
     "output_type": "stream",
     "text": [
      "Fetching data for hero 1462890860849160193 (114/177), attempt 1Successfully fetched data for hero 1462890860849160193          \n"
     ]
    },
    {
     "name": "stderr",
     "output_type": "stream",
     "text": [
      "Fetching hero data:  64%|██████▍   | 114/177 [02:12<01:12,  1.15s/it]"
     ]
    },
    {
     "name": "stdout",
     "output_type": "stream",
     "text": [
      "Fetching data for hero 1259298306397745152 (115/177), attempt 1Successfully fetched data for hero 1259298306397745152          \n"
     ]
    },
    {
     "name": "stderr",
     "output_type": "stream",
     "text": [
      "Fetching hero data:  65%|██████▍   | 115/177 [02:14<01:11,  1.15s/it]"
     ]
    },
    {
     "name": "stdout",
     "output_type": "stream",
     "text": [
      "Fetching data for hero 873190778910253056 (116/177), attempt 1Successfully fetched data for hero 873190778910253056          \n"
     ]
    },
    {
     "name": "stderr",
     "output_type": "stream",
     "text": [
      "Fetching hero data:  66%|██████▌   | 116/177 [02:15<01:10,  1.15s/it]"
     ]
    },
    {
     "name": "stdout",
     "output_type": "stream",
     "text": [
      "Fetching data for hero 1384748148942417921 (117/177), attempt 1Successfully fetched data for hero 1384748148942417921          \n"
     ]
    },
    {
     "name": "stderr",
     "output_type": "stream",
     "text": [
      "Fetching hero data:  66%|██████▌   | 117/177 [02:16<01:08,  1.15s/it]"
     ]
    },
    {
     "name": "stdout",
     "output_type": "stream",
     "text": [
      "Fetching data for hero 24809221 (118/177), attempt 1Successfully fetched data for hero 24809221          \n"
     ]
    },
    {
     "name": "stderr",
     "output_type": "stream",
     "text": [
      "Fetching hero data:  67%|██████▋   | 118/177 [02:17<01:07,  1.15s/it]"
     ]
    },
    {
     "name": "stdout",
     "output_type": "stream",
     "text": [
      "Fetching data for hero 720313843021385728 (119/177), attempt 1Successfully fetched data for hero 720313843021385728          \n"
     ]
    },
    {
     "name": "stderr",
     "output_type": "stream",
     "text": [
      "Fetching hero data:  67%|██████▋   | 119/177 [02:18<01:06,  1.14s/it]"
     ]
    },
    {
     "name": "stdout",
     "output_type": "stream",
     "text": [
      "Fetching data for hero 1240392170026270725 (120/177), attempt 1Successfully fetched data for hero 1240392170026270725          \n"
     ]
    },
    {
     "name": "stderr",
     "output_type": "stream",
     "text": [
      "Fetching hero data:  68%|██████▊   | 120/177 [02:19<01:06,  1.16s/it]"
     ]
    },
    {
     "name": "stdout",
     "output_type": "stream",
     "text": [
      "Fetching data for hero 1032379192388857861 (121/177), attempt 1Successfully fetched data for hero 1032379192388857861          \n"
     ]
    },
    {
     "name": "stderr",
     "output_type": "stream",
     "text": [
      "Fetching hero data:  68%|██████▊   | 121/177 [02:21<01:05,  1.18s/it]"
     ]
    },
    {
     "name": "stdout",
     "output_type": "stream",
     "text": [
      "Fetching data for hero 1354867416430501890 (122/177), attempt 1Successfully fetched data for hero 1354867416430501890          \n"
     ]
    },
    {
     "name": "stderr",
     "output_type": "stream",
     "text": [
      "Fetching hero data:  69%|██████▉   | 122/177 [02:22<01:04,  1.17s/it]"
     ]
    },
    {
     "name": "stdout",
     "output_type": "stream",
     "text": [
      "Fetching data for hero 2603525726 (123/177), attempt 1Successfully fetched data for hero 2603525726          \n"
     ]
    },
    {
     "name": "stderr",
     "output_type": "stream",
     "text": [
      "Fetching hero data:  69%|██████▉   | 123/177 [02:23<01:03,  1.17s/it]"
     ]
    },
    {
     "name": "stdout",
     "output_type": "stream",
     "text": [
      "Fetching data for hero 1588487175540195328 (124/177), attempt 1Successfully fetched data for hero 1588487175540195328          \n"
     ]
    },
    {
     "name": "stderr",
     "output_type": "stream",
     "text": [
      "Fetching hero data:  70%|███████   | 124/177 [02:24<01:01,  1.16s/it]"
     ]
    },
    {
     "name": "stdout",
     "output_type": "stream",
     "text": [
      "Fetching data for hero 1408762516969201671 (125/177), attempt 1Successfully fetched data for hero 1408762516969201671          \n"
     ]
    },
    {
     "name": "stderr",
     "output_type": "stream",
     "text": [
      "Fetching hero data:  71%|███████   | 125/177 [02:25<01:00,  1.16s/it]"
     ]
    },
    {
     "name": "stdout",
     "output_type": "stream",
     "text": [
      "Fetching data for hero 829482275318484993 (126/177), attempt 1Successfully fetched data for hero 829482275318484993          \n"
     ]
    },
    {
     "name": "stderr",
     "output_type": "stream",
     "text": [
      "Fetching hero data:  71%|███████   | 126/177 [02:26<00:59,  1.17s/it]"
     ]
    },
    {
     "name": "stdout",
     "output_type": "stream",
     "text": [
      "Fetching data for hero 174981490 (127/177), attempt 1Successfully fetched data for hero 174981490          \n"
     ]
    },
    {
     "name": "stderr",
     "output_type": "stream",
     "text": [
      "Fetching hero data:  72%|███████▏  | 127/177 [02:28<00:58,  1.16s/it]"
     ]
    },
    {
     "name": "stdout",
     "output_type": "stream",
     "text": [
      "Fetching data for hero 1450587414892847105 (128/177), attempt 1Successfully fetched data for hero 1450587414892847105          \n"
     ]
    },
    {
     "name": "stderr",
     "output_type": "stream",
     "text": [
      "Fetching hero data:  72%|███████▏  | 128/177 [02:29<00:57,  1.17s/it]"
     ]
    },
    {
     "name": "stdout",
     "output_type": "stream",
     "text": [
      "Fetching data for hero 1328905893820370947 (129/177), attempt 1Successfully fetched data for hero 1328905893820370947          \n"
     ]
    },
    {
     "name": "stderr",
     "output_type": "stream",
     "text": [
      "Fetching hero data:  73%|███████▎  | 129/177 [02:30<00:56,  1.18s/it]"
     ]
    },
    {
     "name": "stdout",
     "output_type": "stream",
     "text": [
      "Fetching data for hero 1336191614356742144 (130/177), attempt 1Successfully fetched data for hero 1336191614356742144          \n"
     ]
    },
    {
     "name": "stderr",
     "output_type": "stream",
     "text": [
      "Fetching hero data:  73%|███████▎  | 130/177 [02:31<00:55,  1.19s/it]"
     ]
    },
    {
     "name": "stdout",
     "output_type": "stream",
     "text": [
      "Fetching data for hero 819748581984833537 (131/177), attempt 1Successfully fetched data for hero 819748581984833537          \n"
     ]
    },
    {
     "name": "stderr",
     "output_type": "stream",
     "text": [
      "Fetching hero data:  74%|███████▍  | 131/177 [02:32<00:54,  1.18s/it]"
     ]
    },
    {
     "name": "stdout",
     "output_type": "stream",
     "text": [
      "Fetching data for hero 1357451976 (132/177), attempt 1Successfully fetched data for hero 1357451976          \n"
     ]
    },
    {
     "name": "stderr",
     "output_type": "stream",
     "text": [
      "Fetching hero data:  75%|███████▍  | 132/177 [02:33<00:52,  1.16s/it]"
     ]
    },
    {
     "name": "stdout",
     "output_type": "stream",
     "text": [
      "Fetching data for hero 972557412577284096 (133/177), attempt 1Successfully fetched data for hero 972557412577284096          \n"
     ]
    },
    {
     "name": "stderr",
     "output_type": "stream",
     "text": [
      "Fetching hero data:  75%|███████▌  | 133/177 [02:35<00:50,  1.15s/it]"
     ]
    },
    {
     "name": "stdout",
     "output_type": "stream",
     "text": [
      "Fetching data for hero 815322092627333121 (134/177), attempt 1Successfully fetched data for hero 815322092627333121          \n"
     ]
    },
    {
     "name": "stderr",
     "output_type": "stream",
     "text": [
      "Fetching hero data:  76%|███████▌  | 134/177 [02:36<00:50,  1.17s/it]"
     ]
    },
    {
     "name": "stdout",
     "output_type": "stream",
     "text": [
      "Fetching data for hero 1437463799347531782 (135/177), attempt 1Successfully fetched data for hero 1437463799347531782          \n"
     ]
    },
    {
     "name": "stderr",
     "output_type": "stream",
     "text": [
      "Fetching hero data:  76%|███████▋  | 135/177 [02:37<00:48,  1.16s/it]"
     ]
    },
    {
     "name": "stdout",
     "output_type": "stream",
     "text": [
      "Fetching data for hero 189184866 (136/177), attempt 1Successfully fetched data for hero 189184866          \n"
     ]
    },
    {
     "name": "stderr",
     "output_type": "stream",
     "text": [
      "Fetching hero data:  77%|███████▋  | 136/177 [02:38<00:47,  1.15s/it]"
     ]
    },
    {
     "name": "stdout",
     "output_type": "stream",
     "text": [
      "Fetching data for hero 1297920445979807744 (137/177), attempt 1Successfully fetched data for hero 1297920445979807744          \n"
     ]
    },
    {
     "name": "stderr",
     "output_type": "stream",
     "text": [
      "Fetching hero data:  77%|███████▋  | 137/177 [02:39<00:47,  1.18s/it]"
     ]
    },
    {
     "name": "stdout",
     "output_type": "stream",
     "text": [
      "Fetching data for hero 189518354 (138/177), attempt 1Successfully fetched data for hero 189518354          \n"
     ]
    },
    {
     "name": "stderr",
     "output_type": "stream",
     "text": [
      "Fetching hero data:  78%|███████▊  | 138/177 [02:40<00:45,  1.17s/it]"
     ]
    },
    {
     "name": "stdout",
     "output_type": "stream",
     "text": [
      "Fetching data for hero 1363005549382574080 (139/177), attempt 1Successfully fetched data for hero 1363005549382574080          \n"
     ]
    },
    {
     "name": "stderr",
     "output_type": "stream",
     "text": [
      "Fetching hero data:  79%|███████▊  | 139/177 [02:42<00:44,  1.16s/it]"
     ]
    },
    {
     "name": "stdout",
     "output_type": "stream",
     "text": [
      "Fetching data for hero 1451989485890248705 (140/177), attempt 1Successfully fetched data for hero 1451989485890248705          \n"
     ]
    },
    {
     "name": "stderr",
     "output_type": "stream",
     "text": [
      "Fetching hero data:  79%|███████▉  | 140/177 [02:43<00:42,  1.16s/it]"
     ]
    },
    {
     "name": "stdout",
     "output_type": "stream",
     "text": [
      "Fetching data for hero 1639862641 (141/177), attempt 1Successfully fetched data for hero 1639862641          \n"
     ]
    },
    {
     "name": "stderr",
     "output_type": "stream",
     "text": [
      "Fetching hero data:  80%|███████▉  | 141/177 [02:44<00:41,  1.15s/it]"
     ]
    },
    {
     "name": "stdout",
     "output_type": "stream",
     "text": [
      "Fetching data for hero 1170153611499720704 (142/177), attempt 1Successfully fetched data for hero 1170153611499720704          \n"
     ]
    },
    {
     "name": "stderr",
     "output_type": "stream",
     "text": [
      "Fetching hero data:  80%|████████  | 142/177 [02:45<00:41,  1.17s/it]"
     ]
    },
    {
     "name": "stdout",
     "output_type": "stream",
     "text": [
      "Fetching data for hero 1356386110847377408 (143/177), attempt 1Successfully fetched data for hero 1356386110847377408          \n"
     ]
    },
    {
     "name": "stderr",
     "output_type": "stream",
     "text": [
      "Fetching hero data:  81%|████████  | 143/177 [02:46<00:39,  1.16s/it]"
     ]
    },
    {
     "name": "stdout",
     "output_type": "stream",
     "text": [
      "Fetching data for hero 1300673386914304000 (144/177), attempt 1Successfully fetched data for hero 1300673386914304000          \n"
     ]
    },
    {
     "name": "stderr",
     "output_type": "stream",
     "text": [
      "Fetching hero data:  81%|████████▏ | 144/177 [02:47<00:38,  1.16s/it]"
     ]
    },
    {
     "name": "stdout",
     "output_type": "stream",
     "text": [
      "Fetching data for hero 1400381995558047749 (145/177), attempt 1Successfully fetched data for hero 1400381995558047749          \n"
     ]
    },
    {
     "name": "stderr",
     "output_type": "stream",
     "text": [
      "Fetching hero data:  82%|████████▏ | 145/177 [02:49<00:36,  1.16s/it]"
     ]
    },
    {
     "name": "stdout",
     "output_type": "stream",
     "text": [
      "Fetching data for hero 239090734 (146/177), attempt 1Successfully fetched data for hero 239090734          \n"
     ]
    },
    {
     "name": "stderr",
     "output_type": "stream",
     "text": [
      "Fetching hero data:  82%|████████▏ | 146/177 [02:50<00:35,  1.16s/it]"
     ]
    },
    {
     "name": "stdout",
     "output_type": "stream",
     "text": [
      "Fetching data for hero 1367393425331544070 (147/177), attempt 1Successfully fetched data for hero 1367393425331544070          \n"
     ]
    },
    {
     "name": "stderr",
     "output_type": "stream",
     "text": [
      "Fetching hero data:  83%|████████▎ | 147/177 [02:51<00:35,  1.17s/it]"
     ]
    },
    {
     "name": "stdout",
     "output_type": "stream",
     "text": [
      "Fetching data for hero 1471279207095406595 (148/177), attempt 1Successfully fetched data for hero 1471279207095406595          \n"
     ]
    },
    {
     "name": "stderr",
     "output_type": "stream",
     "text": [
      "Fetching hero data:  84%|████████▎ | 148/177 [02:52<00:33,  1.17s/it]"
     ]
    },
    {
     "name": "stdout",
     "output_type": "stream",
     "text": [
      "Fetching data for hero 1417876510413885444 (149/177), attempt 1Successfully fetched data for hero 1417876510413885444          \n"
     ]
    },
    {
     "name": "stderr",
     "output_type": "stream",
     "text": [
      "Fetching hero data:  84%|████████▍ | 149/177 [02:53<00:32,  1.17s/it]"
     ]
    },
    {
     "name": "stdout",
     "output_type": "stream",
     "text": [
      "Fetching data for hero 1357410364355395587 (150/177), attempt 1Successfully fetched data for hero 1357410364355395587          \n"
     ]
    },
    {
     "name": "stderr",
     "output_type": "stream",
     "text": [
      "Fetching hero data:  85%|████████▍ | 150/177 [02:54<00:31,  1.17s/it]"
     ]
    },
    {
     "name": "stdout",
     "output_type": "stream",
     "text": [
      "Fetching data for hero 949016786506100736 (151/177), attempt 1Successfully fetched data for hero 949016786506100736          \n"
     ]
    },
    {
     "name": "stderr",
     "output_type": "stream",
     "text": [
      "Fetching hero data:  85%|████████▌ | 151/177 [02:56<00:30,  1.17s/it]"
     ]
    },
    {
     "name": "stdout",
     "output_type": "stream",
     "text": [
      "Fetching data for hero 1311393885806100481 (152/177), attempt 1Successfully fetched data for hero 1311393885806100481          \n"
     ]
    },
    {
     "name": "stderr",
     "output_type": "stream",
     "text": [
      "Fetching hero data:  86%|████████▌ | 152/177 [02:57<00:29,  1.17s/it]"
     ]
    },
    {
     "name": "stdout",
     "output_type": "stream",
     "text": [
      "Fetching data for hero 1359201532810571779 (153/177), attempt 1Successfully fetched data for hero 1359201532810571779          \n"
     ]
    },
    {
     "name": "stderr",
     "output_type": "stream",
     "text": [
      "Fetching hero data:  86%|████████▋ | 153/177 [02:58<00:27,  1.16s/it]"
     ]
    },
    {
     "name": "stdout",
     "output_type": "stream",
     "text": [
      "Fetching data for hero 1299523632868110338 (154/177), attempt 1Successfully fetched data for hero 1299523632868110338          \n"
     ]
    },
    {
     "name": "stderr",
     "output_type": "stream",
     "text": [
      "Fetching hero data:  87%|████████▋ | 154/177 [02:59<00:26,  1.16s/it]"
     ]
    },
    {
     "name": "stdout",
     "output_type": "stream",
     "text": [
      "Fetching data for hero 408488225 (155/177), attempt 1Successfully fetched data for hero 408488225          \n"
     ]
    },
    {
     "name": "stderr",
     "output_type": "stream",
     "text": [
      "Fetching hero data:  88%|████████▊ | 155/177 [03:00<00:25,  1.16s/it]"
     ]
    },
    {
     "name": "stdout",
     "output_type": "stream",
     "text": [
      "Fetching data for hero 268629423 (156/177), attempt 1Successfully fetched data for hero 268629423          \n"
     ]
    },
    {
     "name": "stderr",
     "output_type": "stream",
     "text": [
      "Fetching hero data:  88%|████████▊ | 156/177 [03:01<00:24,  1.16s/it]"
     ]
    },
    {
     "name": "stdout",
     "output_type": "stream",
     "text": [
      "Fetching data for hero 1391919233907441670 (157/177), attempt 1Successfully fetched data for hero 1391919233907441670          \n"
     ]
    },
    {
     "name": "stderr",
     "output_type": "stream",
     "text": [
      "Fetching hero data:  89%|████████▊ | 157/177 [03:03<00:23,  1.16s/it]"
     ]
    },
    {
     "name": "stdout",
     "output_type": "stream",
     "text": [
      "Fetching data for hero 725472022910918656 (158/177), attempt 1Successfully fetched data for hero 725472022910918656          \n"
     ]
    },
    {
     "name": "stderr",
     "output_type": "stream",
     "text": [
      "Fetching hero data:  89%|████████▉ | 158/177 [03:04<00:21,  1.15s/it]"
     ]
    },
    {
     "name": "stdout",
     "output_type": "stream",
     "text": [
      "Fetching data for hero 1370479673818427403 (159/177), attempt 1Successfully fetched data for hero 1370479673818427403          \n"
     ]
    },
    {
     "name": "stderr",
     "output_type": "stream",
     "text": [
      "Fetching hero data:  90%|████████▉ | 159/177 [03:05<00:20,  1.16s/it]"
     ]
    },
    {
     "name": "stdout",
     "output_type": "stream",
     "text": [
      "Fetching data for hero 1423031747432783872 (160/177), attempt 1Successfully fetched data for hero 1423031747432783872          \n"
     ]
    },
    {
     "name": "stderr",
     "output_type": "stream",
     "text": [
      "Fetching hero data:  90%|█████████ | 160/177 [03:06<00:19,  1.15s/it]"
     ]
    },
    {
     "name": "stdout",
     "output_type": "stream",
     "text": [
      "Fetching data for hero 1350330558241529858 (161/177), attempt 1Successfully fetched data for hero 1350330558241529858          \n"
     ]
    },
    {
     "name": "stderr",
     "output_type": "stream",
     "text": [
      "Fetching hero data:  91%|█████████ | 161/177 [03:07<00:18,  1.16s/it]"
     ]
    },
    {
     "name": "stdout",
     "output_type": "stream",
     "text": [
      "Fetching data for hero 217534944 (162/177), attempt 1Successfully fetched data for hero 217534944          \n"
     ]
    },
    {
     "name": "stderr",
     "output_type": "stream",
     "text": [
      "Fetching hero data:  92%|█████████▏| 162/177 [03:08<00:17,  1.15s/it]"
     ]
    },
    {
     "name": "stdout",
     "output_type": "stream",
     "text": [
      "Fetching data for hero 810137474705952769 (163/177), attempt 1Successfully fetched data for hero 810137474705952769          \n"
     ]
    },
    {
     "name": "stderr",
     "output_type": "stream",
     "text": [
      "Fetching hero data:  92%|█████████▏| 163/177 [03:09<00:16,  1.15s/it]"
     ]
    },
    {
     "name": "stdout",
     "output_type": "stream",
     "text": [
      "Fetching data for hero 704580467341856769 (164/177), attempt 1Successfully fetched data for hero 704580467341856769          \n"
     ]
    },
    {
     "name": "stderr",
     "output_type": "stream",
     "text": [
      "Fetching hero data:  93%|█████████▎| 164/177 [03:11<00:14,  1.15s/it]"
     ]
    },
    {
     "name": "stdout",
     "output_type": "stream",
     "text": [
      "Fetching data for hero 14253911 (165/177), attempt 1Successfully fetched data for hero 14253911          \n"
     ]
    },
    {
     "name": "stderr",
     "output_type": "stream",
     "text": [
      "Fetching hero data:  93%|█████████▎| 165/177 [03:12<00:13,  1.15s/it]"
     ]
    },
    {
     "name": "stdout",
     "output_type": "stream",
     "text": [
      "Fetching data for hero 1259559092835815427 (166/177), attempt 1Successfully fetched data for hero 1259559092835815427          \n"
     ]
    },
    {
     "name": "stderr",
     "output_type": "stream",
     "text": [
      "Fetching hero data:  94%|█████████▍| 166/177 [03:13<00:12,  1.16s/it]"
     ]
    },
    {
     "name": "stdout",
     "output_type": "stream",
     "text": [
      "Fetching data for hero 2621412174 (167/177), attempt 1Successfully fetched data for hero 2621412174          \n"
     ]
    },
    {
     "name": "stderr",
     "output_type": "stream",
     "text": [
      "Fetching hero data:  94%|█████████▍| 167/177 [03:14<00:11,  1.15s/it]"
     ]
    },
    {
     "name": "stdout",
     "output_type": "stream",
     "text": [
      "Fetching data for hero 1372873723653591049 (168/177), attempt 1Successfully fetched data for hero 1372873723653591049          \n"
     ]
    },
    {
     "name": "stderr",
     "output_type": "stream",
     "text": [
      "Fetching hero data:  95%|█████████▍| 168/177 [03:15<00:10,  1.16s/it]"
     ]
    },
    {
     "name": "stdout",
     "output_type": "stream",
     "text": [
      "Fetching data for hero 1341662614313525248 (169/177), attempt 1Successfully fetched data for hero 1341662614313525248          \n"
     ]
    },
    {
     "name": "stderr",
     "output_type": "stream",
     "text": [
      "Fetching hero data:  95%|█████████▌| 169/177 [03:16<00:09,  1.16s/it]"
     ]
    },
    {
     "name": "stdout",
     "output_type": "stream",
     "text": [
      "Fetching data for hero 1341287326467538945 (170/177), attempt 1Successfully fetched data for hero 1341287326467538945          \n"
     ]
    },
    {
     "name": "stderr",
     "output_type": "stream",
     "text": [
      "Fetching hero data:  96%|█████████▌| 170/177 [03:18<00:08,  1.16s/it]"
     ]
    },
    {
     "name": "stdout",
     "output_type": "stream",
     "text": [
      "Fetching data for hero 889455645837201409 (171/177), attempt 1Successfully fetched data for hero 889455645837201409          \n"
     ]
    },
    {
     "name": "stderr",
     "output_type": "stream",
     "text": [
      "Fetching hero data:  97%|█████████▋| 171/177 [03:19<00:06,  1.15s/it]"
     ]
    },
    {
     "name": "stdout",
     "output_type": "stream",
     "text": [
      "Fetching data for hero 1835943590 (172/177), attempt 1Successfully fetched data for hero 1835943590          \n"
     ]
    },
    {
     "name": "stderr",
     "output_type": "stream",
     "text": [
      "Fetching hero data:  97%|█████████▋| 172/177 [03:20<00:05,  1.15s/it]"
     ]
    },
    {
     "name": "stdout",
     "output_type": "stream",
     "text": [
      "Fetching data for hero 956330918741987329 (173/177), attempt 1Successfully fetched data for hero 956330918741987329          \n"
     ]
    },
    {
     "name": "stderr",
     "output_type": "stream",
     "text": [
      "Fetching hero data:  98%|█████████▊| 173/177 [03:21<00:04,  1.15s/it]"
     ]
    },
    {
     "name": "stdout",
     "output_type": "stream",
     "text": [
      "Fetching data for hero 1478191823302672384 (174/177), attempt 1Successfully fetched data for hero 1478191823302672384          \n"
     ]
    },
    {
     "name": "stderr",
     "output_type": "stream",
     "text": [
      "Fetching hero data:  98%|█████████▊| 174/177 [03:22<00:03,  1.16s/it]"
     ]
    },
    {
     "name": "stdout",
     "output_type": "stream",
     "text": [
      "Fetching data for hero 1492434155405287424 (175/177), attempt 1Successfully fetched data for hero 1492434155405287424          \n"
     ]
    },
    {
     "name": "stderr",
     "output_type": "stream",
     "text": [
      "Fetching hero data:  99%|█████████▉| 175/177 [03:23<00:02,  1.17s/it]"
     ]
    },
    {
     "name": "stdout",
     "output_type": "stream",
     "text": [
      "Fetching data for hero 913556689110147072 (176/177), attempt 1Successfully fetched data for hero 913556689110147072          \n"
     ]
    },
    {
     "name": "stderr",
     "output_type": "stream",
     "text": [
      "Fetching hero data:  99%|█████████▉| 176/177 [03:25<00:01,  1.18s/it]"
     ]
    },
    {
     "name": "stdout",
     "output_type": "stream",
     "text": [
      "Fetching data for hero 1372325396461580292 (177/177), attempt 1Successfully fetched data for hero 1372325396461580292          \n"
     ]
    },
    {
     "name": "stderr",
     "output_type": "stream",
     "text": [
      "Fetching hero data: 100%|██████████| 177/177 [03:26<00:00,  1.16s/it]"
     ]
    },
    {
     "name": "stdout",
     "output_type": "stream",
     "text": [
      "get_hero_supply took 206.1953 seconds to execute\n",
      "DataFrame saved as data\\hero_card_supply_240815_2029.csv\n",
      "Calling get_bids\n",
      "Fetching data for hero 1356434353623093249 rarity 1, attempt 1\r"
     ]
    },
    {
     "name": "stderr",
     "output_type": "stream",
     "text": [
      "\n"
     ]
    },
    {
     "name": "stdout",
     "output_type": "stream",
     "text": [
      "Completed 1 out of 177 1356434353623093249 rarity 4, attempt 1\n",
      "Completed 2 out of 177 262018615 rarity 4, attempt 1\n",
      "Completed 3 out of 177 982070158125682688 rarity 4, attempt 1\n",
      "Failed to fetch data for hero 973261472 rarity 4 after 3 attempts: Too Many Requests for url: https://fantasy.top/api/bids/get-bid-orders?hero_id=973261472&rarity=4&include_orderbook=true&include_personal_bids=true, attempt 3\n",
      "Completed 4 out of 177\n",
      "Completed 5 out of 177 1441835930889818113 rarity 4, attempt 1\n",
      "Completed 6 out of 177 906234475604037637 rarity 4, attempt 1\n",
      "Completed 7 out of 177 588569122 rarity 4, attempt 1\n",
      "Failed to fetch data for hero 965651 rarity 4 after 3 attempts: Too Many Requests for url: https://fantasy.top/api/bids/get-bid-orders?hero_id=965651&rarity=4&include_orderbook=true&include_personal_bids=true, attempt 3\n",
      "Completed 8 out of 177\n",
      "Completed 9 out of 177 279828819 rarity 4, attempt 1\n",
      "Completed 10 out of 1771466010689726783491 rarity 4, attempt 1\n",
      "Completed 11 out of 1771446541960181858315 rarity 4, attempt 1\n",
      "Failed to fetch data for hero 4705209135 rarity 4 after 3 attempts: Too Many Requests for url: https://fantasy.top/api/bids/get-bid-orders?hero_id=4705209135&rarity=4&include_orderbook=true&include_personal_bids=true, attempt 3\n",
      "Completed 12 out of 177\n",
      "Completed 13 out of 1772193616844 rarity 4, attempt 1\n",
      "Completed 14 out of 1771309886201944473600 rarity 4, attempt 1\n",
      "Completed 15 out of 1771175781003245191178 rarity 4, attempt 1\n",
      "Failed to fetch data for hero 864011281 rarity 4 after 3 attempts: Too Many Requests for url: https://fantasy.top/api/bids/get-bid-orders?hero_id=864011281&rarity=4&include_orderbook=true&include_personal_bids=true, attempt 3\n",
      "Completed 16 out of 177\n",
      "Completed 17 out of 1771518981537307496448 rarity 4, attempt 1\n",
      "Completed 18 out of 1771426732252768182281 rarity 4, attempt 1\n",
      "Completed 19 out of 1771449941836034822144 rarity 4, attempt 1\n",
      "Failed to fetch data for hero 1469851247133945856 rarity 4 after 3 attempts: Too Many Requests for url: https://fantasy.top/api/bids/get-bid-orders?hero_id=1469851247133945856&rarity=4&include_orderbook=true&include_personal_bids=true, attempt 3\n",
      "Completed 20 out of 177\n",
      "Completed 21 out of 1771769641180898131968 rarity 4, attempt 1\n",
      "Completed 22 out of 1771432635656161746947 rarity 4, attempt 1\n",
      "Completed 23 out of 177834123445856145408 rarity 4, attempt 1\n",
      "Failed to fetch data for hero 1398319504975970310 rarity 4 after 3 attempts: Too Many Requests for url: https://fantasy.top/api/bids/get-bid-orders?hero_id=1398319504975970310&rarity=4&include_orderbook=true&include_personal_bids=true, attempt 3\n",
      "Completed 24 out of 177\n",
      "Completed 25 out of 1772593497397 rarity 4, attempt 1\n",
      "Completed 26 out of 1771456142714756468738 rarity 4, attempt 1\n",
      "Completed 27 out of 1771223801725674565632 rarity 4, attempt 1\n",
      "Failed to fetch data for hero 1755899659040555009 rarity 4 after 3 attempts: Too Many Requests for url: https://fantasy.top/api/bids/get-bid-orders?hero_id=1755899659040555009&rarity=4&include_orderbook=true&include_personal_bids=true, attempt 3\n",
      "Completed 28 out of 177\n",
      "Completed 29 out of 177954015928924057601 rarity 4, attempt 1\n",
      "Completed 30 out of 177423164349 rarity 4, attempt 1\n",
      "Completed 31 out of 1771635676907529285642 rarity 4, attempt 1\n",
      "Failed to fetch data for hero 1470958472409792515 rarity 4 after 3 attempts: Too Many Requests for url: https://fantasy.top/api/bids/get-bid-orders?hero_id=1470958472409792515&rarity=4&include_orderbook=true&include_personal_bids=true, attempt 3\n",
      "Completed 32 out of 177\n",
      "Completed 33 out of 1771354947293921701892 rarity 4, attempt 1\n",
      "Completed 34 out of 1771327336243026223104 rarity 4, attempt 1\n",
      "Completed 35 out of 17722758405 rarity 4, attempt 1\n",
      "Failed to fetch data for hero 877728873340956672 rarity 4 after 3 attempts: Too Many Requests for url: https://fantasy.top/api/bids/get-bid-orders?hero_id=877728873340956672&rarity=4&include_orderbook=true&include_personal_bids=true, attempt 3\n",
      "Completed 36 out of 177\n",
      "Completed 37 out of 1771240784920831762433 rarity 4, attempt 1\n",
      "Completed 38 out of 1772361601055 rarity 4, attempt 1\n",
      "Completed 39 out of 177239518063 rarity 4, attempt 1\n",
      "Failed to fetch data for hero 1473993924083654658 rarity 4 after 3 attempts: Too Many Requests for url: https://fantasy.top/api/bids/get-bid-orders?hero_id=1473993924083654658&rarity=4&include_orderbook=true&include_personal_bids=true, attempt 3\n",
      "Completed 40 out of 177\n",
      "Completed 41 out of 1771249193324461916161 rarity 4, attempt 1\n",
      "Completed 42 out of 1774830383913 rarity 4, attempt 1\n",
      "Completed 43 out of 1771051852534518824960 rarity 4, attempt 1\n",
      "Failed to fetch data for hero 1093242943127932930 rarity 4 after 3 attempts: Too Many Requests for url: https://fantasy.top/api/bids/get-bid-orders?hero_id=1093242943127932930&rarity=4&include_orderbook=true&include_personal_bids=true, attempt 3\n",
      "Completed 44 out of 177\n",
      "Completed 45 out of 1771310378599984148480 rarity 4, attempt 1\n",
      "Completed 46 out of 1771404603419101306881 rarity 4, attempt 1\n",
      "Completed 47 out of 177467535591 rarity 4, attempt 1\n",
      "Failed to fetch data for hero 1424170843249250304 rarity 4 after 3 attempts: Too Many Requests for url: https://fantasy.top/api/bids/get-bid-orders?hero_id=1424170843249250304&rarity=4&include_orderbook=true&include_personal_bids=true, attempt 3\n",
      "Completed 48 out of 177\n",
      "Completed 49 out of 1771073132650309726208 rarity 4, attempt 1\n",
      "Completed 50 out of 177624791024 rarity 4, attempt 1\n",
      "Completed 51 out of 1771346599984528023554 rarity 4, attempt 1\n",
      "Failed to fetch data for hero 942999039192186882 rarity 4 after 3 attempts: Too Many Requests for url: https://fantasy.top/api/bids/get-bid-orders?hero_id=942999039192186882&rarity=4&include_orderbook=true&include_personal_bids=true, attempt 3\n",
      "Completed 52 out of 177\n",
      "Completed 53 out of 1771455759696967651333 rarity 4, attempt 1\n",
      "Completed 54 out of 177837985489 rarity 4, attempt 1\n",
      "Completed 55 out of 177712457848874086400 rarity 4, attempt 1\n",
      "Failed to fetch data for hero 831767219071754240 rarity 4 after 3 attempts: Too Many Requests for url: https://fantasy.top/api/bids/get-bid-orders?hero_id=831767219071754240&rarity=4&include_orderbook=true&include_personal_bids=true, attempt 3\n",
      "Completed 56 out of 177\n",
      "Completed 57 out of 177948736680554409984 rarity 4, attempt 1\n",
      "Completed 58 out of 1771180256836416614401 rarity 4, attempt 1\n",
      "Completed 59 out of 177162573283 rarity 4, attempt 1\n",
      "Failed to fetch data for hero 1343542764080930816 rarity 4 after 3 attempts: Too Many Requests for url: https://fantasy.top/api/bids/get-bid-orders?hero_id=1343542764080930816&rarity=4&include_orderbook=true&include_personal_bids=true, attempt 3\n",
      "Completed 60 out of 177\n",
      "Completed 61 out of 177948974801737134080 rarity 4, attempt 1\n",
      "Completed 62 out of 1771509030724103409665 rarity 4, attempt 1\n",
      "Completed 63 out of 17757584739 rarity 4, attempt 1\n",
      "Failed to fetch data for hero 1323747353308835840 rarity 4 after 3 attempts: Too Many Requests for url: https://fantasy.top/api/bids/get-bid-orders?hero_id=1323747353308835840&rarity=4&include_orderbook=true&include_personal_bids=true, attempt 3\n",
      "Completed 64 out of 177\n",
      "Completed 65 out of 177116328126 rarity 4, attempt 1\n",
      "Completed 66 out of 17740134343 rarity 4, attempt 1\n",
      "Completed 67 out of 1771479247421330837508 rarity 4, attempt 1\n",
      "Failed to fetch data for hero 957303442250260480 rarity 4 after 3 attempts: Too Many Requests for url: https://fantasy.top/api/bids/get-bid-orders?hero_id=957303442250260480&rarity=4&include_orderbook=true&include_personal_bids=true, attempt 3\n",
      "Completed 68 out of 177\n",
      "Completed 69 out of 177127646057 rarity 4, attempt 1\n",
      "Completed 70 out of 177886765719391789057 rarity 4, attempt 1\n",
      "Completed 71 out of 1771423097842034528257 rarity 4, attempt 1\n",
      "Failed to fetch data for hero 953465278561734656 rarity 4 after 3 attempts: Too Many Requests for url: https://fantasy.top/api/bids/get-bid-orders?hero_id=953465278561734656&rarity=4&include_orderbook=true&include_personal_bids=true, attempt 3\n",
      "Completed 72 out of 177\n",
      "Completed 73 out of 177938606626017370112 rarity 4, attempt 1\n",
      "Completed 74 out of 1771354120919460040711 rarity 4, attempt 1\n",
      "Completed 75 out of 1771107518478 rarity 4, attempt 1\n",
      "Failed to fetch data for hero 1496567813737091075 rarity 4 after 3 attempts: Too Many Requests for url: https://fantasy.top/api/bids/get-bid-orders?hero_id=1496567813737091075&rarity=4&include_orderbook=true&include_personal_bids=true, attempt 3\n",
      "Completed 76 out of 177\n",
      "Completed 77 out of 1771226351258392506375 rarity 4, attempt 1 Server Error:  for url: https://fantasy.top/api/bids/get-bid-orders?hero_id=1226351258392506375&rarity=1&include_orderbook=true&include_personal_bids=true, attempt 1\n",
      "Completed 78 out of 17779714172 rarity 4, attempt 1\n",
      "Completed 79 out of 1771139174563802226688 rarity 4, attempt 1\n",
      "Failed to fetch data for hero 1703332734603591680 rarity 4 after 3 attempts: Too Many Requests for url: https://fantasy.top/api/bids/get-bid-orders?hero_id=1703332734603591680&rarity=4&include_orderbook=true&include_personal_bids=true, attempt 3\n",
      "Completed 80 out of 177\n",
      "Completed 81 out of 1773159122144 rarity 4, attempt 1\n",
      "Completed 82 out of 1771453982860663087107 rarity 4, attempt 1\n",
      "Completed 83 out of 1771585936726370852865 rarity 4, attempt 1\n",
      "Failed to fetch data for hero 1472789316292296707 rarity 4 after 3 attempts: Too Many Requests for url: https://fantasy.top/api/bids/get-bid-orders?hero_id=1472789316292296707&rarity=4&include_orderbook=true&include_personal_bids=true, attempt 3\n",
      "Completed 84 out of 177\n",
      "Completed 85 out of 177807982663000674305 rarity 4, attempt 1\n",
      "Completed 86 out of 1771366934666201202689 rarity 4, attempt 1\n",
      "Completed 87 out of 177618539620 rarity 4, attempt 1\n",
      "Failed to fetch data for hero 35486890 rarity 4 after 3 attempts: Too Many Requests for url: https://fantasy.top/api/bids/get-bid-orders?hero_id=35486890&rarity=4&include_orderbook=true&include_personal_bids=true, attempt 3\n",
      "Completed 88 out of 177\n",
      "Completed 89 out of 1771350996311777161219 rarity 4, attempt 1\n",
      "Completed 90 out of 1771351139954525696005 rarity 4, attempt 1\n",
      "Completed 91 out of 1771416421769561378817 rarity 4, attempt 1\n",
      "Failed to fetch data for hero 1475612593830178820 rarity 4 after 3 attempts: Too Many Requests for url: https://fantasy.top/api/bids/get-bid-orders?hero_id=1475612593830178820&rarity=4&include_orderbook=true&include_personal_bids=true, attempt 3\n",
      "Completed 92 out of 177\n",
      "Completed 93 out of 177980727292661059584 rarity 4, attempt 1\n",
      "Completed 94 out of 177737132550 rarity 4, attempt 1\n",
      "Completed 95 out of 1771138993163706753029 rarity 4, attempt 1\n",
      "Failed to fetch data for hero 1396144613233238018 rarity 4 after 3 attempts: Too Many Requests for url: https://fantasy.top/api/bids/get-bid-orders?hero_id=1396144613233238018&rarity=4&include_orderbook=true&include_personal_bids=true, attempt 3\n",
      "Completed 96 out of 177\n",
      "Completed 97 out of 1771432686185810432010 rarity 4, attempt 1\n",
      "Completed 98 out of 1771453661470869360643 rarity 4, attempt 1\n",
      "Completed 99 out of 177953233327238021120 rarity 4, attempt 1\n",
      "Failed to fetch data for hero 7184612 rarity 4 after 3 attempts: Too Many Requests for url: https://fantasy.top/api/bids/get-bid-orders?hero_id=7184612&rarity=4&include_orderbook=true&include_personal_bids=true, attempt 3\n",
      "Completed 100 out of 177\n",
      "Completed 101 out of 177482640180855160832 rarity 4, attempt 1\n",
      "Completed 102 out of 177526588836536586240 rarity 4, attempt 1\n",
      "Completed 103 out of 17770014782135844864 rarity 4, attempt 1\n",
      "Failed to fetch data for hero 2202247850 rarity 4 after 3 attempts: Too Many Requests for url: https://fantasy.top/api/bids/get-bid-orders?hero_id=2202247850&rarity=4&include_orderbook=true&include_personal_bids=true, attempt 3\n",
      "Completed 104 out of 177\n",
      "Completed 105 out of 177282418324228337665 rarity 4, attempt 1\n",
      "Completed 106 out of 177369243892 rarity 4, attempt 1\n",
      "Completed 107 out of 177063147623 rarity 4, attempt 1\n",
      "Failed to fetch data for hero 868760548674072576 rarity 4 after 3 attempts: Too Many Requests for url: https://fantasy.top/api/bids/get-bid-orders?hero_id=868760548674072576&rarity=4&include_orderbook=true&include_personal_bids=true, attempt 3\n",
      "Completed 108 out of 177\n",
      "Completed 109 out of 177631709828 rarity 4, attempt 1\n",
      "Completed 110 out of 177366930865574584323 rarity 4, attempt 1\n",
      "Completed 111 out of 177064421325186359296 rarity 4, attempt 1\n",
      "Failed to fetch data for hero 1449164448321605632 rarity 4 after 3 attempts: Too Many Requests for url: https://fantasy.top/api/bids/get-bid-orders?hero_id=1449164448321605632&rarity=4&include_orderbook=true&include_personal_bids=true, attempt 3\n",
      "Completed 112 out of 177\n",
      "Completed 113 out of 177550232757011468289 rarity 4, attempt 1\n",
      "Completed 114 out of 177462890860849160193 rarity 4, attempt 1\n",
      "Completed 115 out of 177259298306397745152 rarity 4, attempt 1\n",
      "Failed to fetch data for hero 873190778910253056 rarity 4 after 3 attempts: Too Many Requests for url: https://fantasy.top/api/bids/get-bid-orders?hero_id=873190778910253056&rarity=4&include_orderbook=true&include_personal_bids=true, attempt 3\n",
      "Completed 116 out of 177\n",
      "Completed 117 out of 177384748148942417921 rarity 4, attempt 1\n",
      "Completed 118 out of 1774809221 rarity 4, attempt 1\n",
      "Completed 119 out of 17720313843021385728 rarity 4, attempt 1\n",
      "Failed to fetch data for hero 1240392170026270725 rarity 4 after 3 attempts: Too Many Requests for url: https://fantasy.top/api/bids/get-bid-orders?hero_id=1240392170026270725&rarity=4&include_orderbook=true&include_personal_bids=true, attempt 3\n",
      "Completed 120 out of 177\n",
      "Completed 121 out of 177032379192388857861 rarity 4, attempt 1\n",
      "Completed 122 out of 177354867416430501890 rarity 4, attempt 1\n",
      "Completed 123 out of 177603525726 rarity 4, attempt 1\n",
      "Failed to fetch data for hero 1588487175540195328 rarity 4 after 3 attempts: Too Many Requests for url: https://fantasy.top/api/bids/get-bid-orders?hero_id=1588487175540195328&rarity=4&include_orderbook=true&include_personal_bids=true, attempt 3\n",
      "Completed 124 out of 177\n",
      "Completed 125 out of 177408762516969201671 rarity 4, attempt 1\n",
      "Completed 126 out of 17729482275318484993 rarity 4, attempt 1\n",
      "Completed 127 out of 17774981490 rarity 4, attempt 1\n",
      "Failed to fetch data for hero 1450587414892847105 rarity 4 after 3 attempts: Too Many Requests for url: https://fantasy.top/api/bids/get-bid-orders?hero_id=1450587414892847105&rarity=4&include_orderbook=true&include_personal_bids=true, attempt 3\n",
      "Completed 128 out of 177\n",
      "Completed 129 out of 177328905893820370947 rarity 4, attempt 1\n",
      "Completed 130 out of 177336191614356742144 rarity 4, attempt 1\n",
      "Completed 131 out of 17719748581984833537 rarity 4, attempt 1\n",
      "Failed to fetch data for hero 1357451976 rarity 4 after 3 attempts: Too Many Requests for url: https://fantasy.top/api/bids/get-bid-orders?hero_id=1357451976&rarity=4&include_orderbook=true&include_personal_bids=true, attempt 3\n",
      "Completed 132 out of 177\n",
      "Completed 133 out of 17772557412577284096 rarity 4, attempt 1\n",
      "Completed 134 out of 17715322092627333121 rarity 4, attempt 1\n",
      "Completed 135 out of 177437463799347531782 rarity 4, attempt 1\n",
      "Failed to fetch data for hero 189184866 rarity 4 after 3 attempts: Too Many Requests for url: https://fantasy.top/api/bids/get-bid-orders?hero_id=189184866&rarity=4&include_orderbook=true&include_personal_bids=true, attempt 3\n",
      "Completed 136 out of 177\n",
      "Completed 137 out of 177297920445979807744 rarity 4, attempt 1\n",
      "Completed 138 out of 17789518354 rarity 4, attempt 1\n",
      "Completed 139 out of 177363005549382574080 rarity 4, attempt 1\n",
      "Failed to fetch data for hero 1451989485890248705 rarity 4 after 3 attempts: Too Many Requests for url: https://fantasy.top/api/bids/get-bid-orders?hero_id=1451989485890248705&rarity=4&include_orderbook=true&include_personal_bids=true, attempt 3\n",
      "Completed 140 out of 177\n",
      "Completed 141 out of 177639862641 rarity 4, attempt 1\n",
      "Completed 142 out of 177170153611499720704 rarity 4, attempt 1\n",
      "Completed 143 out of 177356386110847377408 rarity 4, attempt 1\n",
      "Failed to fetch data for hero 1300673386914304000 rarity 4 after 3 attempts: Too Many Requests for url: https://fantasy.top/api/bids/get-bid-orders?hero_id=1300673386914304000&rarity=4&include_orderbook=true&include_personal_bids=true, attempt 3\n",
      "Completed 144 out of 177\n",
      "Completed 145 out of 177400381995558047749 rarity 4, attempt 1\n",
      "Completed 146 out of 17739090734 rarity 4, attempt 1\n",
      "Completed 147 out of 177367393425331544070 rarity 4, attempt 1\n",
      "Failed to fetch data for hero 1471279207095406595 rarity 4 after 3 attempts: Too Many Requests for url: https://fantasy.top/api/bids/get-bid-orders?hero_id=1471279207095406595&rarity=4&include_orderbook=true&include_personal_bids=true, attempt 3\n",
      "Completed 148 out of 177\n",
      "Completed 149 out of 177417876510413885444 rarity 4, attempt 1\n",
      "Completed 150 out of 177357410364355395587 rarity 4, attempt 1\n",
      "Completed 151 out of 17749016786506100736 rarity 4, attempt 1\n",
      "Failed to fetch data for hero 1311393885806100481 rarity 4 after 3 attempts: Too Many Requests for url: https://fantasy.top/api/bids/get-bid-orders?hero_id=1311393885806100481&rarity=4&include_orderbook=true&include_personal_bids=true, attempt 3\n",
      "Completed 152 out of 177\n",
      "Completed 153 out of 177359201532810571779 rarity 4, attempt 1\n",
      "Completed 154 out of 177299523632868110338 rarity 4, attempt 1\n",
      "Completed 155 out of 17708488225 rarity 4, attempt 1\n",
      "Failed to fetch data for hero 268629423 rarity 4 after 3 attempts: Too Many Requests for url: https://fantasy.top/api/bids/get-bid-orders?hero_id=268629423&rarity=4&include_orderbook=true&include_personal_bids=true, attempt 3\n",
      "Completed 156 out of 177\n",
      "Completed 157 out of 177391919233907441670 rarity 4, attempt 1\n",
      "Completed 158 out of 17725472022910918656 rarity 4, attempt 1\n",
      "Completed 159 out of 177370479673818427403 rarity 4, attempt 1\n",
      "Failed to fetch data for hero 1423031747432783872 rarity 4 after 3 attempts: Too Many Requests for url: https://fantasy.top/api/bids/get-bid-orders?hero_id=1423031747432783872&rarity=4&include_orderbook=true&include_personal_bids=true, attempt 3\n",
      "Completed 160 out of 177\n",
      "Completed 161 out of 177350330558241529858 rarity 4, attempt 1\n",
      "Completed 162 out of 17717534944 rarity 4, attempt 1\n",
      "Completed 163 out of 17710137474705952769 rarity 4, attempt 1\n",
      "Failed to fetch data for hero 704580467341856769 rarity 4 after 3 attempts: Too Many Requests for url: https://fantasy.top/api/bids/get-bid-orders?hero_id=704580467341856769&rarity=4&include_orderbook=true&include_personal_bids=true, attempt 3\n",
      "Completed 164 out of 177\n",
      "Completed 165 out of 1774253911 rarity 4, attempt 1\n",
      "Completed 166 out of 177259559092835815427 rarity 4, attempt 1\n",
      "Completed 167 out of 177621412174 rarity 4, attempt 1\n",
      "Failed to fetch data for hero 1372873723653591049 rarity 4 after 3 attempts: Too Many Requests for url: https://fantasy.top/api/bids/get-bid-orders?hero_id=1372873723653591049&rarity=4&include_orderbook=true&include_personal_bids=true, attempt 3\n",
      "Completed 168 out of 177\n",
      "Completed 169 out of 177341662614313525248 rarity 4, attempt 1\n",
      "Completed 170 out of 177341287326467538945 rarity 4, attempt 1\n",
      "Completed 171 out of 17789455645837201409 rarity 4, attempt 1\n",
      "Failed to fetch data for hero 1835943590 rarity 4 after 3 attempts: Too Many Requests for url: https://fantasy.top/api/bids/get-bid-orders?hero_id=1835943590&rarity=4&include_orderbook=true&include_personal_bids=true, attempt 3\n",
      "Completed 172 out of 177\n",
      "Completed 173 out of 17756330918741987329 rarity 4, attempt 1\n",
      "Completed 174 out of 177478191823302672384 rarity 4, attempt 1\n",
      "Completed 175 out of 177492434155405287424 rarity 4, attempt 1\n",
      "Failed to fetch data for hero 913556689110147072 rarity 4 after 3 attempts: Too Many Requests for url: https://fantasy.top/api/bids/get-bid-orders?hero_id=913556689110147072&rarity=4&include_orderbook=true&include_personal_bids=true, attempt 3\n",
      "Completed 176 out of 177\n",
      "Completed 177 out of 177372325396461580292 rarity 4, attempt 1\n",
      "get_bids took 3618.9564 seconds to execute\n",
      "DataFrame saved as data\\bids_240815_2129.csv\n"
     ]
    }
   ],
   "source": [
    "\n",
    "hero_stats_df = pd.read_csv(get_latest_hero_stats_file(DATA_FOLDER))\n",
    "\n",
    "save_df_as_csv(print_runtime(get_hero_stats, token), 'hero_stats')\n",
    "save_df_as_csv(print_runtime(download_portfolio, token), 'portfolio')\n",
    "save_df_as_csv(print_runtime(download_basic_hero_stats, token), 'basic_hero_stats')\n",
    "save_df_as_csv(print_runtime(download_listings, driver), 'listings')\n",
    "save_df_as_csv(print_runtime(get_last_trades, token), 'last_trades')\n",
    "save_df_as_csv(print_runtime(get_hero_supply, hero_stats_df, token), 'hero_card_supply')\n",
    "save_df_as_csv(print_runtime(get_bids, hero_stats_df, token, cookies), 'bids')\n"
   ]
  },
  {
   "cell_type": "markdown",
   "id": "5f05c09b-9ed5-4780-bd0c-c4938435b0db",
   "metadata": {},
   "source": [
    "## Imports"
   ]
  },
  {
   "cell_type": "code",
   "execution_count": 2,
   "id": "3e80f391-3b23-41f5-94c9-6ab787045df2",
   "metadata": {},
   "outputs": [],
   "source": [
    "#####\n",
    "# At the moment this loads of fantasy and helps get a list of heroes\n",
    "# If the tutorials pops up need to manually skip it\n",
    "# Can probably be avoided if use cookies\n",
    "#\n",
    "\n",
    "import os\n",
    "import re\n",
    "import csv\n",
    "import sys\n",
    "import json\n",
    "import time\n",
    "import random\n",
    "import inspect # for saving dataframes using the name\n",
    "import pickle # Cookie Manager\n",
    "from tqdm import tqdm # status bar\n",
    "from bs4 import BeautifulSoup\n",
    "import pandas as pd\n",
    "from datetime import datetime, timedelta\n",
    "from selenium import webdriver\n",
    "from selenium.webdriver.common.by import By\n",
    "from selenium.webdriver.common.keys import Keys\n",
    "from selenium.webdriver.common.action_chains import ActionChains\n",
    "from webdriver_manager.chrome import ChromeDriverManager\n",
    "from selenium.webdriver.chrome.service import Service as ChromeService\n",
    "from selenium.webdriver.chrome.options import Options as ChromeOptions\n",
    "from selenium.webdriver.support.ui import WebDriverWait\n",
    "from selenium.webdriver.support import expected_conditions as EC\n",
    "from selenium.common.exceptions import TimeoutException, NoSuchElementException, ElementClickInterceptedException\n",
    "from fake_useragent import UserAgent\n",
    "import pyautogui\n",
    "\n"
   ]
  },
  {
   "cell_type": "markdown",
   "id": "800dd364-c87a-4fbe-9dcc-0874fe47fdfd",
   "metadata": {},
   "source": [
    "## Cookies"
   ]
  },
  {
   "cell_type": "code",
   "execution_count": 3,
   "id": "59d34efa-2650-4bc4-b56e-3782497c5483",
   "metadata": {},
   "outputs": [],
   "source": [
    "def save_cookies(driver, filepath='cookies.pkl'):\n",
    "    with open(filepath, 'wb') as file:\n",
    "        pickle.dump(driver.get_cookies(), file)\n",
    "\n",
    "def load_cookies(driver, filepath='cookies.pkl'):\n",
    "    try:\n",
    "        with open(filepath, 'rb') as file:\n",
    "            cookies = pickle.load(file)\n",
    "            for cookie in cookies:\n",
    "                driver.add_cookie(cookie)\n",
    "    except FileNotFoundError:\n",
    "        print(\"Cookies file not found. Proceeding without loading cookies.\")\n"
   ]
  },
  {
   "cell_type": "markdown",
   "id": "10c5a32a-ab17-4daf-ac7c-975c426dbaf0",
   "metadata": {},
   "source": [
    "## Login in to Fantasy Top"
   ]
  },
  {
   "cell_type": "code",
   "execution_count": 4,
   "id": "93e0d271-f3d4-4233-b998-204f6d3cccfc",
   "metadata": {},
   "outputs": [
    {
     "name": "stdout",
     "output_type": "stream",
     "text": [
      "Reinstalled ChromeDriver at: C:\\Users\\beuzi\\.wdm\\drivers\\chromedriver\\win64\\127.0.6533.119\\chromedriver-win32/THIRD_PARTY_NOTICES.chromedriver\n"
     ]
    }
   ],
   "source": [
    "from webdriver_manager.chrome import ChromeDriverManager\n",
    "import os\n",
    "\n",
    "# Find the path where ChromeDriverManager installs ChromeDriver\n",
    "driver_path = ChromeDriverManager().install()\n",
    "\n",
    "# Manually delete the installed ChromeDriver\n",
    "os.remove(driver_path)\n",
    "\n",
    "# Reinstall ChromeDriver\n",
    "driver_path = ChromeDriverManager().install()\n",
    "\n",
    "print(f\"Reinstalled ChromeDriver at: {driver_path}\")"
   ]
  },
  {
   "cell_type": "code",
   "execution_count": 5,
   "id": "444b3b33-d1b6-44b1-9271-8273a652661e",
   "metadata": {},
   "outputs": [
    {
     "name": "stdout",
     "output_type": "stream",
     "text": [
      "Accept button did not appear.\n",
      "Logged In Successfully\n"
     ]
    }
   ],
   "source": [
    "# def random_sleep(min_time=1, max_time=3):\n",
    "#     time.sleep(random.uniform(min_time, max_time))\n",
    "\n",
    "# def move_mouse_randomly():\n",
    "#     for _ in range(random.randint(1, 3)):\n",
    "#         x, y = random.randint(100, 500), random.randint(100, 500)\n",
    "#         pyautogui.moveTo(x, y, duration=random.uniform(0.1, 0.5))\n",
    "\n",
    "def get_random_user_agent():\n",
    "    ua = UserAgent(platforms='pc')\n",
    "    return ua.random\n",
    "\n",
    "def setup_driver():\n",
    "    options = webdriver.ChromeOptions()\n",
    "    options.add_argument(f\"user-agent={get_random_user_agent()}\")\n",
    "    options.add_argument(\"--ignore-certificate-errors\")\n",
    "    options.add_argument(\"--disable-notifications\")\n",
    "    options.add_argument(\"--disable-popup-blocking\")\n",
    "    options.add_argument(\"--auto-open-devtools-for-tabs\")\n",
    "    # Enable performance logging\n",
    "    perf_log_prefs = {\n",
    "        'enableNetwork': True,\n",
    "        'enablePage': False,\n",
    "    }\n",
    "    options.set_capability('goog:loggingPrefs', {'performance': 'ALL'})\n",
    "    options.add_argument(\"--window-size=1920,1080\")\n",
    "    # options.add_argument(\"--headless\")\n",
    "    \n",
    "    driver = webdriver.Chrome(options=options)\n",
    "    \n",
    "    return driver\n",
    "\n",
    "def login_to_fantasy(driver, username, password):\n",
    "    driver.get(\"https://www.fantasy.top/home\")\n",
    "    \n",
    "    wait = WebDriverWait(driver, 10)\n",
    "    \n",
    "    # Click initial button\n",
    "    button = wait.until(EC.element_to_be_clickable((By.CSS_SELECTOR, \"button[style*='background: linear-gradient'][class*='rounded-md']\")))\n",
    "    button.click()\n",
    "    \n",
    "    # Click Twitter button in modal\n",
    "    modal_button = wait.until(EC.element_to_be_clickable((By.XPATH, \"//button[contains(., 'Twitter')]\")))\n",
    "    modal_button.click()\n",
    "    \n",
    "    time.sleep(2)\n",
    "    actions = ActionChains(driver)\n",
    "    actions.send_keys(Keys.ESCAPE).perform()\n",
    "    \n",
    "    username_input = wait.until(EC.element_to_be_clickable((By.CSS_SELECTOR, \"input[name='text'][autocomplete='username']\")))\n",
    "    username_input.send_keys(username)\n",
    "    \n",
    "    next_button = wait.until(EC.element_to_be_clickable((By.XPATH, \"//span[text()='Next']/ancestor::button\")))\n",
    "    next_button.click()\n",
    "    \n",
    "    password_input = wait.until(EC.element_to_be_clickable((By.CSS_SELECTOR, \"input[name='password'][type='password']\")))\n",
    "    password_input.send_keys(password)\n",
    "    \n",
    "    login_button = wait.until(EC.element_to_be_clickable((By.CSS_SELECTOR, \"button[data-testid='LoginForm_Login_Button']\")))\n",
    "    login_button.click()\n",
    "    \n",
    "    # Handle pop-up, authorization, and acceptance\n",
    "    close_popup_if_appears(driver)\n",
    "    authorize_if_appears(driver)\n",
    "    accept_terms_if_appears(driver)\n",
    "    \n",
    "    # Load main page and handle additional elements\n",
    "    driver.get(\"https://www.fantasy.top/home\")\n",
    "    # dismiss_notification_if_appears(driver)\n",
    "    # skip_tutorial_if_appears(driver)\n",
    "    print(\"Logged In Successfully\")\n",
    "\n",
    "def close_popup_if_appears(driver):\n",
    "    try:\n",
    "        close_popup_button = WebDriverWait(driver, 10).until(\n",
    "            EC.element_to_be_clickable((By.CSS_SELECTOR, \"button[data-testid='xMigrationBottomBar']\"))\n",
    "        )\n",
    "        close_popup_button.click()\n",
    "    except TimeoutException:\n",
    "        print(\"Close popup button did not appear.\")\n",
    "\n",
    "def authorize_if_appears(driver):\n",
    "    try:\n",
    "        authorize_button = WebDriverWait(driver, 10).until(\n",
    "            EC.element_to_be_clickable((By.CSS_SELECTOR, \"button[data-testid='OAuth_Consent_Button']\"))\n",
    "        )\n",
    "        authorize_button.click()\n",
    "    except TimeoutException:\n",
    "        print(\"Authorize app button did not appear.\")\n",
    "\n",
    "def accept_terms_if_appears(driver):\n",
    "    try:\n",
    "        accept_button = WebDriverWait(driver, 10).until(\n",
    "            EC.element_to_be_clickable((By.CSS_SELECTOR, \"button.sc-fqkvVR.sc-iGgWBj.dQeymh.httOiR\"))\n",
    "        )\n",
    "        accept_button.click()\n",
    "    except TimeoutException:\n",
    "        print(\"Accept button did not appear.\")\n",
    "\n",
    "# def dismiss_notification_if_appears(driver):\n",
    "#     try:\n",
    "#         element = WebDriverWait(driver, 10).until(\n",
    "#             EC.presence_of_element_located((By.XPATH, \"//p[contains(@class, 'link') and contains(text(), \\\"Don't show again\\\")]\"))\n",
    "#         )\n",
    "#         element.click()\n",
    "#         print(\"Notification dismissed\")\n",
    "#     except Exception as e:\n",
    "#         print(\"Notification not found or not clickable:\", e)\n",
    "\n",
    "# def skip_tutorial_if_appears(driver):\n",
    "#     try:\n",
    "#         skip_button = WebDriverWait(driver, 10).until(\n",
    "#             EC.element_to_be_clickable((By.CSS_SELECTOR, \"button[data-test-id='button-skip']\"))\n",
    "#         )\n",
    "#         skip_button.click()\n",
    "#     except TimeoutException:\n",
    "#         print(\"Skip button did not appear.\")\n",
    "\n",
    "def scroll_to_end_of_page(driver):\n",
    "    # Get the initial page height\n",
    "    last_height = driver.execute_script(\"return document.body.scrollHeight\")\n",
    "\n",
    "    while True:\n",
    "        # Scroll down to the bottom\n",
    "        driver.execute_script(\"window.scrollTo(0, document.body.scrollHeight);\")\n",
    "\n",
    "        # Wait for new page segment to load\n",
    "        time.sleep(2)  # You can adjust the sleep time if needed\n",
    "\n",
    "        # Calculate new page height and compare with last height\n",
    "        new_height = driver.execute_script(\"return document.body.scrollHeight\")\n",
    "        if new_height == last_height:\n",
    "            break\n",
    "        last_height = new_height\n",
    "\n",
    "\n",
    "def login():\n",
    "    username = \"MissPecuIiar\"  # Replace with actual username\n",
    "    password = \"Dublin84\"      # Replace with actual password\n",
    "    \n",
    "    driver = setup_driver()\n",
    "    \n",
    "    driver.get(\"https://www.fantasy.top/home\")  # Load the target site first\n",
    "    \n",
    "    load_cookies(driver)  # Load cookies for the correct domain\n",
    "    driver.refresh()  # Refresh to apply cookies\n",
    "    \n",
    "    login_to_fantasy(driver, username, password)\n",
    "    token = driver.execute_script(\"return localStorage.getItem('jwtToken');\")\n",
    "    save_cookies(driver)\n",
    "\n",
    "    time.sleep(2)\n",
    "\n",
    "    actions = ActionChains(driver)\n",
    "    actions.send_keys(Keys.ESCAPE).perform()\n",
    "    \n",
    "    \n",
    "    return driver, token\n",
    "\n",
    "# Call the login function and store the driver and token\n",
    "driver, token = login()\n",
    "\n",
    "# Retrieve the token if needed (already done in login function)\n",
    "selenium_cookies = driver.get_cookies()\n",
    "cookies = {cookie['name']: cookie['value'] for cookie in selenium_cookies}\n",
    "\n",
    "\n"
   ]
  },
  {
   "cell_type": "code",
   "execution_count": 6,
   "id": "c9a401f2-8820-4589-9ff2-c27844b6b33e",
   "metadata": {},
   "outputs": [],
   "source": [
    "token = driver.execute_script(\"return localStorage.getItem('jwtToken');\")"
   ]
  },
  {
   "cell_type": "code",
   "execution_count": 12,
   "id": "695e60de",
   "metadata": {},
   "outputs": [
    {
     "name": "stdout",
     "output_type": "stream",
     "text": [
      "An error occurred: 500 Server Error: Internal Server Error for url: https://fantasy.top/api/bids/get-bid-orders?hero_ids=hero_id_1%2Chero_id_2%2Chero_id_3%2Chero_id_4%2Chero_id_5&rarity=1&include_orderbook=true&include_personal_bids=true\n"
     ]
    }
   ],
   "source": [
    "import requests\n",
    "\n",
    "URL_REST = \"https://fantasy.top/api/bids/get-bid-orders\"\n",
    "\n",
    "def send_graphql_request(request_type='rest', params=None, token=None, cookies=None):\n",
    "    headers = {\n",
    "        'accept': '*/*',\n",
    "        'accept-language': 'en-GB,en-US;q=0.9,en;q=0.8',\n",
    "        'authorization': f'Bearer {token}',\n",
    "        'priority': 'u=1, i',\n",
    "        'referer': 'https://fantasy.top/marketplace',\n",
    "        'sec-ch-ua': '\"Not/A)Brand\";v=\"8\", \"Chromium\";v=\"126\", \"Google Chrome\";v=\"126\"',\n",
    "        'sec-ch-ua-mobile': '?0',\n",
    "        'sec-ch-ua-platform': '\"Windows\"',\n",
    "        'sec-fetch-dest': 'empty',\n",
    "        'sec-fetch-mode': 'cors',\n",
    "        'sec-fetch-site': 'same-origin',\n",
    "        'user-agent': 'Mozilla/5.0 (Windows NT 10.0; Win64; x64) AppleWebKit/537.36 (KHTML, like Gecko) Chrome/126.0.0.0 Safari/537.36',\n",
    "    }\n",
    "    response = requests.get(URL_REST, params=params, headers=headers, cookies=cookies)\n",
    "    response.raise_for_status()\n",
    "    return response.json()\n",
    "\n",
    "def get_bids_for_multiple_heroes(hero_ids, token, cookies, rarity=1):\n",
    "    params = {\n",
    "        'hero_ids': ','.join(hero_ids),  # Or try different separators like ';' or '|'\n",
    "        'rarity': rarity,\n",
    "        'include_orderbook': 'true',\n",
    "        'include_personal_bids': 'true',\n",
    "    }\n",
    "    response = send_graphql_request(request_type='rest', params=params, token=token, cookies=cookies)\n",
    "    return response\n",
    "\n",
    "def test_batched_requests():\n",
    "    # Sample hero_ids for testing - Replace with actual hero_ids\n",
    "    hero_ids = [\"hero_id_1\", \"hero_id_2\", \"hero_id_3\", \"hero_id_4\", \"hero_id_5\"]\n",
    "\n",
    "    try:\n",
    "        response = get_bids_for_multiple_heroes(hero_ids, token, cookies)\n",
    "        print(\"Response from API:\")\n",
    "        print(response)\n",
    "    except Exception as e:\n",
    "        print(f\"An error occurred: {e}\")\n",
    "\n",
    "if __name__ == \"__main__\":\n",
    "    test_batched_requests()"
   ]
  },
  {
   "cell_type": "markdown",
   "id": "f888b3f5-bf1d-4b1f-b026-8ab8dfcff4d5",
   "metadata": {},
   "source": [
    "## Utility Functions"
   ]
  },
  {
   "cell_type": "code",
   "execution_count": 80,
   "id": "cc31d181-9ca0-44d0-bde1-3282503e2759",
   "metadata": {},
   "outputs": [],
   "source": [
    "def convert_to_eth(value):\n",
    "    return int(value) / 1e18 if value is not None else None\n",
    "\n"
   ]
  },
  {
   "cell_type": "markdown",
   "id": "dafec607-4cc8-47b4-bc78-ec559e3b1ab4",
   "metadata": {},
   "source": [
    "### Save df to CSV "
   ]
  },
  {
   "cell_type": "code",
   "execution_count": 81,
   "id": "de72677a-dc8c-462a-b48d-b153a0ddb6ae",
   "metadata": {},
   "outputs": [],
   "source": [
    "def save_df_as_csv(df, filename, folder=\"data\"):\n",
    "    # Generate the timestamp\n",
    "    timestamp = datetime.now().strftime('%y%m%d_%H%M')\n",
    "    # Append timestamp to the filename\n",
    "    filename_with_timestamp = f\"{filename}_{timestamp}.csv\"\n",
    "    # Create the folder if it doesn't exist\n",
    "    if not os.path.exists(folder):\n",
    "        os.makedirs(folder)\n",
    "    # Full path\n",
    "    full_path = os.path.join(folder, filename_with_timestamp)\n",
    "    # Save the DataFrame as a CSV\n",
    "    df.to_csv(full_path, index=False)\n",
    "    print(f\"DataFrame saved as {full_path}\")"
   ]
  },
  {
   "cell_type": "code",
   "execution_count": 82,
   "id": "15b6fa6a-ba42-4c10-bb60-cc35fd279e37",
   "metadata": {},
   "outputs": [],
   "source": [
    "def print_runtime(func) -> None:\n",
    "    \"\"\"\n",
    "    Measures and prints the runtime of a given function.\n",
    "\n",
    "    Parameters:\n",
    "    func (Callable): The function whose runtime is to be measured.\n",
    "\n",
    "    Returns:\n",
    "    None\n",
    "    \"\"\"\n",
    "    print(f'Calling {func.__name__}')\n",
    "    start_time = time.time()\n",
    "    func()\n",
    "    end_time = time.time()\n",
    "    runtime = end_time - start_time\n",
    "    print(f'{func.__name__} took {runtime:.4f} seconds to execute')"
   ]
  },
  {
   "cell_type": "markdown",
   "id": "0a71e466-38fb-48f2-b682-548ccfee777c",
   "metadata": {},
   "source": [
    "## Websockets Market Data"
   ]
  },
  {
   "cell_type": "code",
   "execution_count": 93,
   "id": "277a8a14-3d75-4abb-9d78-f9f265063117",
   "metadata": {},
   "outputs": [],
   "source": [
    "def download_listings():\n",
    "    driver.get('https://fantasy.top/marketplace')\n",
    "    time.sleep(5)\n",
    "    # Click on the specified element to ensure the page is in the correct state for scrolling\n",
    "    actions = ActionChains(driver)\n",
    "    actions.send_keys(Keys.ESCAPE).perform()\n",
    "    try:\n",
    "        main_element = driver.find_element(By.TAG_NAME, \"main\")\n",
    "        main_element.click()\n",
    "    except ElementClickInterceptedException as e:\n",
    "        actions.send_keys(Keys.ESCAPE).perform()\n",
    "        main_element.click()\n",
    "        driver.get('https://fantasy.top/marketplace')\n",
    "        time.sleep(5)\n",
    "        main_element = driver.find_element(By.TAG_NAME, \"main\")\n",
    "        main_element.click()\n",
    "    time.sleep(2)\n",
    "    \n",
    "    \n",
    "    \n",
    "    \n",
    "    # Initialize a list to store all logs\n",
    "    all_logs = []\n",
    "    \n",
    "    # Define the number of iterations and the interval between them\n",
    "    num_iterations = 10\n",
    "    interval = 3  # in seconds\n",
    "    \n",
    "    \n",
    "    \n",
    "    actions = ActionChains(driver)\n",
    "    # Continuously capture logs and scroll down\n",
    "    for _ in range(num_iterations):\n",
    "        # Capture logs\n",
    "        logs = driver.get_log(\"performance\")\n",
    "        all_logs.extend(logs)\n",
    "        \n",
    "        # Scroll down by sending PAGE_DOWN key using ActionChains\n",
    "        actions.send_keys(Keys.PAGE_DOWN).perform()\n",
    "        time.sleep(interval)  # Adjust the interval as needed\n",
    "    \n",
    "    # Close the browser\n",
    "    # driver.quit()\n",
    "    \n",
    "    # Filter WebSocket messages\n",
    "    websocket_messages = []\n",
    "    \n",
    "    for log in all_logs:\n",
    "        message = json.loads(log['message'])['message']\n",
    "        if message['method'] == 'Network.webSocketFrameReceived':\n",
    "            try:\n",
    "                payload = json.loads(message['params']['response']['payloadData'])\n",
    "                if 'payload' in payload and 'data' in payload['payload']:\n",
    "                    websocket_messages.append(payload)\n",
    "            except (json.JSONDecodeError, KeyError) as e:\n",
    "                print(f\"Error processing message: {e}\")\n",
    "                continue\n",
    "    \n",
    "    # Save the captured WebSocket messages to a file for further analysis\n",
    "    with open('websocket_messages.json', 'w') as f:\n",
    "        json.dump(websocket_messages, f, indent=4)\n",
    "    \n",
    "    # Process the WebSocket messages\n",
    "    processed_data = []\n",
    "    \n",
    "    for message in websocket_messages:\n",
    "        if 'payload' in message and 'data' in message['payload']:\n",
    "            orders = message['payload']['data']['unique_sell_orders_stream']\n",
    "            for order in orders:\n",
    "                hero_info = {\n",
    "                    'hero_id': order['hero_id'],\n",
    "                    'lowest_price': order['lowest_price'],\n",
    "                    'order_count': order['order_count'],\n",
    "                    'sell_order_id': order['sell_order_id'],\n",
    "                    'hero_rarity_index': order['hero_rarity_index'],\n",
    "                    'gliding_score': order['gliding_score'],\n",
    "                    'updated_at': order['updated_at'],\n",
    "                    'hero_followers_count': order['hero']['followers_count'],\n",
    "                    'hero_handle': order['hero']['handle'],\n",
    "                    'hero_name': order['hero']['name'],\n",
    "                    'hero_stars': order['hero']['stars'],\n",
    "                    'current_rank': order['hero']['current_score']['current_rank'],\n",
    "                    'previous_rank': order['hero']['current_score']['previous_rank'],\n",
    "                    'views': order['hero']['current_score']['views'],\n",
    "                    'fantasy_score': order['hero']['current_score']['fantasy_score']\n",
    "                }\n",
    "                processed_data.append(hero_info)\n",
    "    \n",
    "    # Convert the processed data into a DataFrame\n",
    "    raw_listings_df = pd.DataFrame(processed_data)\n",
    "    \n",
    "    listings_df = raw_listings_df.drop_duplicates(subset=['hero_id', 'hero_rarity_index'])\n",
    "\n",
    "    # Step 1: Extract rarity from `hero_rarity_index`\n",
    "    listings_df.loc[:, 'rarity'] = listings_df['hero_rarity_index'].str.split('_').str[1]\n",
    "    listings_df.loc[:, 'rarity'] = 'rarity' + listings_df['rarity']\n",
    "    \n",
    "    pivot_df = listings_df.pivot_table(\n",
    "        index='hero_id',\n",
    "        columns='rarity',\n",
    "        values=['lowest_price', 'order_count'],\n",
    "        aggfunc='first'\n",
    "    )\n",
    "    \n",
    "    # Flatten the multi-index columns\n",
    "    pivot_df.columns = [f'{col[1]}_{col[0]}' for col in pivot_df.columns]\n",
    "    \n",
    "    # Reset the index to make `hero_id` a column\n",
    "    pivot_df.reset_index(inplace=True)\n",
    "    \n",
    "    # Step 3: Merge the pivoted DataFrame with the unique hero information\n",
    "    hero_info_columns = ['hero_id', 'hero_handle', 'hero_name', 'hero_stars', 'hero_followers_count', \n",
    "                         'current_rank', 'previous_rank', 'views', 'fantasy_score']\n",
    "    \n",
    "    # Drop duplicates to get unique hero information\n",
    "    unique_hero_info = listings_df[hero_info_columns].drop_duplicates(subset=['hero_id'])\n",
    "    \n",
    "    # Merge the pivoted data with the unique hero information\n",
    "    final_df = pd.merge(unique_hero_info, pivot_df, on='hero_id')\n",
    "\n",
    "    columns_to_remove = [\n",
    "    'hero_name', 'hero_followers_count', \n",
    "    'current_rank', 'previous_rank', 'views', 'fantasy_score'\n",
    "]\n",
    "    final_df.drop(columns=columns_to_remove, inplace=True)\n",
    "    \n",
    "    final_df = final_df.rename(columns={'heroId': 'hero_id'})\n",
    "\n",
    "    return final_df "
   ]
  },
  {
   "cell_type": "markdown",
   "id": "628cf4b7-9d97-445e-bb93-756259f093c8",
   "metadata": {},
   "source": [
    "## API "
   ]
  },
  {
   "cell_type": "markdown",
   "id": "15918d28-fdd8-4277-9977-ee73063bca77",
   "metadata": {},
   "source": [
    "### Params"
   ]
  },
  {
   "cell_type": "code",
   "execution_count": 19,
   "id": "de1dc254-7445-49e3-9c08-148724d0435d",
   "metadata": {},
   "outputs": [],
   "source": [
    "import requests\n",
    "import json\n",
    "\n",
    "url_graphql = \"https://fantasy-top.hasura.app/v1/graphql\"\n",
    "url_rest = \"https://fantasy.top/api/bids/get-bid-orders\"\n",
    "\n",
    "def send_graphql_request(url=url_graphql, query=None, variables=None, token=None, request_type='graphql', params=None, cookies=None):\n",
    "    if request_type == 'graphql':\n",
    "        payload = json.dumps({\n",
    "            \"query\": query,\n",
    "            \"variables\": variables\n",
    "        })\n",
    "        \n",
    "        headers = {\n",
    "            'accept': '*/*',\n",
    "            'accept-language': 'en-GB,en-US;q=0.9,en;q=0.8',\n",
    "            'authorization': f'Bearer {token}',\n",
    "            'content-type': 'application/json',\n",
    "            'origin': 'https://fantasy.top',\n",
    "            'priority': 'u=1, i',\n",
    "            'referer': 'https://fantasy.top/',\n",
    "            'sec-ch-ua': '\"Not/A)Brand\";v=\"8\", \"Chromium\";v=\"126\", \"Google Chrome\";v=\"126\"',\n",
    "            'sec-ch-ua-mobile': '?0',\n",
    "            'sec-ch-ua-platform': '\"Windows\"',\n",
    "            'sec-fetch-dest': 'empty',\n",
    "            'sec-fetch-mode': 'cors',\n",
    "            'sec-fetch-site': 'cross-site',\n",
    "            'user-agent': 'Mozilla/5.0 (Windows NT 10.0; Win64; x64) AppleWebKit/537.36 (KHTML, like Gecko) Chrome/126.0.0.0 Safari/537.36'\n",
    "        }\n",
    "        \n",
    "        response = requests.post(url, headers=headers, data=payload, cookies=cookies)\n",
    "        response.raise_for_status()\n",
    "        return response.json()\n",
    "    \n",
    "    elif request_type == 'rest':\n",
    "        headers = {\n",
    "            'accept': '*/*',\n",
    "            'accept-language': 'en-GB,en-US;q=0.9,en;q=0.8',\n",
    "            'authorization': f'Bearer {token}',\n",
    "            'priority': 'u=1, i',\n",
    "            'referer': 'https://fantasy.top/marketplace',\n",
    "            'sec-ch-ua': '\"Not/A)Brand\";v=\"8\", \"Chromium\";v=\"126\", \"Google Chrome\";v=\"126\"',\n",
    "            'sec-ch-ua-mobile': '?0',\n",
    "            'sec-ch-ua-platform': '\"Windows\"',\n",
    "            'sec-fetch-dest': 'empty',\n",
    "            'sec-fetch-mode': 'cors',\n",
    "            'sec-fetch-site': 'same-origin',\n",
    "            'user-agent': 'Mozilla/5.0 (Windows NT 10.0; Win64; x64) AppleWebKit/537.36 (KHTML, like Gecko) Chrome/126.0.0.0 Safari/537.36',\n",
    "        }\n",
    "        \n",
    "        response = requests.get(url, params=params, headers=headers, cookies=cookies)\n",
    "        response.raise_for_status()\n",
    "        return response.json()\n",
    "\n",
    "\n",
    "\n"
   ]
  },
  {
   "cell_type": "markdown",
   "id": "118811c1-e0b4-4faf-b1e1-a77465d54591",
   "metadata": {},
   "source": [
    "### Get Own Cards"
   ]
  },
  {
   "cell_type": "code",
   "execution_count": 85,
   "id": "5126b7a5-72b9-4741-883f-089b83f96a04",
   "metadata": {},
   "outputs": [],
   "source": [
    "\n",
    "def download_portfolio():\n",
    "    # Query 1: GET_CARDS\n",
    "    query_get_cards = \"\"\"\n",
    "    query GET_CARDS($id: String!, $limit: Int = 100, $offset: Int = 0, $where: i_beta_player_cards_type_bool_exp = {}, $sort_order: String = \"\") {\n",
    "      get_player_cards: get_player_cards_new(\n",
    "        args: {p_owner: $id, p_limit: $limit, p_offset: $offset, p_sort_order: $sort_order}\n",
    "        where: $where\n",
    "      ) {\n",
    "        owner\n",
    "        hero_rarity_index\n",
    "        cards_number\n",
    "        listed_cards_number\n",
    "        in_deck\n",
    "        card {\n",
    "          id\n",
    "          owner\n",
    "          gliding_score\n",
    "          hero_rarity_index\n",
    "          in_deck\n",
    "          picture_url\n",
    "          token_id\n",
    "          hero_rarity_index\n",
    "          rarity\n",
    "          sell_order {\n",
    "            id\n",
    "            price_numeric\n",
    "          }\n",
    "          hero {\n",
    "            id\n",
    "            name\n",
    "            handle\n",
    "            profile_image_url_https\n",
    "            followers_count\n",
    "            flags {\n",
    "              flag_id\n",
    "            }\n",
    "            stars\n",
    "            current_score {\n",
    "              fantasy_score\n",
    "              views\n",
    "              current_rank\n",
    "            }\n",
    "            trades(\n",
    "              order_by: {hero_rarity_index: asc, created_at: desc}\n",
    "              distinct_on: hero_rarity_index\n",
    "            ) {\n",
    "              id\n",
    "              hero_rarity_index\n",
    "              price\n",
    "            }\n",
    "          }\n",
    "        }\n",
    "      }\n",
    "    }\n",
    "    \"\"\"\n",
    "    \n",
    "    variables_get_cards = {\n",
    "        \"id\": \"0xDC0c171F4DB2790e565295c5287bCa9D4071EA1a\",\n",
    "        \"limit\": 50,\n",
    "        \"offset\": 0,\n",
    "        \"where\": {\n",
    "            \"card\": {\n",
    "                \"hero\": {\n",
    "                    \"_or\": [\n",
    "                        {\"name\": {\"_ilike\": \"%%\"}},\n",
    "                        {\"handle\": {\"_ilike\": \"%%\"}}\n",
    "                    ]\n",
    "                },\n",
    "                \"rarity\": {\"_in\": [\"1\", \"2\", \"3\", \"4\"]}\n",
    "            }\n",
    "        },\n",
    "        \"sort_order\": \"cards_score\"\n",
    "    }\n",
    "    \n",
    "    \n",
    "    def extract_portfolio_data(cards_response):\n",
    "        # Check for errors in the response\n",
    "        if 'errors' in cards_response:\n",
    "            print('Errors:', cards_response['errors'])\n",
    "            return []\n",
    "        else:\n",
    "            # Extract the relevant data\n",
    "            cards = cards_response.get('data', {}).get('get_player_cards', [])\n",
    "        \n",
    "            # Process the extracted data\n",
    "            card_list = []\n",
    "            for card_entry in cards:\n",
    "                card_data = card_entry['card']\n",
    "                hero_data = card_data['hero']\n",
    "                \n",
    "                card_info = {\n",
    "                    'owner': card_entry['owner'],\n",
    "                    'hero_rarity_index': card_entry['hero_rarity_index'],\n",
    "                    'cards_number': card_entry['cards_number'],\n",
    "                    'listed_cards_number': card_entry['listed_cards_number'],\n",
    "                    'in_deck': card_entry['in_deck'],\n",
    "                    'card_id': card_data['id'],\n",
    "                    'card_owner': card_data['owner'],\n",
    "                    'gliding_score': card_data['gliding_score'],\n",
    "                    'card_in_deck': card_data['in_deck'],\n",
    "                    'picture_url': card_data['picture_url'],\n",
    "                    'token_id': card_data['token_id'],\n",
    "                    'rarity': card_data['rarity'],\n",
    "                    'hero_id': hero_data['id'],\n",
    "                    'hero_name': hero_data['name'],\n",
    "                    'hero_handle': hero_data['handle'],\n",
    "                    'hero_profile_image_url': hero_data['profile_image_url_https'],\n",
    "                    'hero_followers_count': hero_data['followers_count'],\n",
    "                    'hero_stars': hero_data['stars'],\n",
    "                    'hero_fantasy_score': hero_data['current_score']['fantasy_score'],\n",
    "                    'hero_views': hero_data['current_score']['views'],\n",
    "                    'hero_current_rank': hero_data['current_score']['current_rank'],\n",
    "                    'hero_trades': [\n",
    "                        {\n",
    "                            'trade_id': trade['id'],\n",
    "                            'hero_rarity_index': trade['hero_rarity_index'],\n",
    "                            'price': trade['price']\n",
    "                        } for trade in hero_data['trades']\n",
    "                    ]\n",
    "                }\n",
    "                \n",
    "                card_list.append(card_info)\n",
    "        \n",
    "            # Return the list of card data\n",
    "            return card_list\n",
    "        \n",
    "    \n",
    "    all_cards_list = []\n",
    "    while True:\n",
    "        # Make the request\n",
    "        cards_response = send_graphql_request(url_graphql, query_get_cards, variables_get_cards, token)\n",
    "        \n",
    "        # Extract data\n",
    "        portfolio_list = extract_portfolio_data(cards_response)\n",
    "        \n",
    "        # If no more data is returned, break the loop\n",
    "        if not portfolio_list:\n",
    "            break\n",
    "        \n",
    "        # Append the data to the main list\n",
    "        all_cards_list.extend(portfolio_list)\n",
    "        \n",
    "        # Update the offset for the next request\n",
    "        variables_get_cards['offset'] += variables_get_cards['limit']\n",
    "    \n",
    "    # Create a DataFrame from the aggregated list\n",
    "    portfolio_df = pd.DataFrame(all_cards_list)\n",
    "\n",
    "    portfolio_df.drop(columns = ['owner', 'card_id', 'card_owner'], inplace=True)\n",
    "\n",
    "    return portfolio_df\n"
   ]
  },
  {
   "cell_type": "markdown",
   "id": "97306e68-f0fb-4eb6-9830-61b73fdea40f",
   "metadata": {},
   "source": [
    "### Get All Heroes Stats"
   ]
  },
  {
   "cell_type": "code",
   "execution_count": 86,
   "id": "3e01c2e6-384a-431a-9df8-ad859864b6ec",
   "metadata": {},
   "outputs": [],
   "source": [
    "def download_basic_hero_stats():\n",
    "\n",
    "    # Function to extract data from the response and convert it to a DataFrame\n",
    "    def extract_heros_data(response_data):\n",
    "        if 'errors' in response_data:\n",
    "            print('Errors:', response_data['errors'])\n",
    "            return []\n",
    "    \n",
    "        heros = response_data.get('data', {}).get('twitter_data_current', [])\n",
    "    \n",
    "        hero_list = []\n",
    "        for hero_entry in heros:\n",
    "            hero_data = hero_entry['hero']\n",
    "            \n",
    "            hero_info = {\n",
    "                'current_rank': hero_entry['current_rank'],\n",
    "                'previous_rank': hero_entry['previous_rank'],\n",
    "                'views': hero_entry['views'],\n",
    "                'tweet_count': hero_entry['tweet_count'],\n",
    "                'fantasy_score': hero_entry['fantasy_score'],\n",
    "                'reach': hero_entry['reach'],\n",
    "                'avg_views': hero_entry['avg_views'],\n",
    "                'hero_followers_count': hero_data['followers_count'],\n",
    "                'hero_name': hero_data['name'],\n",
    "                'hero_handle': hero_data['handle'],\n",
    "                'hero_profile_image_url': hero_data['profile_image_url_https'],\n",
    "                'hero_volume': hero_data['volume']['aggregate']['sum']['price'] if hero_data['volume']['aggregate']['sum']['price'] is not None else 0,\n",
    "                'hero_last_sale_price': hero_data['last_sale'][0]['price'] if hero_data['last_sale'] else None,\n",
    "                'hero_floor_price': hero_data['floor'][0]['lowest_price'] if hero_data['floor'] else None\n",
    "            }\n",
    "            \n",
    "            hero_list.append(hero_info)\n",
    "        \n",
    "        return hero_list\n",
    "    \n",
    "    # Define the query and initial variables\n",
    "    query_get_heros_with_stats = \"\"\"\n",
    "    query GET_HEROS_WITH_STATS($offset: Int = 0, $limit: Int = 20, $order_by: [twitter_data_current_order_by!] = {current_rank: asc}, $search: String = \"\") @cached(ttl: 300) {\n",
    "      twitter_data_current(\n",
    "        order_by: $order_by\n",
    "        offset: $offset\n",
    "        limit: $limit\n",
    "        where: {hero: {_or: [{name: {_ilike: $search}}, {handle: {_ilike: $search}}], is_pending_hero: {_eq: false}}, is_gliding24h: {_eq: false}}\n",
    "      ) {\n",
    "        current_rank\n",
    "        previous_rank\n",
    "        views\n",
    "        tweet_count\n",
    "        fantasy_score\n",
    "        reach\n",
    "        avg_views\n",
    "        hero {\n",
    "          followers_count\n",
    "          name\n",
    "          handle\n",
    "          profile_image_url_https\n",
    "          volume: trades_aggregate {\n",
    "            aggregate {\n",
    "              sum {\n",
    "                price\n",
    "              }\n",
    "            }\n",
    "          }\n",
    "          last_sale: trades(limit: 1) {\n",
    "            price\n",
    "          }\n",
    "          floor: unique_sell_orders(order_by: {lowest_price: asc_nulls_last}, limit: 1) {\n",
    "            lowest_price\n",
    "          }\n",
    "        }\n",
    "      }\n",
    "    }\n",
    "    \"\"\"\n",
    "    \n",
    "    # Variables for pagination\n",
    "    variables_get_heros_with_stats = {\n",
    "        \"offset\": 0,\n",
    "        \"order_by\": {\n",
    "            \"fantasy_score\": \"desc\"\n",
    "        },\n",
    "        \"limit\": 20,  # Adjust the limit if necessary\n",
    "        \"search\": \"%%\"\n",
    "    }\n",
    "    \n",
    "    # Pagination logic\n",
    "    all_heros_list = []\n",
    "    while True:\n",
    "        # Make the request\n",
    "        heros_with_stats_response = send_graphql_request(url_graphql, query_get_heros_with_stats, variables_get_heros_with_stats, token)\n",
    "        \n",
    "        # Extract data\n",
    "        heros_list = extract_heros_data(heros_with_stats_response)\n",
    "        \n",
    "        # If no more data is returned, break the loop\n",
    "        if not heros_list:\n",
    "            break\n",
    "        \n",
    "        # Append the data to the main list\n",
    "        all_heros_list.extend(heros_list)\n",
    "        \n",
    "        # Update the offset for the next request\n",
    "        variables_get_heros_with_stats['offset'] += variables_get_heros_with_stats['limit']\n",
    "    \n",
    "    # Create a DataFrame from the aggregated list\n",
    "    all_heros_df = pd.DataFrame(all_heros_list)\n",
    "\n",
    "    \n",
    "    all_heros_df['hero_volume'] = all_heros_df['hero_volume'].apply(convert_to_eth)\n",
    "    all_heros_df['hero_last_sale_price'] = all_heros_df['hero_last_sale_price'].apply(convert_to_eth)\n",
    "\n",
    "    # List of columns to remove\n",
    "    columns_to_remove = ['previous_rank', 'hero_last_sale_price', 'hero_floor_price']\n",
    "\n",
    "    all_heros_df.drop(columns=columns_to_remove, inplace=True)\n",
    "\n",
    "    # Reorder the columns to move 'hero_name' and 'hero_handle' to the first two positions\n",
    "    columns_order = ['current_rank', 'hero_name', 'hero_handle'] + [col for col in all_heros_df.columns if col not in ['current_rank', 'hero_name', 'hero_handle']]\n",
    "\n",
    "    all_heros_df = all_heros_df[columns_order]\n",
    "\n",
    "    return all_heros_df\n",
    "\n"
   ]
  },
  {
   "cell_type": "markdown",
   "id": "e8820595-8455-44bf-9dbb-1e85c2d01523",
   "metadata": {},
   "source": [
    "### Hero Scores - Get hero by handle - Get previous Tournament Scores Also Twitter Data available but not yet utilised\n",
    "\n"
   ]
  },
  {
   "cell_type": "code",
   "execution_count": 87,
   "id": "f0a4442d-69dd-4d6c-a93e-8eb87355478f",
   "metadata": {},
   "outputs": [],
   "source": [
    "def get_hero_stats():\n",
    "     \n",
    "    def adjust_date(created_at_str):\n",
    "        try:\n",
    "            created_at = datetime.strptime(created_at_str, '%Y-%m-%dT%H:%M:%S.%f')\n",
    "        except ValueError:\n",
    "            created_at = datetime.strptime(created_at_str, '%Y-%m-%dT%H:%M:%S')\n",
    "        if created_at.time() < datetime.strptime(\"12:00\", \"%H:%M\").time():  # Check if the time is before noon\n",
    "            adjusted_date = created_at - timedelta(days=1)\n",
    "        else:\n",
    "            adjusted_date = created_at\n",
    "        return adjusted_date.date()\n",
    "    \n",
    "    def parse_datetime(created_at_str):\n",
    "        try:\n",
    "            timestamp = datetime.strptime(created_at_str, '%Y-%m-%dT%H:%M:%S.%f')\n",
    "        except ValueError:\n",
    "            timestamp = datetime.strptime(created_at_str, '%Y-%m-%dT%H:%M:%S')\n",
    "        return timestamp\n",
    "        \n",
    "    \n",
    "    def get_hero_data(handle, url, token):\n",
    "        query_get_hero_by_handle = \"\"\"\n",
    "            query GET_HERO_BY_HANDLE($handle: String!) {\n",
    "          heroes: twitter_data_heroes(where: {handle: {_eq: $handle}}) {\n",
    "            followers_count\n",
    "            is_player\n",
    "            handle\n",
    "            id\n",
    "            name\n",
    "            profile_image_url_https\n",
    "            distribution_probability {\n",
    "              inflation_degree\n",
    "            }\n",
    "            current_score {\n",
    "              fantasy_score\n",
    "              current_rank\n",
    "              views\n",
    "            }\n",
    "            score_history(\n",
    "              order_by: {created_at: desc}\n",
    "              limit: 300\n",
    "              where: {is_gliding24h: {_eq: false}}\n",
    "            ) {\n",
    "              id\n",
    "              fantasy_score\n",
    "              current_rank\n",
    "              created_at\n",
    "            }\n",
    "            tournament_scores(order_by: {created_at: asc}) {\n",
    "              id\n",
    "              current_rank\n",
    "              views\n",
    "              created_at\n",
    "            }\n",
    "            tweets(order_by: {views: desc}, where: {type: {_nin: [\"Retweet\", \"Reply\"]}}) {\n",
    "              post_id\n",
    "              bookmarks\n",
    "              likes\n",
    "              quotes\n",
    "              replies\n",
    "              retweets\n",
    "              views\n",
    "              created_at\n",
    "              type\n",
    "              fire_score\n",
    "              impact_score\n",
    "              health_score\n",
    "              top_interacting_users\n",
    "            }\n",
    "            cards(limit: 1) {\n",
    "              id\n",
    "              picture_url\n",
    "              rarity\n",
    "            }\n",
    "            cards_aggregate {\n",
    "              aggregate {\n",
    "                count\n",
    "              }\n",
    "            }\n",
    "            trades(limit: 1, order_by: {timestamp: desc}) {\n",
    "              id\n",
    "              price\n",
    "            }\n",
    "            floor: unique_sell_orders(order_by: {lowest_price: asc_nulls_last}, limit: 1) {\n",
    "              lowest_price\n",
    "            }\n",
    "          }\n",
    "        }\n",
    "        \"\"\"\n",
    "        variables = {\"handle\": handle}\n",
    "        \n",
    "        response_data = send_graphql_request(url, query_get_hero_by_handle, variables, token)\n",
    "        \n",
    "        if 'errors' in response_data:\n",
    "            print(f\"Error fetching data for handle {handle}: {response_data['errors']}\")\n",
    "            return None\n",
    "        \n",
    "        hero_data = response_data.get('data', {}).get('heroes', [])\n",
    "        if not hero_data:\n",
    "            print(f\"No data found for handle {handle}\")\n",
    "            return None\n",
    "        \n",
    "        return hero_data[0]\n",
    "    \n",
    "    def process_hero_data(hero_data):\n",
    "        processed_data = {\n",
    "            \"handle\": hero_data[\"handle\"],\n",
    "            \"id\": hero_data[\"id\"],\n",
    "            \"inflation_degree\": hero_data[\"distribution_probability\"][\"inflation_degree\"] if hero_data[\"distribution_probability\"] else None\n",
    "        }\n",
    "        \n",
    "        # Process score_history\n",
    "        score_history = hero_data.get(\"score_history\", [])\n",
    "        score_history_dict = {}\n",
    "        closest_to_midnight = {}\n",
    "    \n",
    "        for entry in score_history:\n",
    "            created_at = entry[\"created_at\"]\n",
    "            date = adjust_date(created_at)\n",
    "            timestamp = parse_datetime(created_at)\n",
    "            \n",
    "            closing_score_key = f\"{date} Closing Score\"\n",
    "            closing_rank_key = f\"{date} Closing Rank\"\n",
    "            \n",
    "            # Calculate the difference from midnight\n",
    "            midnight = datetime.combine(date, datetime.min.time())\n",
    "            time_diff = abs((timestamp - midnight).total_seconds())\n",
    "            \n",
    "            # Update if this timestamp is closer to midnight\n",
    "            if closing_score_key not in closest_to_midnight or time_diff < closest_to_midnight[closing_score_key]:\n",
    "                closest_to_midnight[closing_score_key] = time_diff\n",
    "                score_history_dict[closing_score_key] = entry[\"fantasy_score\"]\n",
    "                score_history_dict[closing_rank_key] = entry[\"current_rank\"]\n",
    "    \n",
    "        processed_data.update(score_history_dict)\n",
    "        \n",
    "        # Process tournament_scores\n",
    "        tournament_scores = hero_data.get(\"tournament_scores\", [])\n",
    "        for entry in tournament_scores:\n",
    "            try:\n",
    "                date = datetime.strptime(entry[\"created_at\"], '%Y-%m-%dT%H:%M:%S.%f').date()\n",
    "            except ValueError:\n",
    "                date = datetime.strptime(entry[\"created_at\"], '%Y-%m-%d').date()\n",
    "            tournament_rank_key = f\"{date} Tournament Rank\"\n",
    "            processed_data[tournament_rank_key] = entry[\"current_rank\"]\n",
    "        \n",
    "        return processed_data\n",
    "\n",
    "    # Get data for all heroes and create a DataFrame\n",
    "    url = \"https://fantasy-top.hasura.app/v1/graphql\"\n",
    "    \n",
    "\n",
    "    \n",
    "    \n",
    "    # Add tqdm to the loop for progress tracking\n",
    "    basic_hero_stats_df = pd.read_csv('data/basic_hero_stats_240802_2203.csv')  # Update this to your actual data loading method\n",
    "   \n",
    "    all_hero_data = []\n",
    "    for handle in tqdm(basic_hero_stats_df[\"hero_handle\"], desc=\"Processing heroes\"):\n",
    "        hero_data = get_hero_data(handle, url, token)\n",
    "        if hero_data:\n",
    "            processed_data = process_hero_data(hero_data)\n",
    "            all_hero_data.append(processed_data)\n",
    "        \n",
    "        # To avoid rate limits, wait between requests\n",
    "        time.sleep(random.uniform(1, 3))\n",
    "    \n",
    "    # Create DataFrame from processed data\n",
    "    hero_scores = pd.DataFrame(all_hero_data)\n",
    "\n",
    "    hero_scores = hero_scores.rename(columns={'handle': 'hero_handle', 'id': 'hero_id'})\n",
    "    \n",
    "    return hero_scores\n"
   ]
  },
  {
   "cell_type": "markdown",
   "id": "4c75595a-dd58-4181-aea1-8965b4eabb16",
   "metadata": {},
   "source": [
    "### Get hero suppy data - This one takes a while - need to save it to csv and only update periodically"
   ]
  },
  {
   "cell_type": "code",
   "execution_count": 95,
   "id": "a3fa2762-a4ae-43f9-9f35-b0c276fa8841",
   "metadata": {},
   "outputs": [],
   "source": [
    "def get_hero_supply():\n",
    "    query_get_supply_per_hero_id = \"\"\"\n",
    "    query GET_SUPPLY_PER_HERO_ID($heroId: String!) @cached(ttl: 3600) {\n",
    "      rarity1Count: indexer_cards_aggregate(\n",
    "        where: {hero_id: {_eq: $heroId}, rarity: {_eq: 1}, owner: {_neq: \"0x0000000000000000000000000000000000000000\"}}\n",
    "      ) {\n",
    "        aggregate {\n",
    "          count\n",
    "        }\n",
    "      }\n",
    "      rarity2Count: indexer_cards_aggregate(\n",
    "        where: {hero_id: {_eq: $heroId}, rarity: {_eq: 2}, owner: {_neq: \"0x0000000000000000000000000000000000000000\"}}\n",
    "      ) {\n",
    "        aggregate {\n",
    "          count\n",
    "        }\n",
    "      }\n",
    "      rarity3Count: indexer_cards_aggregate(\n",
    "        where: {hero_id: {_eq: $heroId}, rarity: {_eq: 3}, owner: {_neq: \"0x0000000000000000000000000000000000000000\"}}\n",
    "      ) {\n",
    "        aggregate {\n",
    "          count\n",
    "        }\n",
    "      }\n",
    "      rarity4Count: indexer_cards_aggregate(\n",
    "        where: {hero_id: {_eq: $heroId}, rarity: {_eq: 4}, owner: {_neq: \"0x0000000000000000000000000000000000000000\"}}\n",
    "      ) {\n",
    "        aggregate {\n",
    "          count\n",
    "        }\n",
    "      }\n",
    "      burnedCardsCount: indexer_cards_aggregate(\n",
    "        where: {hero_id: {_eq: $heroId}, owner: {_eq: \"0x0000000000000000000000000000000000000000\"}}\n",
    "      ) {\n",
    "        aggregate {\n",
    "          count\n",
    "        }\n",
    "      }\n",
    "      utilityCount: indexer_cards_aggregate(\n",
    "        where: {hero_id: {_eq: $heroId}, in_deck: {_eq: true}, owner: {_neq: \"0x0000000000000000000000000000000000000000\"}}\n",
    "      ) {\n",
    "        aggregate {\n",
    "          count\n",
    "        }\n",
    "      }\n",
    "    }\n",
    "    \"\"\"\n",
    "    \n",
    "    def process_get_supply_per_hero_id(response, hero_id):\n",
    "        if 'errors' in response:\n",
    "            print('Errors:', response['errors'])\n",
    "            return pd.DataFrame()\n",
    "        \n",
    "        data = response.get('data', {})\n",
    "        \n",
    "        supply_data = {\n",
    "            'heroId': hero_id,\n",
    "            'rarity1Count': data['rarity1Count']['aggregate']['count'],\n",
    "            'rarity2Count': data['rarity2Count']['aggregate']['count'],\n",
    "            'rarity3Count': data['rarity3Count']['aggregate']['count'],\n",
    "            'rarity4Count': data['rarity4Count']['aggregate']['count'],\n",
    "            'burnedCardsCount': data['burnedCardsCount']['aggregate']['count'],\n",
    "            'utilityCount': data['utilityCount']['aggregate']['count']\n",
    "        }\n",
    "        \n",
    "        return pd.DataFrame([supply_data])\n",
    "    \n",
    "    def get_supply_per_hero_id(url, query, hero_ids, token, delay=1, max_retries=3):\n",
    "        all_supplies = []\n",
    "        total_heroes = len(hero_ids)\n",
    "        \n",
    "        with tqdm(total=total_heroes, desc=\"Fetching hero data\") as pbar:\n",
    "            for index, hero_id in enumerate(hero_ids):\n",
    "                variables = {\"heroId\": str(hero_id)}  # Ensure heroId is a string\n",
    "                retries = 0\n",
    "                while retries < max_retries:\n",
    "                    try:\n",
    "                        status_message = f\"Fetching data for hero {hero_id} ({index+1}/{total_heroes}), attempt {retries+1}\"\n",
    "                        sys.stdout.write(status_message)\n",
    "                        sys.stdout.flush()\n",
    "                        response = send_graphql_request(url, query, variables, token)\n",
    "                        supply_df = process_get_supply_per_hero_id(response, hero_id)\n",
    "                        all_supplies.append(supply_df)\n",
    "                        sys.stdout.write(f\"Successfully fetched data for hero {hero_id}          \\n\")\n",
    "                        sys.stdout.flush()\n",
    "                        time.sleep(delay)  # Delay to handle rate limits\n",
    "                        break\n",
    "                    except Exception as e:\n",
    "                        sys.stdout.write(f\"Error fetching data for hero {hero_id}: {e}          \\r\")\n",
    "                        sys.stdout.flush()\n",
    "                        retries += 1\n",
    "                        time.sleep(delay * retries)  # Exponential backoff\n",
    "                        if retries >= max_retries:\n",
    "                            sys.stdout.write(f\"Failed to fetch data for hero {hero_id} after {max_retries} attempts\\n\")\n",
    "                            sys.stdout.flush()\n",
    "                pbar.update(1)\n",
    "    \n",
    "        return pd.concat(all_supplies, ignore_index=True)\n",
    "    \n",
    "    hero_ids = hero_stats_df['hero_id'].tolist()\n",
    "    \n",
    "    # Get supply data for all heroes\n",
    "    all_hero_supplies_df = get_supply_per_hero_id(url_graphql, query_get_supply_per_hero_id, hero_ids, token)\n",
    "\n",
    "    # Step 1: Rename heroId to hero_id in hero_card_supply\n",
    "    all_hero_supplies_df = all_hero_supplies_df.rename(columns={'heroId': 'hero_id'})\n",
    "    \n",
    "    return all_hero_supplies_df\n"
   ]
  },
  {
   "cell_type": "markdown",
   "id": "5c11e53f-b496-4947-ba1a-34b1348aecc3",
   "metadata": {},
   "source": [
    "### Get Market Bids - This one takes a while"
   ]
  },
  {
   "cell_type": "code",
   "execution_count": 89,
   "id": "72214d56-ae17-435a-b000-2f6cd26959c2",
   "metadata": {},
   "outputs": [],
   "source": [
    "def get_bids():\n",
    "    def get_highest_bids_for_hero(hero_id, token, cookies, delay=2, max_retries=3):\n",
    "        url_rest = \"https://fantasy.top/api/bids/get-bid-orders\"\n",
    "        hero_bids = {'hero_id': hero_id}\n",
    "        \n",
    "        for rarity in range(1, 5):\n",
    "            params = {\n",
    "                'hero_id': hero_id,\n",
    "                'rarity': rarity,\n",
    "                'include_orderbook': 'true',\n",
    "                'include_personal_bids': 'true',\n",
    "            }\n",
    "    \n",
    "            retries = 0\n",
    "            while retries < max_retries:\n",
    "                try:\n",
    "                    status_message = f\"Fetching data for hero {hero_id} rarity {rarity}, attempt {retries + 1}\\r\"\n",
    "                    sys.stdout.write(status_message)\n",
    "                    sys.stdout.flush()\n",
    "                    \n",
    "                    response = send_graphql_request(url=url_rest, request_type='rest', params=params, token=token, cookies=cookies)\n",
    "                    \n",
    "                    # Check if there are bids and get the highest bid\n",
    "                    highest_bid = 0\n",
    "                    if response.get('orderbook_bids'):\n",
    "                        highest_bid = max(int(bid['price']) for bid in response['orderbook_bids'])\n",
    "                        highest_bid /= 1e18  # Convert to ETH\n",
    "                    \n",
    "                    hero_bids[f'rarity{rarity}HighestBid'] = highest_bid\n",
    "                    break\n",
    "                except Exception as e:\n",
    "                    sys.stdout.write(f\"Error fetching data for hero {hero_id} rarity {rarity}: {e}, attempt {retries + 1}\\r\")\n",
    "                    sys.stdout.flush()\n",
    "                    retries += 1\n",
    "                    time.sleep(delay * retries)  # Exponential backoff\n",
    "            \n",
    "            if retries >= max_retries:\n",
    "                sys.stdout.write(f\"Failed to fetch data for hero {hero_id} rarity {rarity} after {max_retries} attempts\\n\")\n",
    "                sys.stdout.flush()\n",
    "                hero_bids[f'rarity{rarity}HighestBid'] = None\n",
    "        \n",
    "        return hero_bids\n",
    "    \n",
    "    def collect_highest_bids(ref_df, token, cookies, delay=7, max_retries=3):\n",
    "        data = []\n",
    "        total_heroes = len(ref_df['hero_id'])\n",
    "        \n",
    "        for index, hero_id in enumerate(ref_df['hero_id']):\n",
    "            status_message = f\"Processing hero {hero_id} ({index + 1}/{total_heroes})...\\r\"\n",
    "            sys.stdout.write(status_message)\n",
    "            sys.stdout.flush()\n",
    "            \n",
    "            hero_bids = get_highest_bids_for_hero(hero_id, token, cookies, delay, max_retries)\n",
    "            data.append(hero_bids)\n",
    "            \n",
    "            # Progress status\n",
    "            sys.stdout.write(f\"Completed {index + 1} out of {total_heroes}\\n\")\n",
    "            sys.stdout.flush()\n",
    "            time.sleep(delay)  # Additional delay to avoid rate limiting\n",
    "        \n",
    "        highest_bids_df = pd.DataFrame(data)\n",
    "        return highest_bids_df\n",
    "    \n",
    "    # Example usage\n",
    "    highest_bids_df = collect_highest_bids(hero_stats_df, token, cookies)\n",
    "\n",
    "    return highest_bids_df\n"
   ]
  },
  {
   "cell_type": "markdown",
   "id": "2ce87e16-31cc-473e-945d-523cb2899b2e",
   "metadata": {},
   "source": [
    "### Get Last Trade"
   ]
  },
  {
   "cell_type": "code",
   "execution_count": 90,
   "id": "80416978-6eb1-4c75-a354-eab863197b46",
   "metadata": {},
   "outputs": [],
   "source": [
    "def get_last_trades():\n",
    "    # Define the new query\n",
    "    query_get_last_trade = \"\"\"\n",
    "    query GET_LAST_TRADE {\n",
    "      indexer_trades(\n",
    "        distinct_on: hero_rarity_index\n",
    "        order_by: {hero_rarity_index: asc, timestamp: desc}\n",
    "      ) {\n",
    "        id\n",
    "        hero_rarity_index\n",
    "        price\n",
    "        timestamp\n",
    "      }\n",
    "    }\n",
    "    \"\"\"\n",
    "    \n",
    "    def process_get_last_trade(response):\n",
    "        if 'errors' in response:\n",
    "            print('Errors:', response['errors'])\n",
    "            return pd.DataFrame()\n",
    "        \n",
    "        trades = response.get('data', {}).get('indexer_trades', [])\n",
    "        \n",
    "        last_trade_data = []\n",
    "        for trade in trades:\n",
    "            hero_id, rarity = trade['hero_rarity_index'].split('_')\n",
    "            last_trade_data.append({\n",
    "                'heroId': hero_id,\n",
    "                'rarity': f'rarity{rarity}',\n",
    "                'lastSalePrice': convert_to_eth(trade['price']),\n",
    "                'lastSaleTime': trade['timestamp']\n",
    "            })\n",
    "        \n",
    "        return pd.DataFrame(last_trade_data)\n",
    "    \n",
    "    \n",
    "    def get_last_trade(url, query, token):\n",
    "        response = send_graphql_request(url, query, token=token)\n",
    "        last_trade_df = process_get_last_trade(response)\n",
    "        return last_trade_df\n",
    "    \n",
    "    # Make the request and process the data\n",
    "    last_trade_df = get_last_trade(url_graphql, query_get_last_trade, token)\n",
    "    \n",
    "    # Pivot the DataFrame to get the desired format\n",
    "    pivoted_df = last_trade_df.pivot(index='heroId', columns='rarity', values=['lastSalePrice', 'lastSaleTime'])\n",
    "    pivoted_df.columns = [f'{col[1]}{col[0]}' for col in pivoted_df.columns]  # Flatten the MultiIndex columns\n",
    "    pivoted_df.reset_index(inplace=True)\n",
    "\n",
    "    pivoted_df = pivoted_df.rename(columns={'heroId': 'hero_id'})\n",
    "\n",
    "    return pivoted_df\n"
   ]
  },
  {
   "cell_type": "markdown",
   "id": "dd882eb8-9793-42bc-8250-6db9525a6add",
   "metadata": {},
   "source": [
    "## Tournaments"
   ]
  },
  {
   "cell_type": "markdown",
   "id": "b970b5f2-7ad3-417f-ad84-d7217d9f29cb",
   "metadata": {},
   "source": [
    "### Get Next Torunament (Submissions)"
   ]
  },
  {
   "cell_type": "code",
   "execution_count": 17,
   "id": "f35e3f98-45d3-4450-959a-ff58feb0c81a",
   "metadata": {},
   "outputs": [
    {
     "name": "stdout",
     "output_type": "stream",
     "text": [
      "Query: \n",
      "    query GET_NEXT_TOURNAMENTS($playerId: String!, $limit: Int = 10, $offset: Int = 0) {\n",
      "      tournaments_tournament(\n",
      "        where: {end_date: {_gte: \"now()\"}, is_visible: {_eq: true}}\n",
      "      ) {\n",
      "        id\n",
      "        name\n",
      "        description\n",
      "        start_date\n",
      "        end_date\n",
      "        is_main\n",
      "        tournament_number\n",
      "        flags\n",
      "        league\n",
      "        image\n",
      "        rewards {\n",
      "          type\n",
      "          distribution(path: \"[0].reward\")\n",
      "          total_supply\n",
      "        }\n",
      "        current_players_aggregate(where: {is_registered: {_eq: true}}) {\n",
      "          aggregate {\n",
      "            count\n",
      "          }\n",
      "        }\n",
      "        is_registered: current_players_aggregate(\n",
      "          where: {_and: {player_id: {_eq: $playerId}, is_registered: {_eq: true}}}\n",
      "        ) {\n",
      "          aggregate {\n",
      "            count\n",
      "          }\n",
      "        }\n",
      "      }\n",
      "    }\n",
      "    \n",
      "Variables: {'playerId': '0xDC0c171F4DB2790e565295c5287bCa9D4071EA1a'}\n"
     ]
    },
    {
     "ename": "Exception",
     "evalue": "Error fetching data: [{'message': 'Could not verify JWT: JWSError (CompactDecodeError Invalid number of parts: Expected 3 parts; got 1)', 'extensions': {'path': '$', 'code': 'invalid-jwt'}}]",
     "output_type": "error",
     "traceback": [
      "\u001b[1;31m---------------------------------------------------------------------------\u001b[0m",
      "\u001b[1;31mException\u001b[0m                                 Traceback (most recent call last)",
      "Cell \u001b[1;32mIn[17], line 65\u001b[0m\n\u001b[0;32m     61\u001b[0m \u001b[38;5;66;03m# Example usage to get next tournaments\u001b[39;00m\n\u001b[0;32m     62\u001b[0m player_id \u001b[38;5;241m=\u001b[39m \u001b[38;5;124m\"\u001b[39m\u001b[38;5;124m0xDC0c171F4DB2790e565295c5287bCa9D4071EA1a\u001b[39m\u001b[38;5;124m\"\u001b[39m\n\u001b[1;32m---> 65\u001b[0m next_tournaments \u001b[38;5;241m=\u001b[39m \u001b[43mget_next_tournaments\u001b[49m\u001b[43m(\u001b[49m\u001b[43mplayer_id\u001b[49m\u001b[43m,\u001b[49m\u001b[43m \u001b[49m\u001b[43mtoken\u001b[49m\u001b[43m)\u001b[49m\n\u001b[0;32m     66\u001b[0m next_tournaments_df \u001b[38;5;241m=\u001b[39m pd\u001b[38;5;241m.\u001b[39mDataFrame(next_tournaments)\n",
      "Cell \u001b[1;32mIn[17], line 56\u001b[0m, in \u001b[0;36mget_next_tournaments\u001b[1;34m(player_id, token, max_retries, delay)\u001b[0m\n\u001b[0;32m     54\u001b[0m         \u001b[38;5;28mprint\u001b[39m(\u001b[38;5;124mf\u001b[39m\u001b[38;5;124m\"\u001b[39m\u001b[38;5;124mQuery: \u001b[39m\u001b[38;5;132;01m{\u001b[39;00mquery_get_next_tournaments\u001b[38;5;132;01m}\u001b[39;00m\u001b[38;5;124m\"\u001b[39m)\n\u001b[0;32m     55\u001b[0m         \u001b[38;5;28mprint\u001b[39m(\u001b[38;5;124mf\u001b[39m\u001b[38;5;124m\"\u001b[39m\u001b[38;5;124mVariables: \u001b[39m\u001b[38;5;132;01m{\u001b[39;00mvariables\u001b[38;5;132;01m}\u001b[39;00m\u001b[38;5;124m\"\u001b[39m)\n\u001b[1;32m---> 56\u001b[0m         \u001b[38;5;28;01mraise\u001b[39;00m \u001b[38;5;167;01mException\u001b[39;00m(\u001b[38;5;124mf\u001b[39m\u001b[38;5;124m\"\u001b[39m\u001b[38;5;124mError fetching data: \u001b[39m\u001b[38;5;132;01m{\u001b[39;00mresponse[\u001b[38;5;124m'\u001b[39m\u001b[38;5;124merrors\u001b[39m\u001b[38;5;124m'\u001b[39m]\u001b[38;5;132;01m}\u001b[39;00m\u001b[38;5;124m\"\u001b[39m)\n\u001b[0;32m     57\u001b[0m \u001b[38;5;28;01melse\u001b[39;00m:\n\u001b[0;32m     58\u001b[0m     \u001b[38;5;28;01mreturn\u001b[39;00m response[\u001b[38;5;124m'\u001b[39m\u001b[38;5;124mdata\u001b[39m\u001b[38;5;124m'\u001b[39m][\u001b[38;5;124m'\u001b[39m\u001b[38;5;124mtournaments_tournament\u001b[39m\u001b[38;5;124m'\u001b[39m]\n",
      "\u001b[1;31mException\u001b[0m: Error fetching data: [{'message': 'Could not verify JWT: JWSError (CompactDecodeError Invalid number of parts: Expected 3 parts; got 1)', 'extensions': {'path': '$', 'code': 'invalid-jwt'}}]"
     ]
    }
   ],
   "source": [
    "# # Function to get the next tournaments\n",
    "# def get_next_tournaments(player_id, token, max_retries=5, delay=2):\n",
    "#     query_get_next_tournaments = \"\"\"\n",
    "#     query GET_NEXT_TOURNAMENTS($playerId: String!, $limit: Int = 10, $offset: Int = 0) {\n",
    "#       tournaments_tournament(\n",
    "#         where: {end_date: {_gte: \"now()\"}, is_visible: {_eq: true}}\n",
    "#       ) {\n",
    "#         id\n",
    "#         name\n",
    "#         description\n",
    "#         start_date\n",
    "#         end_date\n",
    "#         is_main\n",
    "#         tournament_number\n",
    "#         flags\n",
    "#         league\n",
    "#         image\n",
    "#         rewards {\n",
    "#           type\n",
    "#           distribution(path: \"[0].reward\")\n",
    "#           total_supply\n",
    "#         }\n",
    "#         current_players_aggregate(where: {is_registered: {_eq: true}}) {\n",
    "#           aggregate {\n",
    "#             count\n",
    "#           }\n",
    "#         }\n",
    "#         is_registered: current_players_aggregate(\n",
    "#           where: {_and: {player_id: {_eq: $playerId}, is_registered: {_eq: true}}}\n",
    "#         ) {\n",
    "#           aggregate {\n",
    "#             count\n",
    "#           }\n",
    "#         }\n",
    "#       }\n",
    "#     }\n",
    "#     \"\"\"\n",
    "    \n",
    "#     variables = {\n",
    "#         \"playerId\": player_id,\n",
    "#     }\n",
    "    \n",
    "#     retries = 0\n",
    "#     while retries < max_retries:\n",
    "#         response = send_graphql_request(url_graphql, query_get_next_tournaments, variables, token)\n",
    "#         if 'errors' in response:\n",
    "#             error_code = response['errors'][0]['extensions']['code']\n",
    "#             if error_code == 'rate-limit-exceeded':\n",
    "#                 print(f\"Rate limit exceeded, sleeping for {delay} seconds. Attempt {retries + 1}/{max_retries}\")\n",
    "#                 time.sleep(delay)\n",
    "#                 delay *= 2  # Exponential backoff\n",
    "#                 retries += 1\n",
    "#             else:\n",
    "#                 print(f\"Query: {query_get_next_tournaments}\")\n",
    "#                 print(f\"Variables: {variables}\")\n",
    "#                 raise Exception(f\"Error fetching data: {response['errors']}\")\n",
    "#         else:\n",
    "#             return response['data']['tournaments_tournament']\n",
    "#     raise Exception(\"Max retries exceeded\")\n",
    "\n",
    "# # Example usage to get next tournaments\n",
    "# player_id = \"0xDC0c171F4DB2790e565295c5287bCa9D4071EA1a\"\n",
    "\n",
    "\n",
    "# next_tournaments = get_next_tournaments(player_id, token)\n",
    "# next_tournaments_df = pd.DataFrame(next_tournaments)\n"
   ]
  },
  {
   "cell_type": "markdown",
   "id": "9f1bc309-262e-4602-9196-7f448a12ca35",
   "metadata": {},
   "source": [
    "### Get Tournament Entries"
   ]
  },
  {
   "cell_type": "code",
   "execution_count": 18,
   "id": "a3f4dec7-41bf-4b36-a1f3-1c0d9f2ee353",
   "metadata": {},
   "outputs": [],
   "source": [
    "# # Function to get current tournament player stats\n",
    "# def get_current_tournament_player_stats(player_id, tournament_id, tournament_id_string, token, max_retries=5, delay=2):\n",
    "#     query_get_current_tournament_player = \"\"\"\n",
    "#     query GET_CURRENT_TOURNAMENT_PLAYER($id: String!, $tournament_id: uuid!, $tournament_id_string: String!) {\n",
    "#       tournaments_current_players(\n",
    "#         where: {player_id: {_eq: $id}, tournament_id: {_eq: $tournament_id}}\n",
    "#       ) {\n",
    "#         id\n",
    "#         player_id\n",
    "#         player {\n",
    "#           id\n",
    "#           handle\n",
    "#           name\n",
    "#           profile_picture\n",
    "#           player_trades {\n",
    "#             rank\n",
    "#             total_volume\n",
    "#           }\n",
    "#           fantasy_points\n",
    "#           fantasy_points_referrals\n",
    "#         }\n",
    "#         score\n",
    "#         rank\n",
    "#         previous_rank\n",
    "#         card1\n",
    "#         card1_data {\n",
    "#           id\n",
    "#           owner\n",
    "#           gliding_score\n",
    "#           in_deck\n",
    "#           picture_url\n",
    "#           token_id\n",
    "#           hero_rarity_index\n",
    "#           sell_order {\n",
    "#             id\n",
    "#             price_numeric\n",
    "#           }\n",
    "#           hero {\n",
    "#             id\n",
    "#             name\n",
    "#             handle\n",
    "#             stars\n",
    "#             profile_image_url_https\n",
    "#             followers_count\n",
    "#             current_score {\n",
    "#               fantasy_score\n",
    "#               current_rank\n",
    "#             }\n",
    "#             tournament_scores(where: {id: {_eq: $tournament_id_string}}) {\n",
    "#               fantasy_score\n",
    "#               current_rank\n",
    "#               views\n",
    "#             }\n",
    "#           }\n",
    "#         }\n",
    "#         card2\n",
    "#         card2_data {\n",
    "#           id\n",
    "#           owner\n",
    "#           gliding_score\n",
    "#           in_deck\n",
    "#           picture_url\n",
    "#           token_id\n",
    "#           hero_rarity_index\n",
    "#           sell_order {\n",
    "#             id\n",
    "#             price_numeric\n",
    "#           }\n",
    "#           hero {\n",
    "#             id\n",
    "#             name\n",
    "#             handle\n",
    "#             stars\n",
    "#             profile_image_url_https\n",
    "#             followers_count\n",
    "#             current_score {\n",
    "#               fantasy_score\n",
    "#               current_rank\n",
    "#             }\n",
    "#             tournament_scores(where: {id: {_eq: $tournament_id_string}}) {\n",
    "#               fantasy_score\n",
    "#               current_rank\n",
    "#               views\n",
    "#             }\n",
    "#           }\n",
    "#         }\n",
    "#         card3\n",
    "#         card3_data {\n",
    "#           id\n",
    "#           owner\n",
    "#           gliding_score\n",
    "#           in_deck\n",
    "#           picture_url\n",
    "#           token_id\n",
    "#           hero_rarity_index\n",
    "#           sell_order {\n",
    "#             id\n",
    "#             price_numeric\n",
    "#           }\n",
    "#           hero {\n",
    "#             id\n",
    "#             name\n",
    "#             handle\n",
    "#             stars\n",
    "#             profile_image_url_https\n",
    "#             followers_count\n",
    "#             current_score {\n",
    "#               fantasy_score\n",
    "#               current_rank\n",
    "#             }\n",
    "#             tournament_scores(where: {id: {_eq: $tournament_id_string}}) {\n",
    "#               fantasy_score\n",
    "#               current_rank\n",
    "#               views\n",
    "#             }\n",
    "#           }\n",
    "#         }\n",
    "#         card4\n",
    "#         card4_data {\n",
    "#           id\n",
    "#           owner\n",
    "#           gliding_score\n",
    "#           in_deck\n",
    "#           picture_url\n",
    "#           token_id\n",
    "#           hero_rarity_index\n",
    "#           sell_order {\n",
    "#             id\n",
    "#             price_numeric\n",
    "#           }\n",
    "#           hero {\n",
    "#             id\n",
    "#             name\n",
    "#             handle\n",
    "#             stars\n",
    "#             profile_image_url_https\n",
    "#             followers_count\n",
    "#             current_score {\n",
    "#               fantasy_score\n",
    "#               current_rank\n",
    "#             }\n",
    "#             tournament_scores(where: {id: {_eq: $tournament_id_string}}) {\n",
    "#               fantasy_score\n",
    "#               current_rank\n",
    "#               views\n",
    "#             }\n",
    "#           }\n",
    "#         }\n",
    "#         card5\n",
    "#         card5_data {\n",
    "#           id\n",
    "#           owner\n",
    "#           gliding_score\n",
    "#           in_deck\n",
    "#           picture_url\n",
    "#           token_id\n",
    "#           hero_rarity_index\n",
    "#           sell_order {\n",
    "#             id\n",
    "#             price_numeric\n",
    "#           }\n",
    "#           hero {\n",
    "#             id\n",
    "#             name\n",
    "#             handle\n",
    "#             stars\n",
    "#             profile_image_url_https\n",
    "#             followers_count\n",
    "#             current_score {\n",
    "#               fantasy_score\n",
    "#               current_rank\n",
    "#             }\n",
    "#             tournament_scores(where: {id: {_eq: $tournament_id_string}}) {\n",
    "#               fantasy_score\n",
    "#               current_rank\n",
    "#               views\n",
    "#             }\n",
    "#           }\n",
    "#         }\n",
    "#       }\n",
    "#     }\n",
    "#     \"\"\"\n",
    "    \n",
    "#     variables = {\n",
    "#         \"id\": player_id,\n",
    "#         \"tournament_id\": tournament_id,\n",
    "#         \"tournament_id_string\": tournament_id_string\n",
    "#     }\n",
    "    \n",
    "#     retries = 0\n",
    "#     while retries < max_retries:\n",
    "#         response = send_graphql_request(url_graphql, query_get_current_tournament_player, variables, token)\n",
    "#         if 'errors' in response:\n",
    "#             error_code = response['errors'][0]['extensions']['code']\n",
    "#             if error_code == 'rate-limit-exceeded':\n",
    "#                 print(f\"Rate limit exceeded, sleeping for {delay} seconds. Attempt {retries + 1}/{max_retries}\")\n",
    "#                 time.sleep(delay)\n",
    "#                 delay *= 2  # Exponential backoff\n",
    "#                 retries += 1\n",
    "#             else:\n",
    "#                 raise Exception(f\"Error fetching data: {response['errors']}\")\n",
    "#         else:\n",
    "#             return response['data']['tournaments_current_players']\n",
    "#     raise Exception(\"Max retries exceeded\")\n",
    "\n",
    "# # Main function to fetch and save tournament data\n",
    "# def fetch_and_save_tournament_data(player_id, token):\n",
    "#     try:\n",
    "#         next_tournaments = get_next_tournaments(player_id, token)\n",
    "#         next_tournaments_df = pd.DataFrame(next_tournaments)\n",
    "#         print(\"Next Tournaments:\")\n",
    "#         print(next_tournaments_df)\n",
    "        \n",
    "#         # Iterate through the fetched tournaments and get stats if the player is registered\n",
    "#         for idx, tournament in next_tournaments_df.iterrows():\n",
    "#             is_registered = tournament['is_registered']['aggregate']['count']\n",
    "#             if is_registered > 0:\n",
    "#                 tournament_id = tournament['id']\n",
    "#                 simplified_name = tournament['name'].replace(' ', '_')\n",
    "#                 print(f\"Fetching stats for tournament: {simplified_name} (ID: {tournament_id})\")\n",
    "                \n",
    "#                 try:\n",
    "#                     tournament_stats = get_current_tournament_player_stats(player_id, tournament_id, tournament_id, token)\n",
    "                    \n",
    "#                     # Process the stats to create a DataFrame\n",
    "#                     card_list = []\n",
    "#                     entry_id = 1\n",
    "#                     for entry in tournament_stats:\n",
    "#                         for i in range(1, 6):\n",
    "#                             card_key = f'card{i}_data'\n",
    "#                             if card_key in entry:\n",
    "#                                 card_data = entry[card_key]\n",
    "#                                 hero_data = card_data['hero']\n",
    "#                                 card_info = {\n",
    "#                                     'entry_id': entry_id,\n",
    "#                                     'card_id': card_data['id'],\n",
    "#                                     'card_owner': card_data['owner'],\n",
    "#                                     'gliding_score': card_data['gliding_score'],\n",
    "#                                     'card_in_deck': card_data['in_deck'],\n",
    "#                                     'picture_url': card_data['picture_url'],\n",
    "#                                     'token_id': card_data['token_id'],\n",
    "#                                     'hero_rarity_index': card_data['hero_rarity_index'],\n",
    "#                                     'hero_id': hero_data['id'],\n",
    "#                                     'hero_name': hero_data['name'],\n",
    "#                                     'hero_handle': hero_data['handle'],\n",
    "#                                     'hero_profile_image_url': hero_data['profile_image_url_https'],\n",
    "#                                     'hero_followers_count': hero_data['followers_count'],\n",
    "#                                     'hero_stars': hero_data['stars'],\n",
    "#                                     'hero_fantasy_score': hero_data['current_score']['fantasy_score'],\n",
    "#                                     'hero_current_rank': hero_data['current_score']['current_rank'],\n",
    "#                                     'tournament_fantasy_score': hero_data['tournament_scores'][0]['fantasy_score'] if hero_data['tournament_scores'] else 0,\n",
    "#                                     'tournament_current_rank': hero_data['tournament_scores'][0]['current_rank'] if hero_data['tournament_scores'] else 0,\n",
    "#                                     'tournament_views': hero_data['tournament_scores'][0]['views'] if hero_data['tournament_scores'] else 0\n",
    "#                                 }\n",
    "#                                 card_list.append(card_info)\n",
    "#                         entry_id += 1\n",
    "                    \n",
    "#                     upcoming_tournament_df = pd.DataFrame(card_list)\n",
    "#                     print(f\"DataFrame for {simplified_name} created with {len(upcoming_tournament_df)} rows\")\n",
    "#                     globals()[f\"upcoming_{simplified_name}_df\"] = upcoming_tournament_df  # Save DataFrame with the appropriate name\n",
    "#                     save_df_as_csv(upcoming_tournament_df, f\"upcoming_{simplified_name}\", folder=\"data\")\n",
    "#                 except Exception as e:\n",
    "#                     print(f\"Failed to fetch data for tournament {tournament_id} with error: {str(e)}\")\n",
    "#     except Exception as e:\n",
    "#         print(str(e))"
   ]
  },
  {
   "cell_type": "markdown",
   "id": "316c7561-9820-4907-ae24-e858e9df9ac7",
   "metadata": {},
   "source": [
    "### Get Tournaments List"
   ]
  },
  {
   "cell_type": "code",
   "execution_count": 20,
   "id": "b99c167a-90e4-4621-8c9a-d34448d9644f",
   "metadata": {},
   "outputs": [
    {
     "name": "stdout",
     "output_type": "stream",
     "text": [
      "                                      id                         name  \\\n",
      "0   d257197f-15e3-440f-bd02-3e3546486d46                         Gold   \n",
      "1   1190639b-58b5-407f-b6d0-accaebf3ee05                       Bronze   \n",
      "2   11413b0b-3798-4e54-8d3a-c059588cdd6c                        Elite   \n",
      "3   816ae5aa-2cdb-4631-8719-1f03c648de8e                       Silver   \n",
      "4   a7863482-05c1-43d3-af29-54107a9fbdaf                        Elite   \n",
      "5   563eb931-fd4e-4f53-8c44-4e7339da825b                         Gold   \n",
      "6   9c9bd433-a346-4ea9-b845-0fde7fdac5c9                       Silver   \n",
      "7   6d37c0f0-671c-44df-9fbd-ccd4fb827d35                       Bronze   \n",
      "8   96a55828-f71a-4c3f-b5f2-0eb883f97f6a                        Elite   \n",
      "9   a0fd9f04-4c53-4c78-8984-8ffc1e1f9f0c                       Silver   \n",
      "10  7f1459b5-9935-4eef-a26f-ae9ce3224cb8                       Bronze   \n",
      "11  d0cb589a-2ddb-40d1-880c-37aa1f021774                         Gold   \n",
      "12  453e8ff2-26c8-4b1b-8d4c-7ea102bd5953                       Bronze   \n",
      "13  55f2fe75-a8b4-4f73-aa5b-d062c1f51130                        Elite   \n",
      "14  268428dd-e6cc-41d4-9b3b-a7bbf66266f1                         Gold   \n",
      "15  86a27962-3503-4b3f-bad5-24c58d028011                       Silver   \n",
      "16  d64ad487-bc24-4d84-9d5e-b2364b676d64                        Elite   \n",
      "17  132cab73-e3f8-41f9-80af-90ea91bbe6bd                       Bronze   \n",
      "18  fb9801d0-2f51-49e3-87ac-8eec9f76a556                         Gold   \n",
      "19  c5b01735-41de-44c8-8203-6d9f26a01166                       Silver   \n",
      "20  e2194173-1da2-465c-afe6-fbae8cbec043                       Bronze   \n",
      "21  37c4f87a-8b3a-4915-960c-00a3fc3258a5                        Elite   \n",
      "22  f8119cd2-eb27-4569-938e-ecd76a99f9f3                         Gold   \n",
      "23  a2a0ace9-859c-4c4c-81e9-75c4c178319d                       Silver   \n",
      "24  c1b061d4-aeac-400e-9a4a-007ea8eb65d8                         Gold   \n",
      "25  cbc54ece-3f68-4e41-93e3-07f53a491100                       Silver   \n",
      "26  cd041022-d3fd-4966-964f-2cbf3d13645f                       Bronze   \n",
      "27  c1527319-17c7-4913-a735-19de55f6a7ab                        Elite   \n",
      "28  ec47fb9c-33ce-41c7-8530-7395a855d7aa                         Gold   \n",
      "29  aafc48b2-a944-425c-b5ce-0104157829a3                       Silver   \n",
      "30  d45bd989-078b-40d3-be36-ffac9ab0c9ce                       Bronze   \n",
      "31  dbd95fa2-7030-43f5-b376-299f335e0778                        Elite   \n",
      "32  009a5aa3-24d4-4dd8-8f8d-fb1ea56cfa3d                       Silver   \n",
      "33  76ac8b0f-41cb-48a3-906b-cb8e3b85b05f                         Gold   \n",
      "34  64b6bd2a-85af-43f1-997c-46899af3c46b                        Elite   \n",
      "35  f5084ccf-7e8e-4af9-9e36-acabc105da72                       Bronze   \n",
      "36  984c5b76-ccfd-4f25-9804-2e7ff26d0beb             Main Competition   \n",
      "37  984c4b77-ccfd-4f25-9804-2e7ff26d0beb             Main Competition   \n",
      "38  984c5b77-ccfd-4f25-9804-2e7ff26d0beb             Main Competition   \n",
      "39  984c5c76-ccfd-4f25-9804-2e7ff26d0beb             Main Competition   \n",
      "40  941cb41d-6cb9-4fc1-8f4d-1acd843ce219       All Rarities | 22 days   \n",
      "41  5cca59e3-c861-439e-84da-8e3e6ff0842a   Common Only ✳️ Capped 15 🌟   \n",
      "42  8b10c080-34af-4005-b66e-8afef943566f                  Rare Only 💠   \n",
      "43  fd1df283-de8b-41bf-b06f-d5a6160d8cf2  Common Only ✳️ Capped 20 🌟    \n",
      "44  d821acfd-0c9f-439b-8765-93aef1966592              Main Tournament   \n",
      "45  d292083b-3516-4754-8fd6-f7417472290c              Main Tournament   \n",
      "46  ad0cb5e8-0a8a-40a8-9b7d-07dc4441f54b              Main Tournament   \n",
      "47  50d1bb18-c18e-4502-b9cd-e0bc9fd709c6             Flash Tournament   \n",
      "\n",
      "                                          description  \\\n",
      "0                                        Gold main 12   \n",
      "1                                      Bronze main 12   \n",
      "2                                       Elite main 12   \n",
      "3                                      Silver main 12   \n",
      "4                                       Elite main 11   \n",
      "5                                        Gold main 11   \n",
      "6                                      Silver main 11   \n",
      "7                                      Bronze main 11   \n",
      "8                                       Elite main 10   \n",
      "9                                      Silver main 10   \n",
      "10                                     Bronze main 10   \n",
      "11                                       Gold main 10   \n",
      "12                                      Bronze main 9   \n",
      "13                                       Elite main 9   \n",
      "14                                        Gold main 9   \n",
      "15                                      Silver main 9   \n",
      "16                                       Elite main 8   \n",
      "17                                      Bronze main 8   \n",
      "18                                        Gold main 8   \n",
      "19                                      Silver main 8   \n",
      "20                                      Bronze main 7   \n",
      "21                                       Elite main 7   \n",
      "22                                        Gold main 7   \n",
      "23                                      Silver main 7   \n",
      "24                                        Gold main 6   \n",
      "25                                      Silver main 6   \n",
      "26                                      Bronze main 6   \n",
      "27                                       Elite main 6   \n",
      "28                                        Gold main 5   \n",
      "29                                      Silver main 5   \n",
      "30                                      Bronze main 5   \n",
      "31                                       Elite main 5   \n",
      "32                                        Silver main   \n",
      "33                                          Gold main   \n",
      "34                                         Elite main   \n",
      "35                                             Bronze   \n",
      "36                                               main   \n",
      "37                                               main   \n",
      "38                                               main   \n",
      "39                                               main   \n",
      "40                         Every rarities for 22 days   \n",
      "41  the fewer stars the more tactical. who will yo...   \n",
      "42          rare only – will not overlap with main 3    \n",
      "43            Only common cards with 20 stars maximum   \n",
      "44                                                      \n",
      "45                                                      \n",
      "46                                                      \n",
      "47                               Flash Tournamnet 48h   \n",
      "\n",
      "                   start_date                   end_date  start_day  \\\n",
      "0   2024-08-12T15:00:00+00:00  2024-08-15T14:00:00+00:00     Monday   \n",
      "1   2024-08-12T15:00:00+00:00  2024-08-15T14:00:00+00:00     Monday   \n",
      "2   2024-08-12T15:00:00+00:00  2024-08-15T14:00:00+00:00     Monday   \n",
      "3   2024-08-12T15:00:00+00:00  2024-08-15T14:00:00+00:00     Monday   \n",
      "4   2024-08-05T15:00:00+00:00  2024-08-08T14:00:00+00:00     Monday   \n",
      "5   2024-08-05T15:00:00+00:00  2024-08-08T14:00:00+00:00     Monday   \n",
      "6   2024-08-05T15:00:00+00:00  2024-08-08T14:00:00+00:00     Monday   \n",
      "7   2024-08-05T15:00:00+00:00  2024-08-08T14:00:00+00:00     Monday   \n",
      "8   2024-07-29T15:00:00+00:00  2024-08-01T14:00:00+00:00     Monday   \n",
      "9   2024-07-29T15:00:00+00:00  2024-08-01T14:00:00+00:00     Monday   \n",
      "10  2024-07-29T15:00:00+00:00  2024-08-01T14:00:00+00:00     Monday   \n",
      "11  2024-07-29T15:00:00+00:00  2024-08-01T14:00:00+00:00     Monday   \n",
      "12  2024-07-22T15:00:00+00:00  2024-07-25T14:00:00+00:00     Monday   \n",
      "13  2024-07-22T15:00:00+00:00  2024-07-25T14:00:00+00:00     Monday   \n",
      "14  2024-07-22T15:00:00+00:00  2024-07-25T14:00:00+00:00     Monday   \n",
      "15  2024-07-22T15:00:00+00:00  2024-07-25T14:00:00+00:00     Monday   \n",
      "16  2024-07-15T15:00:00+00:00  2024-07-18T15:00:00+00:00     Monday   \n",
      "17  2024-07-15T15:00:00+00:00  2024-07-18T15:00:00+00:00     Monday   \n",
      "18  2024-07-15T15:00:00+00:00  2024-07-18T15:00:00+00:00     Monday   \n",
      "19  2024-07-15T15:00:00+00:00  2024-07-18T15:00:00+00:00     Monday   \n",
      "20  2024-07-08T15:00:00+00:00  2024-07-11T15:00:00+00:00     Monday   \n",
      "21  2024-07-08T15:00:00+00:00  2024-07-11T15:00:00+00:00     Monday   \n",
      "22  2024-07-08T15:00:00+00:00  2024-07-11T15:00:00+00:00     Monday   \n",
      "23  2024-07-08T15:00:00+00:00  2024-07-11T15:00:00+00:00     Monday   \n",
      "24  2024-06-22T15:00:00+00:00  2024-06-24T06:00:00+00:00   Saturday   \n",
      "25  2024-06-22T15:00:00+00:00  2024-06-24T06:00:00+00:00   Saturday   \n",
      "26  2024-06-22T15:00:00+00:00  2024-06-24T06:00:00+00:00   Saturday   \n",
      "27  2024-06-22T15:00:00+00:00  2024-06-24T06:00:00+00:00   Saturday   \n",
      "28  2024-06-17T21:00:00+00:00  2024-06-20T21:00:00+00:00     Monday   \n",
      "29  2024-06-17T21:00:00+00:00  2024-06-20T21:00:00+00:00     Monday   \n",
      "30  2024-06-17T21:00:00+00:00  2024-06-20T21:00:00+00:00     Monday   \n",
      "31  2024-06-17T21:00:00+00:00  2024-06-20T21:00:00+00:00     Monday   \n",
      "32  2024-06-10T21:00:00+00:00  2024-06-13T21:00:00+00:00     Monday   \n",
      "33  2024-06-10T21:00:00+00:00  2024-06-13T21:00:00+00:00     Monday   \n",
      "34  2024-06-10T21:00:00+00:00  2024-06-13T21:00:00+00:00     Monday   \n",
      "35  2024-06-10T21:00:00+00:00  2024-06-13T21:00:00+00:00     Monday   \n",
      "36  2024-05-28T21:00:00+00:00  2024-06-01T21:00:00+00:00    Tuesday   \n",
      "37  2024-05-28T21:00:00+00:00  2024-06-01T21:00:00+00:00    Tuesday   \n",
      "38  2024-05-28T21:00:00+00:00  2024-06-01T21:00:00+00:00    Tuesday   \n",
      "39  2024-05-28T21:00:00+00:00  2024-06-01T21:00:00+00:00    Tuesday   \n",
      "40  2024-05-24T13:00:00+00:00  2024-06-15T13:00:00+00:00     Friday   \n",
      "41  2024-05-22T23:00:00+00:00  2024-05-28T23:00:00+00:00  Wednesday   \n",
      "42  2024-05-19T22:00:00+00:00  2024-05-22T22:00:00+00:00     Sunday   \n",
      "43  2024-05-16T18:00:00+00:00  2024-05-20T18:00:00+00:00   Thursday   \n",
      "44  2024-05-14T21:00:00+00:00  2024-05-17T21:00:00+00:00    Tuesday   \n",
      "45  2024-05-14T21:00:00+00:00  2024-05-17T21:00:00+00:00    Tuesday   \n",
      "46  2024-05-06T19:00:00+00:00  2024-05-08T16:25:00+00:00     Monday   \n",
      "47  2024-05-02T18:00:00+00:00  2024-05-04T18:00:00+00:00   Thursday   \n",
      "\n",
      "      end_day  is_main  league  tournament_number  player_history_count  \\\n",
      "0    Thursday     True     2.0               12.0                     0   \n",
      "1    Thursday     True     4.0               12.0                     0   \n",
      "2    Thursday     True     1.0               12.0                     0   \n",
      "3    Thursday     True     3.0               12.0                     0   \n",
      "4    Thursday     True     1.0               11.0                     0   \n",
      "5    Thursday     True     2.0               11.0                     0   \n",
      "6    Thursday     True     3.0               11.0                     0   \n",
      "7    Thursday     True     4.0               11.0                     0   \n",
      "8    Thursday     True     1.0               10.0                     0   \n",
      "9    Thursday     True     3.0               10.0                     0   \n",
      "10   Thursday     True     4.0               10.0                     0   \n",
      "11   Thursday     True     2.0               10.0                     0   \n",
      "12   Thursday     True     4.0                9.0                     0   \n",
      "13   Thursday     True     1.0                9.0                     0   \n",
      "14   Thursday     True     2.0                9.0                     0   \n",
      "15   Thursday     True     3.0                9.0                     0   \n",
      "16   Thursday     True     1.0                8.0                     0   \n",
      "17   Thursday     True     4.0                8.0                     0   \n",
      "18   Thursday     True     2.0                8.0                     0   \n",
      "19   Thursday     True     3.0                8.0                     0   \n",
      "20   Thursday     True     4.0                7.0                     0   \n",
      "21   Thursday     True     1.0                7.0                     0   \n",
      "22   Thursday     True     2.0                7.0                     0   \n",
      "23   Thursday     True     3.0                7.0                     0   \n",
      "24     Monday     True     2.0                6.0                     0   \n",
      "25     Monday     True     3.0                6.0                     0   \n",
      "26     Monday     True     4.0                6.0                     0   \n",
      "27     Monday     True     1.0                6.0                     0   \n",
      "28   Thursday     True     2.0                5.0                     0   \n",
      "29   Thursday     True     3.0                5.0                     0   \n",
      "30   Thursday     True     4.0                5.0                     0   \n",
      "31   Thursday     True     1.0                5.0                     0   \n",
      "32   Thursday     True     3.0                4.0                     0   \n",
      "33   Thursday     True     2.0                4.0                     0   \n",
      "34   Thursday     True     1.0                4.0                     0   \n",
      "35   Thursday     True     4.0                4.0                     0   \n",
      "36   Saturday     True     5.0                3.0                     0   \n",
      "37   Saturday     True     2.0                3.0                     0   \n",
      "38   Saturday     True     3.0                3.0                     0   \n",
      "39   Saturday     True     4.0                3.0                     0   \n",
      "40   Saturday    False     NaN                NaN                     0   \n",
      "41    Tuesday    False     NaN                NaN                     0   \n",
      "42  Wednesday    False     NaN                NaN                     0   \n",
      "43     Monday    False     NaN                NaN                     0   \n",
      "44     Friday     True     5.0                2.0                     0   \n",
      "45     Friday     True     4.0                2.0                     0   \n",
      "46  Wednesday     True     5.0                1.0                     0   \n",
      "47   Saturday    False     NaN                NaN                     0   \n",
      "\n",
      "    total_players_count reward_type  reward_distribution  reward_total_supply  \n",
      "0                  2585        STAR                  NaN                    1  \n",
      "1                  9463        GOLD                260.0                40000  \n",
      "2                  1531        STAR                  NaN                    1  \n",
      "3                  4613        STAR                  NaN                    1  \n",
      "4                  1532        STAR                  NaN                    1  \n",
      "5                  2729        STAR                  NaN                    1  \n",
      "6                  4422        STAR                  NaN                    1  \n",
      "7                  8737        STAR                  NaN                    1  \n",
      "8                  1579        STAR                  NaN                    1  \n",
      "9                  4459        STAR                  NaN                    1  \n",
      "10                 8897        STAR                  NaN                    1  \n",
      "11                 2581        STAR                  NaN                    1  \n",
      "12                 8899        STAR                  NaN                    1  \n",
      "13                 1483        STAR                  NaN                    1  \n",
      "14                 2674        STAR                  NaN                    1  \n",
      "15                 4792        STAR                  NaN                    1  \n",
      "16                 1629        STAR                  NaN                    1  \n",
      "17                 7535        STAR                  NaN                    1  \n",
      "18                 2594        STAR                  NaN                    1  \n",
      "19                 4281        STAR                  NaN                    1  \n",
      "20                 8319        STAR                  NaN                    1  \n",
      "21                 1227        STAR                  NaN                    1  \n",
      "22                 2057        STAR                  NaN                    1  \n",
      "23                 4423        STAR                  NaN                    1  \n",
      "24                 2339        STAR                  NaN                    1  \n",
      "25                 5447        PACK                  6.0                    0  \n",
      "26                 9018        STAR                  NaN                    1  \n",
      "27                 1245        PACK                 10.0                    0  \n",
      "28                 2720        GOLD               3194.0               255555  \n",
      "29                 6050        PACK                  6.0                    0  \n",
      "30                10277        STAR                  NaN                    1  \n",
      "31                 1771        GOLD               4267.0               266666  \n",
      "32                 5025        STAR                  NaN                    1  \n",
      "33                 2148        STAR                  NaN                    1  \n",
      "34                 1177         ETH                  0.7                   14  \n",
      "35                 9706        STAR                  NaN                    1  \n",
      "36                 2163        PACK                  5.0                    0  \n",
      "37                 1083         FAN             384000.0                    1  \n",
      "38                 2578         FAN             108054.0                    1  \n",
      "39                 2681        STAR                  NaN                    1  \n",
      "40                 3957         FAN             225000.0                    1  \n",
      "41                 8403         FAN              75000.0                    1  \n",
      "42                 2554         FAN             120000.0                    1  \n",
      "43                 9610        PACK                  5.0                    0  \n",
      "44                 6326        STAR                  NaN                    1  \n",
      "45                 6449         FAN             500000.0             50000000  \n",
      "46                17972        PACK                 10.0                    0  \n",
      "47                13346        STAR                  NaN                    1  \n"
     ]
    }
   ],
   "source": [
    "# Define the new query\n",
    "query_get_tournaments_by_time = \"\"\"\n",
    "query GET_TOURNAMENTS_BY_TIME($gte: timestamptz!, $lte: timestamptz!, $player_id: String!) {\n",
    "  tournaments_tournament(\n",
    "    where: {start_date: {_gte: $gte, _lte: $lte}}\n",
    "    order_by: {start_date: desc}\n",
    "  ) {\n",
    "    id\n",
    "    name\n",
    "    description\n",
    "    start_date\n",
    "    end_date\n",
    "    is_main\n",
    "    league\n",
    "    tournament_number\n",
    "    player_history_count: players_history_aggregate(\n",
    "      where: {player_id: {_eq: $player_id}}\n",
    "    ) {\n",
    "      aggregate {\n",
    "        count\n",
    "      }\n",
    "    }\n",
    "    total_players_count: players_history_aggregate {\n",
    "      aggregate {\n",
    "        count\n",
    "      }\n",
    "    }\n",
    "    rewards {\n",
    "      type\n",
    "      distribution(path: \"[0].reward\")\n",
    "      total_supply\n",
    "    }\n",
    "  }\n",
    "}\n",
    "\"\"\"\n",
    "\n",
    "def parse_datetime(date_str):\n",
    "    try:\n",
    "        return datetime.strptime(date_str, '%Y-%m-%dT%H:%M:%S.%fZ')\n",
    "    except ValueError:\n",
    "        return datetime.strptime(date_str, '%Y-%m-%dT%H:%M:%S%z')\n",
    "        \n",
    "\n",
    "def process_get_tournaments_by_time(response):\n",
    "    if 'errors' in response:\n",
    "        print('Errors:', response['errors'])\n",
    "        return pd.DataFrame()\n",
    "    \n",
    "    tournaments = response.get('data', {}).get('tournaments_tournament', [])\n",
    "    \n",
    "    tournaments_data = []\n",
    "    for tournament in tournaments:\n",
    "        rewards_data = tournament.get('rewards', [{}])[0]\n",
    "        tournaments_data.append({\n",
    "            'id': tournament['id'],\n",
    "            'name': tournament['name'],\n",
    "            'description': tournament['description'],\n",
    "            'start_date': tournament['start_date'],\n",
    "            'end_date': tournament['end_date'],\n",
    "            'start_day': parse_datetime(tournament['start_date']).strftime('%A'), \n",
    "            'end_day': parse_datetime(tournament['end_date']).strftime('%A'),\n",
    "            'is_main': tournament['is_main'],\n",
    "            'league': tournament['league'],\n",
    "            'tournament_number': tournament['tournament_number'],\n",
    "            'player_history_count': tournament['player_history_count']['aggregate']['count'],\n",
    "            'total_players_count': tournament['total_players_count']['aggregate']['count'],\n",
    "            'reward_type': rewards_data.get('type'),\n",
    "            'reward_distribution': rewards_data.get('distribution'),\n",
    "            'reward_total_supply': rewards_data.get('total_supply')\n",
    "        })\n",
    "    \n",
    "    return pd.DataFrame(tournaments_data)\n",
    "\n",
    "def get_tournaments_by_time(url, query, gte, lte, player_id, token):\n",
    "    variables = {\n",
    "        \"gte\": gte,\n",
    "        \"lte\": lte,\n",
    "        \"player_id\": player_id\n",
    "    }\n",
    "    \n",
    "    response = send_graphql_request(url, query, variables, token=token)\n",
    "    tournaments_df = process_get_tournaments_by_time(response)\n",
    "    return tournaments_df\n",
    "\n",
    "# Example usage\n",
    "gte = \"1970-01-01T00:00:00.000Z\"\n",
    "lte = datetime.now().strftime(\"%Y-%m-%dT%H:%M:%S.%fZ\")\n",
    "player_id = \"\"  \n",
    "\n",
    "tournaments_df = get_tournaments_by_time(url_graphql, query_get_tournaments_by_time, gte, lte, player_id, token)\n",
    "\n",
    "# Display the DataFrame\n",
    "print(tournaments_df)"
   ]
  },
  {
   "cell_type": "code",
   "execution_count": 21,
   "id": "bc066b1f",
   "metadata": {},
   "outputs": [
    {
     "data": {
      "text/html": [
       "<div>\n",
       "<style scoped>\n",
       "    .dataframe tbody tr th:only-of-type {\n",
       "        vertical-align: middle;\n",
       "    }\n",
       "\n",
       "    .dataframe tbody tr th {\n",
       "        vertical-align: top;\n",
       "    }\n",
       "\n",
       "    .dataframe thead th {\n",
       "        text-align: right;\n",
       "    }\n",
       "</style>\n",
       "<table border=\"1\" class=\"dataframe\">\n",
       "  <thead>\n",
       "    <tr style=\"text-align: right;\">\n",
       "      <th></th>\n",
       "      <th>id</th>\n",
       "      <th>name</th>\n",
       "      <th>description</th>\n",
       "      <th>start_date</th>\n",
       "      <th>end_date</th>\n",
       "      <th>start_day</th>\n",
       "      <th>end_day</th>\n",
       "      <th>is_main</th>\n",
       "      <th>league</th>\n",
       "      <th>tournament_number</th>\n",
       "      <th>player_history_count</th>\n",
       "      <th>total_players_count</th>\n",
       "      <th>reward_type</th>\n",
       "      <th>reward_distribution</th>\n",
       "      <th>reward_total_supply</th>\n",
       "    </tr>\n",
       "  </thead>\n",
       "  <tbody>\n",
       "    <tr>\n",
       "      <th>0</th>\n",
       "      <td>d257197f-15e3-440f-bd02-3e3546486d46</td>\n",
       "      <td>Gold</td>\n",
       "      <td>Gold main 12</td>\n",
       "      <td>2024-08-12T15:00:00+00:00</td>\n",
       "      <td>2024-08-15T14:00:00+00:00</td>\n",
       "      <td>Monday</td>\n",
       "      <td>Thursday</td>\n",
       "      <td>True</td>\n",
       "      <td>2.0</td>\n",
       "      <td>12.0</td>\n",
       "      <td>0</td>\n",
       "      <td>2585</td>\n",
       "      <td>STAR</td>\n",
       "      <td>NaN</td>\n",
       "      <td>1</td>\n",
       "    </tr>\n",
       "    <tr>\n",
       "      <th>1</th>\n",
       "      <td>1190639b-58b5-407f-b6d0-accaebf3ee05</td>\n",
       "      <td>Bronze</td>\n",
       "      <td>Bronze main 12</td>\n",
       "      <td>2024-08-12T15:00:00+00:00</td>\n",
       "      <td>2024-08-15T14:00:00+00:00</td>\n",
       "      <td>Monday</td>\n",
       "      <td>Thursday</td>\n",
       "      <td>True</td>\n",
       "      <td>4.0</td>\n",
       "      <td>12.0</td>\n",
       "      <td>0</td>\n",
       "      <td>9463</td>\n",
       "      <td>GOLD</td>\n",
       "      <td>260.0</td>\n",
       "      <td>40000</td>\n",
       "    </tr>\n",
       "    <tr>\n",
       "      <th>2</th>\n",
       "      <td>11413b0b-3798-4e54-8d3a-c059588cdd6c</td>\n",
       "      <td>Elite</td>\n",
       "      <td>Elite main 12</td>\n",
       "      <td>2024-08-12T15:00:00+00:00</td>\n",
       "      <td>2024-08-15T14:00:00+00:00</td>\n",
       "      <td>Monday</td>\n",
       "      <td>Thursday</td>\n",
       "      <td>True</td>\n",
       "      <td>1.0</td>\n",
       "      <td>12.0</td>\n",
       "      <td>0</td>\n",
       "      <td>1531</td>\n",
       "      <td>STAR</td>\n",
       "      <td>NaN</td>\n",
       "      <td>1</td>\n",
       "    </tr>\n",
       "    <tr>\n",
       "      <th>3</th>\n",
       "      <td>816ae5aa-2cdb-4631-8719-1f03c648de8e</td>\n",
       "      <td>Silver</td>\n",
       "      <td>Silver main 12</td>\n",
       "      <td>2024-08-12T15:00:00+00:00</td>\n",
       "      <td>2024-08-15T14:00:00+00:00</td>\n",
       "      <td>Monday</td>\n",
       "      <td>Thursday</td>\n",
       "      <td>True</td>\n",
       "      <td>3.0</td>\n",
       "      <td>12.0</td>\n",
       "      <td>0</td>\n",
       "      <td>4613</td>\n",
       "      <td>STAR</td>\n",
       "      <td>NaN</td>\n",
       "      <td>1</td>\n",
       "    </tr>\n",
       "    <tr>\n",
       "      <th>4</th>\n",
       "      <td>a7863482-05c1-43d3-af29-54107a9fbdaf</td>\n",
       "      <td>Elite</td>\n",
       "      <td>Elite main 11</td>\n",
       "      <td>2024-08-05T15:00:00+00:00</td>\n",
       "      <td>2024-08-08T14:00:00+00:00</td>\n",
       "      <td>Monday</td>\n",
       "      <td>Thursday</td>\n",
       "      <td>True</td>\n",
       "      <td>1.0</td>\n",
       "      <td>11.0</td>\n",
       "      <td>0</td>\n",
       "      <td>1532</td>\n",
       "      <td>STAR</td>\n",
       "      <td>NaN</td>\n",
       "      <td>1</td>\n",
       "    </tr>\n",
       "    <tr>\n",
       "      <th>5</th>\n",
       "      <td>563eb931-fd4e-4f53-8c44-4e7339da825b</td>\n",
       "      <td>Gold</td>\n",
       "      <td>Gold main 11</td>\n",
       "      <td>2024-08-05T15:00:00+00:00</td>\n",
       "      <td>2024-08-08T14:00:00+00:00</td>\n",
       "      <td>Monday</td>\n",
       "      <td>Thursday</td>\n",
       "      <td>True</td>\n",
       "      <td>2.0</td>\n",
       "      <td>11.0</td>\n",
       "      <td>0</td>\n",
       "      <td>2729</td>\n",
       "      <td>STAR</td>\n",
       "      <td>NaN</td>\n",
       "      <td>1</td>\n",
       "    </tr>\n",
       "    <tr>\n",
       "      <th>6</th>\n",
       "      <td>9c9bd433-a346-4ea9-b845-0fde7fdac5c9</td>\n",
       "      <td>Silver</td>\n",
       "      <td>Silver main 11</td>\n",
       "      <td>2024-08-05T15:00:00+00:00</td>\n",
       "      <td>2024-08-08T14:00:00+00:00</td>\n",
       "      <td>Monday</td>\n",
       "      <td>Thursday</td>\n",
       "      <td>True</td>\n",
       "      <td>3.0</td>\n",
       "      <td>11.0</td>\n",
       "      <td>0</td>\n",
       "      <td>4422</td>\n",
       "      <td>STAR</td>\n",
       "      <td>NaN</td>\n",
       "      <td>1</td>\n",
       "    </tr>\n",
       "    <tr>\n",
       "      <th>7</th>\n",
       "      <td>6d37c0f0-671c-44df-9fbd-ccd4fb827d35</td>\n",
       "      <td>Bronze</td>\n",
       "      <td>Bronze main 11</td>\n",
       "      <td>2024-08-05T15:00:00+00:00</td>\n",
       "      <td>2024-08-08T14:00:00+00:00</td>\n",
       "      <td>Monday</td>\n",
       "      <td>Thursday</td>\n",
       "      <td>True</td>\n",
       "      <td>4.0</td>\n",
       "      <td>11.0</td>\n",
       "      <td>0</td>\n",
       "      <td>8737</td>\n",
       "      <td>STAR</td>\n",
       "      <td>NaN</td>\n",
       "      <td>1</td>\n",
       "    </tr>\n",
       "    <tr>\n",
       "      <th>8</th>\n",
       "      <td>96a55828-f71a-4c3f-b5f2-0eb883f97f6a</td>\n",
       "      <td>Elite</td>\n",
       "      <td>Elite main 10</td>\n",
       "      <td>2024-07-29T15:00:00+00:00</td>\n",
       "      <td>2024-08-01T14:00:00+00:00</td>\n",
       "      <td>Monday</td>\n",
       "      <td>Thursday</td>\n",
       "      <td>True</td>\n",
       "      <td>1.0</td>\n",
       "      <td>10.0</td>\n",
       "      <td>0</td>\n",
       "      <td>1579</td>\n",
       "      <td>STAR</td>\n",
       "      <td>NaN</td>\n",
       "      <td>1</td>\n",
       "    </tr>\n",
       "    <tr>\n",
       "      <th>9</th>\n",
       "      <td>a0fd9f04-4c53-4c78-8984-8ffc1e1f9f0c</td>\n",
       "      <td>Silver</td>\n",
       "      <td>Silver main 10</td>\n",
       "      <td>2024-07-29T15:00:00+00:00</td>\n",
       "      <td>2024-08-01T14:00:00+00:00</td>\n",
       "      <td>Monday</td>\n",
       "      <td>Thursday</td>\n",
       "      <td>True</td>\n",
       "      <td>3.0</td>\n",
       "      <td>10.0</td>\n",
       "      <td>0</td>\n",
       "      <td>4459</td>\n",
       "      <td>STAR</td>\n",
       "      <td>NaN</td>\n",
       "      <td>1</td>\n",
       "    </tr>\n",
       "    <tr>\n",
       "      <th>10</th>\n",
       "      <td>7f1459b5-9935-4eef-a26f-ae9ce3224cb8</td>\n",
       "      <td>Bronze</td>\n",
       "      <td>Bronze main 10</td>\n",
       "      <td>2024-07-29T15:00:00+00:00</td>\n",
       "      <td>2024-08-01T14:00:00+00:00</td>\n",
       "      <td>Monday</td>\n",
       "      <td>Thursday</td>\n",
       "      <td>True</td>\n",
       "      <td>4.0</td>\n",
       "      <td>10.0</td>\n",
       "      <td>0</td>\n",
       "      <td>8897</td>\n",
       "      <td>STAR</td>\n",
       "      <td>NaN</td>\n",
       "      <td>1</td>\n",
       "    </tr>\n",
       "    <tr>\n",
       "      <th>11</th>\n",
       "      <td>d0cb589a-2ddb-40d1-880c-37aa1f021774</td>\n",
       "      <td>Gold</td>\n",
       "      <td>Gold main 10</td>\n",
       "      <td>2024-07-29T15:00:00+00:00</td>\n",
       "      <td>2024-08-01T14:00:00+00:00</td>\n",
       "      <td>Monday</td>\n",
       "      <td>Thursday</td>\n",
       "      <td>True</td>\n",
       "      <td>2.0</td>\n",
       "      <td>10.0</td>\n",
       "      <td>0</td>\n",
       "      <td>2581</td>\n",
       "      <td>STAR</td>\n",
       "      <td>NaN</td>\n",
       "      <td>1</td>\n",
       "    </tr>\n",
       "    <tr>\n",
       "      <th>12</th>\n",
       "      <td>453e8ff2-26c8-4b1b-8d4c-7ea102bd5953</td>\n",
       "      <td>Bronze</td>\n",
       "      <td>Bronze main 9</td>\n",
       "      <td>2024-07-22T15:00:00+00:00</td>\n",
       "      <td>2024-07-25T14:00:00+00:00</td>\n",
       "      <td>Monday</td>\n",
       "      <td>Thursday</td>\n",
       "      <td>True</td>\n",
       "      <td>4.0</td>\n",
       "      <td>9.0</td>\n",
       "      <td>0</td>\n",
       "      <td>8899</td>\n",
       "      <td>STAR</td>\n",
       "      <td>NaN</td>\n",
       "      <td>1</td>\n",
       "    </tr>\n",
       "    <tr>\n",
       "      <th>13</th>\n",
       "      <td>55f2fe75-a8b4-4f73-aa5b-d062c1f51130</td>\n",
       "      <td>Elite</td>\n",
       "      <td>Elite main 9</td>\n",
       "      <td>2024-07-22T15:00:00+00:00</td>\n",
       "      <td>2024-07-25T14:00:00+00:00</td>\n",
       "      <td>Monday</td>\n",
       "      <td>Thursday</td>\n",
       "      <td>True</td>\n",
       "      <td>1.0</td>\n",
       "      <td>9.0</td>\n",
       "      <td>0</td>\n",
       "      <td>1483</td>\n",
       "      <td>STAR</td>\n",
       "      <td>NaN</td>\n",
       "      <td>1</td>\n",
       "    </tr>\n",
       "    <tr>\n",
       "      <th>14</th>\n",
       "      <td>268428dd-e6cc-41d4-9b3b-a7bbf66266f1</td>\n",
       "      <td>Gold</td>\n",
       "      <td>Gold main 9</td>\n",
       "      <td>2024-07-22T15:00:00+00:00</td>\n",
       "      <td>2024-07-25T14:00:00+00:00</td>\n",
       "      <td>Monday</td>\n",
       "      <td>Thursday</td>\n",
       "      <td>True</td>\n",
       "      <td>2.0</td>\n",
       "      <td>9.0</td>\n",
       "      <td>0</td>\n",
       "      <td>2674</td>\n",
       "      <td>STAR</td>\n",
       "      <td>NaN</td>\n",
       "      <td>1</td>\n",
       "    </tr>\n",
       "    <tr>\n",
       "      <th>15</th>\n",
       "      <td>86a27962-3503-4b3f-bad5-24c58d028011</td>\n",
       "      <td>Silver</td>\n",
       "      <td>Silver main 9</td>\n",
       "      <td>2024-07-22T15:00:00+00:00</td>\n",
       "      <td>2024-07-25T14:00:00+00:00</td>\n",
       "      <td>Monday</td>\n",
       "      <td>Thursday</td>\n",
       "      <td>True</td>\n",
       "      <td>3.0</td>\n",
       "      <td>9.0</td>\n",
       "      <td>0</td>\n",
       "      <td>4792</td>\n",
       "      <td>STAR</td>\n",
       "      <td>NaN</td>\n",
       "      <td>1</td>\n",
       "    </tr>\n",
       "    <tr>\n",
       "      <th>16</th>\n",
       "      <td>d64ad487-bc24-4d84-9d5e-b2364b676d64</td>\n",
       "      <td>Elite</td>\n",
       "      <td>Elite main 8</td>\n",
       "      <td>2024-07-15T15:00:00+00:00</td>\n",
       "      <td>2024-07-18T15:00:00+00:00</td>\n",
       "      <td>Monday</td>\n",
       "      <td>Thursday</td>\n",
       "      <td>True</td>\n",
       "      <td>1.0</td>\n",
       "      <td>8.0</td>\n",
       "      <td>0</td>\n",
       "      <td>1629</td>\n",
       "      <td>STAR</td>\n",
       "      <td>NaN</td>\n",
       "      <td>1</td>\n",
       "    </tr>\n",
       "    <tr>\n",
       "      <th>17</th>\n",
       "      <td>132cab73-e3f8-41f9-80af-90ea91bbe6bd</td>\n",
       "      <td>Bronze</td>\n",
       "      <td>Bronze main 8</td>\n",
       "      <td>2024-07-15T15:00:00+00:00</td>\n",
       "      <td>2024-07-18T15:00:00+00:00</td>\n",
       "      <td>Monday</td>\n",
       "      <td>Thursday</td>\n",
       "      <td>True</td>\n",
       "      <td>4.0</td>\n",
       "      <td>8.0</td>\n",
       "      <td>0</td>\n",
       "      <td>7535</td>\n",
       "      <td>STAR</td>\n",
       "      <td>NaN</td>\n",
       "      <td>1</td>\n",
       "    </tr>\n",
       "    <tr>\n",
       "      <th>18</th>\n",
       "      <td>fb9801d0-2f51-49e3-87ac-8eec9f76a556</td>\n",
       "      <td>Gold</td>\n",
       "      <td>Gold main 8</td>\n",
       "      <td>2024-07-15T15:00:00+00:00</td>\n",
       "      <td>2024-07-18T15:00:00+00:00</td>\n",
       "      <td>Monday</td>\n",
       "      <td>Thursday</td>\n",
       "      <td>True</td>\n",
       "      <td>2.0</td>\n",
       "      <td>8.0</td>\n",
       "      <td>0</td>\n",
       "      <td>2594</td>\n",
       "      <td>STAR</td>\n",
       "      <td>NaN</td>\n",
       "      <td>1</td>\n",
       "    </tr>\n",
       "    <tr>\n",
       "      <th>19</th>\n",
       "      <td>c5b01735-41de-44c8-8203-6d9f26a01166</td>\n",
       "      <td>Silver</td>\n",
       "      <td>Silver main 8</td>\n",
       "      <td>2024-07-15T15:00:00+00:00</td>\n",
       "      <td>2024-07-18T15:00:00+00:00</td>\n",
       "      <td>Monday</td>\n",
       "      <td>Thursday</td>\n",
       "      <td>True</td>\n",
       "      <td>3.0</td>\n",
       "      <td>8.0</td>\n",
       "      <td>0</td>\n",
       "      <td>4281</td>\n",
       "      <td>STAR</td>\n",
       "      <td>NaN</td>\n",
       "      <td>1</td>\n",
       "    </tr>\n",
       "    <tr>\n",
       "      <th>20</th>\n",
       "      <td>e2194173-1da2-465c-afe6-fbae8cbec043</td>\n",
       "      <td>Bronze</td>\n",
       "      <td>Bronze main 7</td>\n",
       "      <td>2024-07-08T15:00:00+00:00</td>\n",
       "      <td>2024-07-11T15:00:00+00:00</td>\n",
       "      <td>Monday</td>\n",
       "      <td>Thursday</td>\n",
       "      <td>True</td>\n",
       "      <td>4.0</td>\n",
       "      <td>7.0</td>\n",
       "      <td>0</td>\n",
       "      <td>8319</td>\n",
       "      <td>STAR</td>\n",
       "      <td>NaN</td>\n",
       "      <td>1</td>\n",
       "    </tr>\n",
       "    <tr>\n",
       "      <th>21</th>\n",
       "      <td>37c4f87a-8b3a-4915-960c-00a3fc3258a5</td>\n",
       "      <td>Elite</td>\n",
       "      <td>Elite main 7</td>\n",
       "      <td>2024-07-08T15:00:00+00:00</td>\n",
       "      <td>2024-07-11T15:00:00+00:00</td>\n",
       "      <td>Monday</td>\n",
       "      <td>Thursday</td>\n",
       "      <td>True</td>\n",
       "      <td>1.0</td>\n",
       "      <td>7.0</td>\n",
       "      <td>0</td>\n",
       "      <td>1227</td>\n",
       "      <td>STAR</td>\n",
       "      <td>NaN</td>\n",
       "      <td>1</td>\n",
       "    </tr>\n",
       "    <tr>\n",
       "      <th>22</th>\n",
       "      <td>f8119cd2-eb27-4569-938e-ecd76a99f9f3</td>\n",
       "      <td>Gold</td>\n",
       "      <td>Gold main 7</td>\n",
       "      <td>2024-07-08T15:00:00+00:00</td>\n",
       "      <td>2024-07-11T15:00:00+00:00</td>\n",
       "      <td>Monday</td>\n",
       "      <td>Thursday</td>\n",
       "      <td>True</td>\n",
       "      <td>2.0</td>\n",
       "      <td>7.0</td>\n",
       "      <td>0</td>\n",
       "      <td>2057</td>\n",
       "      <td>STAR</td>\n",
       "      <td>NaN</td>\n",
       "      <td>1</td>\n",
       "    </tr>\n",
       "    <tr>\n",
       "      <th>23</th>\n",
       "      <td>a2a0ace9-859c-4c4c-81e9-75c4c178319d</td>\n",
       "      <td>Silver</td>\n",
       "      <td>Silver main 7</td>\n",
       "      <td>2024-07-08T15:00:00+00:00</td>\n",
       "      <td>2024-07-11T15:00:00+00:00</td>\n",
       "      <td>Monday</td>\n",
       "      <td>Thursday</td>\n",
       "      <td>True</td>\n",
       "      <td>3.0</td>\n",
       "      <td>7.0</td>\n",
       "      <td>0</td>\n",
       "      <td>4423</td>\n",
       "      <td>STAR</td>\n",
       "      <td>NaN</td>\n",
       "      <td>1</td>\n",
       "    </tr>\n",
       "    <tr>\n",
       "      <th>24</th>\n",
       "      <td>c1b061d4-aeac-400e-9a4a-007ea8eb65d8</td>\n",
       "      <td>Gold</td>\n",
       "      <td>Gold main 6</td>\n",
       "      <td>2024-06-22T15:00:00+00:00</td>\n",
       "      <td>2024-06-24T06:00:00+00:00</td>\n",
       "      <td>Saturday</td>\n",
       "      <td>Monday</td>\n",
       "      <td>True</td>\n",
       "      <td>2.0</td>\n",
       "      <td>6.0</td>\n",
       "      <td>0</td>\n",
       "      <td>2339</td>\n",
       "      <td>STAR</td>\n",
       "      <td>NaN</td>\n",
       "      <td>1</td>\n",
       "    </tr>\n",
       "    <tr>\n",
       "      <th>25</th>\n",
       "      <td>cbc54ece-3f68-4e41-93e3-07f53a491100</td>\n",
       "      <td>Silver</td>\n",
       "      <td>Silver main 6</td>\n",
       "      <td>2024-06-22T15:00:00+00:00</td>\n",
       "      <td>2024-06-24T06:00:00+00:00</td>\n",
       "      <td>Saturday</td>\n",
       "      <td>Monday</td>\n",
       "      <td>True</td>\n",
       "      <td>3.0</td>\n",
       "      <td>6.0</td>\n",
       "      <td>0</td>\n",
       "      <td>5447</td>\n",
       "      <td>PACK</td>\n",
       "      <td>6.0</td>\n",
       "      <td>0</td>\n",
       "    </tr>\n",
       "    <tr>\n",
       "      <th>26</th>\n",
       "      <td>cd041022-d3fd-4966-964f-2cbf3d13645f</td>\n",
       "      <td>Bronze</td>\n",
       "      <td>Bronze main 6</td>\n",
       "      <td>2024-06-22T15:00:00+00:00</td>\n",
       "      <td>2024-06-24T06:00:00+00:00</td>\n",
       "      <td>Saturday</td>\n",
       "      <td>Monday</td>\n",
       "      <td>True</td>\n",
       "      <td>4.0</td>\n",
       "      <td>6.0</td>\n",
       "      <td>0</td>\n",
       "      <td>9018</td>\n",
       "      <td>STAR</td>\n",
       "      <td>NaN</td>\n",
       "      <td>1</td>\n",
       "    </tr>\n",
       "    <tr>\n",
       "      <th>27</th>\n",
       "      <td>c1527319-17c7-4913-a735-19de55f6a7ab</td>\n",
       "      <td>Elite</td>\n",
       "      <td>Elite main 6</td>\n",
       "      <td>2024-06-22T15:00:00+00:00</td>\n",
       "      <td>2024-06-24T06:00:00+00:00</td>\n",
       "      <td>Saturday</td>\n",
       "      <td>Monday</td>\n",
       "      <td>True</td>\n",
       "      <td>1.0</td>\n",
       "      <td>6.0</td>\n",
       "      <td>0</td>\n",
       "      <td>1245</td>\n",
       "      <td>PACK</td>\n",
       "      <td>10.0</td>\n",
       "      <td>0</td>\n",
       "    </tr>\n",
       "    <tr>\n",
       "      <th>28</th>\n",
       "      <td>ec47fb9c-33ce-41c7-8530-7395a855d7aa</td>\n",
       "      <td>Gold</td>\n",
       "      <td>Gold main 5</td>\n",
       "      <td>2024-06-17T21:00:00+00:00</td>\n",
       "      <td>2024-06-20T21:00:00+00:00</td>\n",
       "      <td>Monday</td>\n",
       "      <td>Thursday</td>\n",
       "      <td>True</td>\n",
       "      <td>2.0</td>\n",
       "      <td>5.0</td>\n",
       "      <td>0</td>\n",
       "      <td>2720</td>\n",
       "      <td>GOLD</td>\n",
       "      <td>3194.0</td>\n",
       "      <td>255555</td>\n",
       "    </tr>\n",
       "    <tr>\n",
       "      <th>29</th>\n",
       "      <td>aafc48b2-a944-425c-b5ce-0104157829a3</td>\n",
       "      <td>Silver</td>\n",
       "      <td>Silver main 5</td>\n",
       "      <td>2024-06-17T21:00:00+00:00</td>\n",
       "      <td>2024-06-20T21:00:00+00:00</td>\n",
       "      <td>Monday</td>\n",
       "      <td>Thursday</td>\n",
       "      <td>True</td>\n",
       "      <td>3.0</td>\n",
       "      <td>5.0</td>\n",
       "      <td>0</td>\n",
       "      <td>6050</td>\n",
       "      <td>PACK</td>\n",
       "      <td>6.0</td>\n",
       "      <td>0</td>\n",
       "    </tr>\n",
       "    <tr>\n",
       "      <th>30</th>\n",
       "      <td>d45bd989-078b-40d3-be36-ffac9ab0c9ce</td>\n",
       "      <td>Bronze</td>\n",
       "      <td>Bronze main 5</td>\n",
       "      <td>2024-06-17T21:00:00+00:00</td>\n",
       "      <td>2024-06-20T21:00:00+00:00</td>\n",
       "      <td>Monday</td>\n",
       "      <td>Thursday</td>\n",
       "      <td>True</td>\n",
       "      <td>4.0</td>\n",
       "      <td>5.0</td>\n",
       "      <td>0</td>\n",
       "      <td>10277</td>\n",
       "      <td>STAR</td>\n",
       "      <td>NaN</td>\n",
       "      <td>1</td>\n",
       "    </tr>\n",
       "    <tr>\n",
       "      <th>31</th>\n",
       "      <td>dbd95fa2-7030-43f5-b376-299f335e0778</td>\n",
       "      <td>Elite</td>\n",
       "      <td>Elite main 5</td>\n",
       "      <td>2024-06-17T21:00:00+00:00</td>\n",
       "      <td>2024-06-20T21:00:00+00:00</td>\n",
       "      <td>Monday</td>\n",
       "      <td>Thursday</td>\n",
       "      <td>True</td>\n",
       "      <td>1.0</td>\n",
       "      <td>5.0</td>\n",
       "      <td>0</td>\n",
       "      <td>1771</td>\n",
       "      <td>GOLD</td>\n",
       "      <td>4267.0</td>\n",
       "      <td>266666</td>\n",
       "    </tr>\n",
       "    <tr>\n",
       "      <th>32</th>\n",
       "      <td>009a5aa3-24d4-4dd8-8f8d-fb1ea56cfa3d</td>\n",
       "      <td>Silver</td>\n",
       "      <td>Silver main</td>\n",
       "      <td>2024-06-10T21:00:00+00:00</td>\n",
       "      <td>2024-06-13T21:00:00+00:00</td>\n",
       "      <td>Monday</td>\n",
       "      <td>Thursday</td>\n",
       "      <td>True</td>\n",
       "      <td>3.0</td>\n",
       "      <td>4.0</td>\n",
       "      <td>0</td>\n",
       "      <td>5025</td>\n",
       "      <td>STAR</td>\n",
       "      <td>NaN</td>\n",
       "      <td>1</td>\n",
       "    </tr>\n",
       "    <tr>\n",
       "      <th>33</th>\n",
       "      <td>76ac8b0f-41cb-48a3-906b-cb8e3b85b05f</td>\n",
       "      <td>Gold</td>\n",
       "      <td>Gold main</td>\n",
       "      <td>2024-06-10T21:00:00+00:00</td>\n",
       "      <td>2024-06-13T21:00:00+00:00</td>\n",
       "      <td>Monday</td>\n",
       "      <td>Thursday</td>\n",
       "      <td>True</td>\n",
       "      <td>2.0</td>\n",
       "      <td>4.0</td>\n",
       "      <td>0</td>\n",
       "      <td>2148</td>\n",
       "      <td>STAR</td>\n",
       "      <td>NaN</td>\n",
       "      <td>1</td>\n",
       "    </tr>\n",
       "    <tr>\n",
       "      <th>34</th>\n",
       "      <td>64b6bd2a-85af-43f1-997c-46899af3c46b</td>\n",
       "      <td>Elite</td>\n",
       "      <td>Elite main</td>\n",
       "      <td>2024-06-10T21:00:00+00:00</td>\n",
       "      <td>2024-06-13T21:00:00+00:00</td>\n",
       "      <td>Monday</td>\n",
       "      <td>Thursday</td>\n",
       "      <td>True</td>\n",
       "      <td>1.0</td>\n",
       "      <td>4.0</td>\n",
       "      <td>0</td>\n",
       "      <td>1177</td>\n",
       "      <td>ETH</td>\n",
       "      <td>0.7</td>\n",
       "      <td>14</td>\n",
       "    </tr>\n",
       "    <tr>\n",
       "      <th>35</th>\n",
       "      <td>f5084ccf-7e8e-4af9-9e36-acabc105da72</td>\n",
       "      <td>Bronze</td>\n",
       "      <td>Bronze</td>\n",
       "      <td>2024-06-10T21:00:00+00:00</td>\n",
       "      <td>2024-06-13T21:00:00+00:00</td>\n",
       "      <td>Monday</td>\n",
       "      <td>Thursday</td>\n",
       "      <td>True</td>\n",
       "      <td>4.0</td>\n",
       "      <td>4.0</td>\n",
       "      <td>0</td>\n",
       "      <td>9706</td>\n",
       "      <td>STAR</td>\n",
       "      <td>NaN</td>\n",
       "      <td>1</td>\n",
       "    </tr>\n",
       "    <tr>\n",
       "      <th>36</th>\n",
       "      <td>984c5b76-ccfd-4f25-9804-2e7ff26d0beb</td>\n",
       "      <td>Main Competition</td>\n",
       "      <td>main</td>\n",
       "      <td>2024-05-28T21:00:00+00:00</td>\n",
       "      <td>2024-06-01T21:00:00+00:00</td>\n",
       "      <td>Tuesday</td>\n",
       "      <td>Saturday</td>\n",
       "      <td>True</td>\n",
       "      <td>5.0</td>\n",
       "      <td>3.0</td>\n",
       "      <td>0</td>\n",
       "      <td>2163</td>\n",
       "      <td>PACK</td>\n",
       "      <td>5.0</td>\n",
       "      <td>0</td>\n",
       "    </tr>\n",
       "    <tr>\n",
       "      <th>37</th>\n",
       "      <td>984c4b77-ccfd-4f25-9804-2e7ff26d0beb</td>\n",
       "      <td>Main Competition</td>\n",
       "      <td>main</td>\n",
       "      <td>2024-05-28T21:00:00+00:00</td>\n",
       "      <td>2024-06-01T21:00:00+00:00</td>\n",
       "      <td>Tuesday</td>\n",
       "      <td>Saturday</td>\n",
       "      <td>True</td>\n",
       "      <td>2.0</td>\n",
       "      <td>3.0</td>\n",
       "      <td>0</td>\n",
       "      <td>1083</td>\n",
       "      <td>FAN</td>\n",
       "      <td>384000.0</td>\n",
       "      <td>1</td>\n",
       "    </tr>\n",
       "    <tr>\n",
       "      <th>38</th>\n",
       "      <td>984c5b77-ccfd-4f25-9804-2e7ff26d0beb</td>\n",
       "      <td>Main Competition</td>\n",
       "      <td>main</td>\n",
       "      <td>2024-05-28T21:00:00+00:00</td>\n",
       "      <td>2024-06-01T21:00:00+00:00</td>\n",
       "      <td>Tuesday</td>\n",
       "      <td>Saturday</td>\n",
       "      <td>True</td>\n",
       "      <td>3.0</td>\n",
       "      <td>3.0</td>\n",
       "      <td>0</td>\n",
       "      <td>2578</td>\n",
       "      <td>FAN</td>\n",
       "      <td>108054.0</td>\n",
       "      <td>1</td>\n",
       "    </tr>\n",
       "    <tr>\n",
       "      <th>39</th>\n",
       "      <td>984c5c76-ccfd-4f25-9804-2e7ff26d0beb</td>\n",
       "      <td>Main Competition</td>\n",
       "      <td>main</td>\n",
       "      <td>2024-05-28T21:00:00+00:00</td>\n",
       "      <td>2024-06-01T21:00:00+00:00</td>\n",
       "      <td>Tuesday</td>\n",
       "      <td>Saturday</td>\n",
       "      <td>True</td>\n",
       "      <td>4.0</td>\n",
       "      <td>3.0</td>\n",
       "      <td>0</td>\n",
       "      <td>2681</td>\n",
       "      <td>STAR</td>\n",
       "      <td>NaN</td>\n",
       "      <td>1</td>\n",
       "    </tr>\n",
       "    <tr>\n",
       "      <th>40</th>\n",
       "      <td>941cb41d-6cb9-4fc1-8f4d-1acd843ce219</td>\n",
       "      <td>All Rarities | 22 days</td>\n",
       "      <td>Every rarities for 22 days</td>\n",
       "      <td>2024-05-24T13:00:00+00:00</td>\n",
       "      <td>2024-06-15T13:00:00+00:00</td>\n",
       "      <td>Friday</td>\n",
       "      <td>Saturday</td>\n",
       "      <td>False</td>\n",
       "      <td>NaN</td>\n",
       "      <td>NaN</td>\n",
       "      <td>0</td>\n",
       "      <td>3957</td>\n",
       "      <td>FAN</td>\n",
       "      <td>225000.0</td>\n",
       "      <td>1</td>\n",
       "    </tr>\n",
       "    <tr>\n",
       "      <th>41</th>\n",
       "      <td>5cca59e3-c861-439e-84da-8e3e6ff0842a</td>\n",
       "      <td>Common Only ✳️ Capped 15 🌟</td>\n",
       "      <td>the fewer stars the more tactical. who will yo...</td>\n",
       "      <td>2024-05-22T23:00:00+00:00</td>\n",
       "      <td>2024-05-28T23:00:00+00:00</td>\n",
       "      <td>Wednesday</td>\n",
       "      <td>Tuesday</td>\n",
       "      <td>False</td>\n",
       "      <td>NaN</td>\n",
       "      <td>NaN</td>\n",
       "      <td>0</td>\n",
       "      <td>8403</td>\n",
       "      <td>FAN</td>\n",
       "      <td>75000.0</td>\n",
       "      <td>1</td>\n",
       "    </tr>\n",
       "    <tr>\n",
       "      <th>42</th>\n",
       "      <td>8b10c080-34af-4005-b66e-8afef943566f</td>\n",
       "      <td>Rare Only 💠</td>\n",
       "      <td>rare only – will not overlap with main 3</td>\n",
       "      <td>2024-05-19T22:00:00+00:00</td>\n",
       "      <td>2024-05-22T22:00:00+00:00</td>\n",
       "      <td>Sunday</td>\n",
       "      <td>Wednesday</td>\n",
       "      <td>False</td>\n",
       "      <td>NaN</td>\n",
       "      <td>NaN</td>\n",
       "      <td>0</td>\n",
       "      <td>2554</td>\n",
       "      <td>FAN</td>\n",
       "      <td>120000.0</td>\n",
       "      <td>1</td>\n",
       "    </tr>\n",
       "    <tr>\n",
       "      <th>43</th>\n",
       "      <td>fd1df283-de8b-41bf-b06f-d5a6160d8cf2</td>\n",
       "      <td>Common Only ✳️ Capped 20 🌟</td>\n",
       "      <td>Only common cards with 20 stars maximum</td>\n",
       "      <td>2024-05-16T18:00:00+00:00</td>\n",
       "      <td>2024-05-20T18:00:00+00:00</td>\n",
       "      <td>Thursday</td>\n",
       "      <td>Monday</td>\n",
       "      <td>False</td>\n",
       "      <td>NaN</td>\n",
       "      <td>NaN</td>\n",
       "      <td>0</td>\n",
       "      <td>9610</td>\n",
       "      <td>PACK</td>\n",
       "      <td>5.0</td>\n",
       "      <td>0</td>\n",
       "    </tr>\n",
       "    <tr>\n",
       "      <th>44</th>\n",
       "      <td>d821acfd-0c9f-439b-8765-93aef1966592</td>\n",
       "      <td>Main Tournament</td>\n",
       "      <td></td>\n",
       "      <td>2024-05-14T21:00:00+00:00</td>\n",
       "      <td>2024-05-17T21:00:00+00:00</td>\n",
       "      <td>Tuesday</td>\n",
       "      <td>Friday</td>\n",
       "      <td>True</td>\n",
       "      <td>5.0</td>\n",
       "      <td>2.0</td>\n",
       "      <td>0</td>\n",
       "      <td>6326</td>\n",
       "      <td>STAR</td>\n",
       "      <td>NaN</td>\n",
       "      <td>1</td>\n",
       "    </tr>\n",
       "    <tr>\n",
       "      <th>45</th>\n",
       "      <td>d292083b-3516-4754-8fd6-f7417472290c</td>\n",
       "      <td>Main Tournament</td>\n",
       "      <td></td>\n",
       "      <td>2024-05-14T21:00:00+00:00</td>\n",
       "      <td>2024-05-17T21:00:00+00:00</td>\n",
       "      <td>Tuesday</td>\n",
       "      <td>Friday</td>\n",
       "      <td>True</td>\n",
       "      <td>4.0</td>\n",
       "      <td>2.0</td>\n",
       "      <td>0</td>\n",
       "      <td>6449</td>\n",
       "      <td>FAN</td>\n",
       "      <td>500000.0</td>\n",
       "      <td>50000000</td>\n",
       "    </tr>\n",
       "    <tr>\n",
       "      <th>46</th>\n",
       "      <td>ad0cb5e8-0a8a-40a8-9b7d-07dc4441f54b</td>\n",
       "      <td>Main Tournament</td>\n",
       "      <td></td>\n",
       "      <td>2024-05-06T19:00:00+00:00</td>\n",
       "      <td>2024-05-08T16:25:00+00:00</td>\n",
       "      <td>Monday</td>\n",
       "      <td>Wednesday</td>\n",
       "      <td>True</td>\n",
       "      <td>5.0</td>\n",
       "      <td>1.0</td>\n",
       "      <td>0</td>\n",
       "      <td>17972</td>\n",
       "      <td>PACK</td>\n",
       "      <td>10.0</td>\n",
       "      <td>0</td>\n",
       "    </tr>\n",
       "    <tr>\n",
       "      <th>47</th>\n",
       "      <td>50d1bb18-c18e-4502-b9cd-e0bc9fd709c6</td>\n",
       "      <td>Flash Tournament</td>\n",
       "      <td>Flash Tournamnet 48h</td>\n",
       "      <td>2024-05-02T18:00:00+00:00</td>\n",
       "      <td>2024-05-04T18:00:00+00:00</td>\n",
       "      <td>Thursday</td>\n",
       "      <td>Saturday</td>\n",
       "      <td>False</td>\n",
       "      <td>NaN</td>\n",
       "      <td>NaN</td>\n",
       "      <td>0</td>\n",
       "      <td>13346</td>\n",
       "      <td>STAR</td>\n",
       "      <td>NaN</td>\n",
       "      <td>1</td>\n",
       "    </tr>\n",
       "  </tbody>\n",
       "</table>\n",
       "</div>"
      ],
      "text/plain": [
       "                                      id                         name  \\\n",
       "0   d257197f-15e3-440f-bd02-3e3546486d46                         Gold   \n",
       "1   1190639b-58b5-407f-b6d0-accaebf3ee05                       Bronze   \n",
       "2   11413b0b-3798-4e54-8d3a-c059588cdd6c                        Elite   \n",
       "3   816ae5aa-2cdb-4631-8719-1f03c648de8e                       Silver   \n",
       "4   a7863482-05c1-43d3-af29-54107a9fbdaf                        Elite   \n",
       "5   563eb931-fd4e-4f53-8c44-4e7339da825b                         Gold   \n",
       "6   9c9bd433-a346-4ea9-b845-0fde7fdac5c9                       Silver   \n",
       "7   6d37c0f0-671c-44df-9fbd-ccd4fb827d35                       Bronze   \n",
       "8   96a55828-f71a-4c3f-b5f2-0eb883f97f6a                        Elite   \n",
       "9   a0fd9f04-4c53-4c78-8984-8ffc1e1f9f0c                       Silver   \n",
       "10  7f1459b5-9935-4eef-a26f-ae9ce3224cb8                       Bronze   \n",
       "11  d0cb589a-2ddb-40d1-880c-37aa1f021774                         Gold   \n",
       "12  453e8ff2-26c8-4b1b-8d4c-7ea102bd5953                       Bronze   \n",
       "13  55f2fe75-a8b4-4f73-aa5b-d062c1f51130                        Elite   \n",
       "14  268428dd-e6cc-41d4-9b3b-a7bbf66266f1                         Gold   \n",
       "15  86a27962-3503-4b3f-bad5-24c58d028011                       Silver   \n",
       "16  d64ad487-bc24-4d84-9d5e-b2364b676d64                        Elite   \n",
       "17  132cab73-e3f8-41f9-80af-90ea91bbe6bd                       Bronze   \n",
       "18  fb9801d0-2f51-49e3-87ac-8eec9f76a556                         Gold   \n",
       "19  c5b01735-41de-44c8-8203-6d9f26a01166                       Silver   \n",
       "20  e2194173-1da2-465c-afe6-fbae8cbec043                       Bronze   \n",
       "21  37c4f87a-8b3a-4915-960c-00a3fc3258a5                        Elite   \n",
       "22  f8119cd2-eb27-4569-938e-ecd76a99f9f3                         Gold   \n",
       "23  a2a0ace9-859c-4c4c-81e9-75c4c178319d                       Silver   \n",
       "24  c1b061d4-aeac-400e-9a4a-007ea8eb65d8                         Gold   \n",
       "25  cbc54ece-3f68-4e41-93e3-07f53a491100                       Silver   \n",
       "26  cd041022-d3fd-4966-964f-2cbf3d13645f                       Bronze   \n",
       "27  c1527319-17c7-4913-a735-19de55f6a7ab                        Elite   \n",
       "28  ec47fb9c-33ce-41c7-8530-7395a855d7aa                         Gold   \n",
       "29  aafc48b2-a944-425c-b5ce-0104157829a3                       Silver   \n",
       "30  d45bd989-078b-40d3-be36-ffac9ab0c9ce                       Bronze   \n",
       "31  dbd95fa2-7030-43f5-b376-299f335e0778                        Elite   \n",
       "32  009a5aa3-24d4-4dd8-8f8d-fb1ea56cfa3d                       Silver   \n",
       "33  76ac8b0f-41cb-48a3-906b-cb8e3b85b05f                         Gold   \n",
       "34  64b6bd2a-85af-43f1-997c-46899af3c46b                        Elite   \n",
       "35  f5084ccf-7e8e-4af9-9e36-acabc105da72                       Bronze   \n",
       "36  984c5b76-ccfd-4f25-9804-2e7ff26d0beb             Main Competition   \n",
       "37  984c4b77-ccfd-4f25-9804-2e7ff26d0beb             Main Competition   \n",
       "38  984c5b77-ccfd-4f25-9804-2e7ff26d0beb             Main Competition   \n",
       "39  984c5c76-ccfd-4f25-9804-2e7ff26d0beb             Main Competition   \n",
       "40  941cb41d-6cb9-4fc1-8f4d-1acd843ce219       All Rarities | 22 days   \n",
       "41  5cca59e3-c861-439e-84da-8e3e6ff0842a   Common Only ✳️ Capped 15 🌟   \n",
       "42  8b10c080-34af-4005-b66e-8afef943566f                  Rare Only 💠   \n",
       "43  fd1df283-de8b-41bf-b06f-d5a6160d8cf2  Common Only ✳️ Capped 20 🌟    \n",
       "44  d821acfd-0c9f-439b-8765-93aef1966592              Main Tournament   \n",
       "45  d292083b-3516-4754-8fd6-f7417472290c              Main Tournament   \n",
       "46  ad0cb5e8-0a8a-40a8-9b7d-07dc4441f54b              Main Tournament   \n",
       "47  50d1bb18-c18e-4502-b9cd-e0bc9fd709c6             Flash Tournament   \n",
       "\n",
       "                                          description  \\\n",
       "0                                        Gold main 12   \n",
       "1                                      Bronze main 12   \n",
       "2                                       Elite main 12   \n",
       "3                                      Silver main 12   \n",
       "4                                       Elite main 11   \n",
       "5                                        Gold main 11   \n",
       "6                                      Silver main 11   \n",
       "7                                      Bronze main 11   \n",
       "8                                       Elite main 10   \n",
       "9                                      Silver main 10   \n",
       "10                                     Bronze main 10   \n",
       "11                                       Gold main 10   \n",
       "12                                      Bronze main 9   \n",
       "13                                       Elite main 9   \n",
       "14                                        Gold main 9   \n",
       "15                                      Silver main 9   \n",
       "16                                       Elite main 8   \n",
       "17                                      Bronze main 8   \n",
       "18                                        Gold main 8   \n",
       "19                                      Silver main 8   \n",
       "20                                      Bronze main 7   \n",
       "21                                       Elite main 7   \n",
       "22                                        Gold main 7   \n",
       "23                                      Silver main 7   \n",
       "24                                        Gold main 6   \n",
       "25                                      Silver main 6   \n",
       "26                                      Bronze main 6   \n",
       "27                                       Elite main 6   \n",
       "28                                        Gold main 5   \n",
       "29                                      Silver main 5   \n",
       "30                                      Bronze main 5   \n",
       "31                                       Elite main 5   \n",
       "32                                        Silver main   \n",
       "33                                          Gold main   \n",
       "34                                         Elite main   \n",
       "35                                             Bronze   \n",
       "36                                               main   \n",
       "37                                               main   \n",
       "38                                               main   \n",
       "39                                               main   \n",
       "40                         Every rarities for 22 days   \n",
       "41  the fewer stars the more tactical. who will yo...   \n",
       "42          rare only – will not overlap with main 3    \n",
       "43            Only common cards with 20 stars maximum   \n",
       "44                                                      \n",
       "45                                                      \n",
       "46                                                      \n",
       "47                               Flash Tournamnet 48h   \n",
       "\n",
       "                   start_date                   end_date  start_day  \\\n",
       "0   2024-08-12T15:00:00+00:00  2024-08-15T14:00:00+00:00     Monday   \n",
       "1   2024-08-12T15:00:00+00:00  2024-08-15T14:00:00+00:00     Monday   \n",
       "2   2024-08-12T15:00:00+00:00  2024-08-15T14:00:00+00:00     Monday   \n",
       "3   2024-08-12T15:00:00+00:00  2024-08-15T14:00:00+00:00     Monday   \n",
       "4   2024-08-05T15:00:00+00:00  2024-08-08T14:00:00+00:00     Monday   \n",
       "5   2024-08-05T15:00:00+00:00  2024-08-08T14:00:00+00:00     Monday   \n",
       "6   2024-08-05T15:00:00+00:00  2024-08-08T14:00:00+00:00     Monday   \n",
       "7   2024-08-05T15:00:00+00:00  2024-08-08T14:00:00+00:00     Monday   \n",
       "8   2024-07-29T15:00:00+00:00  2024-08-01T14:00:00+00:00     Monday   \n",
       "9   2024-07-29T15:00:00+00:00  2024-08-01T14:00:00+00:00     Monday   \n",
       "10  2024-07-29T15:00:00+00:00  2024-08-01T14:00:00+00:00     Monday   \n",
       "11  2024-07-29T15:00:00+00:00  2024-08-01T14:00:00+00:00     Monday   \n",
       "12  2024-07-22T15:00:00+00:00  2024-07-25T14:00:00+00:00     Monday   \n",
       "13  2024-07-22T15:00:00+00:00  2024-07-25T14:00:00+00:00     Monday   \n",
       "14  2024-07-22T15:00:00+00:00  2024-07-25T14:00:00+00:00     Monday   \n",
       "15  2024-07-22T15:00:00+00:00  2024-07-25T14:00:00+00:00     Monday   \n",
       "16  2024-07-15T15:00:00+00:00  2024-07-18T15:00:00+00:00     Monday   \n",
       "17  2024-07-15T15:00:00+00:00  2024-07-18T15:00:00+00:00     Monday   \n",
       "18  2024-07-15T15:00:00+00:00  2024-07-18T15:00:00+00:00     Monday   \n",
       "19  2024-07-15T15:00:00+00:00  2024-07-18T15:00:00+00:00     Monday   \n",
       "20  2024-07-08T15:00:00+00:00  2024-07-11T15:00:00+00:00     Monday   \n",
       "21  2024-07-08T15:00:00+00:00  2024-07-11T15:00:00+00:00     Monday   \n",
       "22  2024-07-08T15:00:00+00:00  2024-07-11T15:00:00+00:00     Monday   \n",
       "23  2024-07-08T15:00:00+00:00  2024-07-11T15:00:00+00:00     Monday   \n",
       "24  2024-06-22T15:00:00+00:00  2024-06-24T06:00:00+00:00   Saturday   \n",
       "25  2024-06-22T15:00:00+00:00  2024-06-24T06:00:00+00:00   Saturday   \n",
       "26  2024-06-22T15:00:00+00:00  2024-06-24T06:00:00+00:00   Saturday   \n",
       "27  2024-06-22T15:00:00+00:00  2024-06-24T06:00:00+00:00   Saturday   \n",
       "28  2024-06-17T21:00:00+00:00  2024-06-20T21:00:00+00:00     Monday   \n",
       "29  2024-06-17T21:00:00+00:00  2024-06-20T21:00:00+00:00     Monday   \n",
       "30  2024-06-17T21:00:00+00:00  2024-06-20T21:00:00+00:00     Monday   \n",
       "31  2024-06-17T21:00:00+00:00  2024-06-20T21:00:00+00:00     Monday   \n",
       "32  2024-06-10T21:00:00+00:00  2024-06-13T21:00:00+00:00     Monday   \n",
       "33  2024-06-10T21:00:00+00:00  2024-06-13T21:00:00+00:00     Monday   \n",
       "34  2024-06-10T21:00:00+00:00  2024-06-13T21:00:00+00:00     Monday   \n",
       "35  2024-06-10T21:00:00+00:00  2024-06-13T21:00:00+00:00     Monday   \n",
       "36  2024-05-28T21:00:00+00:00  2024-06-01T21:00:00+00:00    Tuesday   \n",
       "37  2024-05-28T21:00:00+00:00  2024-06-01T21:00:00+00:00    Tuesday   \n",
       "38  2024-05-28T21:00:00+00:00  2024-06-01T21:00:00+00:00    Tuesday   \n",
       "39  2024-05-28T21:00:00+00:00  2024-06-01T21:00:00+00:00    Tuesday   \n",
       "40  2024-05-24T13:00:00+00:00  2024-06-15T13:00:00+00:00     Friday   \n",
       "41  2024-05-22T23:00:00+00:00  2024-05-28T23:00:00+00:00  Wednesday   \n",
       "42  2024-05-19T22:00:00+00:00  2024-05-22T22:00:00+00:00     Sunday   \n",
       "43  2024-05-16T18:00:00+00:00  2024-05-20T18:00:00+00:00   Thursday   \n",
       "44  2024-05-14T21:00:00+00:00  2024-05-17T21:00:00+00:00    Tuesday   \n",
       "45  2024-05-14T21:00:00+00:00  2024-05-17T21:00:00+00:00    Tuesday   \n",
       "46  2024-05-06T19:00:00+00:00  2024-05-08T16:25:00+00:00     Monday   \n",
       "47  2024-05-02T18:00:00+00:00  2024-05-04T18:00:00+00:00   Thursday   \n",
       "\n",
       "      end_day  is_main  league  tournament_number  player_history_count  \\\n",
       "0    Thursday     True     2.0               12.0                     0   \n",
       "1    Thursday     True     4.0               12.0                     0   \n",
       "2    Thursday     True     1.0               12.0                     0   \n",
       "3    Thursday     True     3.0               12.0                     0   \n",
       "4    Thursday     True     1.0               11.0                     0   \n",
       "5    Thursday     True     2.0               11.0                     0   \n",
       "6    Thursday     True     3.0               11.0                     0   \n",
       "7    Thursday     True     4.0               11.0                     0   \n",
       "8    Thursday     True     1.0               10.0                     0   \n",
       "9    Thursday     True     3.0               10.0                     0   \n",
       "10   Thursday     True     4.0               10.0                     0   \n",
       "11   Thursday     True     2.0               10.0                     0   \n",
       "12   Thursday     True     4.0                9.0                     0   \n",
       "13   Thursday     True     1.0                9.0                     0   \n",
       "14   Thursday     True     2.0                9.0                     0   \n",
       "15   Thursday     True     3.0                9.0                     0   \n",
       "16   Thursday     True     1.0                8.0                     0   \n",
       "17   Thursday     True     4.0                8.0                     0   \n",
       "18   Thursday     True     2.0                8.0                     0   \n",
       "19   Thursday     True     3.0                8.0                     0   \n",
       "20   Thursday     True     4.0                7.0                     0   \n",
       "21   Thursday     True     1.0                7.0                     0   \n",
       "22   Thursday     True     2.0                7.0                     0   \n",
       "23   Thursday     True     3.0                7.0                     0   \n",
       "24     Monday     True     2.0                6.0                     0   \n",
       "25     Monday     True     3.0                6.0                     0   \n",
       "26     Monday     True     4.0                6.0                     0   \n",
       "27     Monday     True     1.0                6.0                     0   \n",
       "28   Thursday     True     2.0                5.0                     0   \n",
       "29   Thursday     True     3.0                5.0                     0   \n",
       "30   Thursday     True     4.0                5.0                     0   \n",
       "31   Thursday     True     1.0                5.0                     0   \n",
       "32   Thursday     True     3.0                4.0                     0   \n",
       "33   Thursday     True     2.0                4.0                     0   \n",
       "34   Thursday     True     1.0                4.0                     0   \n",
       "35   Thursday     True     4.0                4.0                     0   \n",
       "36   Saturday     True     5.0                3.0                     0   \n",
       "37   Saturday     True     2.0                3.0                     0   \n",
       "38   Saturday     True     3.0                3.0                     0   \n",
       "39   Saturday     True     4.0                3.0                     0   \n",
       "40   Saturday    False     NaN                NaN                     0   \n",
       "41    Tuesday    False     NaN                NaN                     0   \n",
       "42  Wednesday    False     NaN                NaN                     0   \n",
       "43     Monday    False     NaN                NaN                     0   \n",
       "44     Friday     True     5.0                2.0                     0   \n",
       "45     Friday     True     4.0                2.0                     0   \n",
       "46  Wednesday     True     5.0                1.0                     0   \n",
       "47   Saturday    False     NaN                NaN                     0   \n",
       "\n",
       "    total_players_count reward_type  reward_distribution  reward_total_supply  \n",
       "0                  2585        STAR                  NaN                    1  \n",
       "1                  9463        GOLD                260.0                40000  \n",
       "2                  1531        STAR                  NaN                    1  \n",
       "3                  4613        STAR                  NaN                    1  \n",
       "4                  1532        STAR                  NaN                    1  \n",
       "5                  2729        STAR                  NaN                    1  \n",
       "6                  4422        STAR                  NaN                    1  \n",
       "7                  8737        STAR                  NaN                    1  \n",
       "8                  1579        STAR                  NaN                    1  \n",
       "9                  4459        STAR                  NaN                    1  \n",
       "10                 8897        STAR                  NaN                    1  \n",
       "11                 2581        STAR                  NaN                    1  \n",
       "12                 8899        STAR                  NaN                    1  \n",
       "13                 1483        STAR                  NaN                    1  \n",
       "14                 2674        STAR                  NaN                    1  \n",
       "15                 4792        STAR                  NaN                    1  \n",
       "16                 1629        STAR                  NaN                    1  \n",
       "17                 7535        STAR                  NaN                    1  \n",
       "18                 2594        STAR                  NaN                    1  \n",
       "19                 4281        STAR                  NaN                    1  \n",
       "20                 8319        STAR                  NaN                    1  \n",
       "21                 1227        STAR                  NaN                    1  \n",
       "22                 2057        STAR                  NaN                    1  \n",
       "23                 4423        STAR                  NaN                    1  \n",
       "24                 2339        STAR                  NaN                    1  \n",
       "25                 5447        PACK                  6.0                    0  \n",
       "26                 9018        STAR                  NaN                    1  \n",
       "27                 1245        PACK                 10.0                    0  \n",
       "28                 2720        GOLD               3194.0               255555  \n",
       "29                 6050        PACK                  6.0                    0  \n",
       "30                10277        STAR                  NaN                    1  \n",
       "31                 1771        GOLD               4267.0               266666  \n",
       "32                 5025        STAR                  NaN                    1  \n",
       "33                 2148        STAR                  NaN                    1  \n",
       "34                 1177         ETH                  0.7                   14  \n",
       "35                 9706        STAR                  NaN                    1  \n",
       "36                 2163        PACK                  5.0                    0  \n",
       "37                 1083         FAN             384000.0                    1  \n",
       "38                 2578         FAN             108054.0                    1  \n",
       "39                 2681        STAR                  NaN                    1  \n",
       "40                 3957         FAN             225000.0                    1  \n",
       "41                 8403         FAN              75000.0                    1  \n",
       "42                 2554         FAN             120000.0                    1  \n",
       "43                 9610        PACK                  5.0                    0  \n",
       "44                 6326        STAR                  NaN                    1  \n",
       "45                 6449         FAN             500000.0             50000000  \n",
       "46                17972        PACK                 10.0                    0  \n",
       "47                13346        STAR                  NaN                    1  "
      ]
     },
     "execution_count": 21,
     "metadata": {},
     "output_type": "execute_result"
    }
   ],
   "source": [
    "tournaments_df"
   ]
  },
  {
   "cell_type": "code",
   "execution_count": 20,
   "id": "c85261d6-98b3-4886-b75b-45b78bdae147",
   "metadata": {},
   "outputs": [
    {
     "data": {
      "text/html": [
       "<div>\n",
       "<style scoped>\n",
       "    .dataframe tbody tr th:only-of-type {\n",
       "        vertical-align: middle;\n",
       "    }\n",
       "\n",
       "    .dataframe tbody tr th {\n",
       "        vertical-align: top;\n",
       "    }\n",
       "\n",
       "    .dataframe thead th {\n",
       "        text-align: right;\n",
       "    }\n",
       "</style>\n",
       "<table border=\"1\" class=\"dataframe\">\n",
       "  <thead>\n",
       "    <tr style=\"text-align: right;\">\n",
       "      <th></th>\n",
       "    </tr>\n",
       "  </thead>\n",
       "  <tbody>\n",
       "  </tbody>\n",
       "</table>\n",
       "</div>"
      ],
      "text/plain": [
       "Empty DataFrame\n",
       "Columns: []\n",
       "Index: []"
      ]
     },
     "execution_count": 20,
     "metadata": {},
     "output_type": "execute_result"
    }
   ],
   "source": [
    "# Assume your DataFrame is named tournaments_df\n",
    "\n",
    "# Drop duplicate rows where both start_date and end_date are the same\n",
    "simplified_tournaments_df = tournaments_df.drop_duplicates(subset=['start_date', 'end_date'])\n",
    "\n",
    "simplified_tournaments_df\n"
   ]
  },
  {
   "cell_type": "code",
   "execution_count": null,
   "id": "fafcd0ec-43fb-4e80-bc18-76d0efb6d11f",
   "metadata": {},
   "outputs": [],
   "source": [
    "import re\n",
    "\n",
    "# First, sort the DataFrame by start_date to ensure correct numbering for \"Main\" tournaments\n",
    "simplified_tournaments_df = simplified_tournaments_df.sort_values(by='start_date')\n",
    "\n",
    "# Function to cleanse the simplified name\n",
    "def cleanse_name(name):\n",
    "    name = re.sub(r'[^\\w\\s]', '', name)  # Remove all non-alphanumeric characters except whitespace\n",
    "    name = re.sub(r'\\s+', ' ', name)  # Replace multiple spaces with a single space\n",
    "    return name.strip()  # Remove leading and trailing spaces\n",
    "\n",
    "# Create a column for the simplified names\n",
    "simplified_names = []\n",
    "\n",
    "# Initialize the main tournament counter\n",
    "main_counter = 1\n",
    "\n",
    "# Iterate through the DataFrame to set the simplified names\n",
    "for idx, row in simplified_tournaments_df.iterrows():\n",
    "    if row['is_main']:\n",
    "        simplified_name = f\"Main {main_counter}\"\n",
    "        main_counter += 1\n",
    "    else:\n",
    "        simplified_name = cleanse_name(row['name'])  # Cleanse the name to remove special characters\n",
    "    \n",
    "    simplified_names.append(simplified_name)\n",
    "\n",
    "# Add the new column to the DataFrame\n",
    "simplified_tournaments_df['simplified_name'] = simplified_names\n",
    "\n",
    "# Display the updated DataFrame\n",
    "print(simplified_tournaments_df)\n"
   ]
  },
  {
   "cell_type": "code",
   "execution_count": 31,
   "id": "4a8112e2-9458-4184-98fd-6aed4d0e1dac",
   "metadata": {},
   "outputs": [],
   "source": [
    "tournament_scores = pd.read_csv('data/tournament_scores_240811_1115.csv')\n"
   ]
  },
  {
   "cell_type": "markdown",
   "id": "0f18f20f-bb97-4fac-82ba-fe3a059f4634",
   "metadata": {
    "jp-MarkdownHeadingCollapsed": true
   },
   "source": [
    "### Get Tournament Stats - API - Doesn't appear to work for all tournaments - DO NOT USE - Use CSV copied from https://docs.google.com/spreadsheets/d/1YkWu1O80VeGnUwO1CZ1tGfjTHxEyRhOn-Li08-wEd6I/edit?gid=0#gid=0"
   ]
  },
  {
   "cell_type": "code",
   "execution_count": 23,
   "id": "8ddd2279-b3e3-4420-8794-b9a71f9cd482",
   "metadata": {},
   "outputs": [],
   "source": [
    "# Function to get tournament stats for a specific tournament_id\n",
    "def get_tournament_stats(tournament_id, token=token):\n",
    "    query_get_heros_with_stats_tournament = \"\"\"\n",
    "    query GET_HEROS_WITH_STATS_TOURNAMENT($tournament_id: String = \"\", $offset: Int = 0, $limit: Int = 20, $order_by: [twitter_data_tournament_history_order_by!] = {current_rank: asc}, $search: String = \"\") {\n",
    "      twitter_data_current: twitter_data_tournament_history(\n",
    "        where: {id: {_eq: $tournament_id}, hero: {_or: [{name: {_ilike: $search}}, {handle: {_ilike: $search}}]}}\n",
    "        order_by: $order_by\n",
    "        offset: $offset\n",
    "        limit: $limit\n",
    "      ) {\n",
    "        current_rank\n",
    "        previous_rank\n",
    "        views\n",
    "        tweet_count\n",
    "        fantasy_score\n",
    "        reach\n",
    "        avg_views\n",
    "        hero {\n",
    "          followers_count\n",
    "          name\n",
    "          handle\n",
    "          profile_image_url_https\n",
    "          volume: trades_aggregate {\n",
    "            aggregate {\n",
    "              sum {\n",
    "                price\n",
    "              }\n",
    "            }\n",
    "          }\n",
    "          last_sale: trades(limit: 1) {\n",
    "            price\n",
    "          }\n",
    "          floor: unique_sell_orders(order_by: {lowest_price: asc_nulls_last}, limit: 1) {\n",
    "            lowest_price\n",
    "          }\n",
    "        }\n",
    "      }\n",
    "    }\n",
    "    \"\"\"\n",
    "    \n",
    "    def process_get_heros_with_stats_tournament(response):\n",
    "        if 'errors' in response:\n",
    "            print('Errors:', response['errors'])\n",
    "            return pd.DataFrame()\n",
    "        \n",
    "        heros = response.get('data', {}).get('twitter_data_current', [])\n",
    "        \n",
    "        heros_data = []\n",
    "        for hero_entry in heros:\n",
    "            hero = hero_entry['hero']\n",
    "            heros_data.append({\n",
    "                'current_rank': hero_entry['current_rank'],\n",
    "                'previous_rank': hero_entry['previous_rank'],\n",
    "                'views': hero_entry['views'],\n",
    "                'tweet_count': hero_entry['tweet_count'],\n",
    "                'fantasy_score': hero_entry['fantasy_score'],\n",
    "                'reach': hero_entry['reach'],\n",
    "                'avg_views': hero_entry['avg_views'],\n",
    "                'hero_followers_count': hero['followers_count'],\n",
    "                'hero_name': hero['name'],\n",
    "                'hero_handle': hero['handle'],\n",
    "                'hero_profile_image_url': hero['profile_image_url_https'],\n",
    "                'hero_volume': convert_to_eth(hero['volume']['aggregate']['sum']['price']),\n",
    "                'hero_last_sale_price': convert_to_eth(hero['last_sale'][0]['price']),\n",
    "                'hero_floor_price': convert_to_eth(hero['floor'][0]['lowest_price'])\n",
    "            })\n",
    "        \n",
    "        return pd.DataFrame(heros_data)\n",
    "    \n",
    "    def get_heros_with_stats_tournament(url, query, tournament_id, offset, limit, order_by, search, token, max_retries=5, delay=2):\n",
    "        variables = {\n",
    "            \"tournament_id\": tournament_id,\n",
    "            \"offset\": offset,\n",
    "            \"order_by\": order_by,\n",
    "            \"limit\": limit,\n",
    "            \"search\": search\n",
    "        }\n",
    "        \n",
    "        retries = 0\n",
    "        while retries < max_retries:\n",
    "            response = send_graphql_request(url, query, variables, token=token)\n",
    "            if 'errors' in response:\n",
    "                error_code = response['errors'][0]['extensions']['code']\n",
    "                if error_code == 'rate-limit-exceeded':\n",
    "                    print(f\"Rate limit exceeded, sleeping for {delay} seconds. Attempt {retries + 1}/{max_retries}\")\n",
    "                    time.sleep(delay)\n",
    "                    delay *= 2  # Exponential backoff\n",
    "                    retries += 1\n",
    "                else:\n",
    "                    print(f\"Query: {query}\")\n",
    "                    print(f\"Variables: {variables}\")\n",
    "                    raise Exception(f\"Error fetching data: {response['errors']}\")\n",
    "            else:\n",
    "                return process_get_heros_with_stats_tournament(response)\n",
    "        raise Exception(\"Max retries exceeded\")\n",
    "    \n",
    "    # Get hero stats for the specified tournament\n",
    "    offset = 0\n",
    "    order_by = {\"fantasy_score\": \"desc\"}\n",
    "    limit = 200\n",
    "    search = \"%%\"\n",
    "\n",
    "    \n",
    "    heros_with_stats_tournament_df = get_heros_with_stats_tournament(url_graphql, query_get_heros_with_stats_tournament, tournament_id, offset, limit, order_by, search, token)\n",
    "    \n",
    "    return heros_with_stats_tournament_df\n",
    "\n",
    "\n"
   ]
  },
  {
   "cell_type": "code",
   "execution_count": 26,
   "id": "a87555c5",
   "metadata": {},
   "outputs": [],
   "source": [
    "last_tournament = get_tournament_stats(\"11413b0b-3798-4e54-8d3a-c059588cdd6c\", token=token)"
   ]
  },
  {
   "cell_type": "code",
   "execution_count": 32,
   "id": "56ae58ab",
   "metadata": {},
   "outputs": [
    {
     "data": {
      "text/html": [
       "<div>\n",
       "<style scoped>\n",
       "    .dataframe tbody tr th:only-of-type {\n",
       "        vertical-align: middle;\n",
       "    }\n",
       "\n",
       "    .dataframe tbody tr th {\n",
       "        vertical-align: top;\n",
       "    }\n",
       "\n",
       "    .dataframe thead th {\n",
       "        text-align: right;\n",
       "    }\n",
       "</style>\n",
       "<table border=\"1\" class=\"dataframe\">\n",
       "  <thead>\n",
       "    <tr style=\"text-align: right;\">\n",
       "      <th></th>\n",
       "      <th>Name</th>\n",
       "      <th>Handle</th>\n",
       "      <th>Main 11</th>\n",
       "      <th>Main 10</th>\n",
       "      <th>Main 9</th>\n",
       "      <th>Main 8</th>\n",
       "      <th>Main 7</th>\n",
       "      <th>Main 6 *Sat/Sun Only*</th>\n",
       "      <th>Main 5</th>\n",
       "      <th>All Rarities | 22 days</th>\n",
       "      <th>Main 4</th>\n",
       "      <th>Main 3</th>\n",
       "      <th>Common Only ✳️ Capped 15 🌟</th>\n",
       "      <th>Rare Only 💠</th>\n",
       "      <th>Common Only ✳️ Capped 20 🌟</th>\n",
       "      <th>Main 2</th>\n",
       "      <th>Main 1</th>\n",
       "      <th>Flash Tournament</th>\n",
       "    </tr>\n",
       "  </thead>\n",
       "  <tbody>\n",
       "    <tr>\n",
       "      <th>0</th>\n",
       "      <td>greg</td>\n",
       "      <td>greg16676935420</td>\n",
       "      <td>996</td>\n",
       "      <td>990</td>\n",
       "      <td>999</td>\n",
       "      <td>999</td>\n",
       "      <td>994</td>\n",
       "      <td>945</td>\n",
       "      <td>995</td>\n",
       "      <td>955</td>\n",
       "      <td>949</td>\n",
       "      <td>862</td>\n",
       "      <td>900</td>\n",
       "      <td>941</td>\n",
       "      <td>1,000</td>\n",
       "      <td>1,000</td>\n",
       "      <td>757</td>\n",
       "      <td>768</td>\n",
       "    </tr>\n",
       "    <tr>\n",
       "      <th>1</th>\n",
       "      <td>wallstreetbets</td>\n",
       "      <td>wallstreetbets</td>\n",
       "      <td>986</td>\n",
       "      <td>902</td>\n",
       "      <td>878</td>\n",
       "      <td>899</td>\n",
       "      <td>819</td>\n",
       "      <td>916</td>\n",
       "      <td>913</td>\n",
       "      <td>NaN</td>\n",
       "      <td>NaN</td>\n",
       "      <td>NaN</td>\n",
       "      <td>NaN</td>\n",
       "      <td>NaN</td>\n",
       "      <td>NaN</td>\n",
       "      <td>NaN</td>\n",
       "      <td>NaN</td>\n",
       "      <td>NaN</td>\n",
       "    </tr>\n",
       "    <tr>\n",
       "      <th>2</th>\n",
       "      <td>GBH  Remilio</td>\n",
       "      <td>xbtGBH</td>\n",
       "      <td>868</td>\n",
       "      <td>960</td>\n",
       "      <td>933</td>\n",
       "      <td>894</td>\n",
       "      <td>945</td>\n",
       "      <td>899</td>\n",
       "      <td>908</td>\n",
       "      <td>986</td>\n",
       "      <td>930</td>\n",
       "      <td>992</td>\n",
       "      <td>1,000</td>\n",
       "      <td>951</td>\n",
       "      <td>906</td>\n",
       "      <td>951</td>\n",
       "      <td>1,000</td>\n",
       "      <td>1,000</td>\n",
       "    </tr>\n",
       "    <tr>\n",
       "      <th>3</th>\n",
       "      <td>Ansem</td>\n",
       "      <td>blknoiz06</td>\n",
       "      <td>954</td>\n",
       "      <td>931</td>\n",
       "      <td>930</td>\n",
       "      <td>888</td>\n",
       "      <td>910</td>\n",
       "      <td>956</td>\n",
       "      <td>956</td>\n",
       "      <td>986</td>\n",
       "      <td>958</td>\n",
       "      <td>1,000</td>\n",
       "      <td>970</td>\n",
       "      <td>929</td>\n",
       "      <td>940</td>\n",
       "      <td>971</td>\n",
       "      <td>945</td>\n",
       "      <td>889</td>\n",
       "    </tr>\n",
       "    <tr>\n",
       "      <th>4</th>\n",
       "      <td>Evanss6</td>\n",
       "      <td>Evan_ss6</td>\n",
       "      <td>943</td>\n",
       "      <td>888</td>\n",
       "      <td>887</td>\n",
       "      <td>842</td>\n",
       "      <td>858</td>\n",
       "      <td>936</td>\n",
       "      <td>855</td>\n",
       "      <td>861</td>\n",
       "      <td>824</td>\n",
       "      <td>921</td>\n",
       "      <td>903</td>\n",
       "      <td>906</td>\n",
       "      <td>771</td>\n",
       "      <td>842</td>\n",
       "      <td>581</td>\n",
       "      <td>337</td>\n",
       "    </tr>\n",
       "    <tr>\n",
       "      <th>...</th>\n",
       "      <td>...</td>\n",
       "      <td>...</td>\n",
       "      <td>...</td>\n",
       "      <td>...</td>\n",
       "      <td>...</td>\n",
       "      <td>...</td>\n",
       "      <td>...</td>\n",
       "      <td>...</td>\n",
       "      <td>...</td>\n",
       "      <td>...</td>\n",
       "      <td>...</td>\n",
       "      <td>...</td>\n",
       "      <td>...</td>\n",
       "      <td>...</td>\n",
       "      <td>...</td>\n",
       "      <td>...</td>\n",
       "      <td>...</td>\n",
       "      <td>...</td>\n",
       "    </tr>\n",
       "    <tr>\n",
       "      <th>172</th>\n",
       "      <td>Pentoshi  euroPeng</td>\n",
       "      <td>Pentosh1</td>\n",
       "      <td>0</td>\n",
       "      <td>583</td>\n",
       "      <td>0</td>\n",
       "      <td>764</td>\n",
       "      <td>0</td>\n",
       "      <td>778</td>\n",
       "      <td>642</td>\n",
       "      <td>689</td>\n",
       "      <td>713</td>\n",
       "      <td>771</td>\n",
       "      <td>482</td>\n",
       "      <td>613</td>\n",
       "      <td>456</td>\n",
       "      <td>502</td>\n",
       "      <td>NaN</td>\n",
       "      <td>NaN</td>\n",
       "    </tr>\n",
       "    <tr>\n",
       "      <th>173</th>\n",
       "      <td>loomdart   Holy War Arc</td>\n",
       "      <td>loomdart</td>\n",
       "      <td>0</td>\n",
       "      <td>315</td>\n",
       "      <td>76</td>\n",
       "      <td>171</td>\n",
       "      <td>151</td>\n",
       "      <td>429</td>\n",
       "      <td>454</td>\n",
       "      <td>534</td>\n",
       "      <td>609</td>\n",
       "      <td>478</td>\n",
       "      <td>272</td>\n",
       "      <td>214</td>\n",
       "      <td>0</td>\n",
       "      <td>64</td>\n",
       "      <td>479</td>\n",
       "      <td>547</td>\n",
       "    </tr>\n",
       "    <tr>\n",
       "      <th>174</th>\n",
       "      <td>Bharat Krymo</td>\n",
       "      <td>krybharat</td>\n",
       "      <td>0</td>\n",
       "      <td>0</td>\n",
       "      <td>141</td>\n",
       "      <td>124</td>\n",
       "      <td>60</td>\n",
       "      <td>15</td>\n",
       "      <td>22</td>\n",
       "      <td>52</td>\n",
       "      <td>113</td>\n",
       "      <td>81</td>\n",
       "      <td>59</td>\n",
       "      <td>144</td>\n",
       "      <td>69</td>\n",
       "      <td>15</td>\n",
       "      <td>72</td>\n",
       "      <td>124</td>\n",
       "    </tr>\n",
       "    <tr>\n",
       "      <th>175</th>\n",
       "      <td>wab eth</td>\n",
       "      <td>wabdoteth</td>\n",
       "      <td>0</td>\n",
       "      <td>0</td>\n",
       "      <td>250</td>\n",
       "      <td>0</td>\n",
       "      <td>0</td>\n",
       "      <td>517</td>\n",
       "      <td>502</td>\n",
       "      <td>365</td>\n",
       "      <td>460</td>\n",
       "      <td>382</td>\n",
       "      <td>344</td>\n",
       "      <td>189</td>\n",
       "      <td>460</td>\n",
       "      <td>418</td>\n",
       "      <td>NaN</td>\n",
       "      <td>NaN</td>\n",
       "    </tr>\n",
       "    <tr>\n",
       "      <th>176</th>\n",
       "      <td>Pancakesbrah  actually Based</td>\n",
       "      <td>Pancakesbrah</td>\n",
       "      <td>0</td>\n",
       "      <td>0</td>\n",
       "      <td>0</td>\n",
       "      <td>0</td>\n",
       "      <td>0</td>\n",
       "      <td>27</td>\n",
       "      <td>0</td>\n",
       "      <td>555</td>\n",
       "      <td>714</td>\n",
       "      <td>356</td>\n",
       "      <td>705</td>\n",
       "      <td>441</td>\n",
       "      <td>662</td>\n",
       "      <td>823</td>\n",
       "      <td>491</td>\n",
       "      <td>540</td>\n",
       "    </tr>\n",
       "  </tbody>\n",
       "</table>\n",
       "<p>177 rows × 18 columns</p>\n",
       "</div>"
      ],
      "text/plain": [
       "                             Name           Handle  Main 11  Main 10  Main 9  \\\n",
       "0                            greg  greg16676935420      996      990     999   \n",
       "1                  wallstreetbets   wallstreetbets      986      902     878   \n",
       "2                    GBH  Remilio           xbtGBH      868      960     933   \n",
       "3                           Ansem        blknoiz06      954      931     930   \n",
       "4                         Evanss6         Evan_ss6      943      888     887   \n",
       "..                            ...              ...      ...      ...     ...   \n",
       "172            Pentoshi  euroPeng         Pentosh1        0      583       0   \n",
       "173       loomdart   Holy War Arc         loomdart        0      315      76   \n",
       "174                  Bharat Krymo        krybharat        0        0     141   \n",
       "175                       wab eth        wabdoteth        0        0     250   \n",
       "176  Pancakesbrah  actually Based     Pancakesbrah        0        0       0   \n",
       "\n",
       "     Main 8  Main 7  Main 6 *Sat/Sun Only*  Main 5 All Rarities | 22 days  \\\n",
       "0       999     994                    945     995                    955   \n",
       "1       899     819                    916     913                    NaN   \n",
       "2       894     945                    899     908                    986   \n",
       "3       888     910                    956     956                    986   \n",
       "4       842     858                    936     855                    861   \n",
       "..      ...     ...                    ...     ...                    ...   \n",
       "172     764       0                    778     642                    689   \n",
       "173     171     151                    429     454                    534   \n",
       "174     124      60                     15      22                     52   \n",
       "175       0       0                    517     502                    365   \n",
       "176       0       0                     27       0                    555   \n",
       "\n",
       "    Main 4 Main 3 Common Only ✳️ Capped 15 🌟 Rare Only 💠  \\\n",
       "0      949    862                        900         941   \n",
       "1      NaN    NaN                        NaN         NaN   \n",
       "2      930    992                      1,000         951   \n",
       "3      958  1,000                        970         929   \n",
       "4      824    921                        903         906   \n",
       "..     ...    ...                        ...         ...   \n",
       "172    713    771                        482         613   \n",
       "173    609    478                        272         214   \n",
       "174    113     81                         59         144   \n",
       "175    460    382                        344         189   \n",
       "176    714    356                        705         441   \n",
       "\n",
       "    Common Only ✳️ Capped 20 🌟 Main 2 Main 1 Flash Tournament  \n",
       "0                        1,000  1,000    757              768  \n",
       "1                          NaN    NaN    NaN              NaN  \n",
       "2                          906    951  1,000            1,000  \n",
       "3                          940    971    945              889  \n",
       "4                          771    842    581              337  \n",
       "..                         ...    ...    ...              ...  \n",
       "172                        456    502    NaN              NaN  \n",
       "173                          0     64    479              547  \n",
       "174                         69     15     72              124  \n",
       "175                        460    418    NaN              NaN  \n",
       "176                        662    823    491              540  \n",
       "\n",
       "[177 rows x 18 columns]"
      ]
     },
     "execution_count": 32,
     "metadata": {},
     "output_type": "execute_result"
    }
   ],
   "source": [
    "tournament_scores"
   ]
  },
  {
   "cell_type": "code",
   "execution_count": 30,
   "id": "bacb38a4",
   "metadata": {},
   "outputs": [
    {
     "data": {
      "text/html": [
       "<div>\n",
       "<style scoped>\n",
       "    .dataframe tbody tr th:only-of-type {\n",
       "        vertical-align: middle;\n",
       "    }\n",
       "\n",
       "    .dataframe tbody tr th {\n",
       "        vertical-align: top;\n",
       "    }\n",
       "\n",
       "    .dataframe thead th {\n",
       "        text-align: right;\n",
       "    }\n",
       "</style>\n",
       "<table border=\"1\" class=\"dataframe\">\n",
       "  <thead>\n",
       "    <tr style=\"text-align: right;\">\n",
       "      <th></th>\n",
       "      <th>current_rank</th>\n",
       "      <th>previous_rank</th>\n",
       "      <th>views</th>\n",
       "      <th>tweet_count</th>\n",
       "      <th>fantasy_score</th>\n",
       "      <th>reach</th>\n",
       "      <th>avg_views</th>\n",
       "      <th>hero_followers_count</th>\n",
       "      <th>hero_name</th>\n",
       "      <th>hero_handle</th>\n",
       "      <th>hero_profile_image_url</th>\n",
       "      <th>hero_volume</th>\n",
       "      <th>hero_last_sale_price</th>\n",
       "      <th>hero_floor_price</th>\n",
       "    </tr>\n",
       "  </thead>\n",
       "  <tbody>\n",
       "    <tr>\n",
       "      <th>157</th>\n",
       "      <td>158</td>\n",
       "      <td>158</td>\n",
       "      <td>1492</td>\n",
       "      <td>2</td>\n",
       "      <td>49.915178</td>\n",
       "      <td>7.048375</td>\n",
       "      <td>746.0</td>\n",
       "      <td>10527</td>\n",
       "      <td>gleb</td>\n",
       "      <td>glebble</td>\n",
       "      <td>https://pbs.twimg.com/profile_images/179318049...</td>\n",
       "      <td>202.348566</td>\n",
       "      <td>0.020000</td>\n",
       "      <td>0.0</td>\n",
       "    </tr>\n",
       "    <tr>\n",
       "      <th>158</th>\n",
       "      <td>159</td>\n",
       "      <td>159</td>\n",
       "      <td>1355</td>\n",
       "      <td>1</td>\n",
       "      <td>38.354717</td>\n",
       "      <td>5.572004</td>\n",
       "      <td>1355.0</td>\n",
       "      <td>27707</td>\n",
       "      <td>Sandra</td>\n",
       "      <td>sandraaleow</td>\n",
       "      <td>https://pbs.twimg.com/profile_images/177697825...</td>\n",
       "      <td>41.932662</td>\n",
       "      <td>0.014500</td>\n",
       "      <td>0.0</td>\n",
       "    </tr>\n",
       "    <tr>\n",
       "      <th>159</th>\n",
       "      <td>160</td>\n",
       "      <td>160</td>\n",
       "      <td>2166</td>\n",
       "      <td>3</td>\n",
       "      <td>25.670548</td>\n",
       "      <td>2.452446</td>\n",
       "      <td>722.0</td>\n",
       "      <td>36229</td>\n",
       "      <td>palmer</td>\n",
       "      <td>bitcoinPalmer</td>\n",
       "      <td>https://pbs.twimg.com/profile_images/182267808...</td>\n",
       "      <td>280.506011</td>\n",
       "      <td>0.010000</td>\n",
       "      <td>0.0</td>\n",
       "    </tr>\n",
       "    <tr>\n",
       "      <th>160</th>\n",
       "      <td>161</td>\n",
       "      <td>161</td>\n",
       "      <td>498</td>\n",
       "      <td>1</td>\n",
       "      <td>8.942191</td>\n",
       "      <td>1.406124</td>\n",
       "      <td>498.0</td>\n",
       "      <td>36770</td>\n",
       "      <td>Levi 💎⚡️</td>\n",
       "      <td>0xCaptainLevi</td>\n",
       "      <td>https://pbs.twimg.com/profile_images/167045639...</td>\n",
       "      <td>38.035304</td>\n",
       "      <td>0.100000</td>\n",
       "      <td>NaN</td>\n",
       "    </tr>\n",
       "    <tr>\n",
       "      <th>161</th>\n",
       "      <td>162</td>\n",
       "      <td>162</td>\n",
       "      <td>0</td>\n",
       "      <td>0</td>\n",
       "      <td>0.000000</td>\n",
       "      <td>0.000000</td>\n",
       "      <td>0.0</td>\n",
       "      <td>32469</td>\n",
       "      <td>Unipcs (aka 'Bonk Guy') 🎒</td>\n",
       "      <td>theunipcs</td>\n",
       "      <td>https://pbs.twimg.com/profile_images/175589988...</td>\n",
       "      <td>12.110626</td>\n",
       "      <td>0.015747</td>\n",
       "      <td>0.0</td>\n",
       "    </tr>\n",
       "    <tr>\n",
       "      <th>162</th>\n",
       "      <td>162</td>\n",
       "      <td>162</td>\n",
       "      <td>0</td>\n",
       "      <td>0</td>\n",
       "      <td>0.000000</td>\n",
       "      <td>0.000000</td>\n",
       "      <td>0.0</td>\n",
       "      <td>41618</td>\n",
       "      <td>BIG DICK BULL (BDB)</td>\n",
       "      <td>BigDickBull69</td>\n",
       "      <td>https://pbs.twimg.com/profile_images/179335102...</td>\n",
       "      <td>145.737769</td>\n",
       "      <td>0.200000</td>\n",
       "      <td>0.0</td>\n",
       "    </tr>\n",
       "    <tr>\n",
       "      <th>163</th>\n",
       "      <td>162</td>\n",
       "      <td>162</td>\n",
       "      <td>0</td>\n",
       "      <td>0</td>\n",
       "      <td>0.000000</td>\n",
       "      <td>0.000000</td>\n",
       "      <td>0.0</td>\n",
       "      <td>12196</td>\n",
       "      <td>WarDaddyCapital</td>\n",
       "      <td>wardaddycapital</td>\n",
       "      <td>https://pbs.twimg.com/profile_images/152691849...</td>\n",
       "      <td>618.154455</td>\n",
       "      <td>0.015000</td>\n",
       "      <td>NaN</td>\n",
       "    </tr>\n",
       "    <tr>\n",
       "      <th>164</th>\n",
       "      <td>162</td>\n",
       "      <td>162</td>\n",
       "      <td>0</td>\n",
       "      <td>0</td>\n",
       "      <td>0.000000</td>\n",
       "      <td>0.000000</td>\n",
       "      <td>0.0</td>\n",
       "      <td>52902</td>\n",
       "      <td>blockgraze</td>\n",
       "      <td>blockgraze</td>\n",
       "      <td>https://pbs.twimg.com/profile_images/176065556...</td>\n",
       "      <td>130.359192</td>\n",
       "      <td>1.000000</td>\n",
       "      <td>0.0</td>\n",
       "    </tr>\n",
       "    <tr>\n",
       "      <th>165</th>\n",
       "      <td>162</td>\n",
       "      <td>162</td>\n",
       "      <td>0</td>\n",
       "      <td>0</td>\n",
       "      <td>0.000000</td>\n",
       "      <td>0.000000</td>\n",
       "      <td>0.0</td>\n",
       "      <td>34323</td>\n",
       "      <td>Tom Schmidt ＞|＜</td>\n",
       "      <td>tomhschmidt</td>\n",
       "      <td>https://pbs.twimg.com/profile_images/177372148...</td>\n",
       "      <td>273.862454</td>\n",
       "      <td>0.010000</td>\n",
       "      <td>0.0</td>\n",
       "    </tr>\n",
       "    <tr>\n",
       "      <th>166</th>\n",
       "      <td>162</td>\n",
       "      <td>162</td>\n",
       "      <td>0</td>\n",
       "      <td>0</td>\n",
       "      <td>0.000000</td>\n",
       "      <td>0.000000</td>\n",
       "      <td>0.0</td>\n",
       "      <td>36358</td>\n",
       "      <td>WR☻NGUSER ✗</td>\n",
       "      <td>wronguser000</td>\n",
       "      <td>https://pbs.twimg.com/profile_images/161136475...</td>\n",
       "      <td>30.833502</td>\n",
       "      <td>0.115000</td>\n",
       "      <td>0.0</td>\n",
       "    </tr>\n",
       "    <tr>\n",
       "      <th>167</th>\n",
       "      <td>162</td>\n",
       "      <td>162</td>\n",
       "      <td>0</td>\n",
       "      <td>0</td>\n",
       "      <td>0.000000</td>\n",
       "      <td>0.000000</td>\n",
       "      <td>0.0</td>\n",
       "      <td>383444</td>\n",
       "      <td>db</td>\n",
       "      <td>tier10k</td>\n",
       "      <td>https://pbs.twimg.com/profile_images/141672333...</td>\n",
       "      <td>164.124837</td>\n",
       "      <td>0.110000</td>\n",
       "      <td>0.0</td>\n",
       "    </tr>\n",
       "    <tr>\n",
       "      <th>168</th>\n",
       "      <td>162</td>\n",
       "      <td>162</td>\n",
       "      <td>0</td>\n",
       "      <td>0</td>\n",
       "      <td>0.000000</td>\n",
       "      <td>0.000000</td>\n",
       "      <td>0.0</td>\n",
       "      <td>800565</td>\n",
       "      <td>Pentoshi 🐧 euroPeng 🇪🇺</td>\n",
       "      <td>Pentosh1</td>\n",
       "      <td>https://pbs.twimg.com/profile_images/176736682...</td>\n",
       "      <td>30.670987</td>\n",
       "      <td>0.350000</td>\n",
       "      <td>0.0</td>\n",
       "    </tr>\n",
       "    <tr>\n",
       "      <th>169</th>\n",
       "      <td>162</td>\n",
       "      <td>162</td>\n",
       "      <td>0</td>\n",
       "      <td>0</td>\n",
       "      <td>0.000000</td>\n",
       "      <td>0.000000</td>\n",
       "      <td>0.0</td>\n",
       "      <td>57246</td>\n",
       "      <td>L</td>\n",
       "      <td>0xLawliette</td>\n",
       "      <td>https://pbs.twimg.com/profile_images/181658357...</td>\n",
       "      <td>57.052897</td>\n",
       "      <td>0.125000</td>\n",
       "      <td>0.0</td>\n",
       "    </tr>\n",
       "    <tr>\n",
       "      <th>170</th>\n",
       "      <td>162</td>\n",
       "      <td>162</td>\n",
       "      <td>0</td>\n",
       "      <td>0</td>\n",
       "      <td>0.000000</td>\n",
       "      <td>0.000000</td>\n",
       "      <td>0.0</td>\n",
       "      <td>32347</td>\n",
       "      <td>Kofi</td>\n",
       "      <td>0xKofi</td>\n",
       "      <td>https://pbs.twimg.com/profile_images/138786910...</td>\n",
       "      <td>56.078482</td>\n",
       "      <td>0.015000</td>\n",
       "      <td>0.0</td>\n",
       "    </tr>\n",
       "    <tr>\n",
       "      <th>171</th>\n",
       "      <td>162</td>\n",
       "      <td>162</td>\n",
       "      <td>0</td>\n",
       "      <td>0</td>\n",
       "      <td>0.000000</td>\n",
       "      <td>0.000000</td>\n",
       "      <td>0.0</td>\n",
       "      <td>204888</td>\n",
       "      <td>LilMoonLambo</td>\n",
       "      <td>LilMoonLambo</td>\n",
       "      <td>https://pbs.twimg.com/profile_images/169415108...</td>\n",
       "      <td>40.370808</td>\n",
       "      <td>0.300000</td>\n",
       "      <td>0.0</td>\n",
       "    </tr>\n",
       "    <tr>\n",
       "      <th>172</th>\n",
       "      <td>162</td>\n",
       "      <td>162</td>\n",
       "      <td>0</td>\n",
       "      <td>0</td>\n",
       "      <td>0.000000</td>\n",
       "      <td>0.000000</td>\n",
       "      <td>0.0</td>\n",
       "      <td>194320</td>\n",
       "      <td>olimpio</td>\n",
       "      <td>OlimpioCrypto</td>\n",
       "      <td>https://pbs.twimg.com/profile_images/155885421...</td>\n",
       "      <td>86.514629</td>\n",
       "      <td>0.045000</td>\n",
       "      <td>0.0</td>\n",
       "    </tr>\n",
       "    <tr>\n",
       "      <th>173</th>\n",
       "      <td>162</td>\n",
       "      <td>162</td>\n",
       "      <td>0</td>\n",
       "      <td>0</td>\n",
       "      <td>0.000000</td>\n",
       "      <td>0.000000</td>\n",
       "      <td>0.0</td>\n",
       "      <td>36229</td>\n",
       "      <td>Pancakesbrah (actually Based)</td>\n",
       "      <td>Pancakesbrah</td>\n",
       "      <td>https://pbs.twimg.com/profile_images/169272766...</td>\n",
       "      <td>684.774688</td>\n",
       "      <td>0.010000</td>\n",
       "      <td>NaN</td>\n",
       "    </tr>\n",
       "    <tr>\n",
       "      <th>174</th>\n",
       "      <td>162</td>\n",
       "      <td>162</td>\n",
       "      <td>0</td>\n",
       "      <td>0</td>\n",
       "      <td>0.000000</td>\n",
       "      <td>0.000000</td>\n",
       "      <td>0.0</td>\n",
       "      <td>178411</td>\n",
       "      <td>natealex</td>\n",
       "      <td>natealexnft</td>\n",
       "      <td>https://pbs.twimg.com/profile_images/174301093...</td>\n",
       "      <td>167.736483</td>\n",
       "      <td>0.019800</td>\n",
       "      <td>0.0</td>\n",
       "    </tr>\n",
       "    <tr>\n",
       "      <th>175</th>\n",
       "      <td>162</td>\n",
       "      <td>162</td>\n",
       "      <td>0</td>\n",
       "      <td>0</td>\n",
       "      <td>0.000000</td>\n",
       "      <td>0.000000</td>\n",
       "      <td>0.0</td>\n",
       "      <td>91290</td>\n",
       "      <td>Size Chad</td>\n",
       "      <td>SizeChad</td>\n",
       "      <td>https://pbs.twimg.com/profile_images/159688870...</td>\n",
       "      <td>27.138192</td>\n",
       "      <td>0.059000</td>\n",
       "      <td>0.0</td>\n",
       "    </tr>\n",
       "    <tr>\n",
       "      <th>176</th>\n",
       "      <td>162</td>\n",
       "      <td>162</td>\n",
       "      <td>0</td>\n",
       "      <td>0</td>\n",
       "      <td>0.000000</td>\n",
       "      <td>0.000000</td>\n",
       "      <td>0.0</td>\n",
       "      <td>330535</td>\n",
       "      <td>Luke Martin</td>\n",
       "      <td>VentureCoinist</td>\n",
       "      <td>https://pbs.twimg.com/profile_images/177394779...</td>\n",
       "      <td>133.494302</td>\n",
       "      <td>0.020000</td>\n",
       "      <td>0.0</td>\n",
       "    </tr>\n",
       "  </tbody>\n",
       "</table>\n",
       "</div>"
      ],
      "text/plain": [
       "     current_rank  previous_rank  views  tweet_count  fantasy_score     reach  \\\n",
       "157           158            158   1492            2      49.915178  7.048375   \n",
       "158           159            159   1355            1      38.354717  5.572004   \n",
       "159           160            160   2166            3      25.670548  2.452446   \n",
       "160           161            161    498            1       8.942191  1.406124   \n",
       "161           162            162      0            0       0.000000  0.000000   \n",
       "162           162            162      0            0       0.000000  0.000000   \n",
       "163           162            162      0            0       0.000000  0.000000   \n",
       "164           162            162      0            0       0.000000  0.000000   \n",
       "165           162            162      0            0       0.000000  0.000000   \n",
       "166           162            162      0            0       0.000000  0.000000   \n",
       "167           162            162      0            0       0.000000  0.000000   \n",
       "168           162            162      0            0       0.000000  0.000000   \n",
       "169           162            162      0            0       0.000000  0.000000   \n",
       "170           162            162      0            0       0.000000  0.000000   \n",
       "171           162            162      0            0       0.000000  0.000000   \n",
       "172           162            162      0            0       0.000000  0.000000   \n",
       "173           162            162      0            0       0.000000  0.000000   \n",
       "174           162            162      0            0       0.000000  0.000000   \n",
       "175           162            162      0            0       0.000000  0.000000   \n",
       "176           162            162      0            0       0.000000  0.000000   \n",
       "\n",
       "     avg_views  hero_followers_count                      hero_name  \\\n",
       "157      746.0                 10527                           gleb   \n",
       "158     1355.0                 27707                         Sandra   \n",
       "159      722.0                 36229                         palmer   \n",
       "160      498.0                 36770                       Levi 💎⚡️   \n",
       "161        0.0                 32469      Unipcs (aka 'Bonk Guy') 🎒   \n",
       "162        0.0                 41618            BIG DICK BULL (BDB)   \n",
       "163        0.0                 12196                WarDaddyCapital   \n",
       "164        0.0                 52902                     blockgraze   \n",
       "165        0.0                 34323                Tom Schmidt ＞|＜   \n",
       "166        0.0                 36358                    WR☻NGUSER ✗   \n",
       "167        0.0                383444                             db   \n",
       "168        0.0                800565         Pentoshi 🐧 euroPeng 🇪🇺   \n",
       "169        0.0                 57246                              L   \n",
       "170        0.0                 32347                           Kofi   \n",
       "171        0.0                204888                   LilMoonLambo   \n",
       "172        0.0                194320                        olimpio   \n",
       "173        0.0                 36229  Pancakesbrah (actually Based)   \n",
       "174        0.0                178411                       natealex   \n",
       "175        0.0                 91290                      Size Chad   \n",
       "176        0.0                330535                    Luke Martin   \n",
       "\n",
       "         hero_handle                             hero_profile_image_url  \\\n",
       "157          glebble  https://pbs.twimg.com/profile_images/179318049...   \n",
       "158      sandraaleow  https://pbs.twimg.com/profile_images/177697825...   \n",
       "159    bitcoinPalmer  https://pbs.twimg.com/profile_images/182267808...   \n",
       "160    0xCaptainLevi  https://pbs.twimg.com/profile_images/167045639...   \n",
       "161        theunipcs  https://pbs.twimg.com/profile_images/175589988...   \n",
       "162    BigDickBull69  https://pbs.twimg.com/profile_images/179335102...   \n",
       "163  wardaddycapital  https://pbs.twimg.com/profile_images/152691849...   \n",
       "164       blockgraze  https://pbs.twimg.com/profile_images/176065556...   \n",
       "165      tomhschmidt  https://pbs.twimg.com/profile_images/177372148...   \n",
       "166     wronguser000  https://pbs.twimg.com/profile_images/161136475...   \n",
       "167          tier10k  https://pbs.twimg.com/profile_images/141672333...   \n",
       "168         Pentosh1  https://pbs.twimg.com/profile_images/176736682...   \n",
       "169      0xLawliette  https://pbs.twimg.com/profile_images/181658357...   \n",
       "170           0xKofi  https://pbs.twimg.com/profile_images/138786910...   \n",
       "171     LilMoonLambo  https://pbs.twimg.com/profile_images/169415108...   \n",
       "172    OlimpioCrypto  https://pbs.twimg.com/profile_images/155885421...   \n",
       "173     Pancakesbrah  https://pbs.twimg.com/profile_images/169272766...   \n",
       "174      natealexnft  https://pbs.twimg.com/profile_images/174301093...   \n",
       "175         SizeChad  https://pbs.twimg.com/profile_images/159688870...   \n",
       "176   VentureCoinist  https://pbs.twimg.com/profile_images/177394779...   \n",
       "\n",
       "     hero_volume  hero_last_sale_price  hero_floor_price  \n",
       "157   202.348566              0.020000               0.0  \n",
       "158    41.932662              0.014500               0.0  \n",
       "159   280.506011              0.010000               0.0  \n",
       "160    38.035304              0.100000               NaN  \n",
       "161    12.110626              0.015747               0.0  \n",
       "162   145.737769              0.200000               0.0  \n",
       "163   618.154455              0.015000               NaN  \n",
       "164   130.359192              1.000000               0.0  \n",
       "165   273.862454              0.010000               0.0  \n",
       "166    30.833502              0.115000               0.0  \n",
       "167   164.124837              0.110000               0.0  \n",
       "168    30.670987              0.350000               0.0  \n",
       "169    57.052897              0.125000               0.0  \n",
       "170    56.078482              0.015000               0.0  \n",
       "171    40.370808              0.300000               0.0  \n",
       "172    86.514629              0.045000               0.0  \n",
       "173   684.774688              0.010000               NaN  \n",
       "174   167.736483              0.019800               0.0  \n",
       "175    27.138192              0.059000               0.0  \n",
       "176   133.494302              0.020000               0.0  "
      ]
     },
     "execution_count": 30,
     "metadata": {},
     "output_type": "execute_result"
    }
   ],
   "source": [
    "last_tournament.tail(20)"
   ]
  },
  {
   "cell_type": "code",
   "execution_count": 43,
   "id": "e64c2830",
   "metadata": {},
   "outputs": [],
   "source": [
    "updated_tournament_scores = tournament_scores.merge(last_tournament[['hero_handle', 'fantasy_score']], left_on='Handle', right_on='hero_handle')\n",
    "updated_tournament_scores.drop(columns=['hero_handle'])\n",
    "updated_tournament_scores.rename(columns={'fantasy_score': 'Main 12'}, inplace=True)\n",
    "# Step 1: Get the list of columns\n",
    "columns = updated_tournament_scores.columns.tolist()\n",
    "\n",
    "# Step 2: Remove 'Main 12' from its current position\n",
    "columns.remove('Main 12')\n",
    "\n",
    "# Step 3: Find the position of 'Main 11'\n",
    "main_11_index = columns.index('Main 11')\n",
    "\n",
    "# Step 4: Insert 'Main 12' before 'Main 11'\n",
    "columns.insert(main_11_index, 'Main 12')\n",
    "\n",
    "# Step 5: Reorder the DataFrame using the new columns list\n",
    "updated_tournament_scores = updated_tournament_scores[columns]\n",
    "\n",
    "updated_tournament_scores['Main 12'] = updated_tournament_scores['Main 12'].round(0).astype(int)\n"
   ]
  },
  {
   "cell_type": "code",
   "execution_count": 45,
   "id": "6cbd6b21",
   "metadata": {},
   "outputs": [],
   "source": [
    "updated_tournament_scores.to_csv('data/tournament_scores_240816_0327.csv')"
   ]
  },
  {
   "cell_type": "code",
   "execution_count": 77,
   "id": "b8051864-d81d-4d4b-bb47-75ad3a27bcd6",
   "metadata": {},
   "outputs": [
    {
     "name": "stdout",
     "output_type": "stream",
     "text": [
      "Fetching stats for tournament: Flash_Tournament (ID: 50d1bb18-c18e-4502-b9cd-e0bc9fd709c6)\n",
      "DataFrame for Flash_Tournament created with 123 rows\n",
      "Fetching stats for tournament: Main_1 (ID: ad0cb5e8-0a8a-40a8-9b7d-07dc4441f54b)\n",
      "DataFrame for Main_1 created with 123 rows\n",
      "Fetching stats for tournament: Main_2 (ID: d292083b-3516-4754-8fd6-f7417472290c)\n",
      "DataFrame for Main_2 created with 0 rows\n",
      "Fetching stats for tournament: Common_Only_Capped_20 (ID: fd1df283-de8b-41bf-b06f-d5a6160d8cf2)\n",
      "DataFrame for Common_Only_Capped_20 created with 166 rows\n",
      "Fetching stats for tournament: Rare_Only (ID: 8b10c080-34af-4005-b66e-8afef943566f)\n",
      "DataFrame for Rare_Only created with 166 rows\n",
      "Fetching stats for tournament: Common_Only_Capped_15 (ID: 5cca59e3-c861-439e-84da-8e3e6ff0842a)\n",
      "DataFrame for Common_Only_Capped_15 created with 166 rows\n",
      "Fetching stats for tournament: All_Rarities_22_days (ID: 941cb41d-6cb9-4fc1-8f4d-1acd843ce219)\n",
      "DataFrame for All_Rarities_22_days created with 166 rows\n",
      "Fetching stats for tournament: Main_3 (ID: 984c5b77-ccfd-4f25-9804-2e7ff26d0beb)\n",
      "DataFrame for Main_3 created with 0 rows\n",
      "Fetching stats for tournament: Main_4 (ID: 64b6bd2a-85af-43f1-997c-46899af3c46b)\n",
      "DataFrame for Main_4 created with 166 rows\n",
      "Fetching stats for tournament: Main_5 (ID: ec47fb9c-33ce-41c7-8530-7395a855d7aa)\n",
      "DataFrame for Main_5 created with 0 rows\n",
      "Fetching stats for tournament: Main_6 (ID: cd041022-d3fd-4966-964f-2cbf3d13645f)\n",
      "DataFrame for Main_6 created with 0 rows\n",
      "Fetching stats for tournament: Main_7 (ID: a2a0ace9-859c-4c4c-81e9-75c4c178319d)\n",
      "DataFrame for Main_7 created with 0 rows\n",
      "Fetching stats for tournament: Main_8 (ID: c5b01735-41de-44c8-8203-6d9f26a01166)\n",
      "DataFrame for Main_8 created with 0 rows\n"
     ]
    }
   ],
   "source": [
    "def get_all_tournaments_stats(simplified_tournaments_df, token):\n",
    "    for idx, row in simplified_tournaments_df.iterrows():\n",
    "        tournament_id = row['id']\n",
    "        simplified_name = row['simplified_name'].replace(' ', '_')\n",
    "        \n",
    "        print(f\"Fetching stats for tournament: {simplified_name} (ID: {tournament_id})\")\n",
    "        \n",
    "        try:\n",
    "            tournament_stats_df = get_tournament_stats(tournament_id, token)\n",
    "            globals()[simplified_name] = tournament_stats_df\n",
    "            print(f\"DataFrame for {simplified_name} created with {len(tournament_stats_df)} rows\")\n",
    "        except Exception as e:\n",
    "            print(f\"Failed to fetch data for tournament {tournament_id} with error: {str(e)}\")\n",
    "\n",
    "# Example usage:\n",
    "# Assume you have a DataFrame 'simplified_tournaments_df' and a valid 'token'\n",
    "get_all_tournaments_stats(simplified_tournaments_df, token)"
   ]
  },
  {
   "cell_type": "code",
   "execution_count": 81,
   "id": "0680cd03-e66b-4418-a31e-7c207d16a5f0",
   "metadata": {},
   "outputs": [],
   "source": [
    "test_df = get_tournament_stats('cd041022-d3fd-4966-964f-2cbf3d13645f', token=token)"
   ]
  },
  {
   "cell_type": "markdown",
   "id": "d9eaaf6f-4dae-4b52-a8a2-2151f96fcd4d",
   "metadata": {},
   "source": [
    "# Run Functions To Gather Data"
   ]
  },
  {
   "cell_type": "code",
   "execution_count": 91,
   "id": "1851087e-c43a-4bce-beb4-eea7eb5a1e8d",
   "metadata": {},
   "outputs": [],
   "source": [
    "import glob\n",
    "\n",
    "def get_latest_hero_stats_file(directory, prefix='hero_stats'):\n",
    "    # Use glob to find all files that match the pattern\n",
    "    files = glob.glob(os.path.join(directory, f'{prefix}*.csv'))\n",
    "    \n",
    "    # If no files found, raise an error or handle accordingly\n",
    "    if not files:\n",
    "        raise FileNotFoundError(f\"No files starting with '{prefix}' found in {directory}\")\n",
    "\n",
    "    # Sort files by modification time, newest first\n",
    "    latest_file = max(files, key=os.path.getmtime)\n",
    "    \n",
    "    return latest_file\n",
    "\n",
    "# Use the function to get the latest hero_stats file\n",
    "latest_hero_stats_file = get_latest_hero_stats_file('data')\n",
    "\n",
    "# Load the latest hero_stats file into a DataFrame\n",
    "hero_stats_df = pd.read_csv(latest_hero_stats_file)\n",
    "\n",
    "\n"
   ]
  },
  {
   "cell_type": "code",
   "execution_count": 96,
   "id": "96cdbbfd-49fa-4271-811b-9a1d2921a298",
   "metadata": {},
   "outputs": [
    {
     "name": "stdout",
     "output_type": "stream",
     "text": [
      "Calling <lambda>\n"
     ]
    },
    {
     "name": "stderr",
     "output_type": "stream",
     "text": [
      "Fetching hero data:   0%|                                                                      | 0/177 [00:00<?, ?it/s]"
     ]
    },
    {
     "name": "stdout",
     "output_type": "stream",
     "text": [
      "Fetching data for hero 1356434353623093249 (1/177), attempt 1Successfully fetched data for hero 1356434353623093249          \n"
     ]
    },
    {
     "name": "stderr",
     "output_type": "stream",
     "text": [
      "Fetching hero data:   1%|▎                                                             | 1/177 [00:01<03:28,  1.19s/it]"
     ]
    },
    {
     "name": "stdout",
     "output_type": "stream",
     "text": [
      "Fetching data for hero 262018615 (2/177), attempt 1Successfully fetched data for hero 262018615          \n"
     ]
    },
    {
     "name": "stderr",
     "output_type": "stream",
     "text": [
      "Fetching hero data:   1%|▋                                                             | 2/177 [00:02<03:27,  1.18s/it]"
     ]
    },
    {
     "name": "stdout",
     "output_type": "stream",
     "text": [
      "Fetching data for hero 982070158125682688 (3/177), attempt 1Successfully fetched data for hero 982070158125682688          \n"
     ]
    },
    {
     "name": "stderr",
     "output_type": "stream",
     "text": [
      "Fetching hero data:   2%|█                                                             | 3/177 [00:03<03:25,  1.18s/it]"
     ]
    },
    {
     "name": "stdout",
     "output_type": "stream",
     "text": [
      "Fetching data for hero 973261472 (4/177), attempt 1Successfully fetched data for hero 973261472          \n"
     ]
    },
    {
     "name": "stderr",
     "output_type": "stream",
     "text": [
      "Fetching hero data:   2%|█▍                                                            | 4/177 [00:04<03:22,  1.17s/it]"
     ]
    },
    {
     "name": "stdout",
     "output_type": "stream",
     "text": [
      "Fetching data for hero 1441835930889818113 (5/177), attempt 1Successfully fetched data for hero 1441835930889818113          \n"
     ]
    },
    {
     "name": "stderr",
     "output_type": "stream",
     "text": [
      "Fetching hero data:   3%|█▊                                                            | 5/177 [00:05<03:22,  1.18s/it]"
     ]
    },
    {
     "name": "stdout",
     "output_type": "stream",
     "text": [
      "Fetching data for hero 906234475604037637 (6/177), attempt 1Successfully fetched data for hero 906234475604037637          \n"
     ]
    },
    {
     "name": "stderr",
     "output_type": "stream",
     "text": [
      "Fetching hero data:   3%|██                                                            | 6/177 [00:07<03:22,  1.18s/it]"
     ]
    },
    {
     "name": "stdout",
     "output_type": "stream",
     "text": [
      "Fetching data for hero 588569122 (7/177), attempt 1Successfully fetched data for hero 588569122          \n"
     ]
    },
    {
     "name": "stderr",
     "output_type": "stream",
     "text": [
      "Fetching hero data:   4%|██▍                                                           | 7/177 [00:08<03:20,  1.18s/it]"
     ]
    },
    {
     "name": "stdout",
     "output_type": "stream",
     "text": [
      "Fetching data for hero 965651 (8/177), attempt 1Successfully fetched data for hero 965651          \n"
     ]
    },
    {
     "name": "stderr",
     "output_type": "stream",
     "text": [
      "Fetching hero data:   5%|██▊                                                           | 8/177 [00:09<03:19,  1.18s/it]"
     ]
    },
    {
     "name": "stdout",
     "output_type": "stream",
     "text": [
      "Fetching data for hero 279828819 (9/177), attempt 1Successfully fetched data for hero 279828819          \n"
     ]
    },
    {
     "name": "stderr",
     "output_type": "stream",
     "text": [
      "Fetching hero data:   5%|███▏                                                          | 9/177 [00:10<03:17,  1.18s/it]"
     ]
    },
    {
     "name": "stdout",
     "output_type": "stream",
     "text": [
      "Fetching data for hero 1466010689726783491 (10/177), attempt 1Successfully fetched data for hero 1466010689726783491          \n"
     ]
    },
    {
     "name": "stderr",
     "output_type": "stream",
     "text": [
      "Fetching hero data:   6%|███▍                                                         | 10/177 [00:11<03:15,  1.17s/it]"
     ]
    },
    {
     "name": "stdout",
     "output_type": "stream",
     "text": [
      "Fetching data for hero 1446541960181858315 (11/177), attempt 1Successfully fetched data for hero 1446541960181858315          \n"
     ]
    },
    {
     "name": "stderr",
     "output_type": "stream",
     "text": [
      "Fetching hero data:   6%|███▊                                                         | 11/177 [00:12<03:15,  1.18s/it]"
     ]
    },
    {
     "name": "stdout",
     "output_type": "stream",
     "text": [
      "Fetching data for hero 4705209135 (12/177), attempt 1Successfully fetched data for hero 4705209135          \n"
     ]
    },
    {
     "name": "stderr",
     "output_type": "stream",
     "text": [
      "Fetching hero data:   7%|████▏                                                        | 12/177 [00:14<03:14,  1.18s/it]"
     ]
    },
    {
     "name": "stdout",
     "output_type": "stream",
     "text": [
      "Fetching data for hero 2193616844 (13/177), attempt 1Successfully fetched data for hero 2193616844          \n"
     ]
    },
    {
     "name": "stderr",
     "output_type": "stream",
     "text": [
      "Fetching hero data:   7%|████▍                                                        | 13/177 [00:15<03:13,  1.18s/it]"
     ]
    },
    {
     "name": "stdout",
     "output_type": "stream",
     "text": [
      "Fetching data for hero 1309886201944473600 (14/177), attempt 1Successfully fetched data for hero 1309886201944473600          \n"
     ]
    },
    {
     "name": "stderr",
     "output_type": "stream",
     "text": [
      "Fetching hero data:   8%|████▊                                                        | 14/177 [00:16<03:11,  1.18s/it]"
     ]
    },
    {
     "name": "stdout",
     "output_type": "stream",
     "text": [
      "Fetching data for hero 1175781003245191178 (15/177), attempt 1Successfully fetched data for hero 1175781003245191178          \n"
     ]
    },
    {
     "name": "stderr",
     "output_type": "stream",
     "text": [
      "Fetching hero data:   8%|█████▏                                                       | 15/177 [00:17<03:10,  1.17s/it]"
     ]
    },
    {
     "name": "stdout",
     "output_type": "stream",
     "text": [
      "Fetching data for hero 864011281 (16/177), attempt 1Successfully fetched data for hero 864011281          \n"
     ]
    },
    {
     "name": "stderr",
     "output_type": "stream",
     "text": [
      "Fetching hero data:   9%|█████▌                                                       | 16/177 [00:18<03:08,  1.17s/it]"
     ]
    },
    {
     "name": "stdout",
     "output_type": "stream",
     "text": [
      "Fetching data for hero 1518981537307496448 (17/177), attempt 1Successfully fetched data for hero 1518981537307496448          \n"
     ]
    },
    {
     "name": "stderr",
     "output_type": "stream",
     "text": [
      "Fetching hero data:  10%|█████▊                                                       | 17/177 [00:19<03:07,  1.17s/it]"
     ]
    },
    {
     "name": "stdout",
     "output_type": "stream",
     "text": [
      "Fetching data for hero 1426732252768182281 (18/177), attempt 1Successfully fetched data for hero 1426732252768182281          \n"
     ]
    },
    {
     "name": "stderr",
     "output_type": "stream",
     "text": [
      "Fetching hero data:  10%|██████▏                                                      | 18/177 [00:21<03:08,  1.18s/it]"
     ]
    },
    {
     "name": "stdout",
     "output_type": "stream",
     "text": [
      "Fetching data for hero 1449941836034822144 (19/177), attempt 1Successfully fetched data for hero 1449941836034822144          \n"
     ]
    },
    {
     "name": "stderr",
     "output_type": "stream",
     "text": [
      "Fetching hero data:  11%|██████▌                                                      | 19/177 [00:22<03:06,  1.18s/it]"
     ]
    },
    {
     "name": "stdout",
     "output_type": "stream",
     "text": [
      "Fetching data for hero 1469851247133945856 (20/177), attempt 1Successfully fetched data for hero 1469851247133945856          \n"
     ]
    },
    {
     "name": "stderr",
     "output_type": "stream",
     "text": [
      "Fetching hero data:  11%|██████▉                                                      | 20/177 [00:23<03:04,  1.17s/it]"
     ]
    },
    {
     "name": "stdout",
     "output_type": "stream",
     "text": [
      "Fetching data for hero 1769641180898131968 (21/177), attempt 1Successfully fetched data for hero 1769641180898131968          \n"
     ]
    },
    {
     "name": "stderr",
     "output_type": "stream",
     "text": [
      "Fetching hero data:  12%|███████▏                                                     | 21/177 [00:24<03:02,  1.17s/it]"
     ]
    },
    {
     "name": "stdout",
     "output_type": "stream",
     "text": [
      "Fetching data for hero 1432635656161746947 (22/177), attempt 1Successfully fetched data for hero 1432635656161746947          \n"
     ]
    },
    {
     "name": "stderr",
     "output_type": "stream",
     "text": [
      "Fetching hero data:  12%|███████▌                                                     | 22/177 [00:25<03:02,  1.18s/it]"
     ]
    },
    {
     "name": "stdout",
     "output_type": "stream",
     "text": [
      "Fetching data for hero 834123445856145408 (23/177), attempt 1Successfully fetched data for hero 834123445856145408          \n"
     ]
    },
    {
     "name": "stderr",
     "output_type": "stream",
     "text": [
      "Fetching hero data:  13%|███████▉                                                     | 23/177 [00:27<03:01,  1.18s/it]"
     ]
    },
    {
     "name": "stdout",
     "output_type": "stream",
     "text": [
      "Fetching data for hero 1398319504975970310 (24/177), attempt 1Successfully fetched data for hero 1398319504975970310          \n"
     ]
    },
    {
     "name": "stderr",
     "output_type": "stream",
     "text": [
      "Fetching hero data:  14%|████████▎                                                    | 24/177 [00:28<03:00,  1.18s/it]"
     ]
    },
    {
     "name": "stdout",
     "output_type": "stream",
     "text": [
      "Fetching data for hero 2593497397 (25/177), attempt 1Successfully fetched data for hero 2593497397          \n"
     ]
    },
    {
     "name": "stderr",
     "output_type": "stream",
     "text": [
      "Fetching hero data:  14%|████████▌                                                    | 25/177 [00:29<02:59,  1.18s/it]"
     ]
    },
    {
     "name": "stdout",
     "output_type": "stream",
     "text": [
      "Fetching data for hero 1456142714756468738 (26/177), attempt 1Successfully fetched data for hero 1456142714756468738          \n"
     ]
    },
    {
     "name": "stderr",
     "output_type": "stream",
     "text": [
      "Fetching hero data:  15%|████████▉                                                    | 26/177 [00:30<02:57,  1.18s/it]"
     ]
    },
    {
     "name": "stdout",
     "output_type": "stream",
     "text": [
      "Fetching data for hero 1223801725674565632 (27/177), attempt 1Successfully fetched data for hero 1223801725674565632          \n"
     ]
    },
    {
     "name": "stderr",
     "output_type": "stream",
     "text": [
      "Fetching hero data:  15%|█████████▎                                                   | 27/177 [00:31<02:55,  1.17s/it]"
     ]
    },
    {
     "name": "stdout",
     "output_type": "stream",
     "text": [
      "Fetching data for hero 1755899659040555009 (28/177), attempt 1Successfully fetched data for hero 1755899659040555009          \n"
     ]
    },
    {
     "name": "stderr",
     "output_type": "stream",
     "text": [
      "Fetching hero data:  16%|█████████▋                                                   | 28/177 [00:32<02:54,  1.17s/it]"
     ]
    },
    {
     "name": "stdout",
     "output_type": "stream",
     "text": [
      "Fetching data for hero 954015928924057601 (29/177), attempt 1Successfully fetched data for hero 954015928924057601          \n"
     ]
    },
    {
     "name": "stderr",
     "output_type": "stream",
     "text": [
      "Fetching hero data:  16%|█████████▉                                                   | 29/177 [00:34<03:00,  1.22s/it]"
     ]
    },
    {
     "name": "stdout",
     "output_type": "stream",
     "text": [
      "Fetching data for hero 423164349 (30/177), attempt 1Successfully fetched data for hero 423164349          \n"
     ]
    },
    {
     "name": "stderr",
     "output_type": "stream",
     "text": [
      "Fetching hero data:  17%|██████████▎                                                  | 30/177 [00:35<02:57,  1.21s/it]"
     ]
    },
    {
     "name": "stdout",
     "output_type": "stream",
     "text": [
      "Fetching data for hero 1635676907529285642 (31/177), attempt 1Successfully fetched data for hero 1635676907529285642          \n"
     ]
    },
    {
     "name": "stderr",
     "output_type": "stream",
     "text": [
      "Fetching hero data:  18%|██████████▋                                                  | 31/177 [00:36<02:56,  1.21s/it]"
     ]
    },
    {
     "name": "stdout",
     "output_type": "stream",
     "text": [
      "Fetching data for hero 1470958472409792515 (32/177), attempt 1Successfully fetched data for hero 1470958472409792515          \n"
     ]
    },
    {
     "name": "stderr",
     "output_type": "stream",
     "text": [
      "Fetching hero data:  18%|███████████                                                  | 32/177 [00:37<02:53,  1.20s/it]"
     ]
    },
    {
     "name": "stdout",
     "output_type": "stream",
     "text": [
      "Fetching data for hero 1354947293921701892 (33/177), attempt 1Successfully fetched data for hero 1354947293921701892          \n"
     ]
    },
    {
     "name": "stderr",
     "output_type": "stream",
     "text": [
      "Fetching hero data:  19%|███████████▎                                                 | 33/177 [00:39<02:51,  1.19s/it]"
     ]
    },
    {
     "name": "stdout",
     "output_type": "stream",
     "text": [
      "Fetching data for hero 1327336243026223104 (34/177), attempt 1Successfully fetched data for hero 1327336243026223104          \n"
     ]
    },
    {
     "name": "stderr",
     "output_type": "stream",
     "text": [
      "Fetching hero data:  19%|███████████▋                                                 | 34/177 [00:40<02:54,  1.22s/it]"
     ]
    },
    {
     "name": "stdout",
     "output_type": "stream",
     "text": [
      "Fetching data for hero 22758405 (35/177), attempt 1Successfully fetched data for hero 22758405          \n"
     ]
    },
    {
     "name": "stderr",
     "output_type": "stream",
     "text": [
      "Fetching hero data:  20%|████████████                                                 | 35/177 [00:41<02:50,  1.20s/it]"
     ]
    },
    {
     "name": "stdout",
     "output_type": "stream",
     "text": [
      "Fetching data for hero 877728873340956672 (36/177), attempt 1Successfully fetched data for hero 877728873340956672          \n"
     ]
    },
    {
     "name": "stderr",
     "output_type": "stream",
     "text": [
      "Fetching hero data:  20%|████████████▍                                                | 36/177 [00:42<02:53,  1.23s/it]"
     ]
    },
    {
     "name": "stdout",
     "output_type": "stream",
     "text": [
      "Fetching data for hero 1240784920831762433 (37/177), attempt 1Successfully fetched data for hero 1240784920831762433          \n"
     ]
    },
    {
     "name": "stderr",
     "output_type": "stream",
     "text": [
      "Fetching hero data:  21%|████████████▊                                                | 37/177 [00:43<02:49,  1.21s/it]"
     ]
    },
    {
     "name": "stdout",
     "output_type": "stream",
     "text": [
      "Fetching data for hero 2361601055 (38/177), attempt 1Successfully fetched data for hero 2361601055          \n"
     ]
    },
    {
     "name": "stderr",
     "output_type": "stream",
     "text": [
      "Fetching hero data:  21%|█████████████                                                | 38/177 [00:45<02:46,  1.20s/it]"
     ]
    },
    {
     "name": "stdout",
     "output_type": "stream",
     "text": [
      "Fetching data for hero 239518063 (39/177), attempt 1Successfully fetched data for hero 239518063          \n"
     ]
    },
    {
     "name": "stderr",
     "output_type": "stream",
     "text": [
      "Fetching hero data:  22%|█████████████▍                                               | 39/177 [00:46<02:45,  1.20s/it]"
     ]
    },
    {
     "name": "stdout",
     "output_type": "stream",
     "text": [
      "Fetching data for hero 1473993924083654658 (40/177), attempt 1Successfully fetched data for hero 1473993924083654658          \n"
     ]
    },
    {
     "name": "stderr",
     "output_type": "stream",
     "text": [
      "Fetching hero data:  23%|█████████████▊                                               | 40/177 [00:47<02:43,  1.19s/it]"
     ]
    },
    {
     "name": "stdout",
     "output_type": "stream",
     "text": [
      "Fetching data for hero 1249193324461916161 (41/177), attempt 1Successfully fetched data for hero 1249193324461916161          \n"
     ]
    },
    {
     "name": "stderr",
     "output_type": "stream",
     "text": [
      "Fetching hero data:  23%|██████████████▏                                              | 41/177 [00:48<02:41,  1.18s/it]"
     ]
    },
    {
     "name": "stdout",
     "output_type": "stream",
     "text": [
      "Fetching data for hero 4830383913 (42/177), attempt 1Successfully fetched data for hero 4830383913          \n"
     ]
    },
    {
     "name": "stderr",
     "output_type": "stream",
     "text": [
      "Fetching hero data:  24%|██████████████▍                                              | 42/177 [00:49<02:39,  1.18s/it]"
     ]
    },
    {
     "name": "stdout",
     "output_type": "stream",
     "text": [
      "Fetching data for hero 1051852534518824960 (43/177), attempt 1Successfully fetched data for hero 1051852534518824960          \n"
     ]
    },
    {
     "name": "stderr",
     "output_type": "stream",
     "text": [
      "Fetching hero data:  24%|██████████████▊                                              | 43/177 [00:50<02:37,  1.17s/it]"
     ]
    },
    {
     "name": "stdout",
     "output_type": "stream",
     "text": [
      "Fetching data for hero 1093242943127932930 (44/177), attempt 1Successfully fetched data for hero 1093242943127932930          \n"
     ]
    },
    {
     "name": "stderr",
     "output_type": "stream",
     "text": [
      "Fetching hero data:  25%|███████████████▏                                             | 44/177 [00:52<02:36,  1.18s/it]"
     ]
    },
    {
     "name": "stdout",
     "output_type": "stream",
     "text": [
      "Fetching data for hero 1310378599984148480 (45/177), attempt 1Successfully fetched data for hero 1310378599984148480          \n"
     ]
    },
    {
     "name": "stderr",
     "output_type": "stream",
     "text": [
      "Fetching hero data:  25%|███████████████▌                                             | 45/177 [00:53<02:35,  1.18s/it]"
     ]
    },
    {
     "name": "stdout",
     "output_type": "stream",
     "text": [
      "Fetching data for hero 1404603419101306881 (46/177), attempt 1Successfully fetched data for hero 1404603419101306881          \n"
     ]
    },
    {
     "name": "stderr",
     "output_type": "stream",
     "text": [
      "Fetching hero data:  26%|███████████████▊                                             | 46/177 [00:54<02:34,  1.18s/it]"
     ]
    },
    {
     "name": "stdout",
     "output_type": "stream",
     "text": [
      "Fetching data for hero 467535591 (47/177), attempt 1Successfully fetched data for hero 467535591          \n"
     ]
    },
    {
     "name": "stderr",
     "output_type": "stream",
     "text": [
      "Fetching hero data:  27%|████████████████▏                                            | 47/177 [00:55<02:37,  1.21s/it]"
     ]
    },
    {
     "name": "stdout",
     "output_type": "stream",
     "text": [
      "Fetching data for hero 1424170843249250304 (48/177), attempt 1Successfully fetched data for hero 1424170843249250304          \n"
     ]
    },
    {
     "name": "stderr",
     "output_type": "stream",
     "text": [
      "Fetching hero data:  27%|████████████████▌                                            | 48/177 [00:57<02:36,  1.22s/it]"
     ]
    },
    {
     "name": "stdout",
     "output_type": "stream",
     "text": [
      "Fetching data for hero 1073132650309726208 (49/177), attempt 1Successfully fetched data for hero 1073132650309726208          \n"
     ]
    },
    {
     "name": "stderr",
     "output_type": "stream",
     "text": [
      "Fetching hero data:  28%|████████████████▉                                            | 49/177 [00:58<02:34,  1.21s/it]"
     ]
    },
    {
     "name": "stdout",
     "output_type": "stream",
     "text": [
      "Fetching data for hero 624791024 (50/177), attempt 1Successfully fetched data for hero 624791024          \n"
     ]
    },
    {
     "name": "stderr",
     "output_type": "stream",
     "text": [
      "Fetching hero data:  28%|█████████████████▏                                           | 50/177 [00:59<02:33,  1.21s/it]"
     ]
    },
    {
     "name": "stdout",
     "output_type": "stream",
     "text": [
      "Fetching data for hero 1346599984528023554 (51/177), attempt 1Successfully fetched data for hero 1346599984528023554          \n"
     ]
    },
    {
     "name": "stderr",
     "output_type": "stream",
     "text": [
      "Fetching hero data:  29%|█████████████████▌                                           | 51/177 [01:00<02:30,  1.19s/it]"
     ]
    },
    {
     "name": "stdout",
     "output_type": "stream",
     "text": [
      "Fetching data for hero 942999039192186882 (52/177), attempt 1Successfully fetched data for hero 942999039192186882          \n"
     ]
    },
    {
     "name": "stderr",
     "output_type": "stream",
     "text": [
      "Fetching hero data:  29%|█████████████████▉                                           | 52/177 [01:01<02:28,  1.19s/it]"
     ]
    },
    {
     "name": "stdout",
     "output_type": "stream",
     "text": [
      "Fetching data for hero 1455759696967651333 (53/177), attempt 1Successfully fetched data for hero 1455759696967651333          \n"
     ]
    },
    {
     "name": "stderr",
     "output_type": "stream",
     "text": [
      "Fetching hero data:  30%|██████████████████▎                                          | 53/177 [01:02<02:27,  1.19s/it]"
     ]
    },
    {
     "name": "stdout",
     "output_type": "stream",
     "text": [
      "Fetching data for hero 837985489 (54/177), attempt 1Successfully fetched data for hero 837985489          \n"
     ]
    },
    {
     "name": "stderr",
     "output_type": "stream",
     "text": [
      "Fetching hero data:  31%|██████████████████▌                                          | 54/177 [01:04<02:25,  1.18s/it]"
     ]
    },
    {
     "name": "stdout",
     "output_type": "stream",
     "text": [
      "Fetching data for hero 712457848874086400 (55/177), attempt 1Successfully fetched data for hero 712457848874086400          \n"
     ]
    },
    {
     "name": "stderr",
     "output_type": "stream",
     "text": [
      "Fetching hero data:  31%|██████████████████▉                                          | 55/177 [01:05<02:24,  1.19s/it]"
     ]
    },
    {
     "name": "stdout",
     "output_type": "stream",
     "text": [
      "Fetching data for hero 831767219071754240 (56/177), attempt 1Successfully fetched data for hero 831767219071754240          \n"
     ]
    },
    {
     "name": "stderr",
     "output_type": "stream",
     "text": [
      "Fetching hero data:  32%|███████████████████▎                                         | 56/177 [01:06<02:24,  1.19s/it]"
     ]
    },
    {
     "name": "stdout",
     "output_type": "stream",
     "text": [
      "Fetching data for hero 948736680554409984 (57/177), attempt 1Successfully fetched data for hero 948736680554409984          \n"
     ]
    },
    {
     "name": "stderr",
     "output_type": "stream",
     "text": [
      "Fetching hero data:  32%|███████████████████▋                                         | 57/177 [01:07<02:23,  1.20s/it]"
     ]
    },
    {
     "name": "stdout",
     "output_type": "stream",
     "text": [
      "Fetching data for hero 1180256836416614401 (58/177), attempt 1Successfully fetched data for hero 1180256836416614401          \n"
     ]
    },
    {
     "name": "stderr",
     "output_type": "stream",
     "text": [
      "Fetching hero data:  33%|███████████████████▉                                         | 58/177 [01:08<02:21,  1.19s/it]"
     ]
    },
    {
     "name": "stdout",
     "output_type": "stream",
     "text": [
      "Fetching data for hero 162573283 (59/177), attempt 1Successfully fetched data for hero 162573283          \n"
     ]
    },
    {
     "name": "stderr",
     "output_type": "stream",
     "text": [
      "Fetching hero data:  33%|████████████████████▎                                        | 59/177 [01:10<02:19,  1.18s/it]"
     ]
    },
    {
     "name": "stdout",
     "output_type": "stream",
     "text": [
      "Fetching data for hero 1343542764080930816 (60/177), attempt 1Successfully fetched data for hero 1343542764080930816          \n"
     ]
    },
    {
     "name": "stderr",
     "output_type": "stream",
     "text": [
      "Fetching hero data:  34%|████████████████████▋                                        | 60/177 [01:11<02:26,  1.25s/it]"
     ]
    },
    {
     "name": "stdout",
     "output_type": "stream",
     "text": [
      "Fetching data for hero 948974801737134080 (61/177), attempt 1Successfully fetched data for hero 948974801737134080          \n"
     ]
    },
    {
     "name": "stderr",
     "output_type": "stream",
     "text": [
      "Fetching hero data:  34%|█████████████████████                                        | 61/177 [01:12<02:24,  1.24s/it]"
     ]
    },
    {
     "name": "stdout",
     "output_type": "stream",
     "text": [
      "Fetching data for hero 1509030724103409665 (62/177), attempt 1Successfully fetched data for hero 1509030724103409665          \n"
     ]
    },
    {
     "name": "stderr",
     "output_type": "stream",
     "text": [
      "Fetching hero data:  35%|█████████████████████▎                                       | 62/177 [01:13<02:20,  1.22s/it]"
     ]
    },
    {
     "name": "stdout",
     "output_type": "stream",
     "text": [
      "Fetching data for hero 57584739 (63/177), attempt 1Successfully fetched data for hero 57584739          \n"
     ]
    },
    {
     "name": "stderr",
     "output_type": "stream",
     "text": [
      "Fetching hero data:  36%|█████████████████████▋                                       | 63/177 [01:15<02:18,  1.22s/it]"
     ]
    },
    {
     "name": "stdout",
     "output_type": "stream",
     "text": [
      "Fetching data for hero 1323747353308835840 (64/177), attempt 1Successfully fetched data for hero 1323747353308835840          \n"
     ]
    },
    {
     "name": "stderr",
     "output_type": "stream",
     "text": [
      "Fetching hero data:  36%|██████████████████████                                       | 64/177 [01:16<02:16,  1.21s/it]"
     ]
    },
    {
     "name": "stdout",
     "output_type": "stream",
     "text": [
      "Fetching data for hero 116328126 (65/177), attempt 1Successfully fetched data for hero 116328126          \n"
     ]
    },
    {
     "name": "stderr",
     "output_type": "stream",
     "text": [
      "Fetching hero data:  37%|██████████████████████▍                                      | 65/177 [01:17<02:15,  1.21s/it]"
     ]
    },
    {
     "name": "stdout",
     "output_type": "stream",
     "text": [
      "Fetching data for hero 40134343 (66/177), attempt 1Successfully fetched data for hero 40134343          \n"
     ]
    },
    {
     "name": "stderr",
     "output_type": "stream",
     "text": [
      "Fetching hero data:  37%|██████████████████████▋                                      | 66/177 [01:18<02:12,  1.20s/it]"
     ]
    },
    {
     "name": "stdout",
     "output_type": "stream",
     "text": [
      "Fetching data for hero 1479247421330837508 (67/177), attempt 1Successfully fetched data for hero 1479247421330837508          \n"
     ]
    },
    {
     "name": "stderr",
     "output_type": "stream",
     "text": [
      "Fetching hero data:  38%|███████████████████████                                      | 67/177 [01:19<02:11,  1.19s/it]"
     ]
    },
    {
     "name": "stdout",
     "output_type": "stream",
     "text": [
      "Fetching data for hero 957303442250260480 (68/177), attempt 1Successfully fetched data for hero 957303442250260480          \n"
     ]
    },
    {
     "name": "stderr",
     "output_type": "stream",
     "text": [
      "Fetching hero data:  38%|███████████████████████▍                                     | 68/177 [01:21<02:10,  1.20s/it]"
     ]
    },
    {
     "name": "stdout",
     "output_type": "stream",
     "text": [
      "Fetching data for hero 127646057 (69/177), attempt 1Successfully fetched data for hero 127646057          \n"
     ]
    },
    {
     "name": "stderr",
     "output_type": "stream",
     "text": [
      "Fetching hero data:  39%|███████████████████████▊                                     | 69/177 [01:22<02:08,  1.19s/it]"
     ]
    },
    {
     "name": "stdout",
     "output_type": "stream",
     "text": [
      "Fetching data for hero 886765719391789057 (70/177), attempt 1Successfully fetched data for hero 886765719391789057          \n"
     ]
    },
    {
     "name": "stderr",
     "output_type": "stream",
     "text": [
      "Fetching hero data:  40%|████████████████████████                                     | 70/177 [01:23<02:12,  1.24s/it]"
     ]
    },
    {
     "name": "stdout",
     "output_type": "stream",
     "text": [
      "Fetching data for hero 1423097842034528257 (71/177), attempt 1Successfully fetched data for hero 1423097842034528257          \n"
     ]
    },
    {
     "name": "stderr",
     "output_type": "stream",
     "text": [
      "Fetching hero data:  40%|████████████████████████▍                                    | 71/177 [01:24<02:10,  1.23s/it]"
     ]
    },
    {
     "name": "stdout",
     "output_type": "stream",
     "text": [
      "Fetching data for hero 953465278561734656 (72/177), attempt 1Successfully fetched data for hero 953465278561734656          \n"
     ]
    },
    {
     "name": "stderr",
     "output_type": "stream",
     "text": [
      "Fetching hero data:  41%|████████████████████████▊                                    | 72/177 [01:25<02:07,  1.22s/it]"
     ]
    },
    {
     "name": "stdout",
     "output_type": "stream",
     "text": [
      "Fetching data for hero 938606626017370112 (73/177), attempt 1Successfully fetched data for hero 938606626017370112          \n"
     ]
    },
    {
     "name": "stderr",
     "output_type": "stream",
     "text": [
      "Fetching hero data:  41%|█████████████████████████▏                                   | 73/177 [01:27<02:05,  1.21s/it]"
     ]
    },
    {
     "name": "stdout",
     "output_type": "stream",
     "text": [
      "Fetching data for hero 1354120919460040711 (74/177), attempt 1Successfully fetched data for hero 1354120919460040711          \n"
     ]
    },
    {
     "name": "stderr",
     "output_type": "stream",
     "text": [
      "Fetching hero data:  42%|█████████████████████████▌                                   | 74/177 [01:28<02:04,  1.21s/it]"
     ]
    },
    {
     "name": "stdout",
     "output_type": "stream",
     "text": [
      "Fetching data for hero 1107518478 (75/177), attempt 1Successfully fetched data for hero 1107518478          \n"
     ]
    },
    {
     "name": "stderr",
     "output_type": "stream",
     "text": [
      "Fetching hero data:  42%|█████████████████████████▊                                   | 75/177 [01:29<02:04,  1.22s/it]"
     ]
    },
    {
     "name": "stdout",
     "output_type": "stream",
     "text": [
      "Fetching data for hero 1496567813737091075 (76/177), attempt 1Successfully fetched data for hero 1496567813737091075          \n"
     ]
    },
    {
     "name": "stderr",
     "output_type": "stream",
     "text": [
      "Fetching hero data:  43%|██████████████████████████▏                                  | 76/177 [01:30<02:02,  1.22s/it]"
     ]
    },
    {
     "name": "stdout",
     "output_type": "stream",
     "text": [
      "Fetching data for hero 1226351258392506375 (77/177), attempt 1Successfully fetched data for hero 1226351258392506375          \n"
     ]
    },
    {
     "name": "stderr",
     "output_type": "stream",
     "text": [
      "Fetching hero data:  44%|██████████████████████████▌                                  | 77/177 [01:32<02:00,  1.21s/it]"
     ]
    },
    {
     "name": "stdout",
     "output_type": "stream",
     "text": [
      "Fetching data for hero 79714172 (78/177), attempt 1Successfully fetched data for hero 79714172          \n"
     ]
    },
    {
     "name": "stderr",
     "output_type": "stream",
     "text": [
      "Fetching hero data:  44%|██████████████████████████▉                                  | 78/177 [01:33<01:59,  1.20s/it]"
     ]
    },
    {
     "name": "stdout",
     "output_type": "stream",
     "text": [
      "Fetching data for hero 1139174563802226688 (79/177), attempt 1Successfully fetched data for hero 1139174563802226688          \n"
     ]
    },
    {
     "name": "stderr",
     "output_type": "stream",
     "text": [
      "Fetching hero data:  45%|███████████████████████████▏                                 | 79/177 [01:34<02:01,  1.24s/it]"
     ]
    },
    {
     "name": "stdout",
     "output_type": "stream",
     "text": [
      "Fetching data for hero 1703332734603591680 (80/177), attempt 1Successfully fetched data for hero 1703332734603591680          \n"
     ]
    },
    {
     "name": "stderr",
     "output_type": "stream",
     "text": [
      "Fetching hero data:  45%|███████████████████████████▌                                 | 80/177 [01:35<01:58,  1.23s/it]"
     ]
    },
    {
     "name": "stdout",
     "output_type": "stream",
     "text": [
      "Fetching data for hero 3159122144 (81/177), attempt 1Successfully fetched data for hero 3159122144          \n"
     ]
    },
    {
     "name": "stderr",
     "output_type": "stream",
     "text": [
      "Fetching hero data:  46%|███████████████████████████▉                                 | 81/177 [01:36<01:57,  1.23s/it]"
     ]
    },
    {
     "name": "stdout",
     "output_type": "stream",
     "text": [
      "Fetching data for hero 1453982860663087107 (82/177), attempt 1Successfully fetched data for hero 1453982860663087107          \n"
     ]
    },
    {
     "name": "stderr",
     "output_type": "stream",
     "text": [
      "Fetching hero data:  46%|████████████████████████████▎                                | 82/177 [01:38<01:57,  1.24s/it]"
     ]
    },
    {
     "name": "stdout",
     "output_type": "stream",
     "text": [
      "Fetching data for hero 1585936726370852865 (83/177), attempt 1Successfully fetched data for hero 1585936726370852865          \n"
     ]
    },
    {
     "name": "stderr",
     "output_type": "stream",
     "text": [
      "Fetching hero data:  47%|████████████████████████████▌                                | 83/177 [01:39<01:56,  1.24s/it]"
     ]
    },
    {
     "name": "stdout",
     "output_type": "stream",
     "text": [
      "Fetching data for hero 1472789316292296707 (84/177), attempt 1Successfully fetched data for hero 1472789316292296707          \n"
     ]
    },
    {
     "name": "stderr",
     "output_type": "stream",
     "text": [
      "Fetching hero data:  47%|████████████████████████████▉                                | 84/177 [01:40<01:54,  1.23s/it]"
     ]
    },
    {
     "name": "stdout",
     "output_type": "stream",
     "text": [
      "Fetching data for hero 807982663000674305 (85/177), attempt 1Successfully fetched data for hero 807982663000674305          \n"
     ]
    },
    {
     "name": "stderr",
     "output_type": "stream",
     "text": [
      "Fetching hero data:  48%|█████████████████████████████▎                               | 85/177 [01:41<01:53,  1.24s/it]"
     ]
    },
    {
     "name": "stdout",
     "output_type": "stream",
     "text": [
      "Fetching data for hero 1366934666201202689 (86/177), attempt 1Successfully fetched data for hero 1366934666201202689          \n"
     ]
    },
    {
     "name": "stderr",
     "output_type": "stream",
     "text": [
      "Fetching hero data:  49%|█████████████████████████████▋                               | 86/177 [01:43<01:51,  1.23s/it]"
     ]
    },
    {
     "name": "stdout",
     "output_type": "stream",
     "text": [
      "Fetching data for hero 618539620 (87/177), attempt 1Successfully fetched data for hero 618539620          \n"
     ]
    },
    {
     "name": "stderr",
     "output_type": "stream",
     "text": [
      "Fetching hero data:  49%|█████████████████████████████▉                               | 87/177 [01:44<01:49,  1.22s/it]"
     ]
    },
    {
     "name": "stdout",
     "output_type": "stream",
     "text": [
      "Fetching data for hero 35486890 (88/177), attempt 1Successfully fetched data for hero 35486890          \n"
     ]
    },
    {
     "name": "stderr",
     "output_type": "stream",
     "text": [
      "Fetching hero data:  50%|██████████████████████████████▎                              | 88/177 [01:45<01:48,  1.22s/it]"
     ]
    },
    {
     "name": "stdout",
     "output_type": "stream",
     "text": [
      "Fetching data for hero 1350996311777161219 (89/177), attempt 1Successfully fetched data for hero 1350996311777161219          \n"
     ]
    },
    {
     "name": "stderr",
     "output_type": "stream",
     "text": [
      "Fetching hero data:  50%|██████████████████████████████▋                              | 89/177 [01:46<01:49,  1.25s/it]"
     ]
    },
    {
     "name": "stdout",
     "output_type": "stream",
     "text": [
      "Fetching data for hero 1351139954525696005 (90/177), attempt 1Successfully fetched data for hero 1351139954525696005          \n"
     ]
    },
    {
     "name": "stderr",
     "output_type": "stream",
     "text": [
      "Fetching hero data:  51%|███████████████████████████████                              | 90/177 [01:48<01:46,  1.22s/it]"
     ]
    },
    {
     "name": "stdout",
     "output_type": "stream",
     "text": [
      "Fetching data for hero 1416421769561378817 (91/177), attempt 1Successfully fetched data for hero 1416421769561378817          \n"
     ]
    },
    {
     "name": "stderr",
     "output_type": "stream",
     "text": [
      "Fetching hero data:  51%|███████████████████████████████▎                             | 91/177 [01:49<01:46,  1.24s/it]"
     ]
    },
    {
     "name": "stdout",
     "output_type": "stream",
     "text": [
      "Fetching data for hero 1475612593830178820 (92/177), attempt 1Successfully fetched data for hero 1475612593830178820          \n"
     ]
    },
    {
     "name": "stderr",
     "output_type": "stream",
     "text": [
      "Fetching hero data:  52%|███████████████████████████████▋                             | 92/177 [01:50<01:44,  1.23s/it]"
     ]
    },
    {
     "name": "stdout",
     "output_type": "stream",
     "text": [
      "Fetching data for hero 980727292661059584 (93/177), attempt 1Successfully fetched data for hero 980727292661059584          \n"
     ]
    },
    {
     "name": "stderr",
     "output_type": "stream",
     "text": [
      "Fetching hero data:  53%|████████████████████████████████                             | 93/177 [01:51<01:42,  1.22s/it]"
     ]
    },
    {
     "name": "stdout",
     "output_type": "stream",
     "text": [
      "Fetching data for hero 737132550 (94/177), attempt 1Successfully fetched data for hero 737132550          \n"
     ]
    },
    {
     "name": "stderr",
     "output_type": "stream",
     "text": [
      "Fetching hero data:  53%|████████████████████████████████▍                            | 94/177 [01:52<01:41,  1.22s/it]"
     ]
    },
    {
     "name": "stdout",
     "output_type": "stream",
     "text": [
      "Fetching data for hero 1138993163706753029 (95/177), attempt 1Successfully fetched data for hero 1138993163706753029          \n"
     ]
    },
    {
     "name": "stderr",
     "output_type": "stream",
     "text": [
      "Fetching hero data:  54%|████████████████████████████████▋                            | 95/177 [01:54<01:39,  1.21s/it]"
     ]
    },
    {
     "name": "stdout",
     "output_type": "stream",
     "text": [
      "Fetching data for hero 1396144613233238018 (96/177), attempt 1Successfully fetched data for hero 1396144613233238018          \n"
     ]
    },
    {
     "name": "stderr",
     "output_type": "stream",
     "text": [
      "Fetching hero data:  54%|█████████████████████████████████                            | 96/177 [01:55<01:38,  1.22s/it]"
     ]
    },
    {
     "name": "stdout",
     "output_type": "stream",
     "text": [
      "Fetching data for hero 1432686185810432010 (97/177), attempt 1Successfully fetched data for hero 1432686185810432010          \n"
     ]
    },
    {
     "name": "stderr",
     "output_type": "stream",
     "text": [
      "Fetching hero data:  55%|█████████████████████████████████▍                           | 97/177 [01:56<01:42,  1.28s/it]"
     ]
    },
    {
     "name": "stdout",
     "output_type": "stream",
     "text": [
      "Fetching data for hero 1453661470869360643 (98/177), attempt 1Successfully fetched data for hero 1453661470869360643          \n"
     ]
    },
    {
     "name": "stderr",
     "output_type": "stream",
     "text": [
      "Fetching hero data:  55%|█████████████████████████████████▊                           | 98/177 [01:57<01:39,  1.25s/it]"
     ]
    },
    {
     "name": "stdout",
     "output_type": "stream",
     "text": [
      "Fetching data for hero 953233327238021120 (99/177), attempt 1Successfully fetched data for hero 953233327238021120          \n"
     ]
    },
    {
     "name": "stderr",
     "output_type": "stream",
     "text": [
      "Fetching hero data:  56%|██████████████████████████████████                           | 99/177 [01:59<01:38,  1.26s/it]"
     ]
    },
    {
     "name": "stdout",
     "output_type": "stream",
     "text": [
      "Fetching data for hero 7184612 (100/177), attempt 1Successfully fetched data for hero 7184612          \n"
     ]
    },
    {
     "name": "stderr",
     "output_type": "stream",
     "text": [
      "Fetching hero data:  56%|█████████████████████████████████▉                          | 100/177 [02:00<01:35,  1.24s/it]"
     ]
    },
    {
     "name": "stdout",
     "output_type": "stream",
     "text": [
      "Fetching data for hero 1482640180855160832 (101/177), attempt 1Successfully fetched data for hero 1482640180855160832          \n"
     ]
    },
    {
     "name": "stderr",
     "output_type": "stream",
     "text": [
      "Fetching hero data:  57%|██████████████████████████████████▏                         | 101/177 [02:01<01:33,  1.23s/it]"
     ]
    },
    {
     "name": "stdout",
     "output_type": "stream",
     "text": [
      "Fetching data for hero 1526588836536586240 (102/177), attempt 1Successfully fetched data for hero 1526588836536586240          \n"
     ]
    },
    {
     "name": "stderr",
     "output_type": "stream",
     "text": [
      "Fetching hero data:  58%|██████████████████████████████████▌                         | 102/177 [02:02<01:31,  1.22s/it]"
     ]
    },
    {
     "name": "stdout",
     "output_type": "stream",
     "text": [
      "Fetching data for hero 970014782135844864 (103/177), attempt 1Successfully fetched data for hero 970014782135844864          \n"
     ]
    },
    {
     "name": "stderr",
     "output_type": "stream",
     "text": [
      "Fetching hero data:  58%|██████████████████████████████████▉                         | 103/177 [02:04<01:31,  1.23s/it]"
     ]
    },
    {
     "name": "stdout",
     "output_type": "stream",
     "text": [
      "Fetching data for hero 2202247850 (104/177), attempt 1Successfully fetched data for hero 2202247850          \n"
     ]
    },
    {
     "name": "stderr",
     "output_type": "stream",
     "text": [
      "Fetching hero data:  59%|███████████████████████████████████▎                        | 104/177 [02:05<01:29,  1.23s/it]"
     ]
    },
    {
     "name": "stdout",
     "output_type": "stream",
     "text": [
      "Fetching data for hero 1282418324228337665 (105/177), attempt 1Successfully fetched data for hero 1282418324228337665          \n"
     ]
    },
    {
     "name": "stderr",
     "output_type": "stream",
     "text": [
      "Fetching hero data:  59%|███████████████████████████████████▌                        | 105/177 [02:06<01:27,  1.22s/it]"
     ]
    },
    {
     "name": "stdout",
     "output_type": "stream",
     "text": [
      "Fetching data for hero 3369243892 (106/177), attempt 1Successfully fetched data for hero 3369243892          \n"
     ]
    },
    {
     "name": "stderr",
     "output_type": "stream",
     "text": [
      "Fetching hero data:  60%|███████████████████████████████████▉                        | 106/177 [02:07<01:26,  1.22s/it]"
     ]
    },
    {
     "name": "stdout",
     "output_type": "stream",
     "text": [
      "Fetching data for hero 3063147623 (107/177), attempt 1Successfully fetched data for hero 3063147623          \n"
     ]
    },
    {
     "name": "stderr",
     "output_type": "stream",
     "text": [
      "Fetching hero data:  60%|████████████████████████████████████▎                       | 107/177 [02:08<01:25,  1.22s/it]"
     ]
    },
    {
     "name": "stdout",
     "output_type": "stream",
     "text": [
      "Fetching data for hero 868760548674072576 (108/177), attempt 1Successfully fetched data for hero 868760548674072576          \n"
     ]
    },
    {
     "name": "stderr",
     "output_type": "stream",
     "text": [
      "Fetching hero data:  61%|████████████████████████████████████▌                       | 108/177 [02:10<01:24,  1.22s/it]"
     ]
    },
    {
     "name": "stdout",
     "output_type": "stream",
     "text": [
      "Fetching data for hero 2631709828 (109/177), attempt 1Successfully fetched data for hero 2631709828          \n"
     ]
    },
    {
     "name": "stderr",
     "output_type": "stream",
     "text": [
      "Fetching hero data:  62%|████████████████████████████████████▉                       | 109/177 [02:11<01:23,  1.23s/it]"
     ]
    },
    {
     "name": "stdout",
     "output_type": "stream",
     "text": [
      "Fetching data for hero 1366930865574584323 (110/177), attempt 1Successfully fetched data for hero 1366930865574584323          \n"
     ]
    },
    {
     "name": "stderr",
     "output_type": "stream",
     "text": [
      "Fetching hero data:  62%|█████████████████████████████████████▎                      | 110/177 [02:12<01:21,  1.21s/it]"
     ]
    },
    {
     "name": "stdout",
     "output_type": "stream",
     "text": [
      "Fetching data for hero 1064421325186359296 (111/177), attempt 1Successfully fetched data for hero 1064421325186359296          \n"
     ]
    },
    {
     "name": "stderr",
     "output_type": "stream",
     "text": [
      "Fetching hero data:  63%|█████████████████████████████████████▋                      | 111/177 [02:13<01:20,  1.22s/it]"
     ]
    },
    {
     "name": "stdout",
     "output_type": "stream",
     "text": [
      "Fetching data for hero 1449164448321605632 (112/177), attempt 1Successfully fetched data for hero 1449164448321605632          \n"
     ]
    },
    {
     "name": "stderr",
     "output_type": "stream",
     "text": [
      "Fetching hero data:  63%|█████████████████████████████████████▉                      | 112/177 [02:15<01:18,  1.21s/it]"
     ]
    },
    {
     "name": "stdout",
     "output_type": "stream",
     "text": [
      "Fetching data for hero 1550232757011468289 (113/177), attempt 1Successfully fetched data for hero 1550232757011468289          \n"
     ]
    },
    {
     "name": "stderr",
     "output_type": "stream",
     "text": [
      "Fetching hero data:  64%|██████████████████████████████████████▎                     | 113/177 [02:16<01:16,  1.20s/it]"
     ]
    },
    {
     "name": "stdout",
     "output_type": "stream",
     "text": [
      "Fetching data for hero 1462890860849160193 (114/177), attempt 1Successfully fetched data for hero 1462890860849160193          \n"
     ]
    },
    {
     "name": "stderr",
     "output_type": "stream",
     "text": [
      "Fetching hero data:  64%|██████████████████████████████████████▋                     | 114/177 [02:17<01:15,  1.20s/it]"
     ]
    },
    {
     "name": "stdout",
     "output_type": "stream",
     "text": [
      "Fetching data for hero 1259298306397745152 (115/177), attempt 1Successfully fetched data for hero 1259298306397745152          \n"
     ]
    },
    {
     "name": "stderr",
     "output_type": "stream",
     "text": [
      "Fetching hero data:  65%|██████████████████████████████████████▉                     | 115/177 [02:18<01:14,  1.20s/it]"
     ]
    },
    {
     "name": "stdout",
     "output_type": "stream",
     "text": [
      "Fetching data for hero 873190778910253056 (116/177), attempt 1Successfully fetched data for hero 873190778910253056          \n"
     ]
    },
    {
     "name": "stderr",
     "output_type": "stream",
     "text": [
      "Fetching hero data:  66%|███████████████████████████████████████▎                    | 116/177 [02:19<01:14,  1.22s/it]"
     ]
    },
    {
     "name": "stdout",
     "output_type": "stream",
     "text": [
      "Fetching data for hero 1384748148942417921 (117/177), attempt 1Successfully fetched data for hero 1384748148942417921          \n"
     ]
    },
    {
     "name": "stderr",
     "output_type": "stream",
     "text": [
      "Fetching hero data:  66%|███████████████████████████████████████▋                    | 117/177 [02:21<01:13,  1.22s/it]"
     ]
    },
    {
     "name": "stdout",
     "output_type": "stream",
     "text": [
      "Fetching data for hero 24809221 (118/177), attempt 1Successfully fetched data for hero 24809221          \n"
     ]
    },
    {
     "name": "stderr",
     "output_type": "stream",
     "text": [
      "Fetching hero data:  67%|████████████████████████████████████████                    | 118/177 [02:22<01:11,  1.21s/it]"
     ]
    },
    {
     "name": "stdout",
     "output_type": "stream",
     "text": [
      "Fetching data for hero 720313843021385728 (119/177), attempt 1Successfully fetched data for hero 720313843021385728          \n"
     ]
    },
    {
     "name": "stderr",
     "output_type": "stream",
     "text": [
      "Fetching hero data:  67%|████████████████████████████████████████▎                   | 119/177 [02:23<01:12,  1.24s/it]"
     ]
    },
    {
     "name": "stdout",
     "output_type": "stream",
     "text": [
      "Fetching data for hero 1240392170026270725 (120/177), attempt 1Successfully fetched data for hero 1240392170026270725          \n"
     ]
    },
    {
     "name": "stderr",
     "output_type": "stream",
     "text": [
      "Fetching hero data:  68%|████████████████████████████████████████▋                   | 120/177 [02:24<01:10,  1.24s/it]"
     ]
    },
    {
     "name": "stdout",
     "output_type": "stream",
     "text": [
      "Fetching data for hero 1032379192388857861 (121/177), attempt 1Successfully fetched data for hero 1032379192388857861          \n"
     ]
    },
    {
     "name": "stderr",
     "output_type": "stream",
     "text": [
      "Fetching hero data:  68%|█████████████████████████████████████████                   | 121/177 [02:26<01:08,  1.22s/it]"
     ]
    },
    {
     "name": "stdout",
     "output_type": "stream",
     "text": [
      "Fetching data for hero 1354867416430501890 (122/177), attempt 1Successfully fetched data for hero 1354867416430501890          \n"
     ]
    },
    {
     "name": "stderr",
     "output_type": "stream",
     "text": [
      "Fetching hero data:  69%|█████████████████████████████████████████▎                  | 122/177 [02:27<01:07,  1.23s/it]"
     ]
    },
    {
     "name": "stdout",
     "output_type": "stream",
     "text": [
      "Fetching data for hero 2603525726 (123/177), attempt 1Successfully fetched data for hero 2603525726          \n"
     ]
    },
    {
     "name": "stderr",
     "output_type": "stream",
     "text": [
      "Fetching hero data:  69%|█████████████████████████████████████████▋                  | 123/177 [02:28<01:06,  1.22s/it]"
     ]
    },
    {
     "name": "stdout",
     "output_type": "stream",
     "text": [
      "Fetching data for hero 1588487175540195328 (124/177), attempt 1Successfully fetched data for hero 1588487175540195328          \n"
     ]
    },
    {
     "name": "stderr",
     "output_type": "stream",
     "text": [
      "Fetching hero data:  70%|██████████████████████████████████████████                  | 124/177 [02:29<01:04,  1.21s/it]"
     ]
    },
    {
     "name": "stdout",
     "output_type": "stream",
     "text": [
      "Fetching data for hero 1408762516969201671 (125/177), attempt 1Successfully fetched data for hero 1408762516969201671          \n"
     ]
    },
    {
     "name": "stderr",
     "output_type": "stream",
     "text": [
      "Fetching hero data:  71%|██████████████████████████████████████████▎                 | 125/177 [02:30<01:02,  1.20s/it]"
     ]
    },
    {
     "name": "stdout",
     "output_type": "stream",
     "text": [
      "Fetching data for hero 829482275318484993 (126/177), attempt 1Successfully fetched data for hero 829482275318484993          \n"
     ]
    },
    {
     "name": "stderr",
     "output_type": "stream",
     "text": [
      "Fetching hero data:  71%|██████████████████████████████████████████▋                 | 126/177 [02:32<01:02,  1.22s/it]"
     ]
    },
    {
     "name": "stdout",
     "output_type": "stream",
     "text": [
      "Fetching data for hero 174981490 (127/177), attempt 1Successfully fetched data for hero 174981490          \n"
     ]
    },
    {
     "name": "stderr",
     "output_type": "stream",
     "text": [
      "Fetching hero data:  72%|███████████████████████████████████████████                 | 127/177 [02:33<01:00,  1.22s/it]"
     ]
    },
    {
     "name": "stdout",
     "output_type": "stream",
     "text": [
      "Fetching data for hero 1450587414892847105 (128/177), attempt 1Successfully fetched data for hero 1450587414892847105          \n"
     ]
    },
    {
     "name": "stderr",
     "output_type": "stream",
     "text": [
      "Fetching hero data:  72%|███████████████████████████████████████████▍                | 128/177 [02:34<01:00,  1.24s/it]"
     ]
    },
    {
     "name": "stdout",
     "output_type": "stream",
     "text": [
      "Fetching data for hero 1328905893820370947 (129/177), attempt 1Successfully fetched data for hero 1328905893820370947          \n"
     ]
    },
    {
     "name": "stderr",
     "output_type": "stream",
     "text": [
      "Fetching hero data:  73%|███████████████████████████████████████████▋                | 129/177 [02:35<00:59,  1.24s/it]"
     ]
    },
    {
     "name": "stdout",
     "output_type": "stream",
     "text": [
      "Fetching data for hero 1336191614356742144 (130/177), attempt 1Successfully fetched data for hero 1336191614356742144          \n"
     ]
    },
    {
     "name": "stderr",
     "output_type": "stream",
     "text": [
      "Fetching hero data:  73%|████████████████████████████████████████████                | 130/177 [02:37<00:57,  1.22s/it]"
     ]
    },
    {
     "name": "stdout",
     "output_type": "stream",
     "text": [
      "Fetching data for hero 819748581984833537 (131/177), attempt 1Successfully fetched data for hero 819748581984833537          \n"
     ]
    },
    {
     "name": "stderr",
     "output_type": "stream",
     "text": [
      "Fetching hero data:  74%|████████████████████████████████████████████▍               | 131/177 [02:38<00:55,  1.21s/it]"
     ]
    },
    {
     "name": "stdout",
     "output_type": "stream",
     "text": [
      "Fetching data for hero 1357451976 (132/177), attempt 1Successfully fetched data for hero 1357451976          \n"
     ]
    },
    {
     "name": "stderr",
     "output_type": "stream",
     "text": [
      "Fetching hero data:  75%|████████████████████████████████████████████▋               | 132/177 [02:39<00:54,  1.22s/it]"
     ]
    },
    {
     "name": "stdout",
     "output_type": "stream",
     "text": [
      "Fetching data for hero 972557412577284096 (133/177), attempt 1Successfully fetched data for hero 972557412577284096          \n"
     ]
    },
    {
     "name": "stderr",
     "output_type": "stream",
     "text": [
      "Fetching hero data:  75%|█████████████████████████████████████████████               | 133/177 [02:40<00:53,  1.21s/it]"
     ]
    },
    {
     "name": "stdout",
     "output_type": "stream",
     "text": [
      "Fetching data for hero 815322092627333121 (134/177), attempt 1Successfully fetched data for hero 815322092627333121          \n"
     ]
    },
    {
     "name": "stderr",
     "output_type": "stream",
     "text": [
      "Fetching hero data:  76%|█████████████████████████████████████████████▍              | 134/177 [02:41<00:52,  1.21s/it]"
     ]
    },
    {
     "name": "stdout",
     "output_type": "stream",
     "text": [
      "Fetching data for hero 1437463799347531782 (135/177), attempt 1Successfully fetched data for hero 1437463799347531782          \n"
     ]
    },
    {
     "name": "stderr",
     "output_type": "stream",
     "text": [
      "Fetching hero data:  76%|█████████████████████████████████████████████▊              | 135/177 [02:43<00:50,  1.21s/it]"
     ]
    },
    {
     "name": "stdout",
     "output_type": "stream",
     "text": [
      "Fetching data for hero 189184866 (136/177), attempt 1Successfully fetched data for hero 189184866          \n"
     ]
    },
    {
     "name": "stderr",
     "output_type": "stream",
     "text": [
      "Fetching hero data:  77%|██████████████████████████████████████████████              | 136/177 [02:44<00:49,  1.22s/it]"
     ]
    },
    {
     "name": "stdout",
     "output_type": "stream",
     "text": [
      "Fetching data for hero 1297920445979807744 (137/177), attempt 1Successfully fetched data for hero 1297920445979807744          \n"
     ]
    },
    {
     "name": "stderr",
     "output_type": "stream",
     "text": [
      "Fetching hero data:  77%|██████████████████████████████████████████████▍             | 137/177 [02:45<00:48,  1.22s/it]"
     ]
    },
    {
     "name": "stdout",
     "output_type": "stream",
     "text": [
      "Fetching data for hero 189518354 (138/177), attempt 1Successfully fetched data for hero 189518354          \n"
     ]
    },
    {
     "name": "stderr",
     "output_type": "stream",
     "text": [
      "Fetching hero data:  78%|██████████████████████████████████████████████▊             | 138/177 [02:46<00:47,  1.22s/it]"
     ]
    },
    {
     "name": "stdout",
     "output_type": "stream",
     "text": [
      "Fetching data for hero 1363005549382574080 (139/177), attempt 1Successfully fetched data for hero 1363005549382574080          \n"
     ]
    },
    {
     "name": "stderr",
     "output_type": "stream",
     "text": [
      "Fetching hero data:  79%|███████████████████████████████████████████████             | 139/177 [02:47<00:47,  1.24s/it]"
     ]
    },
    {
     "name": "stdout",
     "output_type": "stream",
     "text": [
      "Fetching data for hero 1451989485890248705 (140/177), attempt 1Successfully fetched data for hero 1451989485890248705          \n"
     ]
    },
    {
     "name": "stderr",
     "output_type": "stream",
     "text": [
      "Fetching hero data:  79%|███████████████████████████████████████████████▍            | 140/177 [02:49<00:45,  1.24s/it]"
     ]
    },
    {
     "name": "stdout",
     "output_type": "stream",
     "text": [
      "Fetching data for hero 1639862641 (141/177), attempt 1Successfully fetched data for hero 1639862641          \n"
     ]
    },
    {
     "name": "stderr",
     "output_type": "stream",
     "text": [
      "Fetching hero data:  80%|███████████████████████████████████████████████▊            | 141/177 [02:50<00:45,  1.25s/it]"
     ]
    },
    {
     "name": "stdout",
     "output_type": "stream",
     "text": [
      "Fetching data for hero 1170153611499720704 (142/177), attempt 1Successfully fetched data for hero 1170153611499720704          \n"
     ]
    },
    {
     "name": "stderr",
     "output_type": "stream",
     "text": [
      "Fetching hero data:  80%|████████████████████████████████████████████████▏           | 142/177 [02:51<00:43,  1.25s/it]"
     ]
    },
    {
     "name": "stdout",
     "output_type": "stream",
     "text": [
      "Fetching data for hero 1356386110847377408 (143/177), attempt 1Successfully fetched data for hero 1356386110847377408          \n"
     ]
    },
    {
     "name": "stderr",
     "output_type": "stream",
     "text": [
      "Fetching hero data:  81%|████████████████████████████████████████████████▍           | 143/177 [02:53<00:43,  1.27s/it]"
     ]
    },
    {
     "name": "stdout",
     "output_type": "stream",
     "text": [
      "Fetching data for hero 1300673386914304000 (144/177), attempt 1Successfully fetched data for hero 1300673386914304000          \n"
     ]
    },
    {
     "name": "stderr",
     "output_type": "stream",
     "text": [
      "Fetching hero data:  81%|████████████████████████████████████████████████▊           | 144/177 [02:54<00:41,  1.26s/it]"
     ]
    },
    {
     "name": "stdout",
     "output_type": "stream",
     "text": [
      "Fetching data for hero 1400381995558047749 (145/177), attempt 1Successfully fetched data for hero 1400381995558047749          \n"
     ]
    },
    {
     "name": "stderr",
     "output_type": "stream",
     "text": [
      "Fetching hero data:  82%|█████████████████████████████████████████████████▏          | 145/177 [02:55<00:40,  1.25s/it]"
     ]
    },
    {
     "name": "stdout",
     "output_type": "stream",
     "text": [
      "Fetching data for hero 239090734 (146/177), attempt 1Successfully fetched data for hero 239090734          \n"
     ]
    },
    {
     "name": "stderr",
     "output_type": "stream",
     "text": [
      "Fetching hero data:  82%|█████████████████████████████████████████████████▍          | 146/177 [02:57<00:41,  1.33s/it]"
     ]
    },
    {
     "name": "stdout",
     "output_type": "stream",
     "text": [
      "Fetching data for hero 1367393425331544070 (147/177), attempt 1Successfully fetched data for hero 1367393425331544070          \n"
     ]
    },
    {
     "name": "stderr",
     "output_type": "stream",
     "text": [
      "Fetching hero data:  83%|█████████████████████████████████████████████████▊          | 147/177 [02:58<00:38,  1.29s/it]"
     ]
    },
    {
     "name": "stdout",
     "output_type": "stream",
     "text": [
      "Fetching data for hero 1471279207095406595 (148/177), attempt 1Successfully fetched data for hero 1471279207095406595          \n"
     ]
    },
    {
     "name": "stderr",
     "output_type": "stream",
     "text": [
      "Fetching hero data:  84%|██████████████████████████████████████████████████▏         | 148/177 [02:59<00:36,  1.25s/it]"
     ]
    },
    {
     "name": "stdout",
     "output_type": "stream",
     "text": [
      "Fetching data for hero 1417876510413885444 (149/177), attempt 1Successfully fetched data for hero 1417876510413885444          \n"
     ]
    },
    {
     "name": "stderr",
     "output_type": "stream",
     "text": [
      "Fetching hero data:  84%|██████████████████████████████████████████████████▌         | 149/177 [03:00<00:34,  1.24s/it]"
     ]
    },
    {
     "name": "stdout",
     "output_type": "stream",
     "text": [
      "Fetching data for hero 1357410364355395587 (150/177), attempt 1Successfully fetched data for hero 1357410364355395587          \n"
     ]
    },
    {
     "name": "stderr",
     "output_type": "stream",
     "text": [
      "Fetching hero data:  85%|██████████████████████████████████████████████████▊         | 150/177 [03:01<00:33,  1.23s/it]"
     ]
    },
    {
     "name": "stdout",
     "output_type": "stream",
     "text": [
      "Fetching data for hero 949016786506100736 (151/177), attempt 1Successfully fetched data for hero 949016786506100736          \n"
     ]
    },
    {
     "name": "stderr",
     "output_type": "stream",
     "text": [
      "Fetching hero data:  85%|███████████████████████████████████████████████████▏        | 151/177 [03:03<00:32,  1.24s/it]"
     ]
    },
    {
     "name": "stdout",
     "output_type": "stream",
     "text": [
      "Fetching data for hero 1311393885806100481 (152/177), attempt 1Successfully fetched data for hero 1311393885806100481          \n"
     ]
    },
    {
     "name": "stderr",
     "output_type": "stream",
     "text": [
      "Fetching hero data:  86%|███████████████████████████████████████████████████▌        | 152/177 [03:04<00:31,  1.24s/it]"
     ]
    },
    {
     "name": "stdout",
     "output_type": "stream",
     "text": [
      "Fetching data for hero 1359201532810571779 (153/177), attempt 1Successfully fetched data for hero 1359201532810571779          \n"
     ]
    },
    {
     "name": "stderr",
     "output_type": "stream",
     "text": [
      "Fetching hero data:  86%|███████████████████████████████████████████████████▊        | 153/177 [03:05<00:29,  1.24s/it]"
     ]
    },
    {
     "name": "stdout",
     "output_type": "stream",
     "text": [
      "Fetching data for hero 1299523632868110338 (154/177), attempt 1Successfully fetched data for hero 1299523632868110338          \n"
     ]
    },
    {
     "name": "stderr",
     "output_type": "stream",
     "text": [
      "Fetching hero data:  87%|████████████████████████████████████████████████████▏       | 154/177 [03:06<00:28,  1.24s/it]"
     ]
    },
    {
     "name": "stdout",
     "output_type": "stream",
     "text": [
      "Fetching data for hero 408488225 (155/177), attempt 1Successfully fetched data for hero 408488225          \n"
     ]
    },
    {
     "name": "stderr",
     "output_type": "stream",
     "text": [
      "Fetching hero data:  88%|████████████████████████████████████████████████████▌       | 155/177 [03:08<00:27,  1.24s/it]"
     ]
    },
    {
     "name": "stdout",
     "output_type": "stream",
     "text": [
      "Fetching data for hero 268629423 (156/177), attempt 1Successfully fetched data for hero 268629423          \n"
     ]
    },
    {
     "name": "stderr",
     "output_type": "stream",
     "text": [
      "Fetching hero data:  88%|████████████████████████████████████████████████████▉       | 156/177 [03:09<00:25,  1.22s/it]"
     ]
    },
    {
     "name": "stdout",
     "output_type": "stream",
     "text": [
      "Fetching data for hero 1391919233907441670 (157/177), attempt 1Successfully fetched data for hero 1391919233907441670          \n"
     ]
    },
    {
     "name": "stderr",
     "output_type": "stream",
     "text": [
      "Fetching hero data:  89%|█████████████████████████████████████████████████████▏      | 157/177 [03:10<00:24,  1.23s/it]"
     ]
    },
    {
     "name": "stdout",
     "output_type": "stream",
     "text": [
      "Fetching data for hero 725472022910918656 (158/177), attempt 1Successfully fetched data for hero 725472022910918656          \n"
     ]
    },
    {
     "name": "stderr",
     "output_type": "stream",
     "text": [
      "Fetching hero data:  89%|█████████████████████████████████████████████████████▌      | 158/177 [03:11<00:23,  1.23s/it]"
     ]
    },
    {
     "name": "stdout",
     "output_type": "stream",
     "text": [
      "Fetching data for hero 1370479673818427403 (159/177), attempt 1Successfully fetched data for hero 1370479673818427403          \n"
     ]
    },
    {
     "name": "stderr",
     "output_type": "stream",
     "text": [
      "Fetching hero data:  90%|█████████████████████████████████████████████████████▉      | 159/177 [03:12<00:22,  1.23s/it]"
     ]
    },
    {
     "name": "stdout",
     "output_type": "stream",
     "text": [
      "Fetching data for hero 1423031747432783872 (160/177), attempt 1Successfully fetched data for hero 1423031747432783872          \n"
     ]
    },
    {
     "name": "stderr",
     "output_type": "stream",
     "text": [
      "Fetching hero data:  90%|██████████████████████████████████████████████████████▏     | 160/177 [03:14<00:20,  1.23s/it]"
     ]
    },
    {
     "name": "stdout",
     "output_type": "stream",
     "text": [
      "Fetching data for hero 1350330558241529858 (161/177), attempt 1Successfully fetched data for hero 1350330558241529858          \n"
     ]
    },
    {
     "name": "stderr",
     "output_type": "stream",
     "text": [
      "Fetching hero data:  91%|██████████████████████████████████████████████████████▌     | 161/177 [03:15<00:19,  1.24s/it]"
     ]
    },
    {
     "name": "stdout",
     "output_type": "stream",
     "text": [
      "Fetching data for hero 217534944 (162/177), attempt 1Successfully fetched data for hero 217534944          \n"
     ]
    },
    {
     "name": "stderr",
     "output_type": "stream",
     "text": [
      "Fetching hero data:  92%|██████████████████████████████████████████████████████▉     | 162/177 [03:16<00:18,  1.26s/it]"
     ]
    },
    {
     "name": "stdout",
     "output_type": "stream",
     "text": [
      "Fetching data for hero 810137474705952769 (163/177), attempt 1Successfully fetched data for hero 810137474705952769          \n"
     ]
    },
    {
     "name": "stderr",
     "output_type": "stream",
     "text": [
      "Fetching hero data:  92%|███████████████████████████████████████████████████████▎    | 163/177 [03:18<00:17,  1.26s/it]"
     ]
    },
    {
     "name": "stdout",
     "output_type": "stream",
     "text": [
      "Fetching data for hero 704580467341856769 (164/177), attempt 1Successfully fetched data for hero 704580467341856769          \n"
     ]
    },
    {
     "name": "stderr",
     "output_type": "stream",
     "text": [
      "Fetching hero data:  93%|███████████████████████████████████████████████████████▌    | 164/177 [03:19<00:16,  1.29s/it]"
     ]
    },
    {
     "name": "stdout",
     "output_type": "stream",
     "text": [
      "Fetching data for hero 14253911 (165/177), attempt 1Successfully fetched data for hero 14253911          \n"
     ]
    },
    {
     "name": "stderr",
     "output_type": "stream",
     "text": [
      "Fetching hero data:  93%|███████████████████████████████████████████████████████▉    | 165/177 [03:20<00:15,  1.29s/it]"
     ]
    },
    {
     "name": "stdout",
     "output_type": "stream",
     "text": [
      "Fetching data for hero 1259559092835815427 (166/177), attempt 1Successfully fetched data for hero 1259559092835815427          \n"
     ]
    },
    {
     "name": "stderr",
     "output_type": "stream",
     "text": [
      "Fetching hero data:  94%|████████████████████████████████████████████████████████▎   | 166/177 [03:21<00:14,  1.29s/it]"
     ]
    },
    {
     "name": "stdout",
     "output_type": "stream",
     "text": [
      "Fetching data for hero 2621412174 (167/177), attempt 1Successfully fetched data for hero 2621412174          \n"
     ]
    },
    {
     "name": "stderr",
     "output_type": "stream",
     "text": [
      "Fetching hero data:  94%|████████████████████████████████████████████████████████▌   | 167/177 [03:23<00:13,  1.31s/it]"
     ]
    },
    {
     "name": "stdout",
     "output_type": "stream",
     "text": [
      "Fetching data for hero 1372873723653591049 (168/177), attempt 1Successfully fetched data for hero 1372873723653591049          \n"
     ]
    },
    {
     "name": "stderr",
     "output_type": "stream",
     "text": [
      "Fetching hero data:  95%|████████████████████████████████████████████████████████▉   | 168/177 [03:24<00:11,  1.32s/it]"
     ]
    },
    {
     "name": "stdout",
     "output_type": "stream",
     "text": [
      "Fetching data for hero 1341662614313525248 (169/177), attempt 1Successfully fetched data for hero 1341662614313525248          \n"
     ]
    },
    {
     "name": "stderr",
     "output_type": "stream",
     "text": [
      "Fetching hero data:  95%|█████████████████████████████████████████████████████████▎  | 169/177 [03:25<00:10,  1.29s/it]"
     ]
    },
    {
     "name": "stdout",
     "output_type": "stream",
     "text": [
      "Fetching data for hero 1341287326467538945 (170/177), attempt 1Successfully fetched data for hero 1341287326467538945          \n"
     ]
    },
    {
     "name": "stderr",
     "output_type": "stream",
     "text": [
      "Fetching hero data:  96%|█████████████████████████████████████████████████████████▋  | 170/177 [03:27<00:08,  1.27s/it]"
     ]
    },
    {
     "name": "stdout",
     "output_type": "stream",
     "text": [
      "Fetching data for hero 889455645837201409 (171/177), attempt 1Successfully fetched data for hero 889455645837201409          \n"
     ]
    },
    {
     "name": "stderr",
     "output_type": "stream",
     "text": [
      "Fetching hero data:  97%|█████████████████████████████████████████████████████████▉  | 171/177 [03:28<00:07,  1.28s/it]"
     ]
    },
    {
     "name": "stdout",
     "output_type": "stream",
     "text": [
      "Fetching data for hero 1835943590 (172/177), attempt 1Successfully fetched data for hero 1835943590          \n"
     ]
    },
    {
     "name": "stderr",
     "output_type": "stream",
     "text": [
      "Fetching hero data:  97%|██████████████████████████████████████████████████████████▎ | 172/177 [03:29<00:06,  1.25s/it]"
     ]
    },
    {
     "name": "stdout",
     "output_type": "stream",
     "text": [
      "Fetching data for hero 956330918741987329 (173/177), attempt 1Successfully fetched data for hero 956330918741987329          \n"
     ]
    },
    {
     "name": "stderr",
     "output_type": "stream",
     "text": [
      "Fetching hero data:  98%|██████████████████████████████████████████████████████████▋ | 173/177 [03:30<00:05,  1.25s/it]"
     ]
    },
    {
     "name": "stdout",
     "output_type": "stream",
     "text": [
      "Fetching data for hero 1478191823302672384 (174/177), attempt 1Successfully fetched data for hero 1478191823302672384          \n"
     ]
    },
    {
     "name": "stderr",
     "output_type": "stream",
     "text": [
      "Fetching hero data:  98%|██████████████████████████████████████████████████████████▉ | 174/177 [03:32<00:03,  1.24s/it]"
     ]
    },
    {
     "name": "stdout",
     "output_type": "stream",
     "text": [
      "Fetching data for hero 1492434155405287424 (175/177), attempt 1Successfully fetched data for hero 1492434155405287424          \n"
     ]
    },
    {
     "name": "stderr",
     "output_type": "stream",
     "text": [
      "Fetching hero data:  99%|███████████████████████████████████████████████████████████▎| 175/177 [03:33<00:02,  1.23s/it]"
     ]
    },
    {
     "name": "stdout",
     "output_type": "stream",
     "text": [
      "Fetching data for hero 913556689110147072 (176/177), attempt 1Successfully fetched data for hero 913556689110147072          \n"
     ]
    },
    {
     "name": "stderr",
     "output_type": "stream",
     "text": [
      "Fetching hero data:  99%|███████████████████████████████████████████████████████████▋| 176/177 [03:34<00:01,  1.22s/it]"
     ]
    },
    {
     "name": "stdout",
     "output_type": "stream",
     "text": [
      "Fetching data for hero 1372325396461580292 (177/177), attempt 1Successfully fetched data for hero 1372325396461580292          \n"
     ]
    },
    {
     "name": "stderr",
     "output_type": "stream",
     "text": [
      "Fetching hero data: 100%|████████████████████████████████████████████████████████████| 177/177 [03:35<00:00,  1.22s/it]"
     ]
    },
    {
     "name": "stdout",
     "output_type": "stream",
     "text": [
      "DataFrame saved as data\\hero_card_supply_240811_0733.csv\n",
      "<lambda> took 215.7354 seconds to execute\n",
      "Calling <lambda>\n",
      "Fetching data for hero 1356434353623093249 rarity 1, attempt 1\r"
     ]
    },
    {
     "name": "stderr",
     "output_type": "stream",
     "text": [
      "\n"
     ]
    },
    {
     "name": "stdout",
     "output_type": "stream",
     "text": [
      "Completed 1 out of 177 1356434353623093249 rarity 4, attempt 1\n",
      "Completed 2 out of 177 262018615 rarity 4, attempt 1\n",
      "Completed 3 out of 177 982070158125682688 rarity 4, attempt 1\n",
      "Failed to fetch data for hero 973261472 rarity 4 after 3 attempts: Too Many Requests for url: https://fantasy.top/api/bids/get-bid-orders?hero_id=973261472&rarity=4&include_orderbook=true&include_personal_bids=true, attempt 3\n",
      "Completed 4 out of 177\n",
      "Completed 5 out of 177 1441835930889818113 rarity 4, attempt 1\n",
      "Completed 6 out of 177 906234475604037637 rarity 4, attempt 1\n",
      "Completed 7 out of 177 588569122 rarity 4, attempt 1\n",
      "Failed to fetch data for hero 965651 rarity 4 after 3 attempts: Too Many Requests for url: https://fantasy.top/api/bids/get-bid-orders?hero_id=965651&rarity=4&include_orderbook=true&include_personal_bids=true, attempt 3\n",
      "Completed 8 out of 177\n",
      "Completed 9 out of 177 279828819 rarity 4, attempt 1\n",
      "Completed 10 out of 1771466010689726783491 rarity 4, attempt 1\n",
      "Completed 11 out of 1771446541960181858315 rarity 4, attempt 1\n",
      "Failed to fetch data for hero 4705209135 rarity 4 after 3 attempts: Too Many Requests for url: https://fantasy.top/api/bids/get-bid-orders?hero_id=4705209135&rarity=4&include_orderbook=true&include_personal_bids=true, attempt 3\n",
      "Completed 12 out of 177\n",
      "Completed 13 out of 1772193616844 rarity 4, attempt 1\n",
      "Completed 14 out of 1771309886201944473600 rarity 4, attempt 1\n",
      "Completed 15 out of 1771175781003245191178 rarity 4, attempt 1\n",
      "Failed to fetch data for hero 864011281 rarity 4 after 3 attempts: Too Many Requests for url: https://fantasy.top/api/bids/get-bid-orders?hero_id=864011281&rarity=4&include_orderbook=true&include_personal_bids=true, attempt 3\n",
      "Completed 16 out of 177\n",
      "Completed 17 out of 1771518981537307496448 rarity 4, attempt 1\n",
      "Completed 18 out of 1771426732252768182281 rarity 4, attempt 1\n",
      "Completed 19 out of 1771449941836034822144 rarity 4, attempt 1\n",
      "Failed to fetch data for hero 1469851247133945856 rarity 4 after 3 attempts: Too Many Requests for url: https://fantasy.top/api/bids/get-bid-orders?hero_id=1469851247133945856&rarity=4&include_orderbook=true&include_personal_bids=true, attempt 3\n",
      "Completed 20 out of 177\n",
      "Completed 21 out of 1771769641180898131968 rarity 4, attempt 1\n",
      "Completed 22 out of 1771432635656161746947 rarity 4, attempt 1\n",
      "Completed 23 out of 177834123445856145408 rarity 4, attempt 1\n",
      "Failed to fetch data for hero 1398319504975970310 rarity 4 after 3 attempts: Too Many Requests for url: https://fantasy.top/api/bids/get-bid-orders?hero_id=1398319504975970310&rarity=4&include_orderbook=true&include_personal_bids=true, attempt 3\n",
      "Completed 24 out of 177\n",
      "Completed 25 out of 1772593497397 rarity 4, attempt 1\n",
      "Completed 26 out of 1771456142714756468738 rarity 4, attempt 1\n",
      "Completed 27 out of 1771223801725674565632 rarity 4, attempt 1\n",
      "Failed to fetch data for hero 1755899659040555009 rarity 4 after 3 attempts: Too Many Requests for url: https://fantasy.top/api/bids/get-bid-orders?hero_id=1755899659040555009&rarity=4&include_orderbook=true&include_personal_bids=true, attempt 3\n",
      "Completed 28 out of 177\n",
      "Completed 29 out of 177954015928924057601 rarity 4, attempt 1\n",
      "Completed 30 out of 177423164349 rarity 4, attempt 1\n",
      "Completed 31 out of 1771635676907529285642 rarity 4, attempt 1\n",
      "Failed to fetch data for hero 1470958472409792515 rarity 4 after 3 attempts: Too Many Requests for url: https://fantasy.top/api/bids/get-bid-orders?hero_id=1470958472409792515&rarity=4&include_orderbook=true&include_personal_bids=true, attempt 3\n",
      "Completed 32 out of 177\n",
      "Completed 33 out of 1771354947293921701892 rarity 4, attempt 1\n",
      "Completed 34 out of 1771327336243026223104 rarity 4, attempt 1\n",
      "Completed 35 out of 17722758405 rarity 4, attempt 1\n",
      "Failed to fetch data for hero 877728873340956672 rarity 4 after 3 attempts: Too Many Requests for url: https://fantasy.top/api/bids/get-bid-orders?hero_id=877728873340956672&rarity=4&include_orderbook=true&include_personal_bids=true, attempt 3\n",
      "Completed 36 out of 177\n",
      "Completed 37 out of 1771240784920831762433 rarity 4, attempt 1\n",
      "Completed 38 out of 1772361601055 rarity 4, attempt 1\n",
      "Completed 39 out of 177239518063 rarity 4, attempt 1\n",
      "Failed to fetch data for hero 1473993924083654658 rarity 4 after 3 attempts: Too Many Requests for url: https://fantasy.top/api/bids/get-bid-orders?hero_id=1473993924083654658&rarity=4&include_orderbook=true&include_personal_bids=true, attempt 3\n",
      "Completed 40 out of 177\n",
      "Completed 41 out of 1771249193324461916161 rarity 4, attempt 1\n",
      "Completed 42 out of 1774830383913 rarity 4, attempt 1\n",
      "Completed 43 out of 1771051852534518824960 rarity 4, attempt 1\n",
      "Failed to fetch data for hero 1093242943127932930 rarity 4 after 3 attempts: Too Many Requests for url: https://fantasy.top/api/bids/get-bid-orders?hero_id=1093242943127932930&rarity=4&include_orderbook=true&include_personal_bids=true, attempt 3\n",
      "Completed 44 out of 177\n",
      "Completed 45 out of 1771310378599984148480 rarity 4, attempt 1\n",
      "Completed 46 out of 1771404603419101306881 rarity 4, attempt 1\n",
      "Completed 47 out of 177467535591 rarity 4, attempt 1\n",
      "Failed to fetch data for hero 1424170843249250304 rarity 4 after 3 attempts: Too Many Requests for url: https://fantasy.top/api/bids/get-bid-orders?hero_id=1424170843249250304&rarity=4&include_orderbook=true&include_personal_bids=true, attempt 3\n",
      "Completed 48 out of 177\n",
      "Completed 49 out of 1771073132650309726208 rarity 4, attempt 1\n",
      "Completed 50 out of 177624791024 rarity 4, attempt 1\n",
      "Completed 51 out of 1771346599984528023554 rarity 4, attempt 1\n",
      "Failed to fetch data for hero 942999039192186882 rarity 4 after 3 attempts: Too Many Requests for url: https://fantasy.top/api/bids/get-bid-orders?hero_id=942999039192186882&rarity=4&include_orderbook=true&include_personal_bids=true, attempt 3\n",
      "Completed 52 out of 177\n",
      "Completed 53 out of 1771455759696967651333 rarity 4, attempt 1\n",
      "Completed 54 out of 177837985489 rarity 4, attempt 1\n",
      "Completed 55 out of 177712457848874086400 rarity 4, attempt 1\n",
      "Failed to fetch data for hero 831767219071754240 rarity 4 after 3 attempts: Too Many Requests for url: https://fantasy.top/api/bids/get-bid-orders?hero_id=831767219071754240&rarity=4&include_orderbook=true&include_personal_bids=true, attempt 3\n",
      "Completed 56 out of 177\n",
      "Completed 57 out of 177948736680554409984 rarity 4, attempt 1\n",
      "Completed 58 out of 1771180256836416614401 rarity 4, attempt 1\n",
      "Completed 59 out of 177162573283 rarity 4, attempt 1\n",
      "Failed to fetch data for hero 1343542764080930816 rarity 4 after 3 attempts: Too Many Requests for url: https://fantasy.top/api/bids/get-bid-orders?hero_id=1343542764080930816&rarity=4&include_orderbook=true&include_personal_bids=true, attempt 3\n",
      "Completed 60 out of 177\n",
      "Completed 61 out of 177948974801737134080 rarity 4, attempt 1\n",
      "Completed 62 out of 1771509030724103409665 rarity 4, attempt 1\n",
      "Completed 63 out of 17757584739 rarity 4, attempt 1\n",
      "Failed to fetch data for hero 1323747353308835840 rarity 4 after 3 attempts: Too Many Requests for url: https://fantasy.top/api/bids/get-bid-orders?hero_id=1323747353308835840&rarity=4&include_orderbook=true&include_personal_bids=true, attempt 3\n",
      "Completed 64 out of 177\n",
      "Completed 65 out of 177116328126 rarity 4, attempt 1\n",
      "Completed 66 out of 17740134343 rarity 4, attempt 1\n",
      "Completed 67 out of 1771479247421330837508 rarity 4, attempt 1\n",
      "Failed to fetch data for hero 957303442250260480 rarity 4 after 3 attempts: Too Many Requests for url: https://fantasy.top/api/bids/get-bid-orders?hero_id=957303442250260480&rarity=4&include_orderbook=true&include_personal_bids=true, attempt 3\n",
      "Completed 68 out of 177\n",
      "Completed 69 out of 177127646057 rarity 4, attempt 1\n",
      "Completed 70 out of 177886765719391789057 rarity 4, attempt 1\n",
      "Completed 71 out of 1771423097842034528257 rarity 4, attempt 1\n",
      "Failed to fetch data for hero 953465278561734656 rarity 4 after 3 attempts: Too Many Requests for url: https://fantasy.top/api/bids/get-bid-orders?hero_id=953465278561734656&rarity=4&include_orderbook=true&include_personal_bids=true, attempt 3\n",
      "Completed 72 out of 177\n",
      "Completed 73 out of 177938606626017370112 rarity 4, attempt 1\n",
      "Completed 74 out of 1771354120919460040711 rarity 4, attempt 1\n",
      "Completed 75 out of 1771107518478 rarity 4, attempt 1\n",
      "Failed to fetch data for hero 1496567813737091075 rarity 4 after 3 attempts: Too Many Requests for url: https://fantasy.top/api/bids/get-bid-orders?hero_id=1496567813737091075&rarity=4&include_orderbook=true&include_personal_bids=true, attempt 3\n",
      "Completed 76 out of 177\n",
      "Completed 77 out of 1771226351258392506375 rarity 4, attempt 1\n",
      "Completed 78 out of 17779714172 rarity 4, attempt 1\n",
      "Completed 79 out of 1771139174563802226688 rarity 4, attempt 1\n",
      "Failed to fetch data for hero 1703332734603591680 rarity 4 after 3 attempts: Too Many Requests for url: https://fantasy.top/api/bids/get-bid-orders?hero_id=1703332734603591680&rarity=4&include_orderbook=true&include_personal_bids=true, attempt 3\n",
      "Completed 80 out of 177\n",
      "Completed 81 out of 1773159122144 rarity 4, attempt 1\n",
      "Completed 82 out of 1771453982860663087107 rarity 4, attempt 1\n",
      "Completed 83 out of 1771585936726370852865 rarity 4, attempt 1\n",
      "Failed to fetch data for hero 1472789316292296707 rarity 4 after 3 attempts: Too Many Requests for url: https://fantasy.top/api/bids/get-bid-orders?hero_id=1472789316292296707&rarity=4&include_orderbook=true&include_personal_bids=true, attempt 3\n",
      "Completed 84 out of 177\n",
      "Completed 85 out of 177807982663000674305 rarity 4, attempt 1\n",
      "Completed 86 out of 1771366934666201202689 rarity 4, attempt 1\n",
      "Completed 87 out of 177618539620 rarity 4, attempt 1\n",
      "Failed to fetch data for hero 35486890 rarity 4 after 3 attempts: Too Many Requests for url: https://fantasy.top/api/bids/get-bid-orders?hero_id=35486890&rarity=4&include_orderbook=true&include_personal_bids=true, attempt 3\n",
      "Completed 88 out of 177\n",
      "Completed 89 out of 1771350996311777161219 rarity 4, attempt 1\n",
      "Completed 90 out of 1771351139954525696005 rarity 4, attempt 1\n",
      "Completed 91 out of 1771416421769561378817 rarity 4, attempt 1\n",
      "Failed to fetch data for hero 1475612593830178820 rarity 4 after 3 attempts: Too Many Requests for url: https://fantasy.top/api/bids/get-bid-orders?hero_id=1475612593830178820&rarity=4&include_orderbook=true&include_personal_bids=true, attempt 3\n",
      "Completed 92 out of 177\n",
      "Completed 93 out of 177980727292661059584 rarity 4, attempt 1\n",
      "Completed 94 out of 177737132550 rarity 4, attempt 1\n",
      "Completed 95 out of 1771138993163706753029 rarity 4, attempt 1\n",
      "Failed to fetch data for hero 1396144613233238018 rarity 4 after 3 attempts: Too Many Requests for url: https://fantasy.top/api/bids/get-bid-orders?hero_id=1396144613233238018&rarity=4&include_orderbook=true&include_personal_bids=true, attempt 3\n",
      "Completed 96 out of 177\n",
      "Completed 97 out of 1771432686185810432010 rarity 4, attempt 1\n",
      "Completed 98 out of 1771453661470869360643 rarity 4, attempt 1\n",
      "Completed 99 out of 177953233327238021120 rarity 4, attempt 1\n",
      "Failed to fetch data for hero 7184612 rarity 4 after 3 attempts: Too Many Requests for url: https://fantasy.top/api/bids/get-bid-orders?hero_id=7184612&rarity=4&include_orderbook=true&include_personal_bids=true, attempt 3\n",
      "Completed 100 out of 177\n",
      "Completed 101 out of 177482640180855160832 rarity 4, attempt 1\n",
      "Completed 102 out of 177526588836536586240 rarity 4, attempt 1\n",
      "Completed 103 out of 17770014782135844864 rarity 4, attempt 1\n",
      "Failed to fetch data for hero 2202247850 rarity 4 after 3 attempts: Too Many Requests for url: https://fantasy.top/api/bids/get-bid-orders?hero_id=2202247850&rarity=4&include_orderbook=true&include_personal_bids=true, attempt 3\n",
      "Completed 104 out of 177\n",
      "Completed 105 out of 177282418324228337665 rarity 4, attempt 1\n",
      "Completed 106 out of 177369243892 rarity 4, attempt 1\n",
      "Completed 107 out of 177063147623 rarity 4, attempt 1\n",
      "Failed to fetch data for hero 868760548674072576 rarity 4 after 3 attempts: Too Many Requests for url: https://fantasy.top/api/bids/get-bid-orders?hero_id=868760548674072576&rarity=4&include_orderbook=true&include_personal_bids=true, attempt 3\n",
      "Completed 108 out of 177\n",
      "Completed 109 out of 177631709828 rarity 4, attempt 1\n",
      "Completed 110 out of 177366930865574584323 rarity 4, attempt 1\n",
      "Completed 111 out of 177064421325186359296 rarity 4, attempt 1\n",
      "Failed to fetch data for hero 1449164448321605632 rarity 4 after 3 attempts: Too Many Requests for url: https://fantasy.top/api/bids/get-bid-orders?hero_id=1449164448321605632&rarity=4&include_orderbook=true&include_personal_bids=true, attempt 3\n",
      "Completed 112 out of 177\n",
      "Completed 113 out of 177550232757011468289 rarity 4, attempt 1\n",
      "Completed 114 out of 177462890860849160193 rarity 4, attempt 1\n",
      "Completed 115 out of 177259298306397745152 rarity 4, attempt 1\n",
      "Failed to fetch data for hero 873190778910253056 rarity 4 after 3 attempts: Too Many Requests for url: https://fantasy.top/api/bids/get-bid-orders?hero_id=873190778910253056&rarity=4&include_orderbook=true&include_personal_bids=true, attempt 3\n",
      "Completed 116 out of 177\n",
      "Completed 117 out of 177384748148942417921 rarity 4, attempt 1\n",
      "Completed 118 out of 1774809221 rarity 4, attempt 1\n",
      "Completed 119 out of 17720313843021385728 rarity 4, attempt 1\n",
      "Failed to fetch data for hero 1240392170026270725 rarity 4 after 3 attempts: Too Many Requests for url: https://fantasy.top/api/bids/get-bid-orders?hero_id=1240392170026270725&rarity=4&include_orderbook=true&include_personal_bids=true, attempt 3\n",
      "Completed 120 out of 177\n",
      "Completed 121 out of 177032379192388857861 rarity 4, attempt 1\n",
      "Completed 122 out of 177354867416430501890 rarity 4, attempt 1\n",
      "Completed 123 out of 177603525726 rarity 4, attempt 1\n",
      "Failed to fetch data for hero 1588487175540195328 rarity 4 after 3 attempts: Too Many Requests for url: https://fantasy.top/api/bids/get-bid-orders?hero_id=1588487175540195328&rarity=4&include_orderbook=true&include_personal_bids=true, attempt 3\n",
      "Completed 124 out of 177\n",
      "Completed 125 out of 177408762516969201671 rarity 4, attempt 1\n",
      "Completed 126 out of 17729482275318484993 rarity 4, attempt 1\n",
      "Completed 127 out of 17774981490 rarity 4, attempt 1\n",
      "Failed to fetch data for hero 1450587414892847105 rarity 4 after 3 attempts: Too Many Requests for url: https://fantasy.top/api/bids/get-bid-orders?hero_id=1450587414892847105&rarity=4&include_orderbook=true&include_personal_bids=true, attempt 3\n",
      "Completed 128 out of 177\n",
      "Completed 129 out of 177328905893820370947 rarity 4, attempt 1\n",
      "Completed 130 out of 177336191614356742144 rarity 4, attempt 1\n",
      "Completed 131 out of 17719748581984833537 rarity 4, attempt 1\n",
      "Failed to fetch data for hero 1357451976 rarity 4 after 3 attempts: Too Many Requests for url: https://fantasy.top/api/bids/get-bid-orders?hero_id=1357451976&rarity=4&include_orderbook=true&include_personal_bids=true, attempt 3\n",
      "Completed 132 out of 177\n",
      "Completed 133 out of 17772557412577284096 rarity 4, attempt 1\n",
      "Completed 134 out of 17715322092627333121 rarity 4, attempt 1\n",
      "Completed 135 out of 177437463799347531782 rarity 4, attempt 1\n",
      "Failed to fetch data for hero 189184866 rarity 4 after 3 attempts: Too Many Requests for url: https://fantasy.top/api/bids/get-bid-orders?hero_id=189184866&rarity=4&include_orderbook=true&include_personal_bids=true, attempt 3\n",
      "Completed 136 out of 177\n",
      "Completed 137 out of 177297920445979807744 rarity 4, attempt 1\n",
      "Completed 138 out of 17789518354 rarity 4, attempt 1\n",
      "Completed 139 out of 177363005549382574080 rarity 4, attempt 1\n",
      "Failed to fetch data for hero 1451989485890248705 rarity 4 after 3 attempts: Too Many Requests for url: https://fantasy.top/api/bids/get-bid-orders?hero_id=1451989485890248705&rarity=4&include_orderbook=true&include_personal_bids=true, attempt 3\n",
      "Completed 140 out of 177\n",
      "Completed 141 out of 177639862641 rarity 4, attempt 1\n",
      "Completed 142 out of 177170153611499720704 rarity 4, attempt 1\n",
      "Completed 143 out of 177356386110847377408 rarity 4, attempt 1\n",
      "Failed to fetch data for hero 1300673386914304000 rarity 4 after 3 attempts: Too Many Requests for url: https://fantasy.top/api/bids/get-bid-orders?hero_id=1300673386914304000&rarity=4&include_orderbook=true&include_personal_bids=true, attempt 3\n",
      "Completed 144 out of 177\n",
      "Completed 145 out of 177400381995558047749 rarity 4, attempt 1\n",
      "Completed 146 out of 17739090734 rarity 4, attempt 1\n",
      "Completed 147 out of 177367393425331544070 rarity 4, attempt 1\n",
      "Failed to fetch data for hero 1471279207095406595 rarity 4 after 3 attempts: Too Many Requests for url: https://fantasy.top/api/bids/get-bid-orders?hero_id=1471279207095406595&rarity=4&include_orderbook=true&include_personal_bids=true, attempt 3\n",
      "Completed 148 out of 177\n",
      "Completed 149 out of 177417876510413885444 rarity 4, attempt 1\n",
      "Completed 150 out of 177357410364355395587 rarity 4, attempt 1\n",
      "Completed 151 out of 17749016786506100736 rarity 4, attempt 1\n",
      "Failed to fetch data for hero 1311393885806100481 rarity 4 after 3 attempts: Too Many Requests for url: https://fantasy.top/api/bids/get-bid-orders?hero_id=1311393885806100481&rarity=4&include_orderbook=true&include_personal_bids=true, attempt 3\n",
      "Completed 152 out of 177\n",
      "Completed 153 out of 177359201532810571779 rarity 4, attempt 1\n",
      "Completed 154 out of 177299523632868110338 rarity 4, attempt 1\n",
      "Completed 155 out of 17708488225 rarity 4, attempt 1\n",
      "Failed to fetch data for hero 268629423 rarity 4 after 3 attempts: Too Many Requests for url: https://fantasy.top/api/bids/get-bid-orders?hero_id=268629423&rarity=4&include_orderbook=true&include_personal_bids=true, attempt 3\n",
      "Completed 156 out of 177\n",
      "Completed 157 out of 177391919233907441670 rarity 4, attempt 1\n",
      "Completed 158 out of 17725472022910918656 rarity 4, attempt 1\n",
      "Completed 159 out of 177370479673818427403 rarity 4, attempt 1\n",
      "Failed to fetch data for hero 1423031747432783872 rarity 4 after 3 attempts: Too Many Requests for url: https://fantasy.top/api/bids/get-bid-orders?hero_id=1423031747432783872&rarity=4&include_orderbook=true&include_personal_bids=true, attempt 3\n",
      "Completed 160 out of 177\n",
      "Completed 161 out of 177350330558241529858 rarity 4, attempt 1\n",
      "Completed 162 out of 17717534944 rarity 4, attempt 1\n",
      "Completed 163 out of 17710137474705952769 rarity 4, attempt 1\n",
      "Failed to fetch data for hero 704580467341856769 rarity 4 after 3 attempts: Too Many Requests for url: https://fantasy.top/api/bids/get-bid-orders?hero_id=704580467341856769&rarity=4&include_orderbook=true&include_personal_bids=true, attempt 3\n",
      "Completed 164 out of 177\n",
      "Completed 165 out of 1774253911 rarity 4, attempt 1\n",
      "Completed 166 out of 177259559092835815427 rarity 4, attempt 1\n",
      "Completed 167 out of 177621412174 rarity 4, attempt 1\n",
      "Failed to fetch data for hero 1372873723653591049 rarity 3 after 3 attempts: Too Many Requests for url: https://fantasy.top/api/bids/get-bid-orders?hero_id=1372873723653591049&rarity=3&include_orderbook=true&include_personal_bids=true, attempt 3\n",
      "Completed 168 out of 177372873723653591049 rarity 4, attempt 1\n",
      "Completed 169 out of 177341662614313525248 rarity 4, attempt 1\n",
      "Completed 170 out of 177341287326467538945 rarity 4, attempt 1\n",
      "Completed 171 out of 17789455645837201409 rarity 4, attempt 1\n",
      "Completed 172 out of 177835943590 rarity 4, attempt 1 Client Error: Too Many Requests for url: https://fantasy.top/api/bids/get-bid-orders?hero_id=1835943590&rarity=2&include_orderbook=true&include_personal_bids=true, attempt 2\n",
      "Completed 173 out of 17756330918741987329 rarity 4, attempt 1\n",
      "Completed 174 out of 177478191823302672384 rarity 4, attempt 1\n",
      "Completed 175 out of 177492434155405287424 rarity 4, attempt 1\n",
      "Failed to fetch data for hero 913556689110147072 rarity 1 after 3 attempts: Too Many Requests for url: https://fantasy.top/api/bids/get-bid-orders?hero_id=913556689110147072&rarity=1&include_orderbook=true&include_personal_bids=true, attempt 3\n",
      "Completed 176 out of 17713556689110147072 rarity 4, attempt 1\n",
      "Completed 177 out of 177372325396461580292 rarity 4, attempt 1\n",
      "DataFrame saved as data\\bids_240811_0833.csv\n",
      "<lambda> took 3573.2985 seconds to execute\n"
     ]
    }
   ],
   "source": [
    "\n",
    "# print_runtime(lambda: save_df_as_csv(get_hero_stats(), 'hero_stats'))  # This one takes 7 mins\n",
    "# print_runtime(lambda: save_df_as_csv(download_portfolio(), 'portfolio'))\n",
    "# print_runtime(lambda: save_df_as_csv(download_basic_hero_stats(), 'basic_hero_stats'))\n",
    "# print_runtime(lambda: save_df_as_csv(download_listings(), 'listings'))\n",
    "# print_runtime(lambda: save_df_as_csv(get_last_trades(), 'last_trades'))\n",
    "print_runtime(lambda: save_df_as_csv(get_hero_supply(), 'hero_card_supply'))\n",
    "print_runtime(lambda: save_df_as_csv(get_bids(), 'bids'))\n",
    "\n",
    "\n"
   ]
  }
 ],
 "metadata": {
  "kernelspec": {
   "display_name": "ft",
   "language": "python",
   "name": "ft"
  },
  "language_info": {
   "codemirror_mode": {
    "name": "ipython",
    "version": 3
   },
   "file_extension": ".py",
   "mimetype": "text/x-python",
   "name": "python",
   "nbconvert_exporter": "python",
   "pygments_lexer": "ipython3",
   "version": "3.10.11"
  }
 },
 "nbformat": 4,
 "nbformat_minor": 5
}
